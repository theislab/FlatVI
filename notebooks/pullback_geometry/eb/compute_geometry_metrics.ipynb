{
 "cells": [
  {
   "cell_type": "markdown",
   "id": "921537ae",
   "metadata": {},
   "source": [
    "# Notebook of comparison VAE and geometric VAE"
   ]
  },
  {
   "cell_type": "code",
   "execution_count": 1,
   "id": "a4f5e421",
   "metadata": {},
   "outputs": [],
   "source": [
    "import numpy as np\n",
    "import pandas as pd\n",
    "import scanpy as sc\n",
    "\n",
    "from scCFM.models.base.vae import VAE\n",
    "from scCFM.models.base.geometric_vae import GeometricNBVAE, GeometricNBAE\n",
    "from scCFM.models.base.geodesic_ae import GeodesicAE\n",
    "\n",
    "from scCFM.datamodules.sc_datamodule import scDataModule\n",
    "\n",
    "from scCFM.models.manifold.geometry_metrics import compute_all_metrics\n",
    "\n",
    "import sys\n",
    "sys.path.insert(0, \"../..\")\n",
    "from notebooks.utils import real_reconstructed_cells_adata\n",
    "\n",
    "from paths import PROJECT_FOLDER\n",
    "import torch\n",
    "import anndata\n",
    "import matplotlib.pyplot as plt\n",
    "\n",
    "import scipy\n",
    "\n",
    "import seaborn as sns"
   ]
  },
  {
   "cell_type": "markdown",
   "id": "1cddc85e",
   "metadata": {},
   "source": [
    "## Initialize the two different configurations "
   ]
  },
  {
   "cell_type": "markdown",
   "id": "dc3142da",
   "metadata": {},
   "source": [
    "General module hparams"
   ]
  },
  {
   "cell_type": "code",
   "execution_count": 2,
   "id": "e699936a",
   "metadata": {},
   "outputs": [],
   "source": [
    "datamodule={'path': PROJECT_FOLDER / 'data/eb/processed/eb_phate.h5ad', \n",
    "            'x_layer': 'X_norm', \n",
    "            'cond_keys': ['experimental_time', 'leiden'],\n",
    "            'use_pca': False, \n",
    "            'n_dimensions': None, \n",
    "            'train_val_test_split': [1], \n",
    "            'batch_size': 1024, \n",
    "            'num_workers': 2}\n",
    "\n",
    "# Initialize datamodule\n",
    "datamodule = scDataModule(**datamodule)"
   ]
  },
  {
   "cell_type": "markdown",
   "id": "4d45e1eb",
   "metadata": {},
   "source": [
    "### Model config VAE"
   ]
  },
  {
   "cell_type": "code",
   "execution_count": 3,
   "id": "1264bed6",
   "metadata": {},
   "outputs": [],
   "source": [
    "model_vae={\n",
    "       'in_dim': datamodule.in_dim,\n",
    "       'n_epochs_anneal_kl': 1000, \n",
    "       'kl_weight': None, \n",
    "       'likelihood': 'nb', \n",
    "       'dropout': False, \n",
    "       'learning_rate': 0.001, \n",
    "       'dropout_p': False, \n",
    "       'model_library_size': True, \n",
    "       'batch_norm': True, \n",
    "       'kl_warmup_fraction': 0.1, \n",
    "       'hidden_dims': [256, 10]}\n",
    "        \n",
    "geometric={'compute_metrics_every': 1, \n",
    "           'use_c': True,\n",
    "           'trainable_c': False,\n",
    "           'l2': True, \n",
    "           'eta_interp': 0, \n",
    "           'interpolate_z': False, \n",
    "           'start_jac_after': 0, \n",
    "           'fl_weight': 0.1,\n",
    "           'detach_theta': True}\n",
    "\n",
    "geodesic={\"in_dim\": datamodule.in_dim,\n",
    "          \"hidden_dims\": [256, 10],\n",
    "          \"batch_norm\": True,\n",
    "          \"dropout\": False, \n",
    "          \"dropout_p\": False,\n",
    "          \"likelihood\": \"nb\",\n",
    "          \"learning_rate\": 0.001}"
   ]
  },
  {
   "cell_type": "code",
   "execution_count": 4,
   "id": "e9c4c42b",
   "metadata": {},
   "outputs": [],
   "source": [
    "vae = GeometricNBVAE(**geometric, vae_kwargs=model_vae)\n",
    "geometric_vae = GeometricNBVAE(**geometric, vae_kwargs=model_vae)\n",
    "geodesic_ae = GeodesicAE(**geodesic)"
   ]
  },
  {
   "cell_type": "code",
   "execution_count": 5,
   "id": "e1649b40",
   "metadata": {},
   "outputs": [],
   "source": [
    "# vae = GeometricNBAE(**geometric, vae_kwargs=model_ae)\n",
    "# geometric_vae = GeometricNBAE(**geometric, vae_kwargs=model_ae)"
   ]
  },
  {
   "cell_type": "code",
   "execution_count": 6,
   "id": "048ee99c",
   "metadata": {},
   "outputs": [
    {
     "data": {
      "text/plain": [
       "<All keys matched successfully>"
      ]
     },
     "execution_count": 6,
     "metadata": {},
     "output_type": "execute_result"
    }
   ],
   "source": [
    "vae.load_state_dict(torch.load(PROJECT_FOLDER / \"checkpoints/ae/eb/best_model_vae_lib.ckpt\")[\"state_dict\"])\n",
    "geometric_vae.load_state_dict(torch.load(PROJECT_FOLDER / \"checkpoints/ae/eb/best_model_geometric_lib.ckpt\")[\"state_dict\"])\n",
    "geodesic_ae.load_state_dict(torch.load(PROJECT_FOLDER / \"checkpoints/ae/eb/best_model_geodesic_ae.ckpt\")[\"state_dict\"])"
   ]
  },
  {
   "cell_type": "code",
   "execution_count": 7,
   "id": "7ff6516f-7b13-407b-a9ea-6574ff8255f7",
   "metadata": {},
   "outputs": [
    {
     "name": "stderr",
     "output_type": "stream",
     "text": [
      "/home/icb/alessandro.palma/miniconda3/envs/scCFM/lib/python3.10/site-packages/lightning_fabric/plugins/environments/slurm.py:168: PossibleUserWarning: The `srun` command is available on your system but is not used. HINT: If your intention is to run Lightning on SLURM, prepend your python command with `srun` like so: srun python /home/icb/alessandro.palma/miniconda3/envs/scCFM/lib ...\n",
      "  rank_zero_warn(\n",
      "GPU available: True (cuda), used: True\n",
      "TPU available: False, using: 0 TPU cores\n",
      "IPU available: False, using: 0 IPUs\n",
      "HPU available: False, using: 0 HPUs\n",
      "/home/icb/alessandro.palma/miniconda3/envs/scCFM/lib/python3.10/site-packages/lightning_fabric/plugins/environments/slurm.py:168: PossibleUserWarning: The `srun` command is available on your system but is not used. HINT: If your intention is to run Lightning on SLURM, prepend your python command with `srun` like so: srun python /home/icb/alessandro.palma/miniconda3/envs/scCFM/lib ...\n",
      "  rank_zero_warn(\n",
      "GPU available: True (cuda), used: True\n",
      "TPU available: False, using: 0 TPU cores\n",
      "IPU available: False, using: 0 IPUs\n",
      "HPU available: False, using: 0 HPUs\n"
     ]
    }
   ],
   "source": [
    "from pytorch_lightning import Trainer\n",
    "\n",
    "trainer_vae = Trainer(inference_mode=False)\n",
    "trainer_geometric = Trainer(inference_mode=False)"
   ]
  },
  {
   "cell_type": "code",
   "execution_count": 10,
   "id": "1356e9c3-11d2-4e79-80ce-1918bd0e5030",
   "metadata": {},
   "outputs": [
    {
     "name": "stderr",
     "output_type": "stream",
     "text": [
      "/home/icb/alessandro.palma/miniconda3/envs/scCFM/lib/python3.10/site-packages/lightning_fabric/plugins/environments/slurm.py:168: PossibleUserWarning: The `srun` command is available on your system but is not used. HINT: If your intention is to run Lightning on SLURM, prepend your python command with `srun` like so: srun python /home/icb/alessandro.palma/miniconda3/envs/scCFM/lib ...\n",
      "  rank_zero_warn(\n",
      "LOCAL_RANK: 0 - CUDA_VISIBLE_DEVICES: [0]\n",
      "/home/icb/alessandro.palma/miniconda3/envs/scCFM/lib/python3.10/site-packages/pytorch_lightning/trainer/connectors/data_connector.py:490: PossibleUserWarning: Your `test_dataloader`'s sampler has shuffling enabled, it is strongly recommended that you turn shuffling off for val/test dataloaders.\n",
      "  rank_zero_warn(\n",
      "/home/icb/alessandro.palma/miniconda3/envs/scCFM/lib/python3.10/site-packages/pytorch_lightning/trainer/connectors/data_connector.py:442: PossibleUserWarning: The dataloader, test_dataloader, does not have many workers which may be a bottleneck. Consider increasing the value of the `num_workers` argument` (try 48 which is the number of cpus on this machine) in the `DataLoader` init to improve performance.\n",
      "  rank_zero_warn(\n"
     ]
    },
    {
     "data": {
      "application/vnd.jupyter.widget-view+json": {
       "model_id": "0d5cc0e16f7d4b0796acdff8b74c8974",
       "version_major": 2,
       "version_minor": 0
      },
      "text/plain": [
       "Testing: 0it [00:00, ?it/s]"
      ]
     },
     "metadata": {},
     "output_type": "display_data"
    },
    {
     "data": {
      "text/html": [
       "<pre style=\"white-space:pre;overflow-x:auto;line-height:normal;font-family:Menlo,'DejaVu Sans Mono',consolas,'Courier New',monospace\">┏━━━━━━━━━━━━━━━━━━━━━━━━━━━┳━━━━━━━━━━━━━━━━━━━━━━━━━━━┓\n",
       "┃<span style=\"font-weight: bold\">        Test metric        </span>┃<span style=\"font-weight: bold\">       DataLoader 0        </span>┃\n",
       "┡━━━━━━━━━━━━━━━━━━━━━━━━━━━╇━━━━━━━━━━━━━━━━━━━━━━━━━━━┩\n",
       "│<span style=\"color: #008080; text-decoration-color: #008080\">     condition_number      </span>│<span style=\"color: #800080; text-decoration-color: #800080\">     330.0871887207031     </span>│\n",
       "│<span style=\"color: #008080; text-decoration-color: #008080\">        eu_kl_dist         </span>│<span style=\"color: #800080; text-decoration-color: #800080\">     281.7516174316406     </span>│\n",
       "│<span style=\"color: #008080; text-decoration-color: #008080\">         fl_weight         </span>│<span style=\"color: #800080; text-decoration-color: #800080\">    0.10000001639127731    </span>│\n",
       "│<span style=\"color: #008080; text-decoration-color: #008080\">   magnification_factor    </span>│<span style=\"color: #800080; text-decoration-color: #800080\">            inf            </span>│\n",
       "│<span style=\"color: #008080; text-decoration-color: #008080\">        reg_weight         </span>│<span style=\"color: #800080; text-decoration-color: #800080\">            0.0            </span>│\n",
       "│<span style=\"color: #008080; text-decoration-color: #008080\">       test/fl_loss        </span>│<span style=\"color: #800080; text-decoration-color: #800080\">   2.281803166724915e+16   </span>│\n",
       "│<span style=\"color: #008080; text-decoration-color: #008080\">          test/kl          </span>│<span style=\"color: #800080; text-decoration-color: #800080\">    19.320337295532227     </span>│\n",
       "│<span style=\"color: #008080; text-decoration-color: #008080\">         test/lik          </span>│<span style=\"color: #800080; text-decoration-color: #800080\">     490.4476013183594     </span>│\n",
       "│<span style=\"color: #008080; text-decoration-color: #008080\">         test/loss         </span>│<span style=\"color: #800080; text-decoration-color: #800080\">    2281802844602368.0     </span>│\n",
       "│<span style=\"color: #008080; text-decoration-color: #008080\">         test/norm         </span>│<span style=\"color: #800080; text-decoration-color: #800080\">    118.23875427246094     </span>│\n",
       "│<span style=\"color: #008080; text-decoration-color: #008080\">         variance          </span>│<span style=\"color: #800080; text-decoration-color: #800080\">     74.83828735351562     </span>│\n",
       "└───────────────────────────┴───────────────────────────┘\n",
       "</pre>\n"
      ],
      "text/plain": [
       "┏━━━━━━━━━━━━━━━━━━━━━━━━━━━┳━━━━━━━━━━━━━━━━━━━━━━━━━━━┓\n",
       "┃\u001b[1m \u001b[0m\u001b[1m       Test metric       \u001b[0m\u001b[1m \u001b[0m┃\u001b[1m \u001b[0m\u001b[1m      DataLoader 0       \u001b[0m\u001b[1m \u001b[0m┃\n",
       "┡━━━━━━━━━━━━━━━━━━━━━━━━━━━╇━━━━━━━━━━━━━━━━━━━━━━━━━━━┩\n",
       "│\u001b[36m \u001b[0m\u001b[36m    condition_number     \u001b[0m\u001b[36m \u001b[0m│\u001b[35m \u001b[0m\u001b[35m    330.0871887207031    \u001b[0m\u001b[35m \u001b[0m│\n",
       "│\u001b[36m \u001b[0m\u001b[36m       eu_kl_dist        \u001b[0m\u001b[36m \u001b[0m│\u001b[35m \u001b[0m\u001b[35m    281.7516174316406    \u001b[0m\u001b[35m \u001b[0m│\n",
       "│\u001b[36m \u001b[0m\u001b[36m        fl_weight        \u001b[0m\u001b[36m \u001b[0m│\u001b[35m \u001b[0m\u001b[35m   0.10000001639127731   \u001b[0m\u001b[35m \u001b[0m│\n",
       "│\u001b[36m \u001b[0m\u001b[36m  magnification_factor   \u001b[0m\u001b[36m \u001b[0m│\u001b[35m \u001b[0m\u001b[35m           inf           \u001b[0m\u001b[35m \u001b[0m│\n",
       "│\u001b[36m \u001b[0m\u001b[36m       reg_weight        \u001b[0m\u001b[36m \u001b[0m│\u001b[35m \u001b[0m\u001b[35m           0.0           \u001b[0m\u001b[35m \u001b[0m│\n",
       "│\u001b[36m \u001b[0m\u001b[36m      test/fl_loss       \u001b[0m\u001b[36m \u001b[0m│\u001b[35m \u001b[0m\u001b[35m  2.281803166724915e+16  \u001b[0m\u001b[35m \u001b[0m│\n",
       "│\u001b[36m \u001b[0m\u001b[36m         test/kl         \u001b[0m\u001b[36m \u001b[0m│\u001b[35m \u001b[0m\u001b[35m   19.320337295532227    \u001b[0m\u001b[35m \u001b[0m│\n",
       "│\u001b[36m \u001b[0m\u001b[36m        test/lik         \u001b[0m\u001b[36m \u001b[0m│\u001b[35m \u001b[0m\u001b[35m    490.4476013183594    \u001b[0m\u001b[35m \u001b[0m│\n",
       "│\u001b[36m \u001b[0m\u001b[36m        test/loss        \u001b[0m\u001b[36m \u001b[0m│\u001b[35m \u001b[0m\u001b[35m   2281802844602368.0    \u001b[0m\u001b[35m \u001b[0m│\n",
       "│\u001b[36m \u001b[0m\u001b[36m        test/norm        \u001b[0m\u001b[36m \u001b[0m│\u001b[35m \u001b[0m\u001b[35m   118.23875427246094    \u001b[0m\u001b[35m \u001b[0m│\n",
       "│\u001b[36m \u001b[0m\u001b[36m        variance         \u001b[0m\u001b[36m \u001b[0m│\u001b[35m \u001b[0m\u001b[35m    74.83828735351562    \u001b[0m\u001b[35m \u001b[0m│\n",
       "└───────────────────────────┴───────────────────────────┘\n"
      ]
     },
     "metadata": {},
     "output_type": "display_data"
    },
    {
     "data": {
      "text/plain": [
       "[{'test/loss': 2281802844602368.0,\n",
       "  'test/kl': 19.320337295532227,\n",
       "  'test/lik': 490.4476013183594,\n",
       "  'test/fl_loss': 2.281803166724915e+16,\n",
       "  'test/norm': 118.23875427246094,\n",
       "  'reg_weight': 0.0,\n",
       "  'fl_weight': 0.10000001639127731,\n",
       "  'condition_number': 330.0871887207031,\n",
       "  'variance': 74.83828735351562,\n",
       "  'magnification_factor': inf,\n",
       "  'eu_kl_dist': 281.7516174316406}]"
      ]
     },
     "execution_count": 10,
     "metadata": {},
     "output_type": "execute_result"
    }
   ],
   "source": [
    "trainer_vae.test(model=vae, dataloaders=datamodule.train_dataloader())"
   ]
  },
  {
   "cell_type": "code",
   "execution_count": 9,
   "id": "22b6a324-0511-422a-a2f3-a6e08043a9ec",
   "metadata": {
    "scrolled": true
   },
   "outputs": [
    {
     "name": "stderr",
     "output_type": "stream",
     "text": [
      "/home/icb/alessandro.palma/miniconda3/envs/scCFM/lib/python3.10/site-packages/lightning_fabric/plugins/environments/slurm.py:168: PossibleUserWarning: The `srun` command is available on your system but is not used. HINT: If your intention is to run Lightning on SLURM, prepend your python command with `srun` like so: srun python /home/icb/alessandro.palma/miniconda3/envs/scCFM/lib ...\n",
      "  rank_zero_warn(\n",
      "LOCAL_RANK: 0 - CUDA_VISIBLE_DEVICES: [0]\n",
      "/home/icb/alessandro.palma/miniconda3/envs/scCFM/lib/python3.10/site-packages/pytorch_lightning/trainer/connectors/data_connector.py:490: PossibleUserWarning: Your `test_dataloader`'s sampler has shuffling enabled, it is strongly recommended that you turn shuffling off for val/test dataloaders.\n",
      "  rank_zero_warn(\n",
      "/home/icb/alessandro.palma/miniconda3/envs/scCFM/lib/python3.10/site-packages/pytorch_lightning/trainer/connectors/data_connector.py:442: PossibleUserWarning: The dataloader, test_dataloader, does not have many workers which may be a bottleneck. Consider increasing the value of the `num_workers` argument` (try 48 which is the number of cpus on this machine) in the `DataLoader` init to improve performance.\n",
      "  rank_zero_warn(\n"
     ]
    },
    {
     "data": {
      "application/vnd.jupyter.widget-view+json": {
       "model_id": "810734a0b3bc46c4b772144842b26477",
       "version_major": 2,
       "version_minor": 0
      },
      "text/plain": [
       "Testing: 0it [00:00, ?it/s]"
      ]
     },
     "metadata": {},
     "output_type": "display_data"
    },
    {
     "data": {
      "text/html": [
       "<pre style=\"white-space:pre;overflow-x:auto;line-height:normal;font-family:Menlo,'DejaVu Sans Mono',consolas,'Courier New',monospace\">┏━━━━━━━━━━━━━━━━━━━━━━━━━━━┳━━━━━━━━━━━━━━━━━━━━━━━━━━━┓\n",
       "┃<span style=\"font-weight: bold\">        Test metric        </span>┃<span style=\"font-weight: bold\">       DataLoader 0        </span>┃\n",
       "┡━━━━━━━━━━━━━━━━━━━━━━━━━━━╇━━━━━━━━━━━━━━━━━━━━━━━━━━━┩\n",
       "│<span style=\"color: #008080; text-decoration-color: #008080\">     condition_number      </span>│<span style=\"color: #800080; text-decoration-color: #800080\">        311556.5625        </span>│\n",
       "│<span style=\"color: #008080; text-decoration-color: #008080\">        eu_kl_dist         </span>│<span style=\"color: #800080; text-decoration-color: #800080\">    194.96453857421875     </span>│\n",
       "│<span style=\"color: #008080; text-decoration-color: #008080\">         fl_weight         </span>│<span style=\"color: #800080; text-decoration-color: #800080\">    0.10000001639127731    </span>│\n",
       "│<span style=\"color: #008080; text-decoration-color: #008080\">   magnification_factor    </span>│<span style=\"color: #800080; text-decoration-color: #800080\">     317.0611877441406     </span>│\n",
       "│<span style=\"color: #008080; text-decoration-color: #008080\">        reg_weight         </span>│<span style=\"color: #800080; text-decoration-color: #800080\">            0.0            </span>│\n",
       "│<span style=\"color: #008080; text-decoration-color: #008080\">       test/fl_loss        </span>│<span style=\"color: #800080; text-decoration-color: #800080\">       26078087168.0       </span>│\n",
       "│<span style=\"color: #008080; text-decoration-color: #008080\">          test/kl          </span>│<span style=\"color: #800080; text-decoration-color: #800080\">     97.1597900390625      </span>│\n",
       "│<span style=\"color: #008080; text-decoration-color: #008080\">         test/lik          </span>│<span style=\"color: #800080; text-decoration-color: #800080\">      525.8251953125       </span>│\n",
       "│<span style=\"color: #008080; text-decoration-color: #008080\">         test/loss         </span>│<span style=\"color: #800080; text-decoration-color: #800080\">       2607809280.0        </span>│\n",
       "│<span style=\"color: #008080; text-decoration-color: #008080\">         test/norm         </span>│<span style=\"color: #800080; text-decoration-color: #800080\">     399.027099609375      </span>│\n",
       "│<span style=\"color: #008080; text-decoration-color: #008080\">         variance          </span>│<span style=\"color: #800080; text-decoration-color: #800080\">     48.91563415527344     </span>│\n",
       "└───────────────────────────┴───────────────────────────┘\n",
       "</pre>\n"
      ],
      "text/plain": [
       "┏━━━━━━━━━━━━━━━━━━━━━━━━━━━┳━━━━━━━━━━━━━━━━━━━━━━━━━━━┓\n",
       "┃\u001b[1m \u001b[0m\u001b[1m       Test metric       \u001b[0m\u001b[1m \u001b[0m┃\u001b[1m \u001b[0m\u001b[1m      DataLoader 0       \u001b[0m\u001b[1m \u001b[0m┃\n",
       "┡━━━━━━━━━━━━━━━━━━━━━━━━━━━╇━━━━━━━━━━━━━━━━━━━━━━━━━━━┩\n",
       "│\u001b[36m \u001b[0m\u001b[36m    condition_number     \u001b[0m\u001b[36m \u001b[0m│\u001b[35m \u001b[0m\u001b[35m       311556.5625       \u001b[0m\u001b[35m \u001b[0m│\n",
       "│\u001b[36m \u001b[0m\u001b[36m       eu_kl_dist        \u001b[0m\u001b[36m \u001b[0m│\u001b[35m \u001b[0m\u001b[35m   194.96453857421875    \u001b[0m\u001b[35m \u001b[0m│\n",
       "│\u001b[36m \u001b[0m\u001b[36m        fl_weight        \u001b[0m\u001b[36m \u001b[0m│\u001b[35m \u001b[0m\u001b[35m   0.10000001639127731   \u001b[0m\u001b[35m \u001b[0m│\n",
       "│\u001b[36m \u001b[0m\u001b[36m  magnification_factor   \u001b[0m\u001b[36m \u001b[0m│\u001b[35m \u001b[0m\u001b[35m    317.0611877441406    \u001b[0m\u001b[35m \u001b[0m│\n",
       "│\u001b[36m \u001b[0m\u001b[36m       reg_weight        \u001b[0m\u001b[36m \u001b[0m│\u001b[35m \u001b[0m\u001b[35m           0.0           \u001b[0m\u001b[35m \u001b[0m│\n",
       "│\u001b[36m \u001b[0m\u001b[36m      test/fl_loss       \u001b[0m\u001b[36m \u001b[0m│\u001b[35m \u001b[0m\u001b[35m      26078087168.0      \u001b[0m\u001b[35m \u001b[0m│\n",
       "│\u001b[36m \u001b[0m\u001b[36m         test/kl         \u001b[0m\u001b[36m \u001b[0m│\u001b[35m \u001b[0m\u001b[35m    97.1597900390625     \u001b[0m\u001b[35m \u001b[0m│\n",
       "│\u001b[36m \u001b[0m\u001b[36m        test/lik         \u001b[0m\u001b[36m \u001b[0m│\u001b[35m \u001b[0m\u001b[35m     525.8251953125      \u001b[0m\u001b[35m \u001b[0m│\n",
       "│\u001b[36m \u001b[0m\u001b[36m        test/loss        \u001b[0m\u001b[36m \u001b[0m│\u001b[35m \u001b[0m\u001b[35m      2607809280.0       \u001b[0m\u001b[35m \u001b[0m│\n",
       "│\u001b[36m \u001b[0m\u001b[36m        test/norm        \u001b[0m\u001b[36m \u001b[0m│\u001b[35m \u001b[0m\u001b[35m    399.027099609375     \u001b[0m\u001b[35m \u001b[0m│\n",
       "│\u001b[36m \u001b[0m\u001b[36m        variance         \u001b[0m\u001b[36m \u001b[0m│\u001b[35m \u001b[0m\u001b[35m    48.91563415527344    \u001b[0m\u001b[35m \u001b[0m│\n",
       "└───────────────────────────┴───────────────────────────┘\n"
      ]
     },
     "metadata": {},
     "output_type": "display_data"
    },
    {
     "data": {
      "text/plain": [
       "[{'test/loss': 2607809280.0,\n",
       "  'test/kl': 97.1597900390625,\n",
       "  'test/lik': 525.8251953125,\n",
       "  'test/fl_loss': 26078087168.0,\n",
       "  'test/norm': 399.027099609375,\n",
       "  'reg_weight': 0.0,\n",
       "  'fl_weight': 0.10000001639127731,\n",
       "  'condition_number': 311556.5625,\n",
       "  'variance': 48.91563415527344,\n",
       "  'magnification_factor': 317.0611877441406,\n",
       "  'eu_kl_dist': 194.96453857421875}]"
      ]
     },
     "execution_count": 9,
     "metadata": {},
     "output_type": "execute_result"
    }
   ],
   "source": [
    "trainer_geometric.test(model=geometric_vae, dataloaders=datamodule.train_dataloader())"
   ]
  },
  {
   "cell_type": "code",
   "execution_count": null,
   "id": "1a705e8a-e704-4092-975a-cc2d8bc56a71",
   "metadata": {},
   "outputs": [],
   "source": []
  },
  {
   "cell_type": "code",
   "execution_count": null,
   "id": "b2f96e27-f6b7-40c6-9a3b-c7b36d824ce4",
   "metadata": {},
   "outputs": [],
   "source": []
  }
 ],
 "metadata": {
  "kernelspec": {
   "display_name": "Python 3 (ipykernel)",
   "language": "python",
   "name": "python3"
  },
  "language_info": {
   "codemirror_mode": {
    "name": "ipython",
    "version": 3
   },
   "file_extension": ".py",
   "mimetype": "text/x-python",
   "name": "python",
   "nbconvert_exporter": "python",
   "pygments_lexer": "ipython3",
   "version": "3.10.12"
  }
 },
 "nbformat": 4,
 "nbformat_minor": 5
}
