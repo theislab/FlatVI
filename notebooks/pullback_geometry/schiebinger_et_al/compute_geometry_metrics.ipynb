{
 "cells": [
  {
   "cell_type": "markdown",
   "id": "921537ae",
   "metadata": {},
   "source": [
    "# Notebook of comparison VAE and geometric VAE"
   ]
  },
  {
   "cell_type": "code",
   "execution_count": 1,
   "id": "a4f5e421",
   "metadata": {},
   "outputs": [
    {
     "name": "stderr",
     "output_type": "stream",
     "text": [
      "/nfs/staff-ssd/pala/miniconda3/envs/scCFM/lib/python3.10/site-packages/scvi/_settings.py:63: UserWarning: Since v1.0.0, scvi-tools no longer uses a random seed by default. Run `scvi.settings.seed = 0` to reproduce results from previous versions.\n",
      "  self.seed = seed\n",
      "/nfs/staff-ssd/pala/miniconda3/envs/scCFM/lib/python3.10/site-packages/scvi/_settings.py:70: UserWarning: Setting `dl_pin_memory_gpu_training` is deprecated in v1.0 and will be removed in v1.1. Please pass in `pin_memory` to the data loaders instead.\n",
      "  self.dl_pin_memory_gpu_training = (\n",
      "No GPU/TPU found, falling back to CPU. (Set TF_CPP_MIN_LOG_LEVEL=0 and rerun for more info.)\n"
     ]
    }
   ],
   "source": [
    "import numpy as np\n",
    "import pandas as pd\n",
    "import scanpy as sc\n",
    "import matplotlib.pyplot as plt\n",
    "\n",
    "from scCFM.models.base.vae import VAE\n",
    "from scCFM.models.base.geometric_vae import GeometricNBVAE\n",
    "from scCFM.models.base.geodesic_ae import GeodesicAE\n",
    "from scCFM.datamodules.sc_datamodule import scDataModule\n",
    "\n",
    "from scCFM.models.utils import jacobian_decoder_jvp_parallel\n",
    "from scCFM.models.manifold.geometry_metrics import compute_all_metrics\n",
    "\n",
    "import sys\n",
    "sys.path.insert(0, \"../..\")\n",
    "from notebooks.utils import real_reconstructed_cells_adata\n",
    "\n",
    "from paths import PROJECT_FOLDER\n",
    "import anndata\n",
    "import torch"
   ]
  },
  {
   "cell_type": "markdown",
   "id": "1cddc85e",
   "metadata": {},
   "source": [
    "## Initialize the two different configurations "
   ]
  },
  {
   "cell_type": "markdown",
   "id": "dc3142da",
   "metadata": {},
   "source": [
    "General module hparams"
   ]
  },
  {
   "cell_type": "code",
   "execution_count": 2,
   "id": "e699936a",
   "metadata": {},
   "outputs": [],
   "source": [
    "datamodule={'path': PROJECT_FOLDER / 'data' / 'schiebinger_et_al' / 'processed' / 'schiebinger_et_al.h5ad', \n",
    "            'x_layer': 'X_norm', \n",
    "            'cond_keys': ['experimental_time', 'cell_sets'],\n",
    "            'use_pca': False, \n",
    "            'n_dimensions': None, \n",
    "            'train_val_test_split': [1], \n",
    "            'batch_size': 32, \n",
    "            'num_workers': 2}\n",
    "\n",
    "# Initialize datamodule\n",
    "datamodule = scDataModule(**datamodule)"
   ]
  },
  {
   "cell_type": "markdown",
   "id": "4d45e1eb",
   "metadata": {},
   "source": [
    "### Model config VAE"
   ]
  },
  {
   "cell_type": "code",
   "execution_count": 3,
   "id": "1264bed6",
   "metadata": {},
   "outputs": [],
   "source": [
    "model_vae={\n",
    "       'in_dim': datamodule.in_dim,\n",
    "       'n_epochs_anneal_kl': 1000, \n",
    "       'kl_weight': None, \n",
    "       'likelihood': 'nb', \n",
    "       'dropout': False, \n",
    "       'learning_rate': 0.001, \n",
    "       'dropout_p': False, \n",
    "       'model_library_size': True, \n",
    "       'batch_norm': True, \n",
    "       'kl_warmup_fraction': 0.1, \n",
    "       'hidden_dims': [256, 10]}\n",
    "        \n",
    "geometric={'compute_metrics_every': 1, \n",
    "           'use_c': True, \n",
    "           'l2': True, \n",
    "           'eta_interp': 0, \n",
    "           'interpolate_z': False, \n",
    "           'start_jac_after': 0, \n",
    "           'fl_weight': 0.1,\n",
    "           'detach_theta': True}\n",
    "\n",
    "geodesic={\"in_dim\": datamodule.in_dim,\n",
    "          \"hidden_dims\": [256, 10],\n",
    "          \"batch_norm\": True,\n",
    "          \"dropout\": False, \n",
    "          \"dropout_p\": False,\n",
    "          \"likelihood\": \"nb\",\n",
    "          \"learning_rate\": 0.001}"
   ]
  },
  {
   "cell_type": "code",
   "execution_count": 4,
   "id": "e9c4c42b",
   "metadata": {},
   "outputs": [],
   "source": [
    "vae = GeometricNBVAE(**geometric, vae_kwargs=model_vae)\n",
    "geometric_vae = GeometricNBVAE(**geometric, vae_kwargs=model_vae)\n",
    "geodesic_ae = GeodesicAE(**geodesic)"
   ]
  },
  {
   "cell_type": "code",
   "execution_count": 5,
   "id": "048ee99c",
   "metadata": {},
   "outputs": [
    {
     "data": {
      "text/plain": [
       "<All keys matched successfully>"
      ]
     },
     "execution_count": 5,
     "metadata": {},
     "output_type": "execute_result"
    }
   ],
   "source": [
    "vae.load_state_dict(torch.load(PROJECT_FOLDER / \"checkpoints/ae/schiebinger_et_al/best_model_vae.ckpt\")[\"state_dict\"])\n",
    "geometric_vae.load_state_dict(torch.load(PROJECT_FOLDER / \"checkpoints/ae/schiebinger_et_al/best_model_geometric.ckpt\")[\"state_dict\"])\n",
    "geodesic_ae.load_state_dict(torch.load(PROJECT_FOLDER / \"checkpoints/ae/schiebinger_et_al/best_model_geodesic.ckpt\")[\"state_dict\"])"
   ]
  },
  {
   "cell_type": "code",
   "execution_count": 6,
   "id": "581c474f-af47-4ee3-99d1-270317883a3f",
   "metadata": {},
   "outputs": [],
   "source": [
    "vae = vae.eval()\n",
    "geometric_vae = geometric_vae.eval()\n",
    "geodesic_ae = geodesic_ae.eval()"
   ]
  },
  {
   "cell_type": "code",
   "execution_count": 7,
   "id": "cc7dc17e-894f-428d-89db-fd06a1784b16",
   "metadata": {},
   "outputs": [
    {
     "name": "stderr",
     "output_type": "stream",
     "text": [
      "/nfs/staff-ssd/pala/miniconda3/envs/scCFM/lib/python3.10/site-packages/lightning_fabric/plugins/environments/slurm.py:168: PossibleUserWarning: The `srun` command is available on your system but is not used. HINT: If your intention is to run Lightning on SLURM, prepend your python command with `srun` like so: srun python /nfs/staff-ssd/pala/miniconda3/envs/scCFM/lib/python ...\n",
      "  rank_zero_warn(\n",
      "GPU available: True (cuda), used: True\n",
      "TPU available: False, using: 0 TPU cores\n",
      "IPU available: False, using: 0 IPUs\n",
      "HPU available: False, using: 0 HPUs\n",
      "/nfs/staff-ssd/pala/miniconda3/envs/scCFM/lib/python3.10/site-packages/lightning_fabric/plugins/environments/slurm.py:168: PossibleUserWarning: The `srun` command is available on your system but is not used. HINT: If your intention is to run Lightning on SLURM, prepend your python command with `srun` like so: srun python /nfs/staff-ssd/pala/miniconda3/envs/scCFM/lib/python ...\n",
      "  rank_zero_warn(\n",
      "GPU available: True (cuda), used: True\n",
      "TPU available: False, using: 0 TPU cores\n",
      "IPU available: False, using: 0 IPUs\n",
      "HPU available: False, using: 0 HPUs\n"
     ]
    }
   ],
   "source": [
    "from pytorch_lightning import Trainer\n",
    "\n",
    "trainer_vae = Trainer(inference_mode=False)\n",
    "trainer_geometric = Trainer(inference_mode=False)"
   ]
  },
  {
   "cell_type": "code",
   "execution_count": 8,
   "id": "1bf40edb-b5c8-4039-b1f5-a1e09b3f046d",
   "metadata": {},
   "outputs": [
    {
     "name": "stderr",
     "output_type": "stream",
     "text": [
      "/nfs/staff-ssd/pala/miniconda3/envs/scCFM/lib/python3.10/site-packages/lightning_fabric/plugins/environments/slurm.py:168: PossibleUserWarning: The `srun` command is available on your system but is not used. HINT: If your intention is to run Lightning on SLURM, prepend your python command with `srun` like so: srun python /nfs/staff-ssd/pala/miniconda3/envs/scCFM/lib/python ...\n",
      "  rank_zero_warn(\n",
      "You are using a CUDA device ('NVIDIA A100-PCIE-40GB') that has Tensor Cores. To properly utilize them, you should set `torch.set_float32_matmul_precision('medium' | 'high')` which will trade-off precision for performance. For more details, read https://pytorch.org/docs/stable/generated/torch.set_float32_matmul_precision.html#torch.set_float32_matmul_precision\n",
      "LOCAL_RANK: 0 - CUDA_VISIBLE_DEVICES: [0]\n",
      "/nfs/staff-ssd/pala/miniconda3/envs/scCFM/lib/python3.10/site-packages/pytorch_lightning/trainer/connectors/data_connector.py:490: PossibleUserWarning: Your `val_dataloader`'s sampler has shuffling enabled, it is strongly recommended that you turn shuffling off for val/test dataloaders.\n",
      "  rank_zero_warn(\n",
      "/nfs/staff-ssd/pala/miniconda3/envs/scCFM/lib/python3.10/site-packages/pytorch_lightning/trainer/connectors/data_connector.py:442: PossibleUserWarning: The dataloader, val_dataloader, does not have many workers which may be a bottleneck. Consider increasing the value of the `num_workers` argument` (try 128 which is the number of cpus on this machine) in the `DataLoader` init to improve performance.\n",
      "  rank_zero_warn(\n"
     ]
    },
    {
     "data": {
      "application/vnd.jupyter.widget-view+json": {
       "model_id": "8972a99147f440129fd0bdfb55d224de",
       "version_major": 2,
       "version_minor": 0
      },
      "text/plain": [
       "Validation: 0it [00:00, ?it/s]"
      ]
     },
     "metadata": {},
     "output_type": "display_data"
    },
    {
     "name": "stderr",
     "output_type": "stream",
     "text": [
      "/nfs/staff-ssd/pala/miniconda3/envs/scCFM/lib/python3.10/site-packages/pytorch_lightning/trainer/connectors/logger_connector/result.py:212: UserWarning: You called `self.log('reg_weight', ...)` in your `validation_step` but the value needs to be floating point. Converting it to torch.float32.\n",
      "  warning_cache.warn(\n"
     ]
    },
    {
     "data": {
      "text/html": [
       "<pre style=\"white-space:pre;overflow-x:auto;line-height:normal;font-family:Menlo,'DejaVu Sans Mono',consolas,'Courier New',monospace\">┏━━━━━━━━━━━━━━━━━━━━━━━━━━━┳━━━━━━━━━━━━━━━━━━━━━━━━━━━┓\n",
       "┃<span style=\"font-weight: bold\">      Validate metric      </span>┃<span style=\"font-weight: bold\">       DataLoader 0        </span>┃\n",
       "┡━━━━━━━━━━━━━━━━━━━━━━━━━━━╇━━━━━━━━━━━━━━━━━━━━━━━━━━━┩\n",
       "│<span style=\"color: #008080; text-decoration-color: #008080\">     condition_number      </span>│<span style=\"color: #800080; text-decoration-color: #800080\">     542.662353515625      </span>│\n",
       "│<span style=\"color: #008080; text-decoration-color: #008080\">        eu_kl_corr         </span>│<span style=\"color: #800080; text-decoration-color: #800080\">    0.5510973930358887     </span>│\n",
       "│<span style=\"color: #008080; text-decoration-color: #008080\">        eu_kl_dist         </span>│<span style=\"color: #800080; text-decoration-color: #800080\">     754.1693725585938     </span>│\n",
       "│<span style=\"color: #008080; text-decoration-color: #008080\">         fl_weight         </span>│<span style=\"color: #800080; text-decoration-color: #800080\">    0.10000395029783249    </span>│\n",
       "│<span style=\"color: #008080; text-decoration-color: #008080\">   magnification_factor    </span>│<span style=\"color: #800080; text-decoration-color: #800080\">            inf            </span>│\n",
       "│<span style=\"color: #008080; text-decoration-color: #008080\">        reg_weight         </span>│<span style=\"color: #800080; text-decoration-color: #800080\">            0.0            </span>│\n",
       "│<span style=\"color: #008080; text-decoration-color: #008080\">        val/fl_loss        </span>│<span style=\"color: #800080; text-decoration-color: #800080\">  5.2063251146782485e+25   </span>│\n",
       "│<span style=\"color: #008080; text-decoration-color: #008080\">          val/kl           </span>│<span style=\"color: #800080; text-decoration-color: #800080\">     21.81983757019043     </span>│\n",
       "│<span style=\"color: #008080; text-decoration-color: #008080\">          val/lik          </span>│<span style=\"color: #800080; text-decoration-color: #800080\">     508.5929870605469     </span>│\n",
       "│<span style=\"color: #008080; text-decoration-color: #008080\">         val/loss          </span>│<span style=\"color: #800080; text-decoration-color: #800080\">   5.20633295454448e+24    </span>│\n",
       "│<span style=\"color: #008080; text-decoration-color: #008080\">         val/norm          </span>│<span style=\"color: #800080; text-decoration-color: #800080\">    22.281217575073242     </span>│\n",
       "│<span style=\"color: #008080; text-decoration-color: #008080\">         variance          </span>│<span style=\"color: #800080; text-decoration-color: #800080\">    120.16801452636719     </span>│\n",
       "└───────────────────────────┴───────────────────────────┘\n",
       "</pre>\n"
      ],
      "text/plain": [
       "┏━━━━━━━━━━━━━━━━━━━━━━━━━━━┳━━━━━━━━━━━━━━━━━━━━━━━━━━━┓\n",
       "┃\u001b[1m \u001b[0m\u001b[1m     Validate metric     \u001b[0m\u001b[1m \u001b[0m┃\u001b[1m \u001b[0m\u001b[1m      DataLoader 0       \u001b[0m\u001b[1m \u001b[0m┃\n",
       "┡━━━━━━━━━━━━━━━━━━━━━━━━━━━╇━━━━━━━━━━━━━━━━━━━━━━━━━━━┩\n",
       "│\u001b[36m \u001b[0m\u001b[36m    condition_number     \u001b[0m\u001b[36m \u001b[0m│\u001b[35m \u001b[0m\u001b[35m    542.662353515625     \u001b[0m\u001b[35m \u001b[0m│\n",
       "│\u001b[36m \u001b[0m\u001b[36m       eu_kl_corr        \u001b[0m\u001b[36m \u001b[0m│\u001b[35m \u001b[0m\u001b[35m   0.5510973930358887    \u001b[0m\u001b[35m \u001b[0m│\n",
       "│\u001b[36m \u001b[0m\u001b[36m       eu_kl_dist        \u001b[0m\u001b[36m \u001b[0m│\u001b[35m \u001b[0m\u001b[35m    754.1693725585938    \u001b[0m\u001b[35m \u001b[0m│\n",
       "│\u001b[36m \u001b[0m\u001b[36m        fl_weight        \u001b[0m\u001b[36m \u001b[0m│\u001b[35m \u001b[0m\u001b[35m   0.10000395029783249   \u001b[0m\u001b[35m \u001b[0m│\n",
       "│\u001b[36m \u001b[0m\u001b[36m  magnification_factor   \u001b[0m\u001b[36m \u001b[0m│\u001b[35m \u001b[0m\u001b[35m           inf           \u001b[0m\u001b[35m \u001b[0m│\n",
       "│\u001b[36m \u001b[0m\u001b[36m       reg_weight        \u001b[0m\u001b[36m \u001b[0m│\u001b[35m \u001b[0m\u001b[35m           0.0           \u001b[0m\u001b[35m \u001b[0m│\n",
       "│\u001b[36m \u001b[0m\u001b[36m       val/fl_loss       \u001b[0m\u001b[36m \u001b[0m│\u001b[35m \u001b[0m\u001b[35m 5.2063251146782485e+25  \u001b[0m\u001b[35m \u001b[0m│\n",
       "│\u001b[36m \u001b[0m\u001b[36m         val/kl          \u001b[0m\u001b[36m \u001b[0m│\u001b[35m \u001b[0m\u001b[35m    21.81983757019043    \u001b[0m\u001b[35m \u001b[0m│\n",
       "│\u001b[36m \u001b[0m\u001b[36m         val/lik         \u001b[0m\u001b[36m \u001b[0m│\u001b[35m \u001b[0m\u001b[35m    508.5929870605469    \u001b[0m\u001b[35m \u001b[0m│\n",
       "│\u001b[36m \u001b[0m\u001b[36m        val/loss         \u001b[0m\u001b[36m \u001b[0m│\u001b[35m \u001b[0m\u001b[35m  5.20633295454448e+24   \u001b[0m\u001b[35m \u001b[0m│\n",
       "│\u001b[36m \u001b[0m\u001b[36m        val/norm         \u001b[0m\u001b[36m \u001b[0m│\u001b[35m \u001b[0m\u001b[35m   22.281217575073242    \u001b[0m\u001b[35m \u001b[0m│\n",
       "│\u001b[36m \u001b[0m\u001b[36m        variance         \u001b[0m\u001b[36m \u001b[0m│\u001b[35m \u001b[0m\u001b[35m   120.16801452636719    \u001b[0m\u001b[35m \u001b[0m│\n",
       "└───────────────────────────┴───────────────────────────┘\n"
      ]
     },
     "metadata": {},
     "output_type": "display_data"
    },
    {
     "data": {
      "text/plain": [
       "[{'val/loss': 5.20633295454448e+24,\n",
       "  'val/kl': 21.81983757019043,\n",
       "  'val/lik': 508.5929870605469,\n",
       "  'val/fl_loss': 5.2063251146782485e+25,\n",
       "  'val/norm': 22.281217575073242,\n",
       "  'reg_weight': 0.0,\n",
       "  'fl_weight': 0.10000395029783249,\n",
       "  'condition_number': 542.662353515625,\n",
       "  'variance': 120.16801452636719,\n",
       "  'magnification_factor': inf,\n",
       "  'eu_kl_dist': 754.1693725585938,\n",
       "  'eu_kl_corr': 0.5510973930358887}]"
      ]
     },
     "execution_count": 8,
     "metadata": {},
     "output_type": "execute_result"
    }
   ],
   "source": [
    "trainer_vae.validate(model=vae, dataloaders=datamodule.train_dataloader())"
   ]
  },
  {
   "cell_type": "code",
   "execution_count": 9,
   "id": "78c0496c-435a-459e-9d76-f33e5474584a",
   "metadata": {},
   "outputs": [
    {
     "name": "stderr",
     "output_type": "stream",
     "text": [
      "/nfs/staff-ssd/pala/miniconda3/envs/scCFM/lib/python3.10/site-packages/lightning_fabric/plugins/environments/slurm.py:168: PossibleUserWarning: The `srun` command is available on your system but is not used. HINT: If your intention is to run Lightning on SLURM, prepend your python command with `srun` like so: srun python /nfs/staff-ssd/pala/miniconda3/envs/scCFM/lib/python ...\n",
      "  rank_zero_warn(\n",
      "LOCAL_RANK: 0 - CUDA_VISIBLE_DEVICES: [0]\n",
      "/nfs/staff-ssd/pala/miniconda3/envs/scCFM/lib/python3.10/site-packages/pytorch_lightning/trainer/connectors/data_connector.py:490: PossibleUserWarning: Your `val_dataloader`'s sampler has shuffling enabled, it is strongly recommended that you turn shuffling off for val/test dataloaders.\n",
      "  rank_zero_warn(\n",
      "/nfs/staff-ssd/pala/miniconda3/envs/scCFM/lib/python3.10/site-packages/pytorch_lightning/trainer/connectors/data_connector.py:442: PossibleUserWarning: The dataloader, val_dataloader, does not have many workers which may be a bottleneck. Consider increasing the value of the `num_workers` argument` (try 128 which is the number of cpus on this machine) in the `DataLoader` init to improve performance.\n",
      "  rank_zero_warn(\n"
     ]
    },
    {
     "data": {
      "application/vnd.jupyter.widget-view+json": {
       "model_id": "902e1455a9ae462e90ecee9eaf17361a",
       "version_major": 2,
       "version_minor": 0
      },
      "text/plain": [
       "Validation: 0it [00:00, ?it/s]"
      ]
     },
     "metadata": {},
     "output_type": "display_data"
    },
    {
     "data": {
      "text/html": [
       "<pre style=\"white-space:pre;overflow-x:auto;line-height:normal;font-family:Menlo,'DejaVu Sans Mono',consolas,'Courier New',monospace\">┏━━━━━━━━━━━━━━━━━━━━━━━━━━━┳━━━━━━━━━━━━━━━━━━━━━━━━━━━┓\n",
       "┃<span style=\"font-weight: bold\">      Validate metric      </span>┃<span style=\"font-weight: bold\">       DataLoader 0        </span>┃\n",
       "┡━━━━━━━━━━━━━━━━━━━━━━━━━━━╇━━━━━━━━━━━━━━━━━━━━━━━━━━━┩\n",
       "│<span style=\"color: #008080; text-decoration-color: #008080\">     condition_number      </span>│<span style=\"color: #800080; text-decoration-color: #800080\">     13211.5400390625      </span>│\n",
       "│<span style=\"color: #008080; text-decoration-color: #008080\">        eu_kl_corr         </span>│<span style=\"color: #800080; text-decoration-color: #800080\">    0.34404534101486206    </span>│\n",
       "│<span style=\"color: #008080; text-decoration-color: #008080\">        eu_kl_dist         </span>│<span style=\"color: #800080; text-decoration-color: #800080\">    356.65728759765625     </span>│\n",
       "│<span style=\"color: #008080; text-decoration-color: #008080\">         fl_weight         </span>│<span style=\"color: #800080; text-decoration-color: #800080\">    0.10000395029783249    </span>│\n",
       "│<span style=\"color: #008080; text-decoration-color: #008080\">   magnification_factor    </span>│<span style=\"color: #800080; text-decoration-color: #800080\">       23793969152.0       </span>│\n",
       "│<span style=\"color: #008080; text-decoration-color: #008080\">        reg_weight         </span>│<span style=\"color: #800080; text-decoration-color: #800080\">            0.0            </span>│\n",
       "│<span style=\"color: #008080; text-decoration-color: #008080\">        val/fl_loss        </span>│<span style=\"color: #800080; text-decoration-color: #800080\">        224986656.0        </span>│\n",
       "│<span style=\"color: #008080; text-decoration-color: #008080\">          val/kl           </span>│<span style=\"color: #800080; text-decoration-color: #800080\">       132.962890625       </span>│\n",
       "│<span style=\"color: #008080; text-decoration-color: #008080\">          val/lik          </span>│<span style=\"color: #800080; text-decoration-color: #800080\">     554.2285766601562     </span>│\n",
       "│<span style=\"color: #008080; text-decoration-color: #008080\">         val/loss          </span>│<span style=\"color: #800080; text-decoration-color: #800080\">        22499238.0         </span>│\n",
       "│<span style=\"color: #008080; text-decoration-color: #008080\">         val/norm          </span>│<span style=\"color: #800080; text-decoration-color: #800080\">     87.03494262695312     </span>│\n",
       "│<span style=\"color: #008080; text-decoration-color: #008080\">         variance          </span>│<span style=\"color: #800080; text-decoration-color: #800080\">    21.773656845092773     </span>│\n",
       "└───────────────────────────┴───────────────────────────┘\n",
       "</pre>\n"
      ],
      "text/plain": [
       "┏━━━━━━━━━━━━━━━━━━━━━━━━━━━┳━━━━━━━━━━━━━━━━━━━━━━━━━━━┓\n",
       "┃\u001b[1m \u001b[0m\u001b[1m     Validate metric     \u001b[0m\u001b[1m \u001b[0m┃\u001b[1m \u001b[0m\u001b[1m      DataLoader 0       \u001b[0m\u001b[1m \u001b[0m┃\n",
       "┡━━━━━━━━━━━━━━━━━━━━━━━━━━━╇━━━━━━━━━━━━━━━━━━━━━━━━━━━┩\n",
       "│\u001b[36m \u001b[0m\u001b[36m    condition_number     \u001b[0m\u001b[36m \u001b[0m│\u001b[35m \u001b[0m\u001b[35m    13211.5400390625     \u001b[0m\u001b[35m \u001b[0m│\n",
       "│\u001b[36m \u001b[0m\u001b[36m       eu_kl_corr        \u001b[0m\u001b[36m \u001b[0m│\u001b[35m \u001b[0m\u001b[35m   0.34404534101486206   \u001b[0m\u001b[35m \u001b[0m│\n",
       "│\u001b[36m \u001b[0m\u001b[36m       eu_kl_dist        \u001b[0m\u001b[36m \u001b[0m│\u001b[35m \u001b[0m\u001b[35m   356.65728759765625    \u001b[0m\u001b[35m \u001b[0m│\n",
       "│\u001b[36m \u001b[0m\u001b[36m        fl_weight        \u001b[0m\u001b[36m \u001b[0m│\u001b[35m \u001b[0m\u001b[35m   0.10000395029783249   \u001b[0m\u001b[35m \u001b[0m│\n",
       "│\u001b[36m \u001b[0m\u001b[36m  magnification_factor   \u001b[0m\u001b[36m \u001b[0m│\u001b[35m \u001b[0m\u001b[35m      23793969152.0      \u001b[0m\u001b[35m \u001b[0m│\n",
       "│\u001b[36m \u001b[0m\u001b[36m       reg_weight        \u001b[0m\u001b[36m \u001b[0m│\u001b[35m \u001b[0m\u001b[35m           0.0           \u001b[0m\u001b[35m \u001b[0m│\n",
       "│\u001b[36m \u001b[0m\u001b[36m       val/fl_loss       \u001b[0m\u001b[36m \u001b[0m│\u001b[35m \u001b[0m\u001b[35m       224986656.0       \u001b[0m\u001b[35m \u001b[0m│\n",
       "│\u001b[36m \u001b[0m\u001b[36m         val/kl          \u001b[0m\u001b[36m \u001b[0m│\u001b[35m \u001b[0m\u001b[35m      132.962890625      \u001b[0m\u001b[35m \u001b[0m│\n",
       "│\u001b[36m \u001b[0m\u001b[36m         val/lik         \u001b[0m\u001b[36m \u001b[0m│\u001b[35m \u001b[0m\u001b[35m    554.2285766601562    \u001b[0m\u001b[35m \u001b[0m│\n",
       "│\u001b[36m \u001b[0m\u001b[36m        val/loss         \u001b[0m\u001b[36m \u001b[0m│\u001b[35m \u001b[0m\u001b[35m       22499238.0        \u001b[0m\u001b[35m \u001b[0m│\n",
       "│\u001b[36m \u001b[0m\u001b[36m        val/norm         \u001b[0m\u001b[36m \u001b[0m│\u001b[35m \u001b[0m\u001b[35m    87.03494262695312    \u001b[0m\u001b[35m \u001b[0m│\n",
       "│\u001b[36m \u001b[0m\u001b[36m        variance         \u001b[0m\u001b[36m \u001b[0m│\u001b[35m \u001b[0m\u001b[35m   21.773656845092773    \u001b[0m\u001b[35m \u001b[0m│\n",
       "└───────────────────────────┴───────────────────────────┘\n"
      ]
     },
     "metadata": {},
     "output_type": "display_data"
    },
    {
     "data": {
      "text/plain": [
       "[{'val/loss': 22499238.0,\n",
       "  'val/kl': 132.962890625,\n",
       "  'val/lik': 554.2285766601562,\n",
       "  'val/fl_loss': 224986656.0,\n",
       "  'val/norm': 87.03494262695312,\n",
       "  'reg_weight': 0.0,\n",
       "  'fl_weight': 0.10000395029783249,\n",
       "  'condition_number': 13211.5400390625,\n",
       "  'variance': 21.773656845092773,\n",
       "  'magnification_factor': 23793969152.0,\n",
       "  'eu_kl_dist': 356.65728759765625,\n",
       "  'eu_kl_corr': 0.34404534101486206}]"
      ]
     },
     "execution_count": 9,
     "metadata": {},
     "output_type": "execute_result"
    }
   ],
   "source": [
    "trainer_vae.validate(model=geometric_vae, dataloaders=datamodule.train_dataloader())"
   ]
  },
  {
   "cell_type": "code",
   "execution_count": null,
   "id": "737ac039-78f0-44a8-978f-2f9f3ccfe439",
   "metadata": {},
   "outputs": [],
   "source": []
  },
  {
   "cell_type": "code",
   "execution_count": null,
   "id": "44c0b9eb-5086-4285-8704-e47612c99f77",
   "metadata": {},
   "outputs": [],
   "source": []
  }
 ],
 "metadata": {
  "kernelspec": {
   "display_name": "Python 3 (ipykernel)",
   "language": "python",
   "name": "python3"
  },
  "language_info": {
   "codemirror_mode": {
    "name": "ipython",
    "version": 3
   },
   "file_extension": ".py",
   "mimetype": "text/x-python",
   "name": "python",
   "nbconvert_exporter": "python",
   "pygments_lexer": "ipython3",
   "version": "3.10.12"
  }
 },
 "nbformat": 4,
 "nbformat_minor": 5
}
