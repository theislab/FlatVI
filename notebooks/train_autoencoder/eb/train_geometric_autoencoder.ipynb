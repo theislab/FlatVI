{
 "cells": [
  {
   "cell_type": "code",
   "execution_count": 6,
   "id": "59d017f8",
   "metadata": {},
   "outputs": [],
   "source": [
    "import sys \n",
    "import pytorch_lightning as pl\n",
    "import seml\n",
    "import torch\n",
    "from sacred import SETTINGS, Experiment\n",
    "\n",
    "sys.path.insert(0,\"../\")\n",
    "from paths import EXPERIMENT_FOLDER\n",
    "\n",
    "from scCFM.datamodules.sc_datamodule import scDataModule\n",
    "from scCFM.models.base.vae import VAE, AE\n",
    "from scCFM.models.base.geometric_vae import GeometricNBAE,GeometricNBVAE\n",
    "\n",
    "from pytorch_lightning import Trainer\n",
    "from pytorch_lightning.callbacks import ModelCheckpoint, EarlyStopping\n",
    "from pytorch_lightning.loggers import WandbLogger "
   ]
  },
  {
   "cell_type": "code",
   "execution_count": 7,
   "id": "733ce945",
   "metadata": {},
   "outputs": [],
   "source": [
    "config = {\n",
    "    \"training\": {\n",
    "        \"task_name\": \"geom_vae_lib\",\n",
    "        \"seed\": 42\n",
    "    },\n",
    "    \"datamodule\": {'path': '/nfs/homedirs/pala/scCFM/project_dir/data/eb/processed/eb_phate.h5ad',\n",
    "                   'x_layer': 'X_norm', \n",
    "                   'cond_keys': 'experimental_time', \n",
    "                   'use_pca': False,\n",
    "                   'n_dimensions': None, \n",
    "                   'train_val_test_split': [0.8, 0.2],\n",
    "                   'num_workers': 2, \n",
    "                   'batch_size': 32},\n",
    "    \n",
    "    \"model\": {'n_epochs_anneal_kl': 1000, \n",
    "              'likelihood': 'nb', \n",
    "              'dropout': False,\n",
    "              'learning_rate': 0.001, \n",
    "              'dropout_p': False, \n",
    "              'model_library_size': True,\n",
    "              'batch_norm': True, \n",
    "              'library_size_regression': False,\n",
    "              'data_library_size': True,\n",
    "              'kl_warmup_fraction': 2, \n",
    "              'kl_weight': None, \n",
    "              'model_type': 'geometric_vae',\n",
    "              'hidden_dims': [256, 10]},\n",
    "    \n",
    "    \"geometric_vae\": {'compute_metrics_every': 1, \n",
    "                      'use_c': False, \n",
    "                      'l2': True, \n",
    "                      'eta_interp': 0,\n",
    "                      'interpolate_z': False, \n",
    "                      'start_jac_after': 0, \n",
    "                      'detach_theta': False, \n",
    "                      'fl_weight': 0.01, \n",
    "                      'anneal_fl_weight': False, \n",
    "                      'max_fl_weight': None,\n",
    "                      'n_epochs_anneal_fl': None,\n",
    "                      'fl_anneal_fraction': None},\n",
    "    \n",
    "    \"model_checkpoint\": {'filename': 'epoch_{epoch:04d}', \n",
    "                         'monitor': 'val/lik',\n",
    "                         'mode': 'min', \n",
    "                         'save_last': True, \n",
    "                         'auto_insert_metric_name': False},\n",
    "    \n",
    "    \"early_stopping\": {'perform_early_stopping': False, \n",
    "                       'monitor': 'val/loss', \n",
    "                       'patience': 50, \n",
    "                       'mode': 'min', \n",
    "                       'min_delta': 0.0,\n",
    "                       'verbose': False, \n",
    "                       'strict': True,\n",
    "                       'check_finite': True, \n",
    "                       'stopping_threshold': None, \n",
    "                       'divergence_threshold': None,\n",
    "                       'check_on_train_epoch_end': None},\n",
    "    \n",
    "    \"logger\": {'offline': False,\n",
    "               'id': None,\n",
    "               'project': 'geom_vae_lib_eb_reg',\n",
    "               'log_model': True,\n",
    "               'prefix': '', \n",
    "               'group': '', \n",
    "               'tags': [], \n",
    "               'job_type': ''},\n",
    "    \n",
    "    \"trainer\": {\n",
    "        \"max_epochs\": 1000,\n",
    "        \"accelerator\": \"gpu\",\n",
    "        \"devices\": 1,\n",
    "        \"log_every_n_steps\": 10\n",
    "    }\n",
    "}\n"
   ]
  },
  {
   "cell_type": "code",
   "execution_count": 8,
   "id": "b7686300",
   "metadata": {
    "scrolled": false
   },
   "outputs": [
    {
     "name": "stderr",
     "output_type": "stream",
     "text": [
      "[rank: 0] Global seed set to 42\n",
      "Failed to detect the name of this notebook, you can set it manually with the WANDB_NOTEBOOK_NAME environment variable to enable code saving.\n",
      "\u001b[34m\u001b[1mwandb\u001b[0m: Currently logged in as: \u001b[33mallepalma\u001b[0m. Use \u001b[1m`wandb login --relogin`\u001b[0m to force relogin\n"
     ]
    },
    {
     "data": {
      "text/html": [
       "wandb version 0.15.10 is available!  To upgrade, please run:\n",
       " $ pip install wandb --upgrade"
      ],
      "text/plain": [
       "<IPython.core.display.HTML object>"
      ]
     },
     "metadata": {},
     "output_type": "display_data"
    },
    {
     "data": {
      "text/html": [
       "Tracking run with wandb version 0.15.5"
      ],
      "text/plain": [
       "<IPython.core.display.HTML object>"
      ]
     },
     "metadata": {},
     "output_type": "display_data"
    },
    {
     "data": {
      "text/html": [
       "Run data is saved locally in <code>/nfs/homedirs/pala/scCFM/project_dir/experiments/geom_vae_lib/wandb/run-20230913_193429-kaawv4w0</code>"
      ],
      "text/plain": [
       "<IPython.core.display.HTML object>"
      ]
     },
     "metadata": {},
     "output_type": "display_data"
    },
    {
     "data": {
      "text/html": [
       "Syncing run <strong><a href='https://wandb.ai/allepalma/geom_vae_lib_eb_reg/runs/kaawv4w0' target=\"_blank\">major-cosmos-23</a></strong> to <a href='https://wandb.ai/allepalma/geom_vae_lib_eb_reg' target=\"_blank\">Weights & Biases</a> (<a href='https://wandb.me/run' target=\"_blank\">docs</a>)<br/>"
      ],
      "text/plain": [
       "<IPython.core.display.HTML object>"
      ]
     },
     "metadata": {},
     "output_type": "display_data"
    },
    {
     "data": {
      "text/html": [
       " View project at <a href='https://wandb.ai/allepalma/geom_vae_lib_eb_reg' target=\"_blank\">https://wandb.ai/allepalma/geom_vae_lib_eb_reg</a>"
      ],
      "text/plain": [
       "<IPython.core.display.HTML object>"
      ]
     },
     "metadata": {},
     "output_type": "display_data"
    },
    {
     "data": {
      "text/html": [
       " View run at <a href='https://wandb.ai/allepalma/geom_vae_lib_eb_reg/runs/kaawv4w0' target=\"_blank\">https://wandb.ai/allepalma/geom_vae_lib_eb_reg/runs/kaawv4w0</a>"
      ],
      "text/plain": [
       "<IPython.core.display.HTML object>"
      ]
     },
     "metadata": {},
     "output_type": "display_data"
    },
    {
     "name": "stderr",
     "output_type": "stream",
     "text": [
      "/nfs/staff-ssd/pala/envs/scCFM/lib/python3.9/site-packages/lightning_fabric/plugins/environments/slurm.py:168: PossibleUserWarning: The `srun` command is available on your system but is not used. HINT: If your intention is to run Lightning on SLURM, prepend your python command with `srun` like so: srun python /nfs/staff-ssd/pala/envs/scCFM/lib/python3.9/site-pa ...\n",
      "  rank_zero_warn(\n",
      "GPU available: True (cuda), used: True\n",
      "TPU available: False, using: 0 TPU cores\n",
      "IPU available: False, using: 0 IPUs\n",
      "HPU available: False, using: 0 HPUs\n"
     ]
    }
   ],
   "source": [
    "# Training configuration\n",
    "# Initialize task_name\n",
    "task_name = config[\"training\"][\"task_name\"]\n",
    "\n",
    "# Fix seed for reproducibility\n",
    "seed = config[\"training\"][\"seed\"]\n",
    "torch.manual_seed(seed)\n",
    "if seed:\n",
    "    pl.seed_everything(seed, workers=True)\n",
    "\n",
    "# Initialize folder\n",
    "current_experiment_dir = EXPERIMENT_FOLDER / task_name\n",
    "current_experiment_dir.mkdir(parents=True, exist_ok=True)\n",
    "\n",
    "# Datamodule initialization\n",
    "datamodule = scDataModule(\n",
    "    path=config[\"datamodule\"][\"path\"],\n",
    "    x_layer=config[\"datamodule\"][\"x_layer\"],\n",
    "    cond_keys=config[\"datamodule\"][\"cond_keys\"],\n",
    "    use_pca=config[\"datamodule\"][\"use_pca\"],\n",
    "    n_dimensions=config[\"datamodule\"][\"n_dimensions\"],\n",
    "    train_val_test_split=config[\"datamodule\"][\"train_val_test_split\"],\n",
    "    batch_size=config[\"datamodule\"][\"batch_size\"],\n",
    "    num_workers=config[\"datamodule\"][\"num_workers\"]\n",
    ")\n",
    "\n",
    "# Model initialization\n",
    "model_type = config[\"model\"][\"model_type\"]\n",
    "hidden_dims = config[\"model\"][\"hidden_dims\"]\n",
    "batch_norm = config[\"model\"][\"batch_norm\"]\n",
    "dropout = config[\"model\"][\"dropout\"]\n",
    "dropout_p = config[\"model\"][\"dropout_p\"]\n",
    "n_epochs_anneal_kl = config[\"model\"][\"n_epochs_anneal_kl\"]\n",
    "kl_warmup_fraction = config[\"model\"][\"kl_warmup_fraction\"]\n",
    "kl_weight = config[\"model\"][\"kl_weight\"]\n",
    "likelihood = config[\"model\"][\"likelihood\"]\n",
    "learning_rate = config[\"model\"][\"learning_rate\"]\n",
    "model_library_size = config[\"model\"][\"model_library_size\"]\n",
    "library_size_regression = config[\"model\"][\"library_size_regression\"]\n",
    "data_library_size = config[\"model\"][\"data_library_size\"]\n",
    "\n",
    "\n",
    "vae_kwargs = dict(\n",
    "    in_dim=datamodule.in_dim,\n",
    "    hidden_dims=hidden_dims,\n",
    "    batch_norm=batch_norm,\n",
    "    dropout=dropout,\n",
    "    dropout_p=dropout_p,\n",
    "    likelihood=likelihood,\n",
    "    learning_rate=learning_rate,\n",
    "    model_library_size=model_library_size,\n",
    "    library_size_regression=library_size_regression,\n",
    "    data_library_size=data_library_size\n",
    ")\n",
    "\n",
    "if model_type == \"geometric_vae\":\n",
    "    vae_kwargs[\"n_epochs_anneal_kl\"] = n_epochs_anneal_kl\n",
    "    vae_kwargs[\"kl_warmup_fraction\"] = kl_warmup_fraction\n",
    "    vae_kwargs[\"kl_weight\"] = kl_weight\n",
    "\n",
    "# Geometric VAE initialization\n",
    "geometric_vae = None\n",
    "\n",
    "if model_type == \"geometric_ae\":\n",
    "    model = GeometricNBAE(\n",
    "        l2=config[\"geometric_vae\"][\"l2\"],\n",
    "        fl_weight=config[\"geometric_vae\"][\"fl_weight\"],\n",
    "        interpolate_z=config[\"geometric_vae\"][\"interpolate_z\"],\n",
    "        eta_interp=config[\"geometric_vae\"][\"eta_interp\"],\n",
    "        start_jac_after=config[\"geometric_vae\"][\"start_jac_after\"],\n",
    "        use_c=config[\"geometric_vae\"][\"use_c\"],\n",
    "        compute_metrics_every=config[\"geometric_vae\"][\"compute_metrics_every\"],\n",
    "        vae_kwargs=vae_kwargs,\n",
    "        detach_theta=config[\"geometric_vae\"][\"detach_theta\"]\n",
    "    )\n",
    "else:\n",
    "    model = GeometricNBVAE(\n",
    "        l2=config[\"geometric_vae\"][\"l2\"],\n",
    "        fl_weight=config[\"geometric_vae\"][\"fl_weight\"],\n",
    "        interpolate_z=config[\"geometric_vae\"][\"interpolate_z\"],\n",
    "        eta_interp=config[\"geometric_vae\"][\"eta_interp\"],\n",
    "        start_jac_after=config[\"geometric_vae\"][\"start_jac_after\"],\n",
    "        use_c=config[\"geometric_vae\"][\"use_c\"],\n",
    "        compute_metrics_every=config[\"geometric_vae\"][\"compute_metrics_every\"],\n",
    "        vae_kwargs=vae_kwargs,\n",
    "        detach_theta=config[\"geometric_vae\"][\"detach_theta\"],\n",
    "        anneal_fl_weight=config[\"geometric_vae\"][\"anneal_fl_weight\"], \n",
    "        max_fl_weight=config[\"geometric_vae\"][\"max_fl_weight\"],\n",
    "        n_epochs_anneal_fl=config[\"geometric_vae\"][\"n_epochs_anneal_fl\"],\n",
    "        fl_anneal_fraction=config[\"geometric_vae\"][\"fl_anneal_fraction\"]\n",
    "    )\n",
    "\n",
    "# Model checkpoint initialization\n",
    "model_ckpt_callbacks = ModelCheckpoint(\n",
    "    dirpath=current_experiment_dir / \"checkpoints\",\n",
    "    filename=config[\"model_checkpoint\"][\"filename\"],\n",
    "    monitor=config[\"model_checkpoint\"][\"monitor\"],\n",
    "    mode=config[\"model_checkpoint\"][\"mode\"],\n",
    "    save_last=config[\"model_checkpoint\"][\"save_last\"],\n",
    "    auto_insert_metric_name=config[\"model_checkpoint\"][\"auto_insert_metric_name\"]\n",
    ")\n",
    "\n",
    "# Early stopping initialization\n",
    "early_stopping_callbacks = None\n",
    "\n",
    "if config[\"early_stopping\"][\"perform_early_stopping\"]:\n",
    "    early_stopping_callbacks = EarlyStopping(\n",
    "        monitor=monitor_early_stopping,\n",
    "        patience=config[\"early_stopping\"][\"patience\"],\n",
    "        mode=mode_early_stopping,\n",
    "        min_delta=config[\"early_stopping\"][\"min_delta\"],\n",
    "        verbose=config[\"early_stopping\"][\"verbose\"],\n",
    "        strict=config[\"early_stopping\"][\"strict\"],\n",
    "        check_finite=config[\"early_stopping\"][\"check_finite\"],\n",
    "        stopping_threshold=config[\"early_stopping\"][\"stopping_threshold\"],\n",
    "        divergence_threshold=config[\"early_stopping\"][\"divergence_threshold\"],\n",
    "        check_on_train_epoch_end=config[\"early_stopping\"][\"check_on_train_epoch_end\"]\n",
    "    )\n",
    "\n",
    "# Logger initialization\n",
    "logger = WandbLogger(\n",
    "    save_dir=current_experiment_dir,\n",
    "    offline=config[\"logger\"][\"offline\"],\n",
    "    id=config[\"logger\"][\"id\"],\n",
    "    project=config[\"logger\"][\"project\"],\n",
    "    log_model=config[\"logger\"][\"log_model\"],\n",
    "    prefix=config[\"logger\"][\"prefix\"],\n",
    "    group=config[\"logger\"][\"group\"],\n",
    "    tags=config[\"logger\"][\"tags\"],\n",
    "    job_type=config[\"logger\"][\"job_type\"]\n",
    ")\n",
    "\n",
    "# Trainer initialization\n",
    "if early_stopping_callbacks:\n",
    "    callbacks = [model_ckpt_callbacks, early_stopping_callbacks]\n",
    "else:\n",
    "    callbacks = [model_ckpt_callbacks]\n",
    "\n",
    "trainer = Trainer(\n",
    "    callbacks=callbacks,\n",
    "    default_root_dir=current_experiment_dir,\n",
    "    logger=logger,\n",
    "    max_epochs=config[\"trainer\"][\"max_epochs\"],\n",
    "    accelerator=config[\"trainer\"][\"accelerator\"],\n",
    "    devices=config[\"trainer\"][\"devices\"],\n",
    "    log_every_n_steps=config[\"trainer\"][\"log_every_n_steps\"]\n",
    ")"
   ]
  },
  {
   "cell_type": "code",
   "execution_count": 9,
   "id": "3c9265f1",
   "metadata": {
    "scrolled": false
   },
   "outputs": [
    {
     "name": "stderr",
     "output_type": "stream",
     "text": [
      "/nfs/staff-ssd/pala/envs/scCFM/lib/python3.9/site-packages/pytorch_lightning/callbacks/model_checkpoint.py:617: UserWarning: Checkpoint directory /nfs/students/pala/scCFM/experiments/geom_vae_lib/checkpoints exists and is not empty.\n",
      "  rank_zero_warn(f\"Checkpoint directory {dirpath} exists and is not empty.\")\n",
      "LOCAL_RANK: 0 - CUDA_VISIBLE_DEVICES: [0]\n",
      "/nfs/staff-ssd/pala/envs/scCFM/lib/python3.9/site-packages/pytorch_lightning/core/optimizer.py:263: RuntimeWarning: Found unsupported keys in the lr scheduler dict: {'threshold', 'min_lr'}. HINT: remove them from the output of `configure_optimizers`.\n",
      "  rank_zero_warn(\n",
      "\n",
      "  | Name                 | Type   | Params\n",
      "------------------------------------------------\n",
      "0 | encoder_layers       | MLP    | 318 K \n",
      "1 | decoder_layers       | MLP    | 3.3 K \n",
      "2 | library_size_decoder | Linear | 11    \n",
      "3 | decoder_mu_lib       | Linear | 318 K \n",
      "4 | mu_logvar            | Linear | 5.1 K \n",
      "------------------------------------------------\n",
      "647 K     Trainable params\n",
      "0         Non-trainable params\n",
      "647 K     Total params\n",
      "2.588     Total estimated model params size (MB)\n"
     ]
    },
    {
     "data": {
      "application/vnd.jupyter.widget-view+json": {
       "model_id": "",
       "version_major": 2,
       "version_minor": 0
      },
      "text/plain": [
       "Sanity Checking: 0it [00:00, ?it/s]"
      ]
     },
     "metadata": {},
     "output_type": "display_data"
    },
    {
     "name": "stderr",
     "output_type": "stream",
     "text": [
      "/nfs/staff-ssd/pala/envs/scCFM/lib/python3.9/site-packages/pytorch_lightning/trainer/connectors/data_connector.py:438: PossibleUserWarning: The dataloader, val_dataloader, does not have many workers which may be a bottleneck. Consider increasing the value of the `num_workers` argument` (try 28 which is the number of cpus on this machine) in the `DataLoader` init to improve performance.\n",
      "  rank_zero_warn(\n",
      "/nfs/staff-ssd/pala/envs/scCFM/lib/python3.9/site-packages/pytorch_lightning/trainer/connectors/logger_connector/result.py:212: UserWarning: You called `self.log('reg_weight', ...)` in your `validation_step` but the value needs to be floating point. Converting it to torch.float32.\n",
      "  warning_cache.warn(\n",
      "/nfs/staff-ssd/pala/envs/scCFM/lib/python3.9/site-packages/pytorch_lightning/trainer/connectors/data_connector.py:438: PossibleUserWarning: The dataloader, train_dataloader, does not have many workers which may be a bottleneck. Consider increasing the value of the `num_workers` argument` (try 28 which is the number of cpus on this machine) in the `DataLoader` init to improve performance.\n",
      "  rank_zero_warn(\n"
     ]
    },
    {
     "data": {
      "application/vnd.jupyter.widget-view+json": {
       "model_id": "f635cf9b555e41fb956bd4081db51847",
       "version_major": 2,
       "version_minor": 0
      },
      "text/plain": [
       "Training: 0it [00:00, ?it/s]"
      ]
     },
     "metadata": {},
     "output_type": "display_data"
    },
    {
     "name": "stderr",
     "output_type": "stream",
     "text": [
      "/nfs/staff-ssd/pala/envs/scCFM/lib/python3.9/site-packages/pytorch_lightning/trainer/connectors/logger_connector/result.py:212: UserWarning: You called `self.log('reg_weight', ...)` in your `training_step` but the value needs to be floating point. Converting it to torch.float32.\n",
      "  warning_cache.warn(\n"
     ]
    },
    {
     "data": {
      "application/vnd.jupyter.widget-view+json": {
       "model_id": "",
       "version_major": 2,
       "version_minor": 0
      },
      "text/plain": [
       "Validation: 0it [00:00, ?it/s]"
      ]
     },
     "metadata": {},
     "output_type": "display_data"
    },
    {
     "data": {
      "application/vnd.jupyter.widget-view+json": {
       "model_id": "",
       "version_major": 2,
       "version_minor": 0
      },
      "text/plain": [
       "Validation: 0it [00:00, ?it/s]"
      ]
     },
     "metadata": {},
     "output_type": "display_data"
    },
    {
     "data": {
      "application/vnd.jupyter.widget-view+json": {
       "model_id": "",
       "version_major": 2,
       "version_minor": 0
      },
      "text/plain": [
       "Validation: 0it [00:00, ?it/s]"
      ]
     },
     "metadata": {},
     "output_type": "display_data"
    },
    {
     "data": {
      "application/vnd.jupyter.widget-view+json": {
       "model_id": "",
       "version_major": 2,
       "version_minor": 0
      },
      "text/plain": [
       "Validation: 0it [00:00, ?it/s]"
      ]
     },
     "metadata": {},
     "output_type": "display_data"
    },
    {
     "data": {
      "application/vnd.jupyter.widget-view+json": {
       "model_id": "",
       "version_major": 2,
       "version_minor": 0
      },
      "text/plain": [
       "Validation: 0it [00:00, ?it/s]"
      ]
     },
     "metadata": {},
     "output_type": "display_data"
    },
    {
     "data": {
      "application/vnd.jupyter.widget-view+json": {
       "model_id": "",
       "version_major": 2,
       "version_minor": 0
      },
      "text/plain": [
       "Validation: 0it [00:00, ?it/s]"
      ]
     },
     "metadata": {},
     "output_type": "display_data"
    },
    {
     "data": {
      "application/vnd.jupyter.widget-view+json": {
       "model_id": "",
       "version_major": 2,
       "version_minor": 0
      },
      "text/plain": [
       "Validation: 0it [00:00, ?it/s]"
      ]
     },
     "metadata": {},
     "output_type": "display_data"
    },
    {
     "data": {
      "application/vnd.jupyter.widget-view+json": {
       "model_id": "0c341c15df6b4e10a2591fb61027415e",
       "version_major": 2,
       "version_minor": 0
      },
      "text/plain": [
       "Validation: 0it [00:00, ?it/s]"
      ]
     },
     "metadata": {},
     "output_type": "display_data"
    },
    {
     "name": "stderr",
     "output_type": "stream",
     "text": [
      "/nfs/staff-ssd/pala/envs/scCFM/lib/python3.9/site-packages/pytorch_lightning/trainer/call.py:53: UserWarning: Detected KeyboardInterrupt, attempting graceful shutdown...\n",
      "  rank_zero_warn(\"Detected KeyboardInterrupt, attempting graceful shutdown...\")\n"
     ]
    }
   ],
   "source": [
    "trainer.fit(model=model, train_dataloaders=datamodule.train_dataloader(), val_dataloaders=datamodule.val_dataloader())"
   ]
  },
  {
   "cell_type": "code",
   "execution_count": 10,
   "id": "225173fe",
   "metadata": {},
   "outputs": [
    {
     "data": {
      "text/plain": [
       "tensor([0.7675, 0.1999, 0.4274,  ..., 0.4748, 1.2398, 0.8061], device='cuda:0',\n",
       "       grad_fn=<ExpBackward0>)"
      ]
     },
     "execution_count": 10,
     "metadata": {},
     "output_type": "execute_result"
    }
   ],
   "source": [
    "torch.exp(model.theta)"
   ]
  },
  {
   "cell_type": "code",
   "execution_count": null,
   "id": "dc6da75d",
   "metadata": {},
   "outputs": [],
   "source": [
    "model.fl_weight_decrease"
   ]
  },
  {
   "cell_type": "code",
   "execution_count": null,
   "id": "57aa92bc",
   "metadata": {},
   "outputs": [],
   "source": [
    "model.fl_weight - model.min_fl_weight"
   ]
  },
  {
   "cell_type": "code",
   "execution_count": 11,
   "id": "210daa1b",
   "metadata": {},
   "outputs": [
    {
     "data": {
      "text/plain": [
       "100.0"
      ]
     },
     "execution_count": 11,
     "metadata": {},
     "output_type": "execute_result"
    }
   ],
   "source": [
    "0.1*1000"
   ]
  },
  {
   "cell_type": "code",
   "execution_count": null,
   "id": "a5c4f979",
   "metadata": {},
   "outputs": [],
   "source": []
  }
 ],
 "metadata": {
  "kernelspec": {
   "display_name": "Python 3 (ipykernel)",
   "language": "python",
   "name": "python3"
  },
  "language_info": {
   "codemirror_mode": {
    "name": "ipython",
    "version": 3
   },
   "file_extension": ".py",
   "mimetype": "text/x-python",
   "name": "python",
   "nbconvert_exporter": "python",
   "pygments_lexer": "ipython3",
   "version": "3.9.16"
  }
 },
 "nbformat": 4,
 "nbformat_minor": 5
}
