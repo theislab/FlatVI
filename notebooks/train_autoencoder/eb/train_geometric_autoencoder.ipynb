{
 "cells": [
  {
   "cell_type": "code",
   "execution_count": 7,
   "id": "59d017f8",
   "metadata": {},
   "outputs": [],
   "source": [
    "import sys \n",
    "import pytorch_lightning as pl\n",
    "import seml\n",
    "import torch\n",
    "from sacred import SETTINGS, Experiment\n",
    "\n",
    "sys.path.insert(0,\"../\")\n",
    "from paths import EXPERIMENT_FOLDER\n",
    "\n",
    "from scCFM.datamodules.sc_datamodule import scDataModule\n",
    "from scCFM.models.base.vae import VAE, AE\n",
    "from scCFM.models.base.geometric_vae import GeometricNBAE,GeometricNBVAE\n",
    "\n",
    "from pytorch_lightning import Trainer\n",
    "from pytorch_lightning.callbacks import ModelCheckpoint, EarlyStopping\n",
    "from pytorch_lightning.loggers import WandbLogger "
   ]
  },
  {
   "cell_type": "code",
   "execution_count": 14,
   "id": "733ce945",
   "metadata": {},
   "outputs": [],
   "source": [
    "config = {\n",
    "    \"training\": {\n",
    "        \"task_name\": \"geom_vae_lib\",\n",
    "        \"seed\": 42\n",
    "    },\n",
    "    \"datamodule\": {'path': '/nfs/homedirs/pala/scCFM/project_dir/data/eb/processed/eb_phate.h5ad',\n",
    "                   'x_layer': 'X_norm', \n",
    "                   'cond_keys': 'experimental_time', \n",
    "                   'use_pca': False,\n",
    "                   'n_dimensions': None, \n",
    "                   'train_val_test_split': [0.8, 0.2],\n",
    "                   'num_workers': 2, \n",
    "                   'batch_size': 512},\n",
    "    \n",
    "    \"model\": {'n_epochs_anneal_kl': 1000, \n",
    "              'likelihood': 'nb', \n",
    "              'dropout': False,\n",
    "              'learning_rate': 0.001, \n",
    "              'dropout_p': False, \n",
    "              'model_library_size': True,\n",
    "              'batch_norm': True, \n",
    "              'kl_warmup_fraction': 2, \n",
    "              'kl_weight': None, \n",
    "              'model_type': 'vae',\n",
    "              'hidden_dims': [256, 64, 10]},\n",
    "    \n",
    "    \"geometric_vae\": {'compute_metrics_every': 1, \n",
    "                      'use_c': False, \n",
    "                      'l2': True, \n",
    "                      'eta_interp': 0,\n",
    "                      'interpolate_z': False, \n",
    "                      'start_jac_after': 0, \n",
    "                      'detach_theta': False, \n",
    "                      'fl_weight': 0.01, \n",
    "                      'anneal_fl_weight': False, \n",
    "                      'max_fl_weight': None,\n",
    "                      'n_epochs_anneal_fl': None,\n",
    "                      'fl_anneal_fraction': None},\n",
    "    \n",
    "    \"model_checkpoint\": {'filename': 'epoch_{epoch:04d}', \n",
    "                         'monitor': 'val/lik',\n",
    "                         'mode': 'min', \n",
    "                         'save_last': True, \n",
    "                         'auto_insert_metric_name': False},\n",
    "    \n",
    "    \"early_stopping\": {'perform_early_stopping': False, \n",
    "                       'monitor': 'val/loss', \n",
    "                       'patience': 50, \n",
    "                       'mode': 'min', \n",
    "                       'min_delta': 0.0,\n",
    "                       'verbose': False, \n",
    "                       'strict': True,\n",
    "                       'check_finite': True, \n",
    "                       'stopping_threshold': None, \n",
    "                       'divergence_threshold': None,\n",
    "                       'check_on_train_epoch_end': None},\n",
    "    \n",
    "    \"logger\": {'offline': False,\n",
    "               'id': None,\n",
    "               'project': 'geom_vae_lib_eb_reg',\n",
    "               'log_model': True,\n",
    "               'prefix': '', \n",
    "               'group': '', \n",
    "               'tags': [], \n",
    "               'job_type': ''},\n",
    "    \n",
    "    \"trainer\": {\n",
    "        \"max_epochs\": 1000,\n",
    "        \"accelerator\": \"gpu\",\n",
    "        \"devices\": 1,\n",
    "        \"log_every_n_steps\": 10\n",
    "    }\n",
    "}\n"
   ]
  },
  {
   "cell_type": "code",
   "execution_count": 15,
   "id": "b7686300",
   "metadata": {},
   "outputs": [
    {
     "name": "stderr",
     "output_type": "stream",
     "text": [
      "[rank: 0] Global seed set to 42\n",
      "/nfs/staff-ssd/pala/miniconda3/envs/scCFM/lib/python3.10/site-packages/pytorch_lightning/loggers/wandb.py:398: UserWarning: There is a wandb run already in progress and newly created instances of `WandbLogger` will reuse this run. If this is not desired, call `wandb.finish()` before instantiating `WandbLogger`.\n",
      "  rank_zero_warn(\n",
      "/nfs/staff-ssd/pala/miniconda3/envs/scCFM/lib/python3.10/site-packages/lightning_fabric/plugins/environments/slurm.py:168: PossibleUserWarning: The `srun` command is available on your system but is not used. HINT: If your intention is to run Lightning on SLURM, prepend your python command with `srun` like so: srun python /nfs/staff-ssd/pala/miniconda3/envs/scCFM/lib/python ...\n",
      "  rank_zero_warn(\n",
      "GPU available: True (cuda), used: True\n",
      "TPU available: False, using: 0 TPU cores\n",
      "IPU available: False, using: 0 IPUs\n",
      "HPU available: False, using: 0 HPUs\n"
     ]
    }
   ],
   "source": [
    "# Training configuration\n",
    "# Initialize task_name\n",
    "task_name = config[\"training\"][\"task_name\"]\n",
    "\n",
    "# Fix seed for reproducibility\n",
    "seed = config[\"training\"][\"seed\"]\n",
    "torch.manual_seed(seed)\n",
    "if seed:\n",
    "    pl.seed_everything(seed, workers=True)\n",
    "\n",
    "# Initialize folder\n",
    "current_experiment_dir = EXPERIMENT_FOLDER / task_name\n",
    "current_experiment_dir.mkdir(parents=True, exist_ok=True)\n",
    "\n",
    "# Datamodule initialization\n",
    "datamodule = scDataModule(\n",
    "    path=config[\"datamodule\"][\"path\"],\n",
    "    x_layer=config[\"datamodule\"][\"x_layer\"],\n",
    "    cond_keys=config[\"datamodule\"][\"cond_keys\"],\n",
    "    use_pca=config[\"datamodule\"][\"use_pca\"],\n",
    "    n_dimensions=config[\"datamodule\"][\"n_dimensions\"],\n",
    "    train_val_test_split=config[\"datamodule\"][\"train_val_test_split\"],\n",
    "    batch_size=config[\"datamodule\"][\"batch_size\"],\n",
    "    num_workers=config[\"datamodule\"][\"num_workers\"]\n",
    ")\n",
    "\n",
    "# Model initialization\n",
    "model_type = config[\"model\"][\"model_type\"]\n",
    "hidden_dims = config[\"model\"][\"hidden_dims\"]\n",
    "batch_norm = config[\"model\"][\"batch_norm\"]\n",
    "dropout = config[\"model\"][\"dropout\"]\n",
    "dropout_p = config[\"model\"][\"dropout_p\"]\n",
    "n_epochs_anneal_kl = config[\"model\"][\"n_epochs_anneal_kl\"]\n",
    "kl_warmup_fraction = config[\"model\"][\"kl_warmup_fraction\"]\n",
    "kl_weight = config[\"model\"][\"kl_weight\"]\n",
    "likelihood = config[\"model\"][\"likelihood\"]\n",
    "learning_rate = config[\"model\"][\"learning_rate\"]\n",
    "model_library_size = config[\"model\"][\"model_library_size\"]\n",
    "\n",
    "\n",
    "vae_kwargs = dict( \n",
    "    in_dim=datamodule.in_dim,\n",
    "    hidden_dims=hidden_dims,\n",
    "    batch_norm=batch_norm,\n",
    "    dropout=dropout,\n",
    "    dropout_p=dropout_p,\n",
    "    likelihood=likelihood,\n",
    "    learning_rate=learning_rate,\n",
    "    model_library_size=model_library_size\n",
    ")\n",
    "\n",
    "if model_type == \"geometric_vae\" or model_type == \"vae\":\n",
    "    vae_kwargs[\"n_epochs_anneal_kl\"] = n_epochs_anneal_kl\n",
    "    vae_kwargs[\"kl_warmup_fraction\"] = kl_warmup_fraction\n",
    "    vae_kwargs[\"kl_weight\"] = kl_weight\n",
    "\n",
    "# Geometric VAE initialization\n",
    "geometric_vae = None\n",
    "\n",
    "if model_type == \"geometric_ae\":\n",
    "    model = GeometricNBAE(\n",
    "        l2=config[\"geometric_vae\"][\"l2\"],\n",
    "        fl_weight=config[\"geometric_vae\"][\"fl_weight\"],\n",
    "        interpolate_z=config[\"geometric_vae\"][\"interpolate_z\"],\n",
    "        eta_interp=config[\"geometric_vae\"][\"eta_interp\"],\n",
    "        start_jac_after=config[\"geometric_vae\"][\"start_jac_after\"],\n",
    "        use_c=config[\"geometric_vae\"][\"use_c\"],\n",
    "        compute_metrics_every=config[\"geometric_vae\"][\"compute_metrics_every\"],\n",
    "        vae_kwargs=vae_kwargs,\n",
    "        detach_theta=config[\"geometric_vae\"][\"detach_theta\"]\n",
    "    )\n",
    "else:\n",
    "    model = GeometricNBVAE(\n",
    "        l2=config[\"geometric_vae\"][\"l2\"],\n",
    "        fl_weight=config[\"geometric_vae\"][\"fl_weight\"],\n",
    "        interpolate_z=config[\"geometric_vae\"][\"interpolate_z\"],\n",
    "        eta_interp=config[\"geometric_vae\"][\"eta_interp\"],\n",
    "        start_jac_after=config[\"geometric_vae\"][\"start_jac_after\"],\n",
    "        use_c=config[\"geometric_vae\"][\"use_c\"],\n",
    "        compute_metrics_every=config[\"geometric_vae\"][\"compute_metrics_every\"],\n",
    "        vae_kwargs=vae_kwargs,\n",
    "        detach_theta=config[\"geometric_vae\"][\"detach_theta\"],\n",
    "        anneal_fl_weight=config[\"geometric_vae\"][\"anneal_fl_weight\"], \n",
    "        max_fl_weight=config[\"geometric_vae\"][\"max_fl_weight\"],\n",
    "        n_epochs_anneal_fl=config[\"geometric_vae\"][\"n_epochs_anneal_fl\"],\n",
    "        fl_anneal_fraction=config[\"geometric_vae\"][\"fl_anneal_fraction\"]\n",
    "    )\n",
    "\n",
    "# Model checkpoint initialization\n",
    "model_ckpt_callbacks = ModelCheckpoint(\n",
    "    dirpath=current_experiment_dir / \"checkpoints\",\n",
    "    filename=config[\"model_checkpoint\"][\"filename\"],\n",
    "    monitor=config[\"model_checkpoint\"][\"monitor\"],\n",
    "    mode=config[\"model_checkpoint\"][\"mode\"],\n",
    "    save_last=config[\"model_checkpoint\"][\"save_last\"],\n",
    "    auto_insert_metric_name=config[\"model_checkpoint\"][\"auto_insert_metric_name\"]\n",
    ")\n",
    "\n",
    "# Early stopping initialization\n",
    "early_stopping_callbacks = None\n",
    "\n",
    "if config[\"early_stopping\"][\"perform_early_stopping\"]:\n",
    "    early_stopping_callbacks = EarlyStopping(\n",
    "        monitor=monitor_early_stopping,\n",
    "        patience=config[\"early_stopping\"][\"patience\"],\n",
    "        mode=mode_early_stopping,\n",
    "        min_delta=config[\"early_stopping\"][\"min_delta\"],\n",
    "        verbose=config[\"early_stopping\"][\"verbose\"],\n",
    "        strict=config[\"early_stopping\"][\"strict\"],\n",
    "        check_finite=config[\"early_stopping\"][\"check_finite\"],\n",
    "        stopping_threshold=config[\"early_stopping\"][\"stopping_threshold\"],\n",
    "        divergence_threshold=config[\"early_stopping\"][\"divergence_threshold\"],\n",
    "        check_on_train_epoch_end=config[\"early_stopping\"][\"check_on_train_epoch_end\"]\n",
    "    )\n",
    "\n",
    "# Logger initialization\n",
    "logger = WandbLogger(\n",
    "    save_dir=current_experiment_dir,\n",
    "    offline=config[\"logger\"][\"offline\"],\n",
    "    id=config[\"logger\"][\"id\"],\n",
    "    project=config[\"logger\"][\"project\"],\n",
    "    log_model=config[\"logger\"][\"log_model\"],\n",
    "    prefix=config[\"logger\"][\"prefix\"],\n",
    "    group=config[\"logger\"][\"group\"],\n",
    "    tags=config[\"logger\"][\"tags\"],\n",
    "    job_type=config[\"logger\"][\"job_type\"]\n",
    ")\n",
    "\n",
    "# Trainer initialization\n",
    "if early_stopping_callbacks:\n",
    "    callbacks = [model_ckpt_callbacks, early_stopping_callbacks]\n",
    "else:\n",
    "    callbacks = [model_ckpt_callbacks]\n",
    "\n",
    "trainer = Trainer(\n",
    "    callbacks=callbacks,\n",
    "    default_root_dir=current_experiment_dir,\n",
    "    logger=logger,\n",
    "    max_epochs=config[\"trainer\"][\"max_epochs\"],\n",
    "    accelerator=config[\"trainer\"][\"accelerator\"],\n",
    "    devices=config[\"trainer\"][\"devices\"],\n",
    "    log_every_n_steps=config[\"trainer\"][\"log_every_n_steps\"]\n",
    ")"
   ]
  },
  {
   "cell_type": "code",
   "execution_count": 20,
   "id": "c6d61323-8af7-42f9-b89b-cf012ecb1c82",
   "metadata": {},
   "outputs": [],
   "source": [
    "model = VAE(**vae_kwargs)"
   ]
  },
  {
   "cell_type": "code",
   "execution_count": 21,
   "id": "3c9265f1",
   "metadata": {},
   "outputs": [
    {
     "name": "stderr",
     "output_type": "stream",
     "text": [
      "LOCAL_RANK: 0 - CUDA_VISIBLE_DEVICES: [0]\n",
      "\n",
      "  | Name           | Type   | Params\n",
      "------------------------------------------\n",
      "0 | encoder_layers | MLP    | 335 K \n",
      "1 | decoder_layers | MLP    | 18.0 K\n",
      "2 | decoder_mu_lib | Linear | 318 K \n",
      "3 | mu_logvar      | Linear | 1.3 K \n",
      "------------------------------------------\n",
      "674 K     Trainable params\n",
      "0         Non-trainable params\n",
      "674 K     Total params\n",
      "2.698     Total estimated model params size (MB)\n"
     ]
    },
    {
     "data": {
      "application/vnd.jupyter.widget-view+json": {
       "model_id": "",
       "version_major": 2,
       "version_minor": 0
      },
      "text/plain": [
       "Sanity Checking: 0it [00:00, ?it/s]"
      ]
     },
     "metadata": {},
     "output_type": "display_data"
    },
    {
     "data": {
      "application/vnd.jupyter.widget-view+json": {
       "model_id": "92a0553f607645bd98633895b160876a",
       "version_major": 2,
       "version_minor": 0
      },
      "text/plain": [
       "Training: 0it [00:00, ?it/s]"
      ]
     },
     "metadata": {},
     "output_type": "display_data"
    },
    {
     "data": {
      "application/vnd.jupyter.widget-view+json": {
       "model_id": "",
       "version_major": 2,
       "version_minor": 0
      },
      "text/plain": [
       "Validation: 0it [00:00, ?it/s]"
      ]
     },
     "metadata": {},
     "output_type": "display_data"
    },
    {
     "data": {
      "application/vnd.jupyter.widget-view+json": {
       "model_id": "",
       "version_major": 2,
       "version_minor": 0
      },
      "text/plain": [
       "Validation: 0it [00:00, ?it/s]"
      ]
     },
     "metadata": {},
     "output_type": "display_data"
    },
    {
     "data": {
      "application/vnd.jupyter.widget-view+json": {
       "model_id": "",
       "version_major": 2,
       "version_minor": 0
      },
      "text/plain": [
       "Validation: 0it [00:00, ?it/s]"
      ]
     },
     "metadata": {},
     "output_type": "display_data"
    },
    {
     "data": {
      "application/vnd.jupyter.widget-view+json": {
       "model_id": "",
       "version_major": 2,
       "version_minor": 0
      },
      "text/plain": [
       "Validation: 0it [00:00, ?it/s]"
      ]
     },
     "metadata": {},
     "output_type": "display_data"
    },
    {
     "data": {
      "application/vnd.jupyter.widget-view+json": {
       "model_id": "",
       "version_major": 2,
       "version_minor": 0
      },
      "text/plain": [
       "Validation: 0it [00:00, ?it/s]"
      ]
     },
     "metadata": {},
     "output_type": "display_data"
    },
    {
     "data": {
      "application/vnd.jupyter.widget-view+json": {
       "model_id": "",
       "version_major": 2,
       "version_minor": 0
      },
      "text/plain": [
       "Validation: 0it [00:00, ?it/s]"
      ]
     },
     "metadata": {},
     "output_type": "display_data"
    },
    {
     "data": {
      "application/vnd.jupyter.widget-view+json": {
       "model_id": "",
       "version_major": 2,
       "version_minor": 0
      },
      "text/plain": [
       "Validation: 0it [00:00, ?it/s]"
      ]
     },
     "metadata": {},
     "output_type": "display_data"
    },
    {
     "data": {
      "application/vnd.jupyter.widget-view+json": {
       "model_id": "",
       "version_major": 2,
       "version_minor": 0
      },
      "text/plain": [
       "Validation: 0it [00:00, ?it/s]"
      ]
     },
     "metadata": {},
     "output_type": "display_data"
    },
    {
     "data": {
      "application/vnd.jupyter.widget-view+json": {
       "model_id": "",
       "version_major": 2,
       "version_minor": 0
      },
      "text/plain": [
       "Validation: 0it [00:00, ?it/s]"
      ]
     },
     "metadata": {},
     "output_type": "display_data"
    },
    {
     "data": {
      "application/vnd.jupyter.widget-view+json": {
       "model_id": "",
       "version_major": 2,
       "version_minor": 0
      },
      "text/plain": [
       "Validation: 0it [00:00, ?it/s]"
      ]
     },
     "metadata": {},
     "output_type": "display_data"
    },
    {
     "data": {
      "application/vnd.jupyter.widget-view+json": {
       "model_id": "",
       "version_major": 2,
       "version_minor": 0
      },
      "text/plain": [
       "Validation: 0it [00:00, ?it/s]"
      ]
     },
     "metadata": {},
     "output_type": "display_data"
    },
    {
     "data": {
      "application/vnd.jupyter.widget-view+json": {
       "model_id": "",
       "version_major": 2,
       "version_minor": 0
      },
      "text/plain": [
       "Validation: 0it [00:00, ?it/s]"
      ]
     },
     "metadata": {},
     "output_type": "display_data"
    },
    {
     "data": {
      "application/vnd.jupyter.widget-view+json": {
       "model_id": "",
       "version_major": 2,
       "version_minor": 0
      },
      "text/plain": [
       "Validation: 0it [00:00, ?it/s]"
      ]
     },
     "metadata": {},
     "output_type": "display_data"
    },
    {
     "data": {
      "application/vnd.jupyter.widget-view+json": {
       "model_id": "",
       "version_major": 2,
       "version_minor": 0
      },
      "text/plain": [
       "Validation: 0it [00:00, ?it/s]"
      ]
     },
     "metadata": {},
     "output_type": "display_data"
    },
    {
     "data": {
      "application/vnd.jupyter.widget-view+json": {
       "model_id": "",
       "version_major": 2,
       "version_minor": 0
      },
      "text/plain": [
       "Validation: 0it [00:00, ?it/s]"
      ]
     },
     "metadata": {},
     "output_type": "display_data"
    },
    {
     "data": {
      "application/vnd.jupyter.widget-view+json": {
       "model_id": "",
       "version_major": 2,
       "version_minor": 0
      },
      "text/plain": [
       "Validation: 0it [00:00, ?it/s]"
      ]
     },
     "metadata": {},
     "output_type": "display_data"
    },
    {
     "data": {
      "application/vnd.jupyter.widget-view+json": {
       "model_id": "",
       "version_major": 2,
       "version_minor": 0
      },
      "text/plain": [
       "Validation: 0it [00:00, ?it/s]"
      ]
     },
     "metadata": {},
     "output_type": "display_data"
    },
    {
     "data": {
      "application/vnd.jupyter.widget-view+json": {
       "model_id": "",
       "version_major": 2,
       "version_minor": 0
      },
      "text/plain": [
       "Validation: 0it [00:00, ?it/s]"
      ]
     },
     "metadata": {},
     "output_type": "display_data"
    },
    {
     "data": {
      "application/vnd.jupyter.widget-view+json": {
       "model_id": "",
       "version_major": 2,
       "version_minor": 0
      },
      "text/plain": [
       "Validation: 0it [00:00, ?it/s]"
      ]
     },
     "metadata": {},
     "output_type": "display_data"
    },
    {
     "data": {
      "application/vnd.jupyter.widget-view+json": {
       "model_id": "",
       "version_major": 2,
       "version_minor": 0
      },
      "text/plain": [
       "Validation: 0it [00:00, ?it/s]"
      ]
     },
     "metadata": {},
     "output_type": "display_data"
    },
    {
     "data": {
      "application/vnd.jupyter.widget-view+json": {
       "model_id": "",
       "version_major": 2,
       "version_minor": 0
      },
      "text/plain": [
       "Validation: 0it [00:00, ?it/s]"
      ]
     },
     "metadata": {},
     "output_type": "display_data"
    },
    {
     "data": {
      "application/vnd.jupyter.widget-view+json": {
       "model_id": "",
       "version_major": 2,
       "version_minor": 0
      },
      "text/plain": [
       "Validation: 0it [00:00, ?it/s]"
      ]
     },
     "metadata": {},
     "output_type": "display_data"
    },
    {
     "data": {
      "application/vnd.jupyter.widget-view+json": {
       "model_id": "",
       "version_major": 2,
       "version_minor": 0
      },
      "text/plain": [
       "Validation: 0it [00:00, ?it/s]"
      ]
     },
     "metadata": {},
     "output_type": "display_data"
    },
    {
     "data": {
      "application/vnd.jupyter.widget-view+json": {
       "model_id": "",
       "version_major": 2,
       "version_minor": 0
      },
      "text/plain": [
       "Validation: 0it [00:00, ?it/s]"
      ]
     },
     "metadata": {},
     "output_type": "display_data"
    },
    {
     "data": {
      "application/vnd.jupyter.widget-view+json": {
       "model_id": "",
       "version_major": 2,
       "version_minor": 0
      },
      "text/plain": [
       "Validation: 0it [00:00, ?it/s]"
      ]
     },
     "metadata": {},
     "output_type": "display_data"
    },
    {
     "data": {
      "application/vnd.jupyter.widget-view+json": {
       "model_id": "",
       "version_major": 2,
       "version_minor": 0
      },
      "text/plain": [
       "Validation: 0it [00:00, ?it/s]"
      ]
     },
     "metadata": {},
     "output_type": "display_data"
    },
    {
     "data": {
      "application/vnd.jupyter.widget-view+json": {
       "model_id": "",
       "version_major": 2,
       "version_minor": 0
      },
      "text/plain": [
       "Validation: 0it [00:00, ?it/s]"
      ]
     },
     "metadata": {},
     "output_type": "display_data"
    },
    {
     "data": {
      "application/vnd.jupyter.widget-view+json": {
       "model_id": "",
       "version_major": 2,
       "version_minor": 0
      },
      "text/plain": [
       "Validation: 0it [00:00, ?it/s]"
      ]
     },
     "metadata": {},
     "output_type": "display_data"
    },
    {
     "data": {
      "application/vnd.jupyter.widget-view+json": {
       "model_id": "",
       "version_major": 2,
       "version_minor": 0
      },
      "text/plain": [
       "Validation: 0it [00:00, ?it/s]"
      ]
     },
     "metadata": {},
     "output_type": "display_data"
    },
    {
     "data": {
      "application/vnd.jupyter.widget-view+json": {
       "model_id": "",
       "version_major": 2,
       "version_minor": 0
      },
      "text/plain": [
       "Validation: 0it [00:00, ?it/s]"
      ]
     },
     "metadata": {},
     "output_type": "display_data"
    },
    {
     "data": {
      "application/vnd.jupyter.widget-view+json": {
       "model_id": "",
       "version_major": 2,
       "version_minor": 0
      },
      "text/plain": [
       "Validation: 0it [00:00, ?it/s]"
      ]
     },
     "metadata": {},
     "output_type": "display_data"
    },
    {
     "data": {
      "application/vnd.jupyter.widget-view+json": {
       "model_id": "",
       "version_major": 2,
       "version_minor": 0
      },
      "text/plain": [
       "Validation: 0it [00:00, ?it/s]"
      ]
     },
     "metadata": {},
     "output_type": "display_data"
    },
    {
     "data": {
      "application/vnd.jupyter.widget-view+json": {
       "model_id": "",
       "version_major": 2,
       "version_minor": 0
      },
      "text/plain": [
       "Validation: 0it [00:00, ?it/s]"
      ]
     },
     "metadata": {},
     "output_type": "display_data"
    },
    {
     "data": {
      "application/vnd.jupyter.widget-view+json": {
       "model_id": "",
       "version_major": 2,
       "version_minor": 0
      },
      "text/plain": [
       "Validation: 0it [00:00, ?it/s]"
      ]
     },
     "metadata": {},
     "output_type": "display_data"
    },
    {
     "data": {
      "application/vnd.jupyter.widget-view+json": {
       "model_id": "",
       "version_major": 2,
       "version_minor": 0
      },
      "text/plain": [
       "Validation: 0it [00:00, ?it/s]"
      ]
     },
     "metadata": {},
     "output_type": "display_data"
    },
    {
     "data": {
      "application/vnd.jupyter.widget-view+json": {
       "model_id": "",
       "version_major": 2,
       "version_minor": 0
      },
      "text/plain": [
       "Validation: 0it [00:00, ?it/s]"
      ]
     },
     "metadata": {},
     "output_type": "display_data"
    },
    {
     "data": {
      "application/vnd.jupyter.widget-view+json": {
       "model_id": "",
       "version_major": 2,
       "version_minor": 0
      },
      "text/plain": [
       "Validation: 0it [00:00, ?it/s]"
      ]
     },
     "metadata": {},
     "output_type": "display_data"
    },
    {
     "data": {
      "application/vnd.jupyter.widget-view+json": {
       "model_id": "",
       "version_major": 2,
       "version_minor": 0
      },
      "text/plain": [
       "Validation: 0it [00:00, ?it/s]"
      ]
     },
     "metadata": {},
     "output_type": "display_data"
    },
    {
     "data": {
      "application/vnd.jupyter.widget-view+json": {
       "model_id": "",
       "version_major": 2,
       "version_minor": 0
      },
      "text/plain": [
       "Validation: 0it [00:00, ?it/s]"
      ]
     },
     "metadata": {},
     "output_type": "display_data"
    },
    {
     "data": {
      "application/vnd.jupyter.widget-view+json": {
       "model_id": "",
       "version_major": 2,
       "version_minor": 0
      },
      "text/plain": [
       "Validation: 0it [00:00, ?it/s]"
      ]
     },
     "metadata": {},
     "output_type": "display_data"
    },
    {
     "data": {
      "application/vnd.jupyter.widget-view+json": {
       "model_id": "",
       "version_major": 2,
       "version_minor": 0
      },
      "text/plain": [
       "Validation: 0it [00:00, ?it/s]"
      ]
     },
     "metadata": {},
     "output_type": "display_data"
    },
    {
     "data": {
      "application/vnd.jupyter.widget-view+json": {
       "model_id": "",
       "version_major": 2,
       "version_minor": 0
      },
      "text/plain": [
       "Validation: 0it [00:00, ?it/s]"
      ]
     },
     "metadata": {},
     "output_type": "display_data"
    },
    {
     "data": {
      "application/vnd.jupyter.widget-view+json": {
       "model_id": "",
       "version_major": 2,
       "version_minor": 0
      },
      "text/plain": [
       "Validation: 0it [00:00, ?it/s]"
      ]
     },
     "metadata": {},
     "output_type": "display_data"
    },
    {
     "data": {
      "application/vnd.jupyter.widget-view+json": {
       "model_id": "",
       "version_major": 2,
       "version_minor": 0
      },
      "text/plain": [
       "Validation: 0it [00:00, ?it/s]"
      ]
     },
     "metadata": {},
     "output_type": "display_data"
    },
    {
     "data": {
      "application/vnd.jupyter.widget-view+json": {
       "model_id": "",
       "version_major": 2,
       "version_minor": 0
      },
      "text/plain": [
       "Validation: 0it [00:00, ?it/s]"
      ]
     },
     "metadata": {},
     "output_type": "display_data"
    },
    {
     "data": {
      "application/vnd.jupyter.widget-view+json": {
       "model_id": "",
       "version_major": 2,
       "version_minor": 0
      },
      "text/plain": [
       "Validation: 0it [00:00, ?it/s]"
      ]
     },
     "metadata": {},
     "output_type": "display_data"
    },
    {
     "data": {
      "application/vnd.jupyter.widget-view+json": {
       "model_id": "",
       "version_major": 2,
       "version_minor": 0
      },
      "text/plain": [
       "Validation: 0it [00:00, ?it/s]"
      ]
     },
     "metadata": {},
     "output_type": "display_data"
    },
    {
     "data": {
      "application/vnd.jupyter.widget-view+json": {
       "model_id": "15598678d6e649909210e17e7eb5da9c",
       "version_major": 2,
       "version_minor": 0
      },
      "text/plain": [
       "Validation: 0it [00:00, ?it/s]"
      ]
     },
     "metadata": {},
     "output_type": "display_data"
    },
    {
     "data": {
      "application/vnd.jupyter.widget-view+json": {
       "model_id": "365827c1669146bcb80aa88729ba6d0b",
       "version_major": 2,
       "version_minor": 0
      },
      "text/plain": [
       "Validation: 0it [00:00, ?it/s]"
      ]
     },
     "metadata": {},
     "output_type": "display_data"
    },
    {
     "data": {
      "application/vnd.jupyter.widget-view+json": {
       "model_id": "212fd41b2df94237b578d97e49cd72af",
       "version_major": 2,
       "version_minor": 0
      },
      "text/plain": [
       "Validation: 0it [00:00, ?it/s]"
      ]
     },
     "metadata": {},
     "output_type": "display_data"
    },
    {
     "data": {
      "application/vnd.jupyter.widget-view+json": {
       "model_id": "8b9783620fd2441f83e4a489d604bd42",
       "version_major": 2,
       "version_minor": 0
      },
      "text/plain": [
       "Validation: 0it [00:00, ?it/s]"
      ]
     },
     "metadata": {},
     "output_type": "display_data"
    },
    {
     "data": {
      "application/vnd.jupyter.widget-view+json": {
       "model_id": "abdabaf1b5b545cf8d6acf87230d58e6",
       "version_major": 2,
       "version_minor": 0
      },
      "text/plain": [
       "Validation: 0it [00:00, ?it/s]"
      ]
     },
     "metadata": {},
     "output_type": "display_data"
    },
    {
     "data": {
      "application/vnd.jupyter.widget-view+json": {
       "model_id": "69df161548a94227868ba83d906bffa5",
       "version_major": 2,
       "version_minor": 0
      },
      "text/plain": [
       "Validation: 0it [00:00, ?it/s]"
      ]
     },
     "metadata": {},
     "output_type": "display_data"
    },
    {
     "data": {
      "application/vnd.jupyter.widget-view+json": {
       "model_id": "60cfdf5dee7d4eb9bc4c4b1b39e42de8",
       "version_major": 2,
       "version_minor": 0
      },
      "text/plain": [
       "Validation: 0it [00:00, ?it/s]"
      ]
     },
     "metadata": {},
     "output_type": "display_data"
    },
    {
     "data": {
      "application/vnd.jupyter.widget-view+json": {
       "model_id": "2d7d3b764a644509986e5edb080d129a",
       "version_major": 2,
       "version_minor": 0
      },
      "text/plain": [
       "Validation: 0it [00:00, ?it/s]"
      ]
     },
     "metadata": {},
     "output_type": "display_data"
    },
    {
     "data": {
      "application/vnd.jupyter.widget-view+json": {
       "model_id": "e18368aecdba435b89aedc3377cec736",
       "version_major": 2,
       "version_minor": 0
      },
      "text/plain": [
       "Validation: 0it [00:00, ?it/s]"
      ]
     },
     "metadata": {},
     "output_type": "display_data"
    },
    {
     "data": {
      "application/vnd.jupyter.widget-view+json": {
       "model_id": "7b6d2049ea4240cf84b6531c08fede92",
       "version_major": 2,
       "version_minor": 0
      },
      "text/plain": [
       "Validation: 0it [00:00, ?it/s]"
      ]
     },
     "metadata": {},
     "output_type": "display_data"
    },
    {
     "data": {
      "application/vnd.jupyter.widget-view+json": {
       "model_id": "6c5d3e44479f466c84c56c27523d36be",
       "version_major": 2,
       "version_minor": 0
      },
      "text/plain": [
       "Validation: 0it [00:00, ?it/s]"
      ]
     },
     "metadata": {},
     "output_type": "display_data"
    },
    {
     "data": {
      "application/vnd.jupyter.widget-view+json": {
       "model_id": "71f3a6f667264d1baa83340504ccc022",
       "version_major": 2,
       "version_minor": 0
      },
      "text/plain": [
       "Validation: 0it [00:00, ?it/s]"
      ]
     },
     "metadata": {},
     "output_type": "display_data"
    },
    {
     "data": {
      "application/vnd.jupyter.widget-view+json": {
       "model_id": "ad20c3e51e1243fcaf1a52aa7599c7c8",
       "version_major": 2,
       "version_minor": 0
      },
      "text/plain": [
       "Validation: 0it [00:00, ?it/s]"
      ]
     },
     "metadata": {},
     "output_type": "display_data"
    }
   ],
   "source": [
    "trainer.fit(model=model, train_dataloaders=datamodule.train_dataloader(), val_dataloaders=datamodule.val_dataloader())"
   ]
  },
  {
   "cell_type": "code",
   "execution_count": null,
   "id": "b388bb15-8712-452f-aaf3-812a989a757f",
   "metadata": {},
   "outputs": [],
   "source": []
  },
  {
   "cell_type": "code",
   "execution_count": null,
   "id": "02239c78-a6d1-4e3e-b730-e7d9a055b107",
   "metadata": {},
   "outputs": [],
   "source": []
  }
 ],
 "metadata": {
  "kernelspec": {
   "display_name": "Python 3 (ipykernel)",
   "language": "python",
   "name": "python3"
  },
  "language_info": {
   "codemirror_mode": {
    "name": "ipython",
    "version": 3
   },
   "file_extension": ".py",
   "mimetype": "text/x-python",
   "name": "python",
   "nbconvert_exporter": "python",
   "pygments_lexer": "ipython3",
   "version": "3.10.12"
  }
 },
 "nbformat": 4,
 "nbformat_minor": 5
}
