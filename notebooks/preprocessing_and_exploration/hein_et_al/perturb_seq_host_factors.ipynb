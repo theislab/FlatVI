{
 "cells": [
  {
   "cell_type": "code",
   "execution_count": 1,
   "id": "cb2a1a95",
   "metadata": {},
   "outputs": [],
   "source": [
    "import scanpy as sc\n",
    "import scvelo as scv\n",
    "import numpy as np\n",
    "import pandas as pd\n",
    "import anndata\n",
    "import seaborn as sns\n",
    "import matplotlib.pyplot as plt\n",
    "\n",
    "import sys\n",
    "sys.path.insert(0, \"../../..\")\n",
    "\n",
    "from paths import DATA_DIR"
   ]
  },
  {
   "cell_type": "code",
   "execution_count": 2,
   "id": "d996cfb4",
   "metadata": {},
   "outputs": [
    {
     "data": {
      "text/plain": [
       "PosixPath('/nfs/homedirs/pala/scCFM/project_dir/data')"
      ]
     },
     "execution_count": 2,
     "metadata": {},
     "output_type": "execute_result"
    }
   ],
   "source": [
    "DATA_DIR"
   ]
  },
  {
   "cell_type": "code",
   "execution_count": 3,
   "id": "4159997a",
   "metadata": {},
   "outputs": [],
   "source": [
    "folder = DATA_DIR / \"hein_et_al\" / \"rawdata\" / \"perturb_host\" "
   ]
  },
  {
   "cell_type": "code",
   "execution_count": null,
   "id": "acee0520",
   "metadata": {},
   "outputs": [],
   "source": [
    "adata_genesxcells = sc.read_mtx(folder / \"matrix.mtx\")"
   ]
  },
  {
   "cell_type": "markdown",
   "id": "888b7b6a",
   "metadata": {},
   "source": [
    "Transpose gene x cell to cell x gene "
   ]
  },
  {
   "cell_type": "code",
   "execution_count": null,
   "id": "08cec485",
   "metadata": {},
   "outputs": [],
   "source": [
    "adata_genesxcells"
   ]
  },
  {
   "cell_type": "code",
   "execution_count": null,
   "id": "557bf017",
   "metadata": {},
   "outputs": [],
   "source": [
    "adata = anndata.AnnData(adata_genesxcells.X.T)\n",
    "adata.X.todense()"
   ]
  },
  {
   "cell_type": "code",
   "execution_count": null,
   "id": "0f25068e",
   "metadata": {},
   "outputs": [],
   "source": [
    "adata"
   ]
  },
  {
   "cell_type": "markdown",
   "id": "c7d5deed",
   "metadata": {},
   "source": [
    "**Read the metadata** "
   ]
  },
  {
   "cell_type": "code",
   "execution_count": null,
   "id": "6e611fed",
   "metadata": {},
   "outputs": [],
   "source": [
    "barcode_path = folder / \"barcodes.tsv\"\n",
    "cellidentity_path = folder / \"cell_identities.csv\"\n",
    "genes_path = folder /\"genes.tsv\""
   ]
  },
  {
   "cell_type": "code",
   "execution_count": null,
   "id": "34b5536f",
   "metadata": {},
   "outputs": [],
   "source": [
    "barcodes = pd.read_csv(barcode_path, sep=\"\\t\", header=None)\n",
    "cellidentity = pd.read_csv(cellidentity_path)\n",
    "genes = pd.read_csv(genes_path, sep=\"\\t\", header=None)\n",
    "genes.columns = [\"ENSMBL\", \"gene ID\"]"
   ]
  },
  {
   "cell_type": "markdown",
   "id": "4290f166",
   "metadata": {},
   "source": [
    "Load the comprehensive metadata from the supplementary material of the paper"
   ]
  },
  {
   "cell_type": "code",
   "execution_count": null,
   "id": "80ad57d3",
   "metadata": {},
   "outputs": [],
   "source": [
    "metadata = pd.read_excel(folder / \"CRISPRi_perturb_host_processed.xlsx\")\n",
    "metadata.head()"
   ]
  },
  {
   "cell_type": "markdown",
   "id": "42a4192c",
   "metadata": {},
   "source": [
    "**Information we have:** UMI_count, guide_UMI_count, time, guide identity, guide_target, guide_phenotype, interferon score "
   ]
  },
  {
   "cell_type": "markdown",
   "id": "be563ef5",
   "metadata": {},
   "source": [
    "Subset the cells based on the metadata file "
   ]
  },
  {
   "cell_type": "code",
   "execution_count": null,
   "id": "75b872b0",
   "metadata": {},
   "outputs": [],
   "source": [
    "cells_to_keep = barcodes.loc[barcodes.isin(np.array(metadata.cell_barcode))[0]]\n",
    "# Get indexes\n",
    "cells_to_keep_idx = np.array(cells_to_keep.index)"
   ]
  },
  {
   "cell_type": "code",
   "execution_count": null,
   "id": "e5287320",
   "metadata": {},
   "outputs": [],
   "source": [
    "adata = adata[cells_to_keep_idx,:]"
   ]
  },
  {
   "cell_type": "markdown",
   "id": "380ad7a2",
   "metadata": {},
   "source": [
    "Experimental time "
   ]
  },
  {
   "cell_type": "code",
   "execution_count": null,
   "id": "087d70d6",
   "metadata": {},
   "outputs": [],
   "source": [
    "metadata.experimental_time = [float(time.split(\"h\")[0]) for time in metadata.experimental_time]"
   ]
  },
  {
   "cell_type": "code",
   "execution_count": null,
   "id": "b614cdd8",
   "metadata": {},
   "outputs": [],
   "source": [
    "np.unique(metadata.experimental_time)"
   ]
  },
  {
   "cell_type": "code",
   "execution_count": null,
   "id": "be1a3fc7",
   "metadata": {},
   "outputs": [],
   "source": [
    "adata.obs = metadata"
   ]
  },
  {
   "cell_type": "markdown",
   "id": "8df4851c",
   "metadata": {},
   "source": [
    "Fix the vars"
   ]
  },
  {
   "cell_type": "code",
   "execution_count": null,
   "id": "2234cb7b",
   "metadata": {},
   "outputs": [],
   "source": [
    "adata.var = pd.DataFrame(genes)\n",
    "adata.var.index = adata.var[\"gene ID\"]"
   ]
  },
  {
   "cell_type": "code",
   "execution_count": null,
   "id": "f8e8e92a",
   "metadata": {},
   "outputs": [],
   "source": [
    "adata.var[\"mt\"] = adata.var_names.str.startswith(\"MT-\") "
   ]
  },
  {
   "cell_type": "markdown",
   "id": "68224c49",
   "metadata": {},
   "source": [
    "**Examine metadata**"
   ]
  },
  {
   "cell_type": "code",
   "execution_count": null,
   "id": "beb1de6f",
   "metadata": {},
   "outputs": [],
   "source": [
    "print(f\"Number of targets {len(np.unique(metadata.guide_target))}\")"
   ]
  },
  {
   "cell_type": "code",
   "execution_count": null,
   "id": "8933a374",
   "metadata": {},
   "outputs": [],
   "source": [
    "np.unique(metadata.guide_target)"
   ]
  },
  {
   "cell_type": "markdown",
   "id": "dd094b8c",
   "metadata": {},
   "source": [
    "From paper method: GFP is control!!"
   ]
  },
  {
   "cell_type": "code",
   "execution_count": null,
   "id": "a7e42b1e",
   "metadata": {},
   "outputs": [],
   "source": [
    "np.unique(metadata.guide_phenotype)"
   ]
  },
  {
   "cell_type": "code",
   "execution_count": null,
   "id": "b5789080",
   "metadata": {},
   "outputs": [],
   "source": [
    "highly_expressed_genes = np.array((adata.X.todense().sum(0)>10000).astype(np.bool)).squeeze(0)\n",
    "print(f\"Number of genes with more than 10k counts: {np.sum(highly_expressed_genes)}\")"
   ]
  },
  {
   "cell_type": "markdown",
   "id": "a4cf3a1c",
   "metadata": {},
   "source": [
    "Use highly expressed genes as highly_variable key"
   ]
  },
  {
   "cell_type": "code",
   "execution_count": null,
   "id": "d18142ef",
   "metadata": {},
   "outputs": [],
   "source": [
    "adata.var[\"highly_variable\"] = highly_expressed_genes"
   ]
  },
  {
   "cell_type": "markdown",
   "id": "841ed37a",
   "metadata": {},
   "source": [
    "Normalize as explained in the paper"
   ]
  },
  {
   "cell_type": "code",
   "execution_count": null,
   "id": "74a0b5d5",
   "metadata": {},
   "outputs": [],
   "source": [
    "sc.pp.normalize_total(adata, np.mean(adata.X.sum(1)))"
   ]
  },
  {
   "cell_type": "markdown",
   "id": "29060be4",
   "metadata": {},
   "source": [
    "PCA and UMAP"
   ]
  },
  {
   "cell_type": "code",
   "execution_count": null,
   "id": "7c722599",
   "metadata": {},
   "outputs": [],
   "source": [
    "# PCA\n",
    "sc.tl.pca(adata, svd_solver=\"arpack\", use_highly_variable=True)"
   ]
  },
  {
   "cell_type": "code",
   "execution_count": null,
   "id": "49eea4aa",
   "metadata": {},
   "outputs": [],
   "source": [
    "sc.pp.neighbors(adata, n_pcs=40)"
   ]
  },
  {
   "cell_type": "code",
   "execution_count": null,
   "id": "228baf85",
   "metadata": {},
   "outputs": [],
   "source": [
    "sc.tl.umap(adata)"
   ]
  },
  {
   "cell_type": "code",
   "execution_count": null,
   "id": "e5ec0304",
   "metadata": {},
   "outputs": [],
   "source": [
    "sc.pl.umap(adata, color=[\"cluster\", \"experimental_time\", \"interferon_score\", \"viral_load\"])"
   ]
  },
  {
   "cell_type": "markdown",
   "id": "3750a049",
   "metadata": {},
   "source": [
    "**Save the anndata**"
   ]
  },
  {
   "cell_type": "code",
   "execution_count": null,
   "id": "a0f10bcf",
   "metadata": {},
   "outputs": [],
   "source": [
    "processed_data_dir = DATA_DIR / \"processed\""
   ]
  },
  {
   "cell_type": "code",
   "execution_count": null,
   "id": "539191ca",
   "metadata": {},
   "outputs": [],
   "source": [
    "adata.write(processed_data_dir / \"perturb_seq_host_factors.h5ad\")"
   ]
  },
  {
   "cell_type": "code",
   "execution_count": null,
   "id": "28ff67bd",
   "metadata": {},
   "outputs": [],
   "source": []
  }
 ],
 "metadata": {
  "kernelspec": {
   "display_name": "Python 3 (ipykernel)",
   "language": "python",
   "name": "python3"
  },
  "language_info": {
   "codemirror_mode": {
    "name": "ipython",
    "version": 3
   },
   "file_extension": ".py",
   "mimetype": "text/x-python",
   "name": "python",
   "nbconvert_exporter": "python",
   "pygments_lexer": "ipython3",
   "version": "3.9.16"
  }
 },
 "nbformat": 4,
 "nbformat_minor": 5
}
