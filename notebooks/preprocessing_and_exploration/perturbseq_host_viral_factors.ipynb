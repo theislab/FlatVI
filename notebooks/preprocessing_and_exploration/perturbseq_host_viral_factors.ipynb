{
 "cells": [
  {
   "cell_type": "code",
   "execution_count": 1,
   "id": "bb675ff4",
   "metadata": {},
   "outputs": [],
   "source": [
    "import scanpy as sc\n",
    "import scvelo as scv\n",
    "import numpy as np\n",
    "import pandas as pd\n",
    "import anndata\n",
    "import seaborn as sns\n",
    "import matplotlib.pyplot as plt\n",
    "\n",
    "from PerturbSeq_CMV.paths import DATA_DIR"
   ]
  },
  {
   "cell_type": "code",
   "execution_count": 2,
   "id": "379ff7e3",
   "metadata": {},
   "outputs": [],
   "source": [
    "folder = DATA_DIR / \"rawdata\" / \"CRISPRn_perturb_virus_host_processed\""
   ]
  },
  {
   "cell_type": "code",
   "execution_count": null,
   "id": "9e7d0658",
   "metadata": {},
   "outputs": [],
   "source": [
    "adata_genesxcells = sc.read_mtx(folder / \"matrix.mtx\")"
   ]
  },
  {
   "cell_type": "markdown",
   "id": "cfa02c47",
   "metadata": {},
   "source": [
    "Transpose"
   ]
  },
  {
   "cell_type": "code",
   "execution_count": null,
   "id": "43079053",
   "metadata": {},
   "outputs": [],
   "source": [
    "adata = anndata.AnnData(adata_genesxcells.X.T)\n",
    "adata.X.todense()"
   ]
  },
  {
   "cell_type": "markdown",
   "id": "aafaa268",
   "metadata": {},
   "source": [
    "**Read metadata**"
   ]
  },
  {
   "cell_type": "code",
   "execution_count": null,
   "id": "3b77c38e",
   "metadata": {},
   "outputs": [],
   "source": [
    "barcode_path = folder / \"barcodes.tsv\"\n",
    "cellidentity_path = folder / \"cell_identities.csv\"\n",
    "genes_path = folder /\"genes.tsv\""
   ]
  },
  {
   "cell_type": "code",
   "execution_count": null,
   "id": "a22ab1f0",
   "metadata": {},
   "outputs": [],
   "source": [
    "barcodes = pd.read_csv(barcode_path, sep=\"\\t\", header=None)\n",
    "cellidentity = pd.read_csv(cellidentity_path)\n",
    "genes = pd.read_csv(genes_path, sep=\"\\t\", header=None)\n",
    "genes.columns = [\"ENSMBL\", \"gene ID\"]"
   ]
  },
  {
   "cell_type": "code",
   "execution_count": null,
   "id": "0b9145b2",
   "metadata": {
    "scrolled": true
   },
   "outputs": [],
   "source": [
    "metadata = pd.read_excel(folder / \"CRISPRn_perturb_virus_host_processed.xlsx\")\n",
    "metadata.head()"
   ]
  },
  {
   "cell_type": "markdown",
   "id": "de1adc9d",
   "metadata": {},
   "source": [
    "Information is both for viral and human reads "
   ]
  },
  {
   "cell_type": "markdown",
   "id": "561acb25",
   "metadata": {},
   "source": [
    "Keep only a fraction of cells "
   ]
  },
  {
   "cell_type": "code",
   "execution_count": null,
   "id": "f9c4fe19",
   "metadata": {},
   "outputs": [],
   "source": [
    "cells_to_keep = barcodes.loc[barcodes.isin(np.array(metadata.cell_barcode))[0]]\n",
    "# Get indexes\n",
    "cells_to_keep_idx = np.array(cells_to_keep.index)"
   ]
  },
  {
   "cell_type": "code",
   "execution_count": null,
   "id": "5e0c79d3",
   "metadata": {},
   "outputs": [],
   "source": [
    "adata = adata[cells_to_keep_idx,:]"
   ]
  },
  {
   "cell_type": "code",
   "execution_count": null,
   "id": "dcc3db11",
   "metadata": {},
   "outputs": [],
   "source": [
    "adata.obs = metadata"
   ]
  },
  {
   "cell_type": "markdown",
   "id": "1cb11df6",
   "metadata": {},
   "source": [
    "Turn time into float "
   ]
  },
  {
   "cell_type": "code",
   "execution_count": null,
   "id": "2ea880ec",
   "metadata": {},
   "outputs": [],
   "source": [
    "metadata.experimental_time = [float(time.split('h')[0]) for time in metadata.experimental_time]"
   ]
  },
  {
   "cell_type": "markdown",
   "id": "d1bf5b81",
   "metadata": {},
   "source": [
    "Set metadata df as obs"
   ]
  },
  {
   "cell_type": "code",
   "execution_count": null,
   "id": "29c10c25",
   "metadata": {},
   "outputs": [],
   "source": [
    "adata.var = pd.DataFrame(genes)\n",
    "adata.var.index = adata.var[\"gene ID\"]\n",
    "adata.var[\"mt\"] = adata.var_names.str.startswith(\"MT-\") "
   ]
  },
  {
   "cell_type": "markdown",
   "id": "4850164f",
   "metadata": {},
   "source": [
    "**Examine metadata**"
   ]
  },
  {
   "cell_type": "code",
   "execution_count": null,
   "id": "e83714bb",
   "metadata": {},
   "outputs": [],
   "source": [
    "print(f\"Number of targets {len(np.unique(metadata.guide_target))}\")"
   ]
  },
  {
   "cell_type": "code",
   "execution_count": null,
   "id": "1e902d66",
   "metadata": {},
   "outputs": [],
   "source": [
    "np.unique(np.unique(metadata.guide_target))"
   ]
  },
  {
   "cell_type": "markdown",
   "id": "2d1afa74",
   "metadata": {},
   "source": [
    "21 factors human, 31 factors virus plus 1 control each"
   ]
  },
  {
   "cell_type": "code",
   "execution_count": null,
   "id": "09c81b2f",
   "metadata": {},
   "outputs": [],
   "source": [
    "np.unique(metadata.guide_phenotype)"
   ]
  },
  {
   "cell_type": "markdown",
   "id": "25ec10e8",
   "metadata": {},
   "source": [
    "Pre-process"
   ]
  },
  {
   "cell_type": "code",
   "execution_count": null,
   "id": "8eb8b6cd",
   "metadata": {},
   "outputs": [],
   "source": [
    "highly_expressed_genes = np.array((adata.X.todense().sum(0)>10000).astype(np.bool)).squeeze(0)\n",
    "print(f\"Number of genes with more than 10k counts: {np.sum(highly_expressed_genes)}\")\n",
    "adata.var[\"highly_variable\"] = highly_expressed_genes\n",
    "sc.pp.normalize_total(adata, np.mean(adata.X.sum(1)))"
   ]
  },
  {
   "cell_type": "markdown",
   "id": "074b0f71",
   "metadata": {},
   "source": [
    "PCA and UMAP"
   ]
  },
  {
   "cell_type": "code",
   "execution_count": null,
   "id": "02469914",
   "metadata": {},
   "outputs": [],
   "source": [
    "# PCA\n",
    "sc.tl.pca(adata, svd_solver=\"arpack\", use_highly_variable=True)"
   ]
  },
  {
   "cell_type": "code",
   "execution_count": null,
   "id": "66cd8dee",
   "metadata": {},
   "outputs": [],
   "source": [
    "sc.pp.neighbors(adata, n_pcs=40)"
   ]
  },
  {
   "cell_type": "code",
   "execution_count": null,
   "id": "998c3348",
   "metadata": {},
   "outputs": [],
   "source": [
    "sc.tl.umap(adata,  min_dist=0.1, spread=1.5)"
   ]
  },
  {
   "cell_type": "code",
   "execution_count": null,
   "id": "f5694b6c",
   "metadata": {},
   "outputs": [],
   "source": [
    "sc.pl.umap(adata, color=[\"cluster\", \"experimental_time\", \"interferon_score\", \"viral_load\"])"
   ]
  },
  {
   "cell_type": "markdown",
   "id": "65491faa",
   "metadata": {},
   "source": [
    "**Save the anndata**"
   ]
  },
  {
   "cell_type": "code",
   "execution_count": null,
   "id": "cc1fbbbd",
   "metadata": {},
   "outputs": [],
   "source": []
  }
 ],
 "metadata": {
  "kernelspec": {
   "display_name": "Python 3 (ipykernel)",
   "language": "python",
   "name": "python3"
  },
  "language_info": {
   "codemirror_mode": {
    "name": "ipython",
    "version": 3
   },
   "file_extension": ".py",
   "mimetype": "text/x-python",
   "name": "python",
   "nbconvert_exporter": "python",
   "pygments_lexer": "ipython3",
   "version": "3.9.16"
  }
 },
 "nbformat": 4,
 "nbformat_minor": 5
}
