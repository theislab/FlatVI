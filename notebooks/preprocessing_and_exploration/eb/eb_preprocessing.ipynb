{
 "cells": [
  {
   "cell_type": "code",
   "execution_count": 29,
   "id": "0be2a1d8",
   "metadata": {},
   "outputs": [],
   "source": [
    "import scanpy as sc\n",
    "from paths import DATA_DIR\n",
    "import numpy as np\n",
    "from scipy import sparse"
   ]
  },
  {
   "cell_type": "code",
   "execution_count": 30,
   "id": "dd78aa48",
   "metadata": {},
   "outputs": [],
   "source": [
    "folder = DATA_DIR / \"eb\" / \"eb_phate.h5ad\" "
   ]
  },
  {
   "cell_type": "code",
   "execution_count": 31,
   "id": "7db73c1b",
   "metadata": {},
   "outputs": [
    {
     "name": "stderr",
     "output_type": "stream",
     "text": [
      "/nfs/staff-ssd/pala/envs/scCFM/lib/python3.9/site-packages/anndata/_core/anndata.py:1830: UserWarning: Observation names are not unique. To make them unique, call `.obs_names_make_unique`.\n",
      "  utils.warn_names_duplicates(\"obs\")\n"
     ]
    }
   ],
   "source": [
    "adata = sc.read_h5ad(folder)"
   ]
  },
  {
   "cell_type": "code",
   "execution_count": 32,
   "id": "f6264b50",
   "metadata": {},
   "outputs": [],
   "source": [
    "adata.X = sparse.csr_matrix(np.array(adata.X))"
   ]
  },
  {
   "cell_type": "code",
   "execution_count": 33,
   "id": "5f248cdd",
   "metadata": {},
   "outputs": [],
   "source": [
    "adata = adata[:, adata.var.highly_variable]"
   ]
  },
  {
   "cell_type": "code",
   "execution_count": 34,
   "id": "323fff32",
   "metadata": {},
   "outputs": [
    {
     "data": {
      "text/plain": [
       "(16821, 1579)"
      ]
     },
     "execution_count": 34,
     "metadata": {},
     "output_type": "execute_result"
    }
   ],
   "source": [
    "adata.layers[\"X_log\"].shape"
   ]
  },
  {
   "cell_type": "code",
   "execution_count": 35,
   "id": "a9ba673e",
   "metadata": {},
   "outputs": [],
   "source": [
    "adata.layers[\"X_log\"] = sparse.csr_matrix(np.array(adata.layers[\"X_log\"]))\n",
    "adata.layers[\"X_norm\"] = sparse.csr_matrix(np.array(adata.layers[\"X_normalized\"]))"
   ]
  },
  {
   "cell_type": "code",
   "execution_count": 43,
   "id": "2547a873",
   "metadata": {},
   "outputs": [
    {
     "data": {
      "text/plain": [
       "591.6213623281101"
      ]
     },
     "execution_count": 43,
     "metadata": {},
     "output_type": "execute_result"
    }
   ],
   "source": [
    "adata.layers[\"X_norm\"].max()"
   ]
  },
  {
   "cell_type": "code",
   "execution_count": 55,
   "id": "f91b9a9d",
   "metadata": {},
   "outputs": [],
   "source": [
    "sc.write(folder, adata)"
   ]
  },
  {
   "cell_type": "code",
   "execution_count": 52,
   "id": "ef85ba4d",
   "metadata": {},
   "outputs": [],
   "source": [
    "max_time = np.max(adata.obs[\"experimental_time\"])\n",
    "adata.obs[\"experimental_time\"] = [i/max_time for i in adata.obs[\"experimental_time\"]]"
   ]
  },
  {
   "cell_type": "code",
   "execution_count": 54,
   "id": "32d6cbf6",
   "metadata": {},
   "outputs": [
    {
     "data": {
      "text/plain": [
       "array([0.  , 0.25, 0.5 , 0.75, 1.  ])"
      ]
     },
     "execution_count": 54,
     "metadata": {},
     "output_type": "execute_result"
    }
   ],
   "source": [
    "adata.obs[\"experimental_time\"].unique()"
   ]
  },
  {
   "cell_type": "code",
   "execution_count": null,
   "id": "8bbf5ee5",
   "metadata": {},
   "outputs": [],
   "source": []
  }
 ],
 "metadata": {
  "kernelspec": {
   "display_name": "Python 3 (ipykernel)",
   "language": "python",
   "name": "python3"
  },
  "language_info": {
   "codemirror_mode": {
    "name": "ipython",
    "version": 3
   },
   "file_extension": ".py",
   "mimetype": "text/x-python",
   "name": "python",
   "nbconvert_exporter": "python",
   "pygments_lexer": "ipython3",
   "version": "3.9.16"
  }
 },
 "nbformat": 4,
 "nbformat_minor": 5
}
