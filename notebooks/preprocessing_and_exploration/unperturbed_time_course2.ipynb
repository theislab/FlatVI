{
 "cells": [
  {
   "cell_type": "code",
   "execution_count": 1,
   "id": "a8a52350",
   "metadata": {
    "tags": []
   },
   "outputs": [],
   "source": [
    "import sys \n",
    "\n",
    "import numpy as np\n",
    "import pandas as pd\n",
    "import anndata\n",
    "from copy import copy\n",
    "import seaborn as sns\n",
    "import matplotlib.pyplot as plt\n",
    "from pathlib import Path\n",
    "import scanpy as sc\n",
    "from scipy.sparse import hstack\n",
    "\n",
    "sys.path.extend([\"../../..\", \".\"])\n",
    "from paths import DATA_DIR"
   ]
  },
  {
   "cell_type": "code",
   "execution_count": 2,
   "id": "f5421d7e-8d41-420c-9e4e-15ea404c9cce",
   "metadata": {
    "tags": []
   },
   "outputs": [],
   "source": [
    "# from PerturbSeq_CMV.paths import DATA_DIR"
   ]
  },
  {
   "cell_type": "markdown",
   "id": "3d911269-c03a-4dd3-9e27-8d41fbcbe4a9",
   "metadata": {},
   "source": [
    "### Utils"
   ]
  },
  {
   "cell_type": "code",
   "execution_count": 3,
   "id": "e9ee6043-70a6-489d-9a56-7e3745b88c0b",
   "metadata": {
    "tags": []
   },
   "outputs": [],
   "source": [
    "def normalize_per_group(adata, obs_key):\n",
    "    adata_tmp = adata.copy()\n",
    "    obs_cat = np.unique(adata_tmp.obs[obs_key])\n",
    "    for obs in obs_cat:\n",
    "        print(f\"Normalize category: {obs}\")\n",
    "        X_norm = sc.pp.normalize_total(adata_tmp[adata_tmp.obs[obs_key]==obs, :], inplace=False)[\"X\"] \n",
    "        adata_tmp[adata_tmp.obs[obs_key]==obs].X = X_norm                                                                                    \n",
    "    return adata_tmp"
   ]
  },
  {
   "cell_type": "markdown",
   "id": "ed217ffa",
   "metadata": {},
   "source": [
    "Read the data "
   ]
  },
  {
   "cell_type": "code",
   "execution_count": 2,
   "id": "65ef29f7",
   "metadata": {
    "tags": []
   },
   "outputs": [],
   "source": [
    "folder = DATA_DIR / \"rawdata\" / \"unperturbed_time_course_processed\""
   ]
  },
  {
   "cell_type": "code",
   "execution_count": 3,
   "id": "4e4f1b53",
   "metadata": {
    "tags": []
   },
   "outputs": [],
   "source": [
    "adata_genesxcells = sc.read_mtx(folder / \"matrix.mtx\")"
   ]
  },
  {
   "cell_type": "markdown",
   "id": "38b18838",
   "metadata": {},
   "source": [
    "Transpose to have cell x genes"
   ]
  },
  {
   "cell_type": "code",
   "execution_count": 4,
   "id": "7eba856a",
   "metadata": {
    "tags": []
   },
   "outputs": [
    {
     "data": {
      "text/plain": [
       "matrix([[0., 0., 0., ..., 0., 0., 0.],\n",
       "        [0., 0., 0., ..., 0., 0., 0.],\n",
       "        [0., 0., 0., ..., 0., 0., 0.],\n",
       "        ...,\n",
       "        [0., 0., 0., ..., 0., 0., 0.],\n",
       "        [0., 0., 0., ..., 0., 1., 7.],\n",
       "        [0., 0., 0., ..., 0., 0., 3.]], dtype=float32)"
      ]
     },
     "execution_count": 4,
     "metadata": {},
     "output_type": "execute_result"
    }
   ],
   "source": [
    "adata = anndata.AnnData(adata_genesxcells.X.T)\n",
    "adata.X.todense()"
   ]
  },
  {
   "cell_type": "markdown",
   "id": "93985969",
   "metadata": {},
   "source": [
    "The matrix is unnormalized"
   ]
  },
  {
   "cell_type": "markdown",
   "id": "0be82e93",
   "metadata": {},
   "source": [
    "**Get the information on cells, barcodes and genes**"
   ]
  },
  {
   "cell_type": "markdown",
   "id": "2687ee87",
   "metadata": {},
   "source": [
    "Read metadata associated to the AnnData "
   ]
  },
  {
   "cell_type": "code",
   "execution_count": 5,
   "id": "9bb40cf6",
   "metadata": {
    "tags": []
   },
   "outputs": [],
   "source": [
    "barcode_path = folder / \"barcodes.tsv\"\n",
    "cellidentity_path = folder / \"cell_identities.csv\"\n",
    "genes_path = folder /\"genes.tsv\""
   ]
  },
  {
   "cell_type": "code",
   "execution_count": 6,
   "id": "05fd858c",
   "metadata": {
    "tags": []
   },
   "outputs": [],
   "source": [
    "barcodes = pd.read_csv(barcode_path, sep=\"\\t\", header=None)\n",
    "cellidentity = pd.read_csv(cellidentity_path)\n",
    "genes = pd.read_csv(genes_path, sep=\"\\t\", header=None)"
   ]
  },
  {
   "cell_type": "code",
   "execution_count": 7,
   "id": "611ce690",
   "metadata": {
    "tags": []
   },
   "outputs": [
    {
     "data": {
      "text/html": [
       "<div>\n",
       "<style scoped>\n",
       "    .dataframe tbody tr th:only-of-type {\n",
       "        vertical-align: middle;\n",
       "    }\n",
       "\n",
       "    .dataframe tbody tr th {\n",
       "        vertical-align: top;\n",
       "    }\n",
       "\n",
       "    .dataframe thead th {\n",
       "        text-align: right;\n",
       "    }\n",
       "</style>\n",
       "<table border=\"1\" class=\"dataframe\">\n",
       "  <thead>\n",
       "    <tr style=\"text-align: right;\">\n",
       "      <th></th>\n",
       "      <th>cell_barcode</th>\n",
       "      <th>guide_identity</th>\n",
       "      <th>read_count</th>\n",
       "      <th>UMI_count</th>\n",
       "      <th>coverage</th>\n",
       "      <th>gemgroup</th>\n",
       "      <th>good_coverage</th>\n",
       "      <th>number_of_cells</th>\n",
       "    </tr>\n",
       "  </thead>\n",
       "  <tbody>\n",
       "    <tr>\n",
       "      <th>0</th>\n",
       "      <td>CGATTGACAGCGAACA-2</td>\n",
       "      <td>GFP_pBA571-59</td>\n",
       "      <td>29624</td>\n",
       "      <td>396</td>\n",
       "      <td>74.808081</td>\n",
       "      <td>2</td>\n",
       "      <td>True</td>\n",
       "      <td>1</td>\n",
       "    </tr>\n",
       "    <tr>\n",
       "      <th>1</th>\n",
       "      <td>AAACGGGTCGTCACGG-2</td>\n",
       "      <td>GFP_pBA571-59</td>\n",
       "      <td>27369</td>\n",
       "      <td>368</td>\n",
       "      <td>74.372283</td>\n",
       "      <td>2</td>\n",
       "      <td>True</td>\n",
       "      <td>1</td>\n",
       "    </tr>\n",
       "    <tr>\n",
       "      <th>2</th>\n",
       "      <td>GCGCAACCACATTCGA-2</td>\n",
       "      <td>GFP_pBA571-59</td>\n",
       "      <td>26865</td>\n",
       "      <td>342</td>\n",
       "      <td>78.552632</td>\n",
       "      <td>2</td>\n",
       "      <td>True</td>\n",
       "      <td>1</td>\n",
       "    </tr>\n",
       "    <tr>\n",
       "      <th>3</th>\n",
       "      <td>GCTGCGAAGAGGTACC-2</td>\n",
       "      <td>GFP_pBA571-58</td>\n",
       "      <td>26823</td>\n",
       "      <td>423</td>\n",
       "      <td>63.411348</td>\n",
       "      <td>2</td>\n",
       "      <td>True</td>\n",
       "      <td>1</td>\n",
       "    </tr>\n",
       "    <tr>\n",
       "      <th>4</th>\n",
       "      <td>TACTCATGTCAGAATA-2</td>\n",
       "      <td>GFP_pBA571-59</td>\n",
       "      <td>25175</td>\n",
       "      <td>349</td>\n",
       "      <td>72.134670</td>\n",
       "      <td>2</td>\n",
       "      <td>True</td>\n",
       "      <td>1</td>\n",
       "    </tr>\n",
       "    <tr>\n",
       "      <th>...</th>\n",
       "      <td>...</td>\n",
       "      <td>...</td>\n",
       "      <td>...</td>\n",
       "      <td>...</td>\n",
       "      <td>...</td>\n",
       "      <td>...</td>\n",
       "      <td>...</td>\n",
       "      <td>...</td>\n",
       "    </tr>\n",
       "    <tr>\n",
       "      <th>14502</th>\n",
       "      <td>GCCTCTAGTTCCCGAG-1</td>\n",
       "      <td>*</td>\n",
       "      <td>1</td>\n",
       "      <td>1</td>\n",
       "      <td>1.000000</td>\n",
       "      <td>1</td>\n",
       "      <td>False</td>\n",
       "      <td>0</td>\n",
       "    </tr>\n",
       "    <tr>\n",
       "      <th>14503</th>\n",
       "      <td>GGAAAGCTCGTGGACC-2</td>\n",
       "      <td>*</td>\n",
       "      <td>1</td>\n",
       "      <td>1</td>\n",
       "      <td>1.000000</td>\n",
       "      <td>2</td>\n",
       "      <td>False</td>\n",
       "      <td>0</td>\n",
       "    </tr>\n",
       "    <tr>\n",
       "      <th>14504</th>\n",
       "      <td>GGGACCTGTAGCTTGT-1</td>\n",
       "      <td>*</td>\n",
       "      <td>1</td>\n",
       "      <td>1</td>\n",
       "      <td>1.000000</td>\n",
       "      <td>1</td>\n",
       "      <td>False</td>\n",
       "      <td>0</td>\n",
       "    </tr>\n",
       "    <tr>\n",
       "      <th>14505</th>\n",
       "      <td>GGTGTTAGTCTACCTC-1</td>\n",
       "      <td>*</td>\n",
       "      <td>1</td>\n",
       "      <td>1</td>\n",
       "      <td>1.000000</td>\n",
       "      <td>1</td>\n",
       "      <td>False</td>\n",
       "      <td>0</td>\n",
       "    </tr>\n",
       "    <tr>\n",
       "      <th>14506</th>\n",
       "      <td>GTGAAGGTCACATGCA-2</td>\n",
       "      <td>GFP_pBA571-70</td>\n",
       "      <td>1</td>\n",
       "      <td>1</td>\n",
       "      <td>1.000000</td>\n",
       "      <td>2</td>\n",
       "      <td>False</td>\n",
       "      <td>0</td>\n",
       "    </tr>\n",
       "  </tbody>\n",
       "</table>\n",
       "<p>14507 rows × 8 columns</p>\n",
       "</div>"
      ],
      "text/plain": [
       "             cell_barcode guide_identity  read_count  UMI_count   coverage  \\\n",
       "0      CGATTGACAGCGAACA-2  GFP_pBA571-59       29624        396  74.808081   \n",
       "1      AAACGGGTCGTCACGG-2  GFP_pBA571-59       27369        368  74.372283   \n",
       "2      GCGCAACCACATTCGA-2  GFP_pBA571-59       26865        342  78.552632   \n",
       "3      GCTGCGAAGAGGTACC-2  GFP_pBA571-58       26823        423  63.411348   \n",
       "4      TACTCATGTCAGAATA-2  GFP_pBA571-59       25175        349  72.134670   \n",
       "...                   ...            ...         ...        ...        ...   \n",
       "14502  GCCTCTAGTTCCCGAG-1              *           1          1   1.000000   \n",
       "14503  GGAAAGCTCGTGGACC-2              *           1          1   1.000000   \n",
       "14504  GGGACCTGTAGCTTGT-1              *           1          1   1.000000   \n",
       "14505  GGTGTTAGTCTACCTC-1              *           1          1   1.000000   \n",
       "14506  GTGAAGGTCACATGCA-2  GFP_pBA571-70           1          1   1.000000   \n",
       "\n",
       "       gemgroup  good_coverage  number_of_cells  \n",
       "0             2           True                1  \n",
       "1             2           True                1  \n",
       "2             2           True                1  \n",
       "3             2           True                1  \n",
       "4             2           True                1  \n",
       "...         ...            ...              ...  \n",
       "14502         1          False                0  \n",
       "14503         2          False                0  \n",
       "14504         1          False                0  \n",
       "14505         1          False                0  \n",
       "14506         2          False                0  \n",
       "\n",
       "[14507 rows x 8 columns]"
      ]
     },
     "execution_count": 7,
     "metadata": {},
     "output_type": "execute_result"
    }
   ],
   "source": [
    "cellidentity"
   ]
  },
  {
   "cell_type": "code",
   "execution_count": 8,
   "id": "ec39bf3e",
   "metadata": {
    "tags": []
   },
   "outputs": [],
   "source": [
    "genes.columns = [\"ENSMBL\", \"gene ID\"]"
   ]
  },
  {
   "cell_type": "markdown",
   "id": "b8d8f6e5",
   "metadata": {},
   "source": [
    "**Read metadata**"
   ]
  },
  {
   "cell_type": "code",
   "execution_count": 9,
   "id": "ddb6cd48",
   "metadata": {
    "tags": []
   },
   "outputs": [],
   "source": [
    "metadata = pd.read_excel(folder / \"unperturbed_time_course_processed.xlsx\")"
   ]
  },
  {
   "cell_type": "code",
   "execution_count": 10,
   "id": "df441a65",
   "metadata": {
    "tags": []
   },
   "outputs": [
    {
     "data": {
      "text/html": [
       "<div>\n",
       "<style scoped>\n",
       "    .dataframe tbody tr th:only-of-type {\n",
       "        vertical-align: middle;\n",
       "    }\n",
       "\n",
       "    .dataframe tbody tr th {\n",
       "        vertical-align: top;\n",
       "    }\n",
       "\n",
       "    .dataframe thead th {\n",
       "        text-align: right;\n",
       "    }\n",
       "</style>\n",
       "<table border=\"1\" class=\"dataframe\">\n",
       "  <thead>\n",
       "    <tr style=\"text-align: right;\">\n",
       "      <th></th>\n",
       "      <th>cell_barcode</th>\n",
       "      <th>gem_group</th>\n",
       "      <th>UMI_count</th>\n",
       "      <th>guide_UMI_count</th>\n",
       "      <th>guide_read_count</th>\n",
       "      <th>guide_coverage</th>\n",
       "      <th>MOI</th>\n",
       "      <th>experimental_time</th>\n",
       "      <th>cell_cycle_phase</th>\n",
       "      <th>viral_load</th>\n",
       "      <th>interferon_score</th>\n",
       "      <th>cluster</th>\n",
       "      <th>UMAP_1</th>\n",
       "      <th>UMAP_2</th>\n",
       "    </tr>\n",
       "  </thead>\n",
       "  <tbody>\n",
       "    <tr>\n",
       "      <th>0</th>\n",
       "      <td>AAACCTGAGCGTAGTG-1</td>\n",
       "      <td>1</td>\n",
       "      <td>13247</td>\n",
       "      <td>29</td>\n",
       "      <td>1573</td>\n",
       "      <td>54.24</td>\n",
       "      <td>low</td>\n",
       "      <td>028h</td>\n",
       "      <td>M-G1</td>\n",
       "      <td>0.008908</td>\n",
       "      <td>1.815345</td>\n",
       "      <td>bystander</td>\n",
       "      <td>-3.302532</td>\n",
       "      <td>-0.172898</td>\n",
       "    </tr>\n",
       "    <tr>\n",
       "      <th>1</th>\n",
       "      <td>AAACCTGAGGCTAGAC-1</td>\n",
       "      <td>1</td>\n",
       "      <td>14094</td>\n",
       "      <td>12</td>\n",
       "      <td>487</td>\n",
       "      <td>40.58</td>\n",
       "      <td>low</td>\n",
       "      <td>096h</td>\n",
       "      <td>G2-M</td>\n",
       "      <td>0.671137</td>\n",
       "      <td>-1.316287</td>\n",
       "      <td>infected_6</td>\n",
       "      <td>-1.101087</td>\n",
       "      <td>11.574987</td>\n",
       "    </tr>\n",
       "    <tr>\n",
       "      <th>2</th>\n",
       "      <td>AAACCTGCACGGTAGA-1</td>\n",
       "      <td>1</td>\n",
       "      <td>16487</td>\n",
       "      <td>73</td>\n",
       "      <td>3266</td>\n",
       "      <td>44.74</td>\n",
       "      <td>low</td>\n",
       "      <td>028h</td>\n",
       "      <td>S</td>\n",
       "      <td>0.012373</td>\n",
       "      <td>1.377850</td>\n",
       "      <td>bystander</td>\n",
       "      <td>-1.994823</td>\n",
       "      <td>0.308592</td>\n",
       "    </tr>\n",
       "    <tr>\n",
       "      <th>3</th>\n",
       "      <td>AAACCTGCAGGTCCAC-1</td>\n",
       "      <td>1</td>\n",
       "      <td>12119</td>\n",
       "      <td>61</td>\n",
       "      <td>3859</td>\n",
       "      <td>63.26</td>\n",
       "      <td>low</td>\n",
       "      <td>048h</td>\n",
       "      <td>G1-S</td>\n",
       "      <td>0.011965</td>\n",
       "      <td>0.612030</td>\n",
       "      <td>bystander</td>\n",
       "      <td>-1.700732</td>\n",
       "      <td>1.202923</td>\n",
       "    </tr>\n",
       "    <tr>\n",
       "      <th>4</th>\n",
       "      <td>AAACCTGGTGGCCCTA-1</td>\n",
       "      <td>1</td>\n",
       "      <td>23214</td>\n",
       "      <td>56</td>\n",
       "      <td>2714</td>\n",
       "      <td>48.46</td>\n",
       "      <td>low</td>\n",
       "      <td>072h</td>\n",
       "      <td>G2-M</td>\n",
       "      <td>0.007625</td>\n",
       "      <td>0.733405</td>\n",
       "      <td>bystander</td>\n",
       "      <td>-1.540104</td>\n",
       "      <td>1.291726</td>\n",
       "    </tr>\n",
       "    <tr>\n",
       "      <th>...</th>\n",
       "      <td>...</td>\n",
       "      <td>...</td>\n",
       "      <td>...</td>\n",
       "      <td>...</td>\n",
       "      <td>...</td>\n",
       "      <td>...</td>\n",
       "      <td>...</td>\n",
       "      <td>...</td>\n",
       "      <td>...</td>\n",
       "      <td>...</td>\n",
       "      <td>...</td>\n",
       "      <td>...</td>\n",
       "      <td>...</td>\n",
       "      <td>...</td>\n",
       "    </tr>\n",
       "    <tr>\n",
       "      <th>12914</th>\n",
       "      <td>TTTGTCATCATTGCGA-2</td>\n",
       "      <td>2</td>\n",
       "      <td>17438</td>\n",
       "      <td>34</td>\n",
       "      <td>1848</td>\n",
       "      <td>54.35</td>\n",
       "      <td>high</td>\n",
       "      <td>072h</td>\n",
       "      <td>M-G1</td>\n",
       "      <td>0.124326</td>\n",
       "      <td>-0.022159</td>\n",
       "      <td>infected_2</td>\n",
       "      <td>4.589217</td>\n",
       "      <td>-0.501372</td>\n",
       "    </tr>\n",
       "    <tr>\n",
       "      <th>12915</th>\n",
       "      <td>TTTGTCATCCCAAGTA-2</td>\n",
       "      <td>2</td>\n",
       "      <td>20186</td>\n",
       "      <td>69</td>\n",
       "      <td>5235</td>\n",
       "      <td>75.87</td>\n",
       "      <td>high</td>\n",
       "      <td>048h</td>\n",
       "      <td>S</td>\n",
       "      <td>0.035123</td>\n",
       "      <td>-1.130894</td>\n",
       "      <td>infected_2</td>\n",
       "      <td>6.416167</td>\n",
       "      <td>-3.043289</td>\n",
       "    </tr>\n",
       "    <tr>\n",
       "      <th>12916</th>\n",
       "      <td>TTTGTCATCCCACTTG-2</td>\n",
       "      <td>2</td>\n",
       "      <td>30703</td>\n",
       "      <td>66</td>\n",
       "      <td>4618</td>\n",
       "      <td>69.97</td>\n",
       "      <td>high</td>\n",
       "      <td>048h</td>\n",
       "      <td>G1-S</td>\n",
       "      <td>0.036153</td>\n",
       "      <td>-0.488409</td>\n",
       "      <td>infected_2</td>\n",
       "      <td>6.270998</td>\n",
       "      <td>-3.114618</td>\n",
       "    </tr>\n",
       "    <tr>\n",
       "      <th>12917</th>\n",
       "      <td>TTTGTCATCGTCACGG-2</td>\n",
       "      <td>2</td>\n",
       "      <td>58488</td>\n",
       "      <td>47</td>\n",
       "      <td>2754</td>\n",
       "      <td>58.60</td>\n",
       "      <td>high</td>\n",
       "      <td>048h</td>\n",
       "      <td>S</td>\n",
       "      <td>0.445698</td>\n",
       "      <td>-1.110313</td>\n",
       "      <td>infected_5</td>\n",
       "      <td>1.711608</td>\n",
       "      <td>10.221025</td>\n",
       "    </tr>\n",
       "    <tr>\n",
       "      <th>12918</th>\n",
       "      <td>TTTGTCATCTGCAAGT-2</td>\n",
       "      <td>2</td>\n",
       "      <td>29633</td>\n",
       "      <td>40</td>\n",
       "      <td>2278</td>\n",
       "      <td>56.95</td>\n",
       "      <td>high</td>\n",
       "      <td>048h</td>\n",
       "      <td>S</td>\n",
       "      <td>0.422434</td>\n",
       "      <td>-1.064125</td>\n",
       "      <td>infected_5</td>\n",
       "      <td>2.245009</td>\n",
       "      <td>9.726268</td>\n",
       "    </tr>\n",
       "  </tbody>\n",
       "</table>\n",
       "<p>12919 rows × 14 columns</p>\n",
       "</div>"
      ],
      "text/plain": [
       "             cell_barcode  gem_group  UMI_count  guide_UMI_count  \\\n",
       "0      AAACCTGAGCGTAGTG-1          1      13247               29   \n",
       "1      AAACCTGAGGCTAGAC-1          1      14094               12   \n",
       "2      AAACCTGCACGGTAGA-1          1      16487               73   \n",
       "3      AAACCTGCAGGTCCAC-1          1      12119               61   \n",
       "4      AAACCTGGTGGCCCTA-1          1      23214               56   \n",
       "...                   ...        ...        ...              ...   \n",
       "12914  TTTGTCATCATTGCGA-2          2      17438               34   \n",
       "12915  TTTGTCATCCCAAGTA-2          2      20186               69   \n",
       "12916  TTTGTCATCCCACTTG-2          2      30703               66   \n",
       "12917  TTTGTCATCGTCACGG-2          2      58488               47   \n",
       "12918  TTTGTCATCTGCAAGT-2          2      29633               40   \n",
       "\n",
       "       guide_read_count  guide_coverage   MOI experimental_time  \\\n",
       "0                  1573           54.24   low              028h   \n",
       "1                   487           40.58   low              096h   \n",
       "2                  3266           44.74   low              028h   \n",
       "3                  3859           63.26   low              048h   \n",
       "4                  2714           48.46   low              072h   \n",
       "...                 ...             ...   ...               ...   \n",
       "12914              1848           54.35  high              072h   \n",
       "12915              5235           75.87  high              048h   \n",
       "12916              4618           69.97  high              048h   \n",
       "12917              2754           58.60  high              048h   \n",
       "12918              2278           56.95  high              048h   \n",
       "\n",
       "      cell_cycle_phase  viral_load  interferon_score     cluster    UMAP_1  \\\n",
       "0                 M-G1    0.008908          1.815345   bystander -3.302532   \n",
       "1                 G2-M    0.671137         -1.316287  infected_6 -1.101087   \n",
       "2                    S    0.012373          1.377850   bystander -1.994823   \n",
       "3                 G1-S    0.011965          0.612030   bystander -1.700732   \n",
       "4                 G2-M    0.007625          0.733405   bystander -1.540104   \n",
       "...                ...         ...               ...         ...       ...   \n",
       "12914             M-G1    0.124326         -0.022159  infected_2  4.589217   \n",
       "12915                S    0.035123         -1.130894  infected_2  6.416167   \n",
       "12916             G1-S    0.036153         -0.488409  infected_2  6.270998   \n",
       "12917                S    0.445698         -1.110313  infected_5  1.711608   \n",
       "12918                S    0.422434         -1.064125  infected_5  2.245009   \n",
       "\n",
       "          UMAP_2  \n",
       "0      -0.172898  \n",
       "1      11.574987  \n",
       "2       0.308592  \n",
       "3       1.202923  \n",
       "4       1.291726  \n",
       "...          ...  \n",
       "12914  -0.501372  \n",
       "12915  -3.043289  \n",
       "12916  -3.114618  \n",
       "12917  10.221025  \n",
       "12918   9.726268  \n",
       "\n",
       "[12919 rows x 14 columns]"
      ]
     },
     "execution_count": 10,
     "metadata": {},
     "output_type": "execute_result"
    }
   ],
   "source": [
    "metadata"
   ]
  },
  {
   "cell_type": "markdown",
   "id": "e8aedbee",
   "metadata": {},
   "source": [
    "Keep only cells that appear in the spreadsheet from the supplementary materials"
   ]
  },
  {
   "cell_type": "code",
   "execution_count": 11,
   "id": "9628e74b",
   "metadata": {
    "tags": []
   },
   "outputs": [],
   "source": [
    "cells_to_keep = barcodes.loc[barcodes.isin(np.array(metadata.cell_barcode))[0]]\n",
    "# Get indexes\n",
    "cells_to_keep_idx = np.array(cells_to_keep.index)"
   ]
  },
  {
   "cell_type": "markdown",
   "id": "1e0d9e4d",
   "metadata": {},
   "source": [
    "Keep only the cells that appear both in the metadata and cellidentity matrix"
   ]
  },
  {
   "cell_type": "code",
   "execution_count": 12,
   "id": "6751ae4e",
   "metadata": {
    "tags": []
   },
   "outputs": [],
   "source": [
    "adata = adata[cells_to_keep_idx,:]"
   ]
  },
  {
   "cell_type": "markdown",
   "id": "77fe30ba",
   "metadata": {},
   "source": [
    "Transform time from string to float in metadata "
   ]
  },
  {
   "cell_type": "code",
   "execution_count": 13,
   "id": "f017069a",
   "metadata": {
    "tags": []
   },
   "outputs": [],
   "source": [
    "metadata.experimental_time = [float(time.split(\"h\")[0]) for time in metadata.experimental_time]"
   ]
  },
  {
   "cell_type": "markdown",
   "id": "4115c5b7",
   "metadata": {},
   "source": [
    "Fix the observations"
   ]
  },
  {
   "cell_type": "code",
   "execution_count": 14,
   "id": "c0dae786",
   "metadata": {
    "tags": []
   },
   "outputs": [],
   "source": [
    "adata.obs = metadata"
   ]
  },
  {
   "cell_type": "markdown",
   "id": "71b4027b",
   "metadata": {},
   "source": [
    "Fix the vars"
   ]
  },
  {
   "cell_type": "code",
   "execution_count": 15,
   "id": "f5ab98e0",
   "metadata": {
    "tags": []
   },
   "outputs": [],
   "source": [
    "adata.var = pd.DataFrame(genes)\n",
    "adata.var.index = adata.var[\"gene ID\"]"
   ]
  },
  {
   "cell_type": "code",
   "execution_count": 16,
   "id": "5436fc73",
   "metadata": {
    "tags": []
   },
   "outputs": [],
   "source": [
    "adata.var[\"mt\"] = adata.var_names.str.startswith(\"MT-\") "
   ]
  },
  {
   "cell_type": "markdown",
   "id": "1fac811e-0dcc-478b-b0f6-824eaecf0fab",
   "metadata": {},
   "source": [
    "Define host and pathogen genes "
   ]
  },
  {
   "cell_type": "code",
   "execution_count": 17,
   "id": "154fdfec-be7b-4666-9944-851a4e084858",
   "metadata": {
    "tags": []
   },
   "outputs": [],
   "source": [
    "is_host = np.where(adata.var[\"ENSMBL\"].str.startswith(\"ENSG\"), True, False)\n",
    "adata.var[\"is_host\"]=is_host"
   ]
  },
  {
   "cell_type": "markdown",
   "id": "09b15108",
   "metadata": {},
   "source": [
    "**Pre-processing**"
   ]
  },
  {
   "cell_type": "markdown",
   "id": "0342ccca",
   "metadata": {},
   "source": [
    "Highlight genes with more than 10000 transcripts (from the paper)"
   ]
  },
  {
   "cell_type": "code",
   "execution_count": 18,
   "id": "3894cabb",
   "metadata": {
    "tags": []
   },
   "outputs": [
    {
     "name": "stdout",
     "output_type": "stream",
     "text": [
      "Number of genes with more than 10k counts: 3588\n"
     ]
    },
    {
     "name": "stderr",
     "output_type": "stream",
     "text": [
      "/tmp/ipykernel_2274197/3442101070.py:1: DeprecationWarning: `np.bool` is a deprecated alias for the builtin `bool`. To silence this warning, use `bool` by itself. Doing this will not modify any behavior and is safe. If you specifically wanted the numpy scalar type, use `np.bool_` here.\n",
      "Deprecated in NumPy 1.20; for more details and guidance: https://numpy.org/devdocs/release/1.20.0-notes.html#deprecations\n",
      "  highly_expressed_genes = np.array((adata.X.todense().sum(0)>10000).astype(np.bool)).squeeze(0)\n"
     ]
    }
   ],
   "source": [
    "highly_expressed_genes = np.array((adata.X.todense().sum(0)>10000).astype(np.bool)).squeeze(0)\n",
    "print(f\"Number of genes with more than 10k counts: {np.sum(highly_expressed_genes)}\")"
   ]
  },
  {
   "cell_type": "code",
   "execution_count": 19,
   "id": "ff7738a0",
   "metadata": {
    "tags": []
   },
   "outputs": [],
   "source": [
    "adata.var[\"highly_variable\"] = highly_expressed_genes"
   ]
  },
  {
   "cell_type": "code",
   "execution_count": 20,
   "id": "fe119544",
   "metadata": {},
   "outputs": [],
   "source": [
    "adata = adata[:, ~adata.var.index.duplicated(keep='first')]"
   ]
  },
  {
   "cell_type": "code",
   "execution_count": 25,
   "id": "778653ac",
   "metadata": {},
   "outputs": [],
   "source": [
    "adata = adata[adata.obs[\"MOI\"]==\"high\"]"
   ]
  },
  {
   "cell_type": "code",
   "execution_count": 26,
   "id": "e785354b",
   "metadata": {
    "scrolled": true
   },
   "outputs": [
    {
     "ename": "AssertionError",
     "evalue": "Don’t call _normalize_index with non-categorical/string names",
     "output_type": "error",
     "traceback": [
      "\u001b[0;31m---------------------------------------------------------------------------\u001b[0m",
      "\u001b[0;31mAssertionError\u001b[0m                            Traceback (most recent call last)",
      "Cell \u001b[0;32mIn[26], line 1\u001b[0m\n\u001b[0;32m----> 1\u001b[0m adata_host \u001b[38;5;241m=\u001b[39m \u001b[43madata\u001b[49m\u001b[43m[\u001b[49m\u001b[43m:\u001b[49m\u001b[43m,\u001b[49m\u001b[43m \u001b[49m\u001b[43madata\u001b[49m\u001b[38;5;241;43m.\u001b[39;49m\u001b[43mvar\u001b[49m\u001b[38;5;241;43m.\u001b[39;49m\u001b[43mis_host\u001b[49m\u001b[43m]\u001b[49m\n\u001b[1;32m      2\u001b[0m adata_viral \u001b[38;5;241m=\u001b[39m adata[:, \u001b[38;5;241m~\u001b[39madata\u001b[38;5;241m.\u001b[39mvar\u001b[38;5;241m.\u001b[39mis_host]\n",
      "File \u001b[0;32m~/miniconda3/envs/PerturbSeq_CMV/lib/python3.9/site-packages/anndata/_core/anndata.py:1100\u001b[0m, in \u001b[0;36mAnnData.__getitem__\u001b[0;34m(self, index)\u001b[0m\n\u001b[1;32m   1098\u001b[0m \u001b[38;5;28;01mdef\u001b[39;00m \u001b[38;5;21m__getitem__\u001b[39m(\u001b[38;5;28mself\u001b[39m, index: Index) \u001b[38;5;241m-\u001b[39m\u001b[38;5;241m>\u001b[39m \u001b[38;5;124m\"\u001b[39m\u001b[38;5;124mAnnData\u001b[39m\u001b[38;5;124m\"\u001b[39m:\n\u001b[1;32m   1099\u001b[0m \u001b[38;5;250m    \u001b[39m\u001b[38;5;124;03m\"\"\"Returns a sliced view of the object.\"\"\"\u001b[39;00m\n\u001b[0;32m-> 1100\u001b[0m     oidx, vidx \u001b[38;5;241m=\u001b[39m \u001b[38;5;28;43mself\u001b[39;49m\u001b[38;5;241;43m.\u001b[39;49m\u001b[43m_normalize_indices\u001b[49m\u001b[43m(\u001b[49m\u001b[43mindex\u001b[49m\u001b[43m)\u001b[49m\n\u001b[1;32m   1101\u001b[0m     \u001b[38;5;28;01mreturn\u001b[39;00m AnnData(\u001b[38;5;28mself\u001b[39m, oidx\u001b[38;5;241m=\u001b[39moidx, vidx\u001b[38;5;241m=\u001b[39mvidx, asview\u001b[38;5;241m=\u001b[39m\u001b[38;5;28;01mTrue\u001b[39;00m)\n",
      "File \u001b[0;32m~/miniconda3/envs/PerturbSeq_CMV/lib/python3.9/site-packages/anndata/_core/anndata.py:1081\u001b[0m, in \u001b[0;36mAnnData._normalize_indices\u001b[0;34m(self, index)\u001b[0m\n\u001b[1;32m   1080\u001b[0m \u001b[38;5;28;01mdef\u001b[39;00m \u001b[38;5;21m_normalize_indices\u001b[39m(\u001b[38;5;28mself\u001b[39m, index: Optional[Index]) \u001b[38;5;241m-\u001b[39m\u001b[38;5;241m>\u001b[39m Tuple[\u001b[38;5;28mslice\u001b[39m, \u001b[38;5;28mslice\u001b[39m]:\n\u001b[0;32m-> 1081\u001b[0m     \u001b[38;5;28;01mreturn\u001b[39;00m \u001b[43m_normalize_indices\u001b[49m\u001b[43m(\u001b[49m\u001b[43mindex\u001b[49m\u001b[43m,\u001b[49m\u001b[43m \u001b[49m\u001b[38;5;28;43mself\u001b[39;49m\u001b[38;5;241;43m.\u001b[39;49m\u001b[43mobs_names\u001b[49m\u001b[43m,\u001b[49m\u001b[43m \u001b[49m\u001b[38;5;28;43mself\u001b[39;49m\u001b[38;5;241;43m.\u001b[39;49m\u001b[43mvar_names\u001b[49m\u001b[43m)\u001b[49m\n",
      "File \u001b[0;32m~/miniconda3/envs/PerturbSeq_CMV/lib/python3.9/site-packages/anndata/_core/index.py:32\u001b[0m, in \u001b[0;36m_normalize_indices\u001b[0;34m(index, names0, names1)\u001b[0m\n\u001b[1;32m     30\u001b[0m         index \u001b[38;5;241m=\u001b[39m index[\u001b[38;5;241m0\u001b[39m]\u001b[38;5;241m.\u001b[39mvalues, index[\u001b[38;5;241m1\u001b[39m]\n\u001b[1;32m     31\u001b[0m ax0, ax1 \u001b[38;5;241m=\u001b[39m unpack_index(index)\n\u001b[0;32m---> 32\u001b[0m ax0 \u001b[38;5;241m=\u001b[39m \u001b[43m_normalize_index\u001b[49m\u001b[43m(\u001b[49m\u001b[43max0\u001b[49m\u001b[43m,\u001b[49m\u001b[43m \u001b[49m\u001b[43mnames0\u001b[49m\u001b[43m)\u001b[49m\n\u001b[1;32m     33\u001b[0m ax1 \u001b[38;5;241m=\u001b[39m _normalize_index(ax1, names1)\n\u001b[1;32m     34\u001b[0m \u001b[38;5;28;01mreturn\u001b[39;00m ax0, ax1\n",
      "File \u001b[0;32m~/miniconda3/envs/PerturbSeq_CMV/lib/python3.9/site-packages/anndata/_core/index.py:50\u001b[0m, in \u001b[0;36m_normalize_index\u001b[0;34m(indexer, index)\u001b[0m\n\u001b[1;32m     37\u001b[0m \u001b[38;5;28;01mdef\u001b[39;00m \u001b[38;5;21m_normalize_index\u001b[39m(\n\u001b[1;32m     38\u001b[0m     indexer: Union[\n\u001b[1;32m     39\u001b[0m         \u001b[38;5;28mslice\u001b[39m,\n\u001b[0;32m   (...)\u001b[0m\n\u001b[1;32m     47\u001b[0m     index: pd\u001b[38;5;241m.\u001b[39mIndex,\n\u001b[1;32m     48\u001b[0m ) \u001b[38;5;241m-\u001b[39m\u001b[38;5;241m>\u001b[39m Union[\u001b[38;5;28mslice\u001b[39m, \u001b[38;5;28mint\u001b[39m, np\u001b[38;5;241m.\u001b[39mndarray]:  \u001b[38;5;66;03m# ndarray of int\u001b[39;00m\n\u001b[1;32m     49\u001b[0m     \u001b[38;5;28;01mif\u001b[39;00m \u001b[38;5;129;01mnot\u001b[39;00m \u001b[38;5;28misinstance\u001b[39m(index, pd\u001b[38;5;241m.\u001b[39mRangeIndex):\n\u001b[0;32m---> 50\u001b[0m         \u001b[38;5;28;01massert\u001b[39;00m (\n\u001b[1;32m     51\u001b[0m             index\u001b[38;5;241m.\u001b[39mdtype \u001b[38;5;241m!=\u001b[39m \u001b[38;5;28mfloat\u001b[39m \u001b[38;5;129;01mand\u001b[39;00m index\u001b[38;5;241m.\u001b[39mdtype \u001b[38;5;241m!=\u001b[39m \u001b[38;5;28mint\u001b[39m\n\u001b[1;32m     52\u001b[0m         ), \u001b[38;5;124m\"\u001b[39m\u001b[38;5;124mDon’t call _normalize_index with non-categorical/string names\u001b[39m\u001b[38;5;124m\"\u001b[39m\n\u001b[1;32m     54\u001b[0m     \u001b[38;5;66;03m# the following is insanely slow for sequences,\u001b[39;00m\n\u001b[1;32m     55\u001b[0m     \u001b[38;5;66;03m# we replaced it using pandas below\u001b[39;00m\n\u001b[1;32m     56\u001b[0m     \u001b[38;5;28;01mdef\u001b[39;00m \u001b[38;5;21mname_idx\u001b[39m(i):\n",
      "\u001b[0;31mAssertionError\u001b[0m: Don’t call _normalize_index with non-categorical/string names"
     ]
    }
   ],
   "source": [
    "adata_host = adata[:, adata.var.is_host]\n",
    "adata_viral = adata[:, ~adata.var.is_host]"
   ]
  },
  {
   "cell_type": "markdown",
   "id": "80ca4f16-1914-45ee-b6eb-39d39d616763",
   "metadata": {},
   "source": [
    "**Separate the anndata**"
   ]
  },
  {
   "cell_type": "code",
   "execution_count": 21,
   "id": "65dafeff-f530-4f73-ac76-6d7c69afa8a6",
   "metadata": {
    "tags": []
   },
   "outputs": [],
   "source": [
    "adata_host = adata[:, adata.var.is_host]\n",
    "adata_viral = adata[:, ~adata.var.is_host]"
   ]
  },
  {
   "cell_type": "code",
   "execution_count": 22,
   "id": "ff9872fb",
   "metadata": {},
   "outputs": [
    {
     "name": "stdout",
     "output_type": "stream",
     "text": [
      "absl-py==1.4.0\n",
      "anndata==0.9.1\n",
      "anyio==3.6.2\n",
      "argon2-cffi==21.3.0\n",
      "argon2-cffi-bindings==21.2.0\n",
      "arrow==1.2.3\n",
      "asttokens==2.2.1\n",
      "attrs==22.2.0\n",
      "backcall==0.2.0\n",
      "beautifulsoup4==4.12.2\n",
      "black==23.3.0\n",
      "bleach==6.0.0\n",
      "cachetools==5.3.0\n",
      "cellrank==1.5.1\n",
      "certifi==2022.12.7\n",
      "cffi==1.15.1\n",
      "cfgv==3.3.1\n",
      "charset-normalizer==3.1.0\n",
      "click==8.1.3\n",
      "cloudpickle==2.2.1\n",
      "cmake==3.26.3\n",
      "colorama==0.4.6\n",
      "comm==0.1.3\n",
      "contourpy==1.0.7\n",
      "cycler==0.11.0\n",
      "debugpy==1.6.7\n",
      "decorator==5.1.1\n",
      "defusedxml==0.7.1\n",
      "distlib==0.3.6\n",
      "dnspython==2.3.0\n",
      "docopt==0.6.2\n",
      "docrep==0.3.2\n",
      "et-xmlfile==1.1.0\n",
      "executing==1.2.0\n",
      "fastjsonschema==2.16.3\n",
      "filelock==3.11.0\n",
      "fonttools==4.39.3\n",
      "fqdn==1.5.1\n",
      "future==0.18.3\n",
      "gitdb==4.0.10\n",
      "GitPython==3.1.31\n",
      "google-auth==2.17.2\n",
      "google-auth-oauthlib==1.0.0\n",
      "grpcio==1.53.0\n",
      "h5py==3.8.0\n",
      "identify==2.5.22\n",
      "idna==3.4\n",
      "importlib-metadata==6.3.0\n",
      "importlib-resources==5.12.0\n",
      "ipykernel==6.22.0\n",
      "ipython==8.12.0\n",
      "ipython-genutils==0.2.0\n",
      "ipywidgets==8.0.6\n",
      "isoduration==20.11.0\n",
      "isort==5.12.0\n",
      "jedi==0.18.2\n",
      "Jinja2==3.0.3\n",
      "joblib==1.2.0\n",
      "jsonpickle==1.5.2\n",
      "jsonpointer==2.3\n",
      "jsonschema==4.17.3\n",
      "jupyter==1.0.0\n",
      "jupyter-console==6.6.3\n",
      "jupyter-events==0.6.3\n",
      "jupyter_client==8.1.0\n",
      "jupyter_core==5.3.0\n",
      "jupyter_server==2.5.0\n",
      "jupyter_server_terminals==0.4.4\n",
      "jupyterlab-pygments==0.2.2\n",
      "jupyterlab-widgets==3.0.7\n",
      "jupytext==1.14.5\n",
      "kiwisolver==1.4.4\n",
      "lit==16.0.1\n",
      "llvmlite==0.39.1\n",
      "loompy==3.0.7\n",
      "Markdown==3.4.3\n",
      "markdown-it-py==2.2.0\n",
      "MarkupSafe==2.1.2\n",
      "matplotlib==3.7.1\n",
      "matplotlib-inline==0.1.6\n",
      "mdit-py-plugins==0.3.5\n",
      "mdurl==0.1.2\n",
      "mistune==2.0.5\n",
      "mpmath==1.3.0\n",
      "munch==2.5.0\n",
      "mypy-extensions==1.0.0\n",
      "natsort==8.3.1\n",
      "nbclassic==0.5.5\n",
      "nbclient==0.7.3\n",
      "nbconvert==7.3.1\n",
      "nbformat==5.8.0\n",
      "nest-asyncio==1.5.6\n",
      "networkx==3.1\n",
      "nodeenv==1.7.0\n",
      "notebook==6.5.4\n",
      "notebook_shim==0.2.2\n",
      "numba==0.56.4\n",
      "numpy==1.23.5\n",
      "numpy-groupies==0.9.20\n",
      "nvidia-cublas-cu11==11.10.3.66\n",
      "nvidia-cuda-cupti-cu11==11.7.101\n",
      "nvidia-cuda-nvrtc-cu11==11.7.99\n",
      "nvidia-cuda-runtime-cu11==11.7.99\n",
      "nvidia-cudnn-cu11==8.5.0.96\n",
      "nvidia-cufft-cu11==10.9.0.58\n",
      "nvidia-curand-cu11==10.2.10.91\n",
      "nvidia-cusolver-cu11==11.4.0.1\n",
      "nvidia-cusparse-cu11==11.7.4.91\n",
      "nvidia-nccl-cu11==2.14.3\n",
      "nvidia-nvtx-cu11==11.7.91\n",
      "oauthlib==3.2.2\n",
      "openpyxl==3.1.2\n",
      "packaging==23.0\n",
      "pandas==1.5.3\n",
      "pandocfilters==1.5.0\n",
      "parso==0.8.3\n",
      "pathspec==0.11.1\n",
      "patsy==0.5.3\n",
      "PerturbSeq-CMV @ file:///nfs/homedirs/pala/PerturbSeq_CMV\n",
      "pexpect==4.8.0\n",
      "pickleshare==0.7.5\n",
      "Pillow==9.5.0\n",
      "platformdirs==3.2.0\n",
      "POT==0.9.0\n",
      "pre-commit==3.2.2\n",
      "progressbar2==4.2.0\n",
      "prometheus-client==0.16.0\n",
      "prompt-toolkit==3.0.38\n",
      "protobuf==4.22.1\n",
      "psutil==5.9.4\n",
      "ptyprocess==0.7.0\n",
      "pure-eval==0.2.2\n",
      "py-cpuinfo==9.0.0\n",
      "pyasn1==0.4.8\n",
      "pyasn1-modules==0.2.8\n",
      "pycparser==2.21\n",
      "pygam==0.8.0\n",
      "Pygments==2.15.0\n",
      "pygpcca==1.0.4\n",
      "pymongo==4.3.3\n",
      "pynndescent==0.5.8\n",
      "pyparsing==3.0.9\n",
      "pyrsistent==0.19.3\n",
      "python-dateutil==2.8.2\n",
      "python-json-logger==2.0.7\n",
      "python-utils==3.5.2\n",
      "pytz==2023.3\n",
      "PyYAML==6.0\n",
      "pyzmq==25.0.2\n",
      "qtconsole==5.4.2\n",
      "QtPy==2.3.1\n",
      "requests==2.28.2\n",
      "requests-oauthlib==1.3.1\n",
      "rfc3339-validator==0.1.4\n",
      "rfc3986-validator==0.1.1\n",
      "rsa==4.9\n",
      "sacred==0.8.4\n",
      "scanpy==1.9.3\n",
      "scikit-learn==1.2.2\n",
      "scipy==1.10.1\n",
      "scvelo==0.2.5\n",
      "seaborn==0.12.2\n",
      "seml==0.3.7\n",
      "Send2Trash==1.8.0\n",
      "session-info==1.0.0\n",
      "six==1.16.0\n",
      "smmap==5.0.0\n",
      "sniffio==1.3.0\n",
      "soupsieve==2.4\n",
      "stack-data==0.6.2\n",
      "statsmodels==0.13.5\n",
      "stdlib-list==0.8.0\n",
      "submitit==1.4.5\n",
      "sympy==1.11.1\n",
      "tensorboard==2.12.1\n",
      "tensorboard-data-server==0.7.0\n",
      "tensorboard-plugin-wit==1.8.1\n",
      "terminado==0.17.1\n",
      "threadpoolctl==3.1.0\n",
      "tinycss2==1.2.1\n",
      "toml==0.10.2\n",
      "tomli==2.0.1\n",
      "torch==2.0.0\n",
      "torchmetrics==0.11.4\n",
      "tornado==6.2\n",
      "tqdm==4.65.0\n",
      "traitlets==5.9.0\n",
      "triton==2.0.0\n",
      "typing_extensions==4.5.0\n",
      "tzdata==2023.3\n",
      "umap-learn==0.5.3\n",
      "uri-template==1.2.0\n",
      "urllib3==1.26.15\n",
      "virtualenv==20.21.0\n",
      "wcwidth==0.2.6\n",
      "webcolors==1.13\n",
      "webencodings==0.5.1\n",
      "websocket-client==1.5.1\n",
      "Werkzeug==2.2.3\n",
      "widgetsnbextension==4.0.7\n",
      "wot @ git+https://github.com/broadinstitute/wot@ca5e94f05699997b01cf5ae13383f9810f0613f6\n",
      "wrapt==1.15.0\n",
      "zipp==3.15.0\n",
      "Note: you may need to restart the kernel to use updated packages.\n"
     ]
    }
   ],
   "source": [
    "pip freeze"
   ]
  },
  {
   "cell_type": "markdown",
   "id": "b3050bce-17e5-4c14-9b95-8ffbf91f2109",
   "metadata": {},
   "source": [
    "**Analyze host data**"
   ]
  },
  {
   "cell_type": "code",
   "execution_count": 23,
   "id": "81cb909d-ed28-4fe8-96d9-86e63f0d3ee6",
   "metadata": {
    "tags": []
   },
   "outputs": [
    {
     "ename": "NameError",
     "evalue": "name 'normalize_per_group' is not defined",
     "output_type": "error",
     "traceback": [
      "\u001b[0;31m---------------------------------------------------------------------------\u001b[0m",
      "\u001b[0;31mNameError\u001b[0m                                 Traceback (most recent call last)",
      "Cell \u001b[0;32mIn[23], line 2\u001b[0m\n\u001b[1;32m      1\u001b[0m \u001b[38;5;66;03m# sc.pp.normalize_total(adata_host)\u001b[39;00m\n\u001b[0;32m----> 2\u001b[0m adata_host \u001b[38;5;241m=\u001b[39m \u001b[43mnormalize_per_group\u001b[49m(adata_host, \u001b[38;5;124m\"\u001b[39m\u001b[38;5;124mcluster\u001b[39m\u001b[38;5;124m\"\u001b[39m)\n",
      "\u001b[0;31mNameError\u001b[0m: name 'normalize_per_group' is not defined"
     ]
    }
   ],
   "source": [
    "# sc.pp.normalize_total(adata_host)\n",
    "adata_host = normalize_per_group(adata_host, \"cluster\")"
   ]
  },
  {
   "cell_type": "code",
   "execution_count": null,
   "id": "882722ba-8aec-4efb-a42b-2d26f73b9def",
   "metadata": {
    "scrolled": true,
    "tags": []
   },
   "outputs": [],
   "source": [
    "sc.tl.pca(adata_host, svd_solver=\"arpack\", use_highly_variable=True)"
   ]
  },
  {
   "cell_type": "code",
   "execution_count": null,
   "id": "e78497a4",
   "metadata": {},
   "outputs": [],
   "source": [
    "adata_host"
   ]
  },
  {
   "cell_type": "code",
   "execution_count": null,
   "id": "416a35c8-5e34-40e3-9ed6-191533ad06f2",
   "metadata": {
    "tags": []
   },
   "outputs": [],
   "source": [
    "sc.pp.neighbors(adata_host, n_pcs=40)"
   ]
  },
  {
   "cell_type": "code",
   "execution_count": null,
   "id": "7e068d2d-7ab8-4e61-85ed-6c03f01e2999",
   "metadata": {
    "tags": []
   },
   "outputs": [],
   "source": [
    "sc.tl.umap(adata_host, min_dist=0.1, spread=1.5)"
   ]
  },
  {
   "cell_type": "code",
   "execution_count": null,
   "id": "beb63a04-0a90-4e3b-8702-ca42e5b7acb2",
   "metadata": {
    "tags": []
   },
   "outputs": [],
   "source": [
    "sc.pl.umap(adata_host, color=[\"cluster\", \"experimental_time\", \"interferon_score\", \"viral_load\", \"MOI\"], ncols=2, wspace=0.3)"
   ]
  },
  {
   "cell_type": "code",
   "execution_count": null,
   "id": "a4662020-f80c-4439-9c9e-1a551aa81df7",
   "metadata": {
    "tags": []
   },
   "outputs": [],
   "source": [
    "sc.pl.umap(adata_host, color=[\"cluster\", \"APOE\", \"CD55\", \"TSPAN13\", \"HES6\"], ncols=2, wspace=0.3)"
   ]
  },
  {
   "cell_type": "code",
   "execution_count": null,
   "id": "fa3e9971-f366-4b7e-bc0f-8044eb048007",
   "metadata": {
    "scrolled": true,
    "tags": []
   },
   "outputs": [],
   "source": [
    "sc.pl.umap(adata_host, color=[\"cluster\", \"NFKBIA\", \"JUN\", \"RELB\"], ncols=2, wspace=0.3)"
   ]
  },
  {
   "cell_type": "code",
   "execution_count": null,
   "id": "c11a522a-40b4-47ec-8da7-701d01c9d772",
   "metadata": {
    "tags": []
   },
   "outputs": [],
   "source": [
    "sc.pl.umap(adata_host, color=[\"cluster\", \"IFNB1\"], ncols=2, wspace=0.3)"
   ]
  },
  {
   "cell_type": "markdown",
   "id": "1ec8cd5c-e366-401b-ab4c-8c5038d54c6d",
   "metadata": {
    "tags": []
   },
   "source": [
    "**Analyze viral data**"
   ]
  },
  {
   "cell_type": "code",
   "execution_count": null,
   "id": "428a2f4f-b78b-4dc9-9034-fe81542675d3",
   "metadata": {
    "tags": []
   },
   "outputs": [],
   "source": [
    "# adata_viral = normalize_per_group(adata_viral, \"cluster\")"
   ]
  },
  {
   "cell_type": "code",
   "execution_count": null,
   "id": "7b0337d4",
   "metadata": {},
   "outputs": [],
   "source": [
    "adata_viral.X"
   ]
  },
  {
   "cell_type": "code",
   "execution_count": null,
   "id": "719daf82",
   "metadata": {
    "scrolled": true,
    "tags": []
   },
   "outputs": [],
   "source": [
    "sc.tl.pca(adata_viral, svd_solver=\"arpack\", use_highly_variable=True)"
   ]
  },
  {
   "cell_type": "code",
   "execution_count": null,
   "id": "296ccaa0",
   "metadata": {
    "tags": []
   },
   "outputs": [],
   "source": [
    "sc.pp.neighbors(adata_viral, n_pcs=40)"
   ]
  },
  {
   "cell_type": "code",
   "execution_count": null,
   "id": "b7e0c0d0-ac90-417b-93c5-e0acff1b1abd",
   "metadata": {
    "tags": []
   },
   "outputs": [],
   "source": [
    "sc.tl.umap(adata_viral, min_dist=0.1, spread=1.5)"
   ]
  },
  {
   "cell_type": "code",
   "execution_count": null,
   "id": "9a1da6be-787e-461f-9472-2c89e0ac4bb7",
   "metadata": {
    "tags": []
   },
   "outputs": [],
   "source": [
    "sc.pl.umap(adata_viral, color=[\"cluster\", \"experimental_time\", \"interferon_score\", \"viral_load\", \"MOI\", \"cell_cycle_phase\"], ncols=2, wspace=0.3)"
   ]
  },
  {
   "cell_type": "markdown",
   "id": "b9f33193-9250-4254-a6ea-360811ba6652",
   "metadata": {},
   "source": [
    "Plot gene expression of different highlighted genes "
   ]
  },
  {
   "cell_type": "code",
   "execution_count": null,
   "id": "6aac2716-0ae8-4a35-8d02-5728e10400af",
   "metadata": {
    "tags": []
   },
   "outputs": [],
   "source": [
    "sc.pl.umap(adata_viral, color=[\"experimental_time\", \"ORFL264C_(UL123)\", \"ORFS337C_(US10)\", \"ORFS327C_(US2)\"], ncols=2, wspace=0.3)"
   ]
  },
  {
   "cell_type": "code",
   "execution_count": null,
   "id": "9aab4ef3-ec46-498e-acbc-1295487b6cfb",
   "metadata": {
    "tags": []
   },
   "outputs": [],
   "source": [
    "sc.pl.umap(adata_viral, color=[\"experimental_time\", \"ORFL230W_(UL99)\", \"ORFL232C_(UL100)\"], ncols=2, wspace=0.3)"
   ]
  },
  {
   "cell_type": "code",
   "execution_count": null,
   "id": "94675fd1-60fa-4e3a-80af-1a3983468b40",
   "metadata": {
    "tags": []
   },
   "outputs": [],
   "source": [
    "sc.pl.umap(adata_viral, color=[\"experimental_time\", \"ORFS331C_(US6)\", \"ORFL196W_(UL78)\", \"ORFS361C_(US26)\", \"ORFL109C_(UL42)\", \n",
    "                              \"ORFS371W_(US34)\"], ncols=2, wspace=0.3)"
   ]
  },
  {
   "cell_type": "code",
   "execution_count": null,
   "id": "1954dff4-a98a-46a0-8a56-c85e34eb9c28",
   "metadata": {
    "tags": []
   },
   "outputs": [],
   "source": [
    "sc.pl.umap(adata_viral, color=[\"experimental_time\", \"ORFL34W_(UL4)\", \"ORFL127C_(UL48A)\"], ncols=2, wspace=0.3)"
   ]
  },
  {
   "cell_type": "markdown",
   "id": "34c0ef82-a38b-4b06-a1fc-00f186a4113d",
   "metadata": {},
   "source": [
    "Check if naive cells have viral reads"
   ]
  },
  {
   "cell_type": "code",
   "execution_count": null,
   "id": "1cfd5e71-ff89-4115-a884-c9c66729e535",
   "metadata": {
    "tags": []
   },
   "outputs": [],
   "source": [
    "tot_counts_viral = np.array(adata_viral[adata_viral.obs[\"cluster\"]==\"naive\"].X.sum(0)).squeeze()\n",
    "tot_counts_viral = np.argsort(tot_counts_viral)\n",
    "print(\"Lowly expressed genes\")\n",
    "print(adata_viral[adata_viral.obs[\"cluster\"]==\"naive\"].var.iloc[tot_counts_viral][:10].index)\n",
    "print(\"Highly expressed genes\")\n",
    "print(adata_viral[adata_viral.obs[\"cluster\"]==\"naive\"].var.iloc[tot_counts_viral][-10:].index)"
   ]
  },
  {
   "cell_type": "code",
   "execution_count": null,
   "id": "9bf131ab-8964-42c7-a4e3-bd86a9e12fd6",
   "metadata": {
    "tags": []
   },
   "outputs": [],
   "source": [
    "sc.pl.umap(adata_viral, color=[\"experimental_time\", \"ORFL269C\"], ncols=2, wspace=0.3)"
   ]
  },
  {
   "cell_type": "code",
   "execution_count": null,
   "id": "822dc39e-103c-4957-aa88-5d203f5fd7ca",
   "metadata": {
    "tags": []
   },
   "outputs": [],
   "source": [
    "sc.pl.umap(adata_viral, color=[\"experimental_time\", \"RNA2.7\", \"ORFL57W_(UL22A)\", \"ORFL105C_(UL40)\", \"ORFL50W_(UL17)\"], ncols=2, wspace=0.3)"
   ]
  },
  {
   "cell_type": "code",
   "execution_count": null,
   "id": "7b958f85-8fc9-4408-8392-d2048f375ada",
   "metadata": {
    "tags": []
   },
   "outputs": [],
   "source": [
    "def gene_vs_covariate(data, gene_name, covariate):\n",
    "    print(data[:, gene_name].X.A)\n",
    "    to_plot = pd.DataFrame({gene_name: data[:, gene_name].X.A.squeeze(),\n",
    "                            covariate: data.obs[covariate]})\n",
    "    sns.boxplot(to_plot, x=covariate, y=gene_name)"
   ]
  },
  {
   "cell_type": "code",
   "execution_count": null,
   "id": "36f63a2e-1576-4930-bbdd-8ec7c048bb97",
   "metadata": {
    "tags": []
   },
   "outputs": [],
   "source": [
    "gene_vs_covariate(adata_viral[adata_viral.obs[\"cluster\"]==\"naive\"], \"ORFL50W_(UL17)\", \"experimental_time\")"
   ]
  },
  {
   "cell_type": "markdown",
   "id": "9518d0fc-59ad-4ec6-8436-b78e34e520fc",
   "metadata": {},
   "source": [
    "**Now consider the whole anndata**"
   ]
  },
  {
   "cell_type": "code",
   "execution_count": null,
   "id": "3ab3f5ec-95bb-43d5-acf6-280db46c3f7d",
   "metadata": {
    "tags": []
   },
   "outputs": [],
   "source": [
    "sc.tl.pca(adata, svd_solver=\"arpack\", use_highly_variable=True)\n",
    "sc.pp.neighbors(adata, n_pcs=40)\n",
    "sc.tl.umap(adata, min_dist=0.1, spread=1.5)\n",
    "sc.pl.umap(adata, color=[\"cluster\", \"experimental_time\", \"interferon_score\", \"viral_load\", \"MOI\", \"cell_cycle_phase\"], ncols=2, wspace=0.3)"
   ]
  },
  {
   "cell_type": "code",
   "execution_count": null,
   "id": "86aa891b-7d4e-4ae5-83cc-c7730eda1c7f",
   "metadata": {
    "scrolled": true,
    "tags": []
   },
   "outputs": [],
   "source": [
    "sc.pl.umap(adata, color=[\"cluster\", \"experimental_time\", \"JUN\", \"RELB\"], ncols=2, wspace=0.3)"
   ]
  },
  {
   "cell_type": "markdown",
   "id": "b4628d2c",
   "metadata": {},
   "source": [
    "**Save the anndata**"
   ]
  },
  {
   "cell_type": "code",
   "execution_count": 57,
   "id": "e53a84fa",
   "metadata": {
    "tags": []
   },
   "outputs": [],
   "source": [
    "processed_data_dir = DATA_DIR / \"processed\""
   ]
  },
  {
   "cell_type": "code",
   "execution_count": 58,
   "id": "da314a0d",
   "metadata": {
    "tags": []
   },
   "outputs": [],
   "source": [
    "adata.write(processed_data_dir / \"unperturbed_time_course.h5ad\")\n",
    "adata.write(processed_data_dir / \"unperturbed_time_course_viral.h5ad\")\n",
    "adata.write(processed_data_dir / \"unperturbed_time_course_host.h5ad\")"
   ]
  },
  {
   "cell_type": "code",
   "execution_count": 82,
   "id": "27565c93-0811-4730-8648-316431a5bd84",
   "metadata": {
    "tags": []
   },
   "outputs": [
    {
     "data": {
      "text/plain": [
       "PosixPath('/Users/alessandro.palma/Desktop/backup/HOPARL_WP2/project_folder/data')"
      ]
     },
     "execution_count": 82,
     "metadata": {},
     "output_type": "execute_result"
    }
   ],
   "source": [
    "DATA_DIR"
   ]
  },
  {
   "cell_type": "code",
   "execution_count": 83,
   "id": "699b8834-9277-4ce8-9287-5bf91e03934e",
   "metadata": {},
   "outputs": [
    {
     "data": {
      "text/plain": [
       "AnnData object with n_obs × n_vars = 12919 × 34023\n",
       "    obs: 'cell_barcode', 'gem_group', 'UMI_count', 'guide_UMI_count', 'guide_read_count', 'guide_coverage', 'MOI', 'experimental_time', 'cell_cycle_phase', 'viral_load', 'interferon_score', 'cluster', 'UMAP_1', 'UMAP_2'\n",
       "    var: 'ENSMBL', 'gene ID', 'mt', 'is_host', 'highly_variable'\n",
       "    uns: 'pca', 'neighbors', 'umap', 'cluster_colors', 'MOI_colors', 'cell_cycle_phase_colors'\n",
       "    obsm: 'X_pca', 'X_umap'\n",
       "    varm: 'PCs'\n",
       "    obsp: 'distances', 'connectivities'"
      ]
     },
     "execution_count": 83,
     "metadata": {},
     "output_type": "execute_result"
    }
   ],
   "source": [
    "adata"
   ]
  },
  {
   "cell_type": "code",
   "execution_count": null,
   "id": "6879ff0d",
   "metadata": {},
   "outputs": [],
   "source": []
  }
 ],
 "metadata": {
  "kernelspec": {
   "display_name": "Python 3 (ipykernel)",
   "language": "python",
   "name": "python3"
  },
  "language_info": {
   "codemirror_mode": {
    "name": "ipython",
    "version": 3
   },
   "file_extension": ".py",
   "mimetype": "text/x-python",
   "name": "python",
   "nbconvert_exporter": "python",
   "pygments_lexer": "ipython3",
   "version": "3.9.16"
  }
 },
 "nbformat": 4,
 "nbformat_minor": 5
}
