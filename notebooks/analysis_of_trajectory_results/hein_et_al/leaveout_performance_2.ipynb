{
 "cells": [
  {
   "cell_type": "code",
   "execution_count": 20,
   "id": "5f465612",
   "metadata": {},
   "outputs": [],
   "source": [
    "from paths import DATA_DIR, CKPT_FOLDER, PROJECT_FOLDER\n",
    "\n",
    "import matplotlib.pyplot as plt\n",
    "import os\n",
    "import numpy as np\n",
    "import torch\n",
    "import anndata\n",
    "import scanpy as sc\n",
    "import sklearn\n",
    "import scvelo as scv\n",
    "\n",
    "import anndata\n",
    "import pandas as pd\n",
    "\n",
    "from IPython.display import display\n",
    "from torchdyn.core import NeuralODE\n",
    "\n",
    "from scCFM.datamodules.time_sc_datamodule import TrajectoryDataModule\n",
    "from scCFM.models.cfm.components.mlp import MLP\n",
    "from scCFM.models.cfm.cfm_module import CFMLitModule\n",
    "\n",
    "from scCFM.models.base.vae import VAE\n",
    "from scCFM.models.base.geometric_vae import GeometricNBVAE\n",
    "from scCFM.models.base.geodesic_ae import GeodesicAE\n",
    "\n",
    "from scCFM.datamodules.sc_datamodule import scDataModule\n",
    "from scCFM.models.cfm.components.eval.distribution_distances import compute_distribution_distances\n",
    "\n",
    "from notebooks.utils import decode_trajectory_single_step, standardize, compute_prdc"
   ]
  },
  {
   "cell_type": "markdown",
   "id": "09d363b9-65bc-4273-85d2-3cfaa07d3c4b",
   "metadata": {},
   "source": [
    "Initialize the device"
   ]
  },
  {
   "cell_type": "code",
   "execution_count": 21,
   "id": "9ccf4750",
   "metadata": {},
   "outputs": [],
   "source": [
    "device = \"cuda\" if torch.cuda.is_available() else \"cpu\""
   ]
  },
  {
   "cell_type": "code",
   "execution_count": 22,
   "id": "4fd2ec94-1c3b-4d0a-9da2-5eb4fe1de6d1",
   "metadata": {},
   "outputs": [],
   "source": [
    "def cross_standardize(tensor1, tensor2):\n",
    "    \"\"\"\n",
    "    Standardize tensor across the rows\n",
    "    \"\"\"\n",
    "    mean_t1, std_t1 = tensor1.mean(0), tensor1.std(0)\n",
    "    tensor1 = (tensor1 - mean_t1) / (std_t1 + 1e-6)\n",
    "    tensor2 = (tensor2 - mean_t1) / (std_t1 + 1e-6)\n",
    "    return tensor1, tensor2\n",
    "\n",
    "def update_dict(ref, tgt):\n",
    "    for key in tgt:\n",
    "        if key not in ref:\n",
    "            ref[key] = []\n",
    "        ref[key].append(tgt[key])\n",
    "    return ref"
   ]
  },
  {
   "cell_type": "markdown",
   "id": "8c0e1767-1abe-4746-afff-7439aeb0a2ab",
   "metadata": {},
   "source": [
    "Initialize datamodule"
   ]
  },
  {
   "cell_type": "code",
   "execution_count": 23,
   "id": "4761425c-8b15-4610-9861-b88a1e70a3e5",
   "metadata": {},
   "outputs": [],
   "source": [
    "datamodule={'path': PROJECT_FOLDER / 'data/hein_et_al/processed/unperturbed_time_course_host.h5ad', \n",
    "            'x_layer': 'X_norm', \n",
    "            'cond_keys': ['experimental_time', 'cluster'],\n",
    "            'use_pca': False, \n",
    "            'n_dimensions': None, \n",
    "            'train_val_test_split': [1], \n",
    "            'batch_size': 512, \n",
    "            'num_workers': 2}\n",
    "\n",
    "# Initialize datamodule\n",
    "datamodule = scDataModule(**datamodule)"
   ]
  },
  {
   "cell_type": "markdown",
   "id": "bb402a71-f7a0-40f1-b3c0-f02fa51b7f59",
   "metadata": {},
   "source": [
    "Initialize autoencoders"
   ]
  },
  {
   "cell_type": "code",
   "execution_count": 24,
   "id": "ff8366d0-3098-4bb2-9296-ba78f1618957",
   "metadata": {
    "scrolled": true
   },
   "outputs": [
    {
     "data": {
      "text/plain": [
       "GeodesicAE(\n",
       "  (encoder_layers): MLP(\n",
       "    (net): Sequential(\n",
       "      (0): Sequential(\n",
       "        (0): Linear(in_features=1727, out_features=256, bias=True)\n",
       "        (1): BatchNorm1d(256, eps=1e-05, momentum=0.1, affine=True, track_running_stats=True)\n",
       "        (2): ELU(alpha=1.0)\n",
       "      )\n",
       "    )\n",
       "  )\n",
       "  (decoder_layers): MLP(\n",
       "    (net): Sequential(\n",
       "      (0): Sequential(\n",
       "        (0): Linear(in_features=10, out_features=256, bias=True)\n",
       "        (1): BatchNorm1d(256, eps=1e-05, momentum=0.1, affine=True, track_running_stats=True)\n",
       "        (2): ELU(alpha=1.0)\n",
       "      )\n",
       "      (1): Sequential(\n",
       "        (0): Linear(in_features=256, out_features=1727, bias=True)\n",
       "        (1): BatchNorm1d(1727, eps=1e-05, momentum=0.1, affine=True, track_running_stats=True)\n",
       "        (2): ELU(alpha=1.0)\n",
       "      )\n",
       "    )\n",
       "  )\n",
       "  (decoder_mu_lib): Linear(in_features=256, out_features=1727, bias=True)\n",
       "  (latent_layer): Linear(in_features=256, out_features=10, bias=True)\n",
       "  (criterion): MSELoss()\n",
       ")"
      ]
     },
     "execution_count": 24,
     "metadata": {},
     "output_type": "execute_result"
    }
   ],
   "source": [
    "vae_kwargs={'in_dim': datamodule.in_dim,\n",
    "       'n_epochs_anneal_kl': 1000, \n",
    "       'kl_weight': None, \n",
    "       'likelihood': 'nb', \n",
    "       'dropout': False, \n",
    "       'learning_rate': 0.001, \n",
    "       'dropout_p': False, \n",
    "       'model_library_size': True, \n",
    "       'batch_norm': True, \n",
    "       'kl_warmup_fraction': 0.1, \n",
    "       'hidden_dims': [256, 10]}\n",
    "        \n",
    "geometric_kwargs={'compute_metrics_every': 1, \n",
    "           'use_c': True, \n",
    "           'l2': True, \n",
    "           'eta_interp': 0, \n",
    "           'interpolate_z': False, \n",
    "           'start_jac_after': 0, \n",
    "           'fl_weight': 0.1,\n",
    "           'detach_theta': True}\n",
    "\n",
    "geodesic_kwargs={\"in_dim\": datamodule.in_dim,\n",
    "          \"hidden_dims\": [256, 10],\n",
    "          \"batch_norm\": True,\n",
    "          \"dropout\": False, \n",
    "          \"dropout_p\": False,\n",
    "          \"likelihood\": \"nb\",\n",
    "          \"learning_rate\": 0.001}\n",
    "\n",
    "# Initialize vae and geometric vae\n",
    "vae = GeometricNBVAE(**geometric_kwargs, vae_kwargs=vae_kwargs).to(device)\n",
    "geometric_vae = GeometricNBVAE(**geometric_kwargs, vae_kwargs=vae_kwargs).to(device)\n",
    "geodesic_ae = GeodesicAE(**geodesic_kwargs).to(device)\n",
    "\n",
    "# Load state dicts and put in eval mode \n",
    "vae.load_state_dict(torch.load(PROJECT_FOLDER / \"checkpoints/ae/hein_et_al_complete/best_model_vae_lib.ckpt\")[\"state_dict\"])\n",
    "geometric_vae.load_state_dict(torch.load(PROJECT_FOLDER / \"checkpoints/ae/hein_et_al_complete/best_model_geometric_lib.ckpt\")[\"state_dict\"])\n",
    "geodesic_ae.load_state_dict(torch.load(PROJECT_FOLDER / \"checkpoints/ae/hein_et_al_complete/best_model_geodesic_ae.ckpt\")[\"state_dict\"])\n",
    "\n",
    "vae.eval()\n",
    "geometric_vae.eval()\n",
    "geodesic_ae.eval()"
   ]
  },
  {
   "cell_type": "markdown",
   "id": "ceeb44a2-28ab-42ed-b5d3-327161629831",
   "metadata": {},
   "source": [
    "## Setup CFMs"
   ]
  },
  {
   "cell_type": "code",
   "execution_count": 25,
   "id": "9f8247cb-b681-4e82-8905-f3af83b2032a",
   "metadata": {},
   "outputs": [],
   "source": [
    "leavout_timepoints_folder = CKPT_FOLDER / \"trajectory\" / \"hein_et_al\""
   ]
  },
  {
   "cell_type": "markdown",
   "id": "62c4acf8-5ea9-4d9c-abdf-cbbc2d1312bf",
   "metadata": {},
   "source": [
    "Initialize datamodule for trajectory"
   ]
  },
  {
   "cell_type": "code",
   "execution_count": 26,
   "id": "f4273aa1-2490-4582-abc7-5219c2e5f09c",
   "metadata": {},
   "outputs": [],
   "source": [
    "datamodule_kwargs_vae = {'path': PROJECT_FOLDER / 'data/hein_et_al/flat/hein_lib_complete.h5ad',\n",
    "                          'x_layer': 'X_latents',\n",
    "                          'time_key': 'experimental_time', \n",
    "                          'use_pca': False, \n",
    "                          'n_dimensions': None, \n",
    "                          'train_val_test_split': [0.9, 0.1], \n",
    "                          'num_workers': 2, \n",
    "                          'batch_size': 512, \n",
    "                          'model_library_size': True}\n",
    "\n",
    "datamodule_kwargs_flat = {'path': PROJECT_FOLDER / 'data/hein_et_al/flat/hein_flat_lib_complete.h5ad',\n",
    "                          'x_layer': 'X_latents',\n",
    "                          'time_key': 'experimental_time', \n",
    "                          'use_pca': False, \n",
    "                          'n_dimensions': None, \n",
    "                          'train_val_test_split': [0.9, 0.1], \n",
    "                          'num_workers': 2, \n",
    "                          'batch_size': 512, \n",
    "                           'model_library_size': True}\n",
    "\n",
    "datamodule_kwargs_geodesic= {'path': PROJECT_FOLDER / 'data/hein_et_al/flat/hein_geodesic_complete.h5ad',\n",
    "                          'x_layer': 'X_latents',\n",
    "                          'time_key': 'experimental_time', \n",
    "                          'use_pca': False, \n",
    "                          'n_dimensions': None, \n",
    "                          'train_val_test_split': [0.9, 0.1], \n",
    "                          'num_workers': 2, \n",
    "                          'batch_size': 512, \n",
    "                           'model_library_size': True}\n",
    "\n",
    "# Initialize the datamodules \n",
    "datamodule_vae = TrajectoryDataModule(**datamodule_kwargs_vae)\n",
    "datamodule_flat = TrajectoryDataModule(**datamodule_kwargs_flat)\n",
    "datamodule_geodesic = TrajectoryDataModule(**datamodule_kwargs_geodesic)\n",
    "\n",
    "# Mapping real times to index\n",
    "idx2time = datamodule_vae.idx2time"
   ]
  },
  {
   "cell_type": "markdown",
   "id": "00e5828a",
   "metadata": {},
   "source": [
    "## Read data"
   ]
  },
  {
   "cell_type": "markdown",
   "id": "6a1fa627-0299-49ea-b2a9-6309a3c491ef",
   "metadata": {},
   "source": [
    "First, read the latent space anndata and plot the results"
   ]
  },
  {
   "cell_type": "code",
   "execution_count": 38,
   "id": "8d0bfee4",
   "metadata": {},
   "outputs": [],
   "source": [
    "# Read latent anndata\n",
    "adata_latent_vae = sc.read_h5ad(DATA_DIR / \"hein_et_al\" / \"flat\" / \"hein_lib_complete.h5ad\")\n",
    "adata_latent_flat = sc.read_h5ad(DATA_DIR / \"hein_et_al\" / \"flat\" / \"hein_flat_lib_complete.h5ad\")\n",
    "adata_latent_geodesic = sc.read_h5ad(DATA_DIR / \"hein_et_al\" / \"flat\" / \"hein_geodesic_complete.h5ad\")\n",
    "\n",
    "# Read real anndata\n",
    "adata_hein_original = sc.read_h5ad(PROJECT_FOLDER / 'data/hein_et_al/processed/unperturbed_time_course_host.h5ad')\n",
    "sc.tl.pca(adata_hein_original, n_comps=50)\n",
    "adata_hein_original.X = adata_hein_original.layers[\"X_norm\"].copy()"
   ]
  },
  {
   "cell_type": "markdown",
   "id": "26176fd4-382d-480b-a396-d62368abd40e",
   "metadata": {},
   "source": [
    "Number of experiments "
   ]
  },
  {
   "cell_type": "code",
   "execution_count": 28,
   "id": "7b6d822e-1f8d-4af6-adda-2687dd127180",
   "metadata": {},
   "outputs": [
    {
     "data": {
      "text/plain": [
       "{0: 0.0,\n",
       " 1: 0.05,\n",
       " 2: 0.16666666666666666,\n",
       " 3: 0.23333333333333334,\n",
       " 4: 0.4,\n",
       " 5: 0.6,\n",
       " 6: 0.8,\n",
       " 7: 1.0}"
      ]
     },
     "execution_count": 28,
     "metadata": {},
     "output_type": "execute_result"
    }
   ],
   "source": [
    "n_timepoints = len(np.unique(adata_latent_vae.obs.experimental_time))\n",
    "idx2time = dict(zip(range(n_timepoints), np.unique(adata_latent_vae.obs.experimental_time)))\n",
    "idx2time"
   ]
  },
  {
   "cell_type": "markdown",
   "id": "50b70343",
   "metadata": {},
   "source": [
    "Initialize model"
   ]
  },
  {
   "cell_type": "code",
   "execution_count": 29,
   "id": "dcf2a556",
   "metadata": {},
   "outputs": [],
   "source": [
    "net_hparams = {\"dim\": adata_latent_flat.X.shape[1]+1,\n",
    "                \"w\": 64,\n",
    "                \"time_varying\": True}\n",
    "\n",
    "cfm_kwargs = {'ot_sampler': 'exact', \n",
    "                   'sigma': 0.1, \n",
    "                   'use_real_time': False, \n",
    "                   'lr': 0.001, \n",
    "                   'antithetic_time_sampling': True}"
   ]
  },
  {
   "cell_type": "markdown",
   "id": "18d0cf44-7d54-49cc-95ec-7a2639a039a1",
   "metadata": {},
   "source": [
    "## Evaluation"
   ]
  },
  {
   "cell_type": "markdown",
   "id": "55b4c17f-40ac-43aa-a8bf-33f3424b6f33",
   "metadata": {},
   "source": [
    "Load checkpoints"
   ]
  },
  {
   "cell_type": "code",
   "execution_count": 47,
   "id": "09f1696f-c361-4f88-9e4c-a7084f7bbdea",
   "metadata": {},
   "outputs": [],
   "source": [
    "# LATENT SPACE METRICS\n",
    "leaveout_ckpt_vae_latent = {}\n",
    "leaveout_ckpt_flat_latent = {}\n",
    "leaveout_ckpt_geodesic_latent = {}\n",
    "leaveout_ckpt_previous_latent = {}"
   ]
  },
  {
   "cell_type": "code",
   "execution_count": 48,
   "id": "3c33d559-bef8-471d-a9e8-342b1639f2bb",
   "metadata": {},
   "outputs": [],
   "source": [
    "# DATA SPACE METRICS\n",
    "leaveout_ckpt_vae_data = {}\n",
    "leaveout_ckpt_flat_data = {}\n",
    "leaveout_ckpt_geodesic_data = {}\n",
    "leaveout_ckpt_previous = {}"
   ]
  },
  {
   "cell_type": "code",
   "execution_count": 49,
   "id": "9a10949a-5b84-4e06-b980-81cb1643dde8",
   "metadata": {},
   "outputs": [
    {
     "name": "stdout",
     "output_type": "stream",
     "text": [
      "Time point 1\n",
      "predict decoded trajectory\n",
      "WARNING: adata.X seems to be already log-transformed.\n"
     ]
    },
    {
     "name": "stderr",
     "output_type": "stream",
     "text": [
      "/nfs/staff-ssd/pala/miniconda3/envs/scCFM/lib/python3.10/site-packages/scanpy/preprocessing/_simple.py:372: UserWarning: Received a view of an AnnData. Making a copy.\n",
      "  view_to_actual(adata)\n"
     ]
    },
    {
     "name": "stdout",
     "output_type": "stream",
     "text": [
      "Time point 2\n",
      "predict decoded trajectory\n",
      "WARNING: adata.X seems to be already log-transformed.\n"
     ]
    },
    {
     "name": "stderr",
     "output_type": "stream",
     "text": [
      "/nfs/staff-ssd/pala/miniconda3/envs/scCFM/lib/python3.10/site-packages/scanpy/preprocessing/_simple.py:372: UserWarning: Received a view of an AnnData. Making a copy.\n",
      "  view_to_actual(adata)\n"
     ]
    },
    {
     "name": "stdout",
     "output_type": "stream",
     "text": [
      "Time point 3\n",
      "predict decoded trajectory\n",
      "WARNING: adata.X seems to be already log-transformed.\n"
     ]
    },
    {
     "name": "stderr",
     "output_type": "stream",
     "text": [
      "/nfs/staff-ssd/pala/miniconda3/envs/scCFM/lib/python3.10/site-packages/scanpy/preprocessing/_simple.py:372: UserWarning: Received a view of an AnnData. Making a copy.\n",
      "  view_to_actual(adata)\n"
     ]
    },
    {
     "name": "stdout",
     "output_type": "stream",
     "text": [
      "Time point 4\n",
      "predict decoded trajectory\n",
      "WARNING: adata.X seems to be already log-transformed.\n"
     ]
    },
    {
     "name": "stderr",
     "output_type": "stream",
     "text": [
      "/nfs/staff-ssd/pala/miniconda3/envs/scCFM/lib/python3.10/site-packages/scanpy/preprocessing/_simple.py:372: UserWarning: Received a view of an AnnData. Making a copy.\n",
      "  view_to_actual(adata)\n"
     ]
    },
    {
     "name": "stdout",
     "output_type": "stream",
     "text": [
      "Time point 5\n",
      "predict decoded trajectory\n",
      "WARNING: adata.X seems to be already log-transformed.\n"
     ]
    },
    {
     "name": "stderr",
     "output_type": "stream",
     "text": [
      "/nfs/staff-ssd/pala/miniconda3/envs/scCFM/lib/python3.10/site-packages/scanpy/preprocessing/_simple.py:372: UserWarning: Received a view of an AnnData. Making a copy.\n",
      "  view_to_actual(adata)\n"
     ]
    },
    {
     "name": "stdout",
     "output_type": "stream",
     "text": [
      "Time point 6\n",
      "predict decoded trajectory\n",
      "WARNING: adata.X seems to be already log-transformed.\n"
     ]
    },
    {
     "name": "stderr",
     "output_type": "stream",
     "text": [
      "/nfs/staff-ssd/pala/miniconda3/envs/scCFM/lib/python3.10/site-packages/scanpy/preprocessing/_simple.py:372: UserWarning: Received a view of an AnnData. Making a copy.\n",
      "  view_to_actual(adata)\n"
     ]
    }
   ],
   "source": [
    "for tp in range(1, n_timepoints-1):\n",
    "    print(f\"Time point {tp}\")\n",
    "    #Pick time 0 observations\n",
    "    X_adata_t0_latent_vae = torch.from_numpy(adata_latent_vae[adata_latent_vae.obs[\"experimental_time\"]==idx2time[(tp-1)]].X).to(device)\n",
    "    X_adata_t0_latent_flat = torch.from_numpy(adata_latent_flat[adata_latent_flat.obs[\"experimental_time\"]==idx2time[(tp-1)]].X).to(device)\n",
    "    X_adata_t0_latent_geodesic = torch.from_numpy(adata_latent_geodesic[adata_latent_geodesic.obs[\"experimental_time\"]==idx2time[(tp-1)]].X).to(device)\n",
    "\n",
    "    # Pick observations next timepoint \n",
    "    X_adata_t1_latent_vae = torch.from_numpy(adata_latent_vae[adata_latent_vae.obs[\"experimental_time\"]==idx2time[tp]].X).to(device)\n",
    "    X_adata_t1_latent_flat = torch.from_numpy(adata_latent_flat[adata_latent_flat.obs[\"experimental_time\"]==idx2time[tp]].X).to(device)\n",
    "    X_adata_t1_latent_geodesic = torch.from_numpy(adata_latent_geodesic[adata_latent_geodesic.obs[\"experimental_time\"]==idx2time[tp]].X).to(device)    \n",
    "\n",
    "    # Collect PCs    \n",
    "    X_adata_real_pca = torch.from_numpy(adata_eb_original[adata_eb_original.obs[\"experimental_time\"]==idx2time[tp]].obsm[\"X_pca\"]).to(device)\n",
    "    X_adata_real = torch.from_numpy(adata_eb_original[adata_eb_original.obs[\"experimental_time\"]==idx2time[tp]].layers[\"X_log\"].A).to(device)\n",
    "\n",
    "    #Pick library sizes\n",
    "    l_t0_vae = adata_latent_vae.obs.loc[adata_latent_vae.obs[\"experimental_time\"]==idx2time[(tp-1)], \"log_library_size\"].to_numpy()\n",
    "    l_t0_flat = adata_latent_flat.obs.loc[adata_latent_flat.obs[\"experimental_time\"]==idx2time[(tp-1)], \"log_library_size\"].to_numpy()\n",
    "    l_t0_geodesic = adata_latent_geodesic.obs.loc[adata_latent_geodesic.obs[\"experimental_time\"]==idx2time[(tp-1)], \"log_library_size\"].to_numpy()\n",
    "\n",
    "    #Pick library sizes\n",
    "    l_t0_vae = torch.from_numpy(l_t0_vae).to(device)\n",
    "    l_t0_flat = torch.from_numpy(l_t0_flat).to(device)\n",
    "    l_t0_geodesic = torch.from_numpy(l_t0_geodesic).to(device)\n",
    "\n",
    "    # Initialize nets\n",
    "    net_vae = MLP(**net_hparams).to(device)\n",
    "    net_flat = MLP(**net_hparams).to(device)\n",
    "    net_geodesic = MLP(**net_hparams).to(device)\n",
    "    cfm_vae = CFMLitModule(net=net_vae, datamodule=datamodule_vae, **cfm_kwargs).to(device)\n",
    "    cfm_flat = CFMLitModule(net=net_flat, datamodule=datamodule_flat, **cfm_kwargs).to(device)\n",
    "    cfm_geodesic = CFMLitModule(net=net_geodesic, datamodule=datamodule_geodesic, **cfm_kwargs).to(device)\n",
    "\n",
    "    # Read the checkpoints\n",
    "    cfm_vae.load_state_dict(torch.load(leavout_timepoints_folder / f\"hein_vae_leaveout_{tp}.ckpt\")[\"state_dict\"])\n",
    "    cfm_flat.load_state_dict(torch.load(leavout_timepoints_folder / f\"hein_flat_leaveout_{tp}.ckpt\")[\"state_dict\"])\n",
    "    cfm_geodesic.load_state_dict(torch.load(leavout_timepoints_folder / f\"hein_geodesic_leaveout_{tp}.ckpt\")[\"state_dict\"])\n",
    "\n",
    "    mu_adata_predicted_vae, X_adata_predicted_vae, X_adata_latent_vae = decode_trajectory_single_step(X_adata_t0_latent_vae, \n",
    "                                                                                 l_t0_vae, \n",
    "                                                                                 tp-1, \n",
    "                                                                                 cfm_vae, \n",
    "                                                                                 vae)\n",
    "                                                                                \n",
    "    mu_adata_predicted_flat, X_adata_predicted_flat, X_adata_latent_flat = decode_trajectory_single_step(X_adata_t0_latent_flat, \n",
    "                                                                                   l_t0_flat, \n",
    "                                                                                   tp-1, \n",
    "                                                                                   cfm_flat, \n",
    "                                                                                   geometric_vae)\n",
    "                                                                                  \n",
    "    mu_adata_predicted_geodesic, X_adata_predicted_geodesic, X_adata_latent_geodesic = decode_trajectory_single_step(X_adata_t0_latent_geodesic, \n",
    "                                                                                           l_t0_geodesic, \n",
    "                                                                                           tp-1, \n",
    "                                                                                           cfm_geodesic, \n",
    "                                                                                           geodesic_ae, \n",
    "                                                                                           model_type=\"geodesic_ae\")\n",
    "\n",
    "    ## PREDICT LATENT TRAJECTORIES \n",
    "    X_adata_t1_latent_vae, X_adata_latent_vae = cross_standardize(X_adata_t1_latent_vae, X_adata_latent_vae[:,:-1])\n",
    "    X_adata_t1_latent_flat, X_adata_latent_flat = cross_standardize(X_adata_t1_latent_flat, X_adata_latent_flat[:,:-1])\n",
    "    X_adata_t1_latent_geodesic, X_adata_latent_geodesic = cross_standardize(X_adata_t1_latent_geodesic, X_adata_latent_geodesic[:,:-1])\n",
    "                                                                                   \n",
    "    d_dist_vae_l = compute_distribution_distances(X_adata_t1_latent_vae.unsqueeze(1).to(\"cpu\"), \n",
    "                                         X_adata_latent_vae.unsqueeze(1).to(\"cpu\"))\n",
    "    d_dist_flat_l = compute_distribution_distances(X_adata_t1_latent_flat.unsqueeze(1).to(\"cpu\"),\n",
    "                                         X_adata_latent_flat.unsqueeze(1).to(\"cpu\"))\n",
    "    d_dist_geod_l = compute_distribution_distances(X_adata_t1_latent_geodesic.unsqueeze(1).to(\"cpu\"),\n",
    "                                         X_adata_latent_geodesic.unsqueeze(1).to(\"cpu\"))\n",
    "    d_dist_prev = compute_distribution_distances(X_adata_t1_latent_vae.unsqueeze(1).to(\"cpu\"),\n",
    "                                         X_adata_t0_latent_vae.unsqueeze(1).to(\"cpu\"))\n",
    "    \n",
    "    d_dist_vae_l = dict(zip(d_dist_vae_l[0], d_dist_vae_l[1]))\n",
    "    d_dist_flat_l = dict(zip(d_dist_flat_l[0], d_dist_flat_l[1]))\n",
    "    d_dist_geod_l = dict(zip(d_dist_geod_l[0], d_dist_geod_l[1]))\n",
    "    d_dist_prev_l = dict(zip(d_dist_prev[0], d_dist_prev[1]))\n",
    "    \n",
    "    leaveout_ckpt_vae_latent = update_dict(leaveout_ckpt_vae_latent, d_dist_vae_l)\n",
    "    leaveout_ckpt_flat_latent = update_dict(leaveout_ckpt_flat_latent, d_dist_flat_l)\n",
    "    leaveout_ckpt_geodesic_latent = update_dict(leaveout_ckpt_geodesic_latent, d_dist_geod_l)\n",
    "    leaveout_ckpt_previous_latent = update_dict(leaveout_ckpt_previous, d_dist_prev_l)\n",
    "\n",
    "    print(\"predict decoded trajectory\")\n",
    "    X_adata_predicted_vae = anndata.AnnData(X=X_adata_predicted_vae.numpy())\n",
    "    X_adata_predicted_flat = anndata.AnnData(X=X_adata_predicted_flat.numpy())\n",
    "    X_adata_predicted_geodesic = anndata.AnnData(X=X_adata_predicted_geodesic.numpy())\n",
    "    X_adata_prev = adata_hein_original[adata_hein_original.obs[\"experimental_time\"]==idx2time[tp-1]]\n",
    "    \n",
    "    sc.pp.log1p(X_adata_predicted_vae)\n",
    "    sc.pp.log1p(X_adata_predicted_flat)\n",
    "    sc.pp.log1p(X_adata_prev)\n",
    "    sc.tl.pca(X_adata_predicted_vae, n_comps=50)\n",
    "    sc.tl.pca(X_adata_predicted_flat, n_comps=50)\n",
    "    sc.tl.pca(X_adata_predicted_geodesic, n_comps=50)\n",
    "    sc.tl.pca(X_adata_prev, n_comps=50)\n",
    "    \n",
    "    d_dist_vae_d = compute_prdc(torch.from_numpy(X_adata_predicted_vae.obsm[\"X_pca\"].copy()), \n",
    "                                             X_adata_real_pca.to(\"cpu\"), nearest_k=10)\n",
    "    d_dist_flat_d = compute_prdc(torch.from_numpy(X_adata_predicted_flat.obsm[\"X_pca\"].copy()), \n",
    "                                             X_adata_real_pca.to(\"cpu\"), nearest_k=10)\n",
    "    d_dist_geodesic_d = compute_prdc(torch.from_numpy(X_adata_predicted_geodesic.obsm[\"X_pca\"].copy()), \n",
    "                                             X_adata_real_pca.to(\"cpu\"), nearest_k=10)\n",
    "    d_dist_prev_d = compute_prdc(torch.from_numpy(X_adata_prev.obsm[\"X_pca\"]), \n",
    "                                             X_adata_real_pca.to(\"cpu\"), nearest_k=10)\n",
    "\n",
    "    leaveout_ckpt_vae_data = update_dict(leaveout_ckpt_vae_data, d_dist_vae_d)\n",
    "    leaveout_ckpt_flat_data = update_dict(leaveout_ckpt_flat_data, d_dist_flat_d)\n",
    "    leaveout_ckpt_geodesic_data = update_dict(leaveout_ckpt_geodesic_data, d_dist_geodesic_d)\n",
    "    leaveout_ckpt_previous_latent = update_dict(leaveout_ckpt_previous, d_dist_prev_d)"
   ]
  },
  {
   "cell_type": "markdown",
   "id": "4cdee1f4-2733-4935-858b-ec6518b74578",
   "metadata": {},
   "source": [
    "**Latent**"
   ]
  },
  {
   "cell_type": "code",
   "execution_count": 50,
   "id": "71d9d808-8db1-4a7f-ad40-b2496f2394a7",
   "metadata": {},
   "outputs": [
    {
     "data": {
      "text/plain": [
       "1-Wasserstein    2.024811\n",
       "2-Wasserstein    2.129322\n",
       "Linear_MMD       0.113428\n",
       "Poly_MMD         0.302331\n",
       "RBF_MMD          0.247716\n",
       "Mean_MSE         0.128685\n",
       "Mean_L2          0.329420\n",
       "Mean_L1          0.266932\n",
       "dtype: float64"
      ]
     },
     "execution_count": 50,
     "metadata": {},
     "output_type": "execute_result"
    }
   ],
   "source": [
    "pd.DataFrame(leaveout_ckpt_vae_latent).mean(0)"
   ]
  },
  {
   "cell_type": "code",
   "execution_count": 51,
   "id": "337bc390-8e9d-41c4-8e35-51410310d8d8",
   "metadata": {},
   "outputs": [
    {
     "data": {
      "text/plain": [
       "1-Wasserstein    1.796140\n",
       "2-Wasserstein    1.973514\n",
       "Linear_MMD       0.163645\n",
       "Poly_MMD         0.359617\n",
       "RBF_MMD          0.296946\n",
       "Mean_MSE         0.166371\n",
       "Mean_L2          0.374711\n",
       "Mean_L1          0.305529\n",
       "dtype: float64"
      ]
     },
     "execution_count": 51,
     "metadata": {},
     "output_type": "execute_result"
    }
   ],
   "source": [
    "pd.DataFrame(leaveout_ckpt_flat_latent).mean(0)"
   ]
  },
  {
   "cell_type": "code",
   "execution_count": 52,
   "id": "5ba4be1b-0cbc-4273-95c4-84769b0ac9bd",
   "metadata": {},
   "outputs": [
    {
     "data": {
      "text/plain": [
       "1-Wasserstein    1.684322\n",
       "2-Wasserstein    1.792405\n",
       "Linear_MMD       0.044898\n",
       "Poly_MMD         0.179994\n",
       "RBF_MMD          0.141314\n",
       "Mean_MSE         0.054560\n",
       "Mean_L2          0.203742\n",
       "Mean_L1          0.159653\n",
       "dtype: float64"
      ]
     },
     "execution_count": 52,
     "metadata": {},
     "output_type": "execute_result"
    }
   ],
   "source": [
    "pd.DataFrame(leaveout_ckpt_geodesic_latent).mean(0)"
   ]
  },
  {
   "cell_type": "code",
   "execution_count": 53,
   "id": "7ca44da9-1ed9-4d71-8bdd-62adebf3d1bd",
   "metadata": {},
   "outputs": [
    {
     "data": {
      "text/plain": [
       "{'1-Wasserstein': [3.590788820292704,\n",
       "  3.1652559458982585,\n",
       "  2.013340199981804,\n",
       "  1.8891657742112176,\n",
       "  2.386414933473867,\n",
       "  3.0120303707244576],\n",
       " '2-Wasserstein': [3.693727755567239,\n",
       "  3.2471132703057606,\n",
       "  2.0989638739940255,\n",
       "  2.0031371024756304,\n",
       "  2.513470513805088,\n",
       "  3.0667211609764604],\n",
       " 'Linear_MMD': [0.9655517339706421,\n",
       "  0.4951860308647156,\n",
       "  0.1430787742137909,\n",
       "  0.08102326095104218,\n",
       "  0.0603393018245697,\n",
       "  0.24940434098243713],\n",
       " 'Poly_MMD': [0.9826249202878187,\n",
       "  0.7036945579331387,\n",
       "  0.378257550108112,\n",
       "  0.2846458518071925,\n",
       "  0.24564059482212972,\n",
       "  0.4994039857494503],\n",
       " 'RBF_MMD': [0.9037631750106812,\n",
       "  0.5949233174324036,\n",
       "  0.32194235920906067,\n",
       "  0.25268489122390747,\n",
       "  0.19701287150382996,\n",
       "  0.3519399166107178],\n",
       " 'Mean_MSE': [0.9975139498710632,\n",
       "  0.5083293318748474,\n",
       "  0.15305648744106293,\n",
       "  0.09046776592731476,\n",
       "  0.11422283947467804,\n",
       "  0.2876507639884949],\n",
       " 'Mean_L2': [0.9987562014180754,\n",
       "  0.7129721816977486,\n",
       "  0.3912243441314241,\n",
       "  0.3007785995168452,\n",
       "  0.3379686959981324,\n",
       "  0.5363308344562103],\n",
       " 'Mean_L1': [0.9042655825614929,\n",
       "  0.5862047672271729,\n",
       "  0.33431968092918396,\n",
       "  0.2718178629875183,\n",
       "  0.2650015950202942,\n",
       "  0.39484748244285583],\n",
       " 'precision': [0.23215523215523215,\n",
       "  0.42547207713941343,\n",
       "  0.6250789639924195,\n",
       "  0.519811320754717,\n",
       "  0.08645533141210375,\n",
       "  0.3537871524448706],\n",
       " 'recall': [0.6298773690078038,\n",
       "  0.3194733194733195,\n",
       "  0.3844917637605464,\n",
       "  0.25900189513581806,\n",
       "  0.25424528301886795,\n",
       "  0.3390970220941403],\n",
       " 'density': [0.05918225918225918,\n",
       "  0.6889112093210126,\n",
       "  0.3774478837650032,\n",
       "  0.2854245283018868,\n",
       "  0.020557156580211337,\n",
       "  0.07114093959731543],\n",
       " 'coverage': [0.11817168338907469,\n",
       "  0.35343035343035345,\n",
       "  0.290879871434311,\n",
       "  0.21036007580543273,\n",
       "  0.05566037735849057,\n",
       "  0.0393852065321806]}"
      ]
     },
     "execution_count": 53,
     "metadata": {},
     "output_type": "execute_result"
    }
   ],
   "source": [
    "leaveout_ckpt_previous_latent"
   ]
  },
  {
   "cell_type": "code",
   "execution_count": 54,
   "id": "18e3cda2-feda-44f3-97f9-64eb201cb65b",
   "metadata": {},
   "outputs": [
    {
     "data": {
      "text/plain": [
       "1-Wasserstein    2.676166\n",
       "2-Wasserstein    2.770522\n",
       "Linear_MMD       0.332431\n",
       "Poly_MMD         0.515711\n",
       "RBF_MMD          0.437044\n",
       "Mean_MSE         0.358540\n",
       "Mean_L2          0.546338\n",
       "Mean_L1          0.459409\n",
       "precision        0.373793\n",
       "recall           0.364364\n",
       "density          0.250444\n",
       "coverage         0.177981\n",
       "dtype: float64"
      ]
     },
     "execution_count": 54,
     "metadata": {},
     "output_type": "execute_result"
    }
   ],
   "source": [
    "pd.DataFrame(leaveout_ckpt_previous_latent).mean(0)"
   ]
  },
  {
   "cell_type": "markdown",
   "id": "8195b16c-80fb-4ce7-81b2-372545b26440",
   "metadata": {},
   "source": [
    "**Data space**"
   ]
  },
  {
   "cell_type": "code",
   "execution_count": 55,
   "id": "d5c13d91-1c5b-4592-a44b-a52fff7da1f3",
   "metadata": {},
   "outputs": [
    {
     "data": {
      "text/plain": [
       "precision    0.750372\n",
       "recall       0.150647\n",
       "density      1.416885\n",
       "coverage     0.659755\n",
       "dtype: float64"
      ]
     },
     "execution_count": 55,
     "metadata": {},
     "output_type": "execute_result"
    }
   ],
   "source": [
    "pd.DataFrame(leaveout_ckpt_vae_data).mean(0)"
   ]
  },
  {
   "cell_type": "code",
   "execution_count": 56,
   "id": "e2e1dee0-d06e-4c59-836b-4449f26b8e42",
   "metadata": {},
   "outputs": [
    {
     "data": {
      "text/plain": [
       "precision    0.766666\n",
       "recall       0.058059\n",
       "density      3.100853\n",
       "coverage     0.817091\n",
       "dtype: float64"
      ]
     },
     "execution_count": 56,
     "metadata": {},
     "output_type": "execute_result"
    }
   ],
   "source": [
    "pd.DataFrame(leaveout_ckpt_flat_data).mean(0)"
   ]
  },
  {
   "cell_type": "code",
   "execution_count": 57,
   "id": "fec55fb5-1172-4366-b0ee-064bcf99d314",
   "metadata": {},
   "outputs": [
    {
     "data": {
      "text/plain": [
       "precision    0.009464\n",
       "recall       0.883743\n",
       "density      0.001170\n",
       "coverage     0.002569\n",
       "dtype: float64"
      ]
     },
     "execution_count": 57,
     "metadata": {},
     "output_type": "execute_result"
    }
   ],
   "source": [
    "pd.DataFrame(leaveout_ckpt_geodesic_data).mean(0)"
   ]
  },
  {
   "cell_type": "code",
   "execution_count": 59,
   "id": "ba6a8bda-4af7-4ac4-bef5-ccf97a184884",
   "metadata": {},
   "outputs": [
    {
     "data": {
      "text/plain": [
       "1-Wasserstein    2.676166\n",
       "2-Wasserstein    2.770522\n",
       "Linear_MMD       0.332431\n",
       "Poly_MMD         0.515711\n",
       "RBF_MMD          0.437044\n",
       "Mean_MSE         0.358540\n",
       "Mean_L2          0.546338\n",
       "Mean_L1          0.459409\n",
       "precision        0.373793\n",
       "recall           0.364364\n",
       "density          0.250444\n",
       "coverage         0.177981\n",
       "dtype: float64"
      ]
     },
     "execution_count": 59,
     "metadata": {},
     "output_type": "execute_result"
    }
   ],
   "source": [
    "pd.DataFrame(leaveout_ckpt_previous_latent).mean(0)"
   ]
  },
  {
   "cell_type": "code",
   "execution_count": null,
   "id": "24a19b9a-3f0d-47c2-8faf-0acb7150f702",
   "metadata": {},
   "outputs": [],
   "source": []
  },
  {
   "cell_type": "code",
   "execution_count": null,
   "id": "553b6442-fc5d-413d-b7d8-dfe3b5887414",
   "metadata": {},
   "outputs": [],
   "source": []
  }
 ],
 "metadata": {
  "kernelspec": {
   "display_name": "Python 3 (ipykernel)",
   "language": "python",
   "name": "python3"
  },
  "language_info": {
   "codemirror_mode": {
    "name": "ipython",
    "version": 3
   },
   "file_extension": ".py",
   "mimetype": "text/x-python",
   "name": "python",
   "nbconvert_exporter": "python",
   "pygments_lexer": "ipython3",
   "version": "3.10.12"
  }
 },
 "nbformat": 4,
 "nbformat_minor": 5
}
