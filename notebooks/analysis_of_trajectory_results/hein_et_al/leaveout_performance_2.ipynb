{
 "cells": [
  {
   "cell_type": "code",
   "execution_count": 1,
   "id": "5f465612",
   "metadata": {},
   "outputs": [
    {
     "name": "stderr",
     "output_type": "stream",
     "text": [
      "No GPU/TPU found, falling back to CPU. (Set TF_CPP_MIN_LOG_LEVEL=0 and rerun for more info.)\n"
     ]
    }
   ],
   "source": [
    "from paths import DATA_DIR, CKPT_FOLDER, PROJECT_FOLDER\n",
    "\n",
    "import matplotlib.pyplot as plt\n",
    "import os\n",
    "import numpy as np\n",
    "import torch\n",
    "import anndata\n",
    "import scanpy as sc\n",
    "import sklearn\n",
    "import scvelo as scv\n",
    "\n",
    "import anndata\n",
    "import pandas as pd\n",
    "\n",
    "from IPython.display import display\n",
    "from torchdyn.core import NeuralODE\n",
    "\n",
    "from scCFM.datamodules.time_sc_datamodule import TrajectoryDataModule\n",
    "from scCFM.models.cfm.components.mlp import MLP\n",
    "from scCFM.models.cfm.cfm_module import CFMLitModule\n",
    "\n",
    "from scCFM.models.base.vae import VAE\n",
    "from scCFM.models.base.geometric_vae import GeometricNBVAE\n",
    "from scCFM.models.base.geodesic_ae import GeodesicAE\n",
    "\n",
    "from scCFM.datamodules.sc_datamodule import scDataModule\n",
    "from scCFM.models.cfm.components.eval.distribution_distances import compute_distribution_distances\n",
    "\n",
    "from notebooks.utils import decode_trajectory_single_step, standardize, compute_prdc"
   ]
  },
  {
   "cell_type": "markdown",
   "id": "09d363b9-65bc-4273-85d2-3cfaa07d3c4b",
   "metadata": {},
   "source": [
    "Initialize the device"
   ]
  },
  {
   "cell_type": "code",
   "execution_count": 2,
   "id": "9ccf4750",
   "metadata": {},
   "outputs": [],
   "source": [
    "device = \"cuda\" if torch.cuda.is_available() else \"cpu\""
   ]
  },
  {
   "cell_type": "code",
   "execution_count": 3,
   "id": "4fd2ec94-1c3b-4d0a-9da2-5eb4fe1de6d1",
   "metadata": {},
   "outputs": [],
   "source": [
    "def cross_standardize(tensor1, tensor2):\n",
    "    \"\"\"\n",
    "    Standardize tensor across the rows\n",
    "    \"\"\"\n",
    "    mean_t1, std_t1 = tensor1.mean(0), tensor1.std(0)\n",
    "    tensor1 = (tensor1 - mean_t1) / (std_t1 + 1e-6)\n",
    "    tensor2 = (tensor2 - mean_t1) / (std_t1 + 1e-6)\n",
    "    return tensor1, tensor2\n",
    "\n",
    "def update_dict(ref, tgt):\n",
    "    \"\"\"\n",
    "    Update a dictionary with the values of another \n",
    "    \"\"\"\n",
    "    for key in tgt:\n",
    "        if key not in ref:\n",
    "            ref[key] = []\n",
    "        ref[key].append(tgt[key])\n",
    "    return ref"
   ]
  },
  {
   "cell_type": "markdown",
   "id": "8c0e1767-1abe-4746-afff-7439aeb0a2ab",
   "metadata": {},
   "source": [
    "Initialize datamodule"
   ]
  },
  {
   "cell_type": "code",
   "execution_count": 4,
   "id": "4761425c-8b15-4610-9861-b88a1e70a3e5",
   "metadata": {},
   "outputs": [],
   "source": [
    "datamodule={'path': PROJECT_FOLDER / 'data/hein_et_al/processed/unperturbed_time_course_host.h5ad', \n",
    "            'x_layer': 'X_norm', \n",
    "            'cond_keys': ['experimental_time', 'cluster'],\n",
    "            'use_pca': False, \n",
    "            'n_dimensions': None, \n",
    "            'train_val_test_split': [1], \n",
    "            'batch_size': 512, \n",
    "            'num_workers': 2}\n",
    "\n",
    "# Initialize datamodule\n",
    "datamodule = scDataModule(**datamodule)"
   ]
  },
  {
   "cell_type": "markdown",
   "id": "bb402a71-f7a0-40f1-b3c0-f02fa51b7f59",
   "metadata": {},
   "source": [
    "Initialize autoencoders"
   ]
  },
  {
   "cell_type": "code",
   "execution_count": 5,
   "id": "ff8366d0-3098-4bb2-9296-ba78f1618957",
   "metadata": {
    "scrolled": true
   },
   "outputs": [
    {
     "data": {
      "text/plain": [
       "<All keys matched successfully>"
      ]
     },
     "execution_count": 5,
     "metadata": {},
     "output_type": "execute_result"
    }
   ],
   "source": [
    "vae_kwargs={'in_dim': datamodule.in_dim,\n",
    "       'n_epochs_anneal_kl': 1000, \n",
    "       'kl_weight': None, \n",
    "       'likelihood': 'nb', \n",
    "       'dropout': False, \n",
    "       'learning_rate': 0.001, \n",
    "       'dropout_p': False, \n",
    "       'model_library_size': True, \n",
    "       'batch_norm': True, \n",
    "       'kl_warmup_fraction': 0.1, \n",
    "       'hidden_dims': [256, 10]}\n",
    "        \n",
    "geometric_kwargs={'compute_metrics_every': 1, \n",
    "           'use_c': True, \n",
    "           'l2': True, \n",
    "           'eta_interp': 0, \n",
    "           'interpolate_z': False, \n",
    "           'start_jac_after': 0, \n",
    "           'fl_weight': 0.1,\n",
    "           'detach_theta': True}\n",
    "\n",
    "geodesic_kwargs={\"in_dim\": datamodule.in_dim,\n",
    "          \"hidden_dims\": [256, 10],\n",
    "          \"batch_norm\": True,\n",
    "          \"dropout\": False, \n",
    "          \"dropout_p\": False,\n",
    "          \"likelihood\": \"nb\",\n",
    "          \"learning_rate\": 0.001}\n",
    "\n",
    "# Initialize vae and geometric vae\n",
    "vae = GeometricNBVAE(**geometric_kwargs, vae_kwargs=vae_kwargs).to(device)\n",
    "geometric_vae = GeometricNBVAE(**geometric_kwargs, vae_kwargs=vae_kwargs).to(device)\n",
    "geodesic_ae = GeodesicAE(**geodesic_kwargs).to(device)\n",
    "\n",
    "# Load state dicts and put in eval mode \n",
    "vae.load_state_dict(torch.load(PROJECT_FOLDER / \"checkpoints/ae/hein_et_al_complete/best_model_vae_lib.ckpt\")[\"state_dict\"])\n",
    "geometric_vae.load_state_dict(torch.load(PROJECT_FOLDER / \"checkpoints/ae/hein_et_al_complete/best_model_geometric_lib.ckpt\")[\"state_dict\"])\n",
    "geodesic_ae.load_state_dict(torch.load(PROJECT_FOLDER / \"checkpoints/ae/hein_et_al_complete/best_model_geodesic_ae.ckpt\")[\"state_dict\"])"
   ]
  },
  {
   "cell_type": "markdown",
   "id": "ceeb44a2-28ab-42ed-b5d3-327161629831",
   "metadata": {},
   "source": [
    "## Setup CFMs"
   ]
  },
  {
   "cell_type": "code",
   "execution_count": 6,
   "id": "9f8247cb-b681-4e82-8905-f3af83b2032a",
   "metadata": {},
   "outputs": [],
   "source": [
    "leavout_timepoints_folder = CKPT_FOLDER / \"trajectory\" / \"hein_et_al\""
   ]
  },
  {
   "cell_type": "markdown",
   "id": "62c4acf8-5ea9-4d9c-abdf-cbbc2d1312bf",
   "metadata": {},
   "source": [
    "Initialize datamodule for trajectory"
   ]
  },
  {
   "cell_type": "code",
   "execution_count": 7,
   "id": "f4273aa1-2490-4582-abc7-5219c2e5f09c",
   "metadata": {},
   "outputs": [],
   "source": [
    "datamodule_kwargs_vae = {'path': PROJECT_FOLDER / 'data/hein_et_al/flat/hein_lib_complete.h5ad',\n",
    "                          'x_layer': 'X_latents',\n",
    "                          'time_key': 'experimental_time', \n",
    "                          'use_pca': False, \n",
    "                          'n_dimensions': None, \n",
    "                          'train_val_test_split': [0.9, 0.1], \n",
    "                          'num_workers': 2, \n",
    "                          'batch_size': 512, \n",
    "                          'model_library_size': True}\n",
    "\n",
    "datamodule_kwargs_flat = {'path': PROJECT_FOLDER / 'data/hein_et_al/flat/hein_flat_lib_complete.h5ad',\n",
    "                          'x_layer': 'X_latents',\n",
    "                          'time_key': 'experimental_time', \n",
    "                          'use_pca': False, \n",
    "                          'n_dimensions': None, \n",
    "                          'train_val_test_split': [0.9, 0.1], \n",
    "                          'num_workers': 2, \n",
    "                          'batch_size': 512, \n",
    "                           'model_library_size': True}\n",
    "\n",
    "datamodule_kwargs_geodesic= {'path': PROJECT_FOLDER / 'data/hein_et_al/flat/hein_geodesic_complete.h5ad',\n",
    "                          'x_layer': 'X_latents',\n",
    "                          'time_key': 'experimental_time', \n",
    "                          'use_pca': False, \n",
    "                          'n_dimensions': None, \n",
    "                          'train_val_test_split': [0.9, 0.1], \n",
    "                          'num_workers': 2, \n",
    "                          'batch_size': 512, \n",
    "                           'model_library_size': True}\n",
    "\n",
    "# Initialize the datamodules \n",
    "datamodule_vae = TrajectoryDataModule(**datamodule_kwargs_vae)\n",
    "datamodule_flat = TrajectoryDataModule(**datamodule_kwargs_flat)\n",
    "datamodule_geodesic = TrajectoryDataModule(**datamodule_kwargs_geodesic)\n",
    "\n",
    "# Mapping real times to index\n",
    "idx2time = datamodule_vae.idx2time"
   ]
  },
  {
   "cell_type": "markdown",
   "id": "00e5828a",
   "metadata": {},
   "source": [
    "## Read data"
   ]
  },
  {
   "cell_type": "markdown",
   "id": "6a1fa627-0299-49ea-b2a9-6309a3c491ef",
   "metadata": {},
   "source": [
    "First, read the latent space anndata and plot the results"
   ]
  },
  {
   "cell_type": "code",
   "execution_count": 8,
   "id": "8d0bfee4",
   "metadata": {},
   "outputs": [],
   "source": [
    "# Read latent anndata\n",
    "adata_latent_vae = sc.read_h5ad(DATA_DIR / \"hein_et_al\" / \"flat\" / \"hein_lib_complete.h5ad\")\n",
    "adata_latent_flat = sc.read_h5ad(DATA_DIR / \"hein_et_al\" / \"flat\" / \"hein_flat_lib_complete.h5ad\")\n",
    "adata_latent_geodesic = sc.read_h5ad(DATA_DIR / \"hein_et_al\" / \"flat\" / \"hein_geodesic_complete.h5ad\")\n",
    "\n",
    "# Read real anndata\n",
    "adata_hein_original = sc.read_h5ad(PROJECT_FOLDER / 'data/hein_et_al/processed/unperturbed_time_course_host.h5ad')\n",
    "sc.tl.pca(adata_hein_original, n_comps=50)\n",
    "adata_hein_original.X = adata_hein_original.layers[\"X_norm\"].copy()"
   ]
  },
  {
   "cell_type": "markdown",
   "id": "26176fd4-382d-480b-a396-d62368abd40e",
   "metadata": {},
   "source": [
    "Number of experiments "
   ]
  },
  {
   "cell_type": "code",
   "execution_count": 9,
   "id": "7b6d822e-1f8d-4af6-adda-2687dd127180",
   "metadata": {},
   "outputs": [
    {
     "data": {
      "text/plain": [
       "{0: 0.0,\n",
       " 1: 0.05,\n",
       " 2: 0.16666666666666666,\n",
       " 3: 0.23333333333333334,\n",
       " 4: 0.4,\n",
       " 5: 0.6,\n",
       " 6: 0.8,\n",
       " 7: 1.0}"
      ]
     },
     "execution_count": 9,
     "metadata": {},
     "output_type": "execute_result"
    }
   ],
   "source": [
    "n_timepoints = len(np.unique(adata_latent_vae.obs.experimental_time))\n",
    "idx2time = dict(zip(range(n_timepoints), np.unique(adata_latent_vae.obs.experimental_time)))\n",
    "idx2time"
   ]
  },
  {
   "cell_type": "markdown",
   "id": "50b70343",
   "metadata": {},
   "source": [
    "Initialize model"
   ]
  },
  {
   "cell_type": "code",
   "execution_count": 10,
   "id": "dcf2a556",
   "metadata": {},
   "outputs": [],
   "source": [
    "net_hparams = {\"dim\": adata_latent_flat.X.shape[1]+1,\n",
    "                \"w\": 64,\n",
    "                \"time_varying\": True}\n",
    "\n",
    "cfm_kwargs = {'ot_sampler': 'exact', \n",
    "                   'sigma': 0.1, \n",
    "                   'use_real_time': False, \n",
    "                   'lr': 0.001, \n",
    "                   'antithetic_time_sampling': True}"
   ]
  },
  {
   "cell_type": "markdown",
   "id": "18d0cf44-7d54-49cc-95ec-7a2639a039a1",
   "metadata": {},
   "source": [
    "## Evaluation"
   ]
  },
  {
   "cell_type": "markdown",
   "id": "55b4c17f-40ac-43aa-a8bf-33f3424b6f33",
   "metadata": {},
   "source": [
    "Load checkpoints"
   ]
  },
  {
   "cell_type": "code",
   "execution_count": 27,
   "id": "09f1696f-c361-4f88-9e4c-a7084f7bbdea",
   "metadata": {},
   "outputs": [],
   "source": [
    "# LATENT SPACE METRICS\n",
    "leaveout_ckpt_vae_latent = {}\n",
    "leaveout_ckpt_flat_latent = {}\n",
    "leaveout_ckpt_geodesic_latent = {}\n",
    "leaveout_ckpt_previous_latent = {}"
   ]
  },
  {
   "cell_type": "code",
   "execution_count": 28,
   "id": "3c33d559-bef8-471d-a9e8-342b1639f2bb",
   "metadata": {},
   "outputs": [],
   "source": [
    "# DATA SPACE METRICS\n",
    "leaveout_ckpt_vae_data = {}\n",
    "leaveout_ckpt_flat_data = {}\n",
    "leaveout_ckpt_geodesic_data = {}\n",
    "leaveout_ckpt_previous_data = {}"
   ]
  },
  {
   "cell_type": "code",
   "execution_count": 29,
   "id": "9a10949a-5b84-4e06-b980-81cb1643dde8",
   "metadata": {
    "scrolled": true
   },
   "outputs": [
    {
     "name": "stdout",
     "output_type": "stream",
     "text": [
      "Time point 1\n",
      "predict decoded trajectory\n",
      "WARNING: adata.X seems to be already log-transformed.\n"
     ]
    },
    {
     "name": "stderr",
     "output_type": "stream",
     "text": [
      "/nfs/staff-ssd/pala/miniconda3/envs/scCFM/lib/python3.10/site-packages/scanpy/preprocessing/_simple.py:372: UserWarning: Received a view of an AnnData. Making a copy.\n",
      "  view_to_actual(adata)\n"
     ]
    },
    {
     "name": "stdout",
     "output_type": "stream",
     "text": [
      "Time point 2\n",
      "predict decoded trajectory\n",
      "WARNING: adata.X seems to be already log-transformed.\n"
     ]
    },
    {
     "name": "stderr",
     "output_type": "stream",
     "text": [
      "/nfs/staff-ssd/pala/miniconda3/envs/scCFM/lib/python3.10/site-packages/scanpy/preprocessing/_simple.py:372: UserWarning: Received a view of an AnnData. Making a copy.\n",
      "  view_to_actual(adata)\n"
     ]
    },
    {
     "name": "stdout",
     "output_type": "stream",
     "text": [
      "Time point 3\n",
      "predict decoded trajectory\n",
      "WARNING: adata.X seems to be already log-transformed.\n"
     ]
    },
    {
     "name": "stderr",
     "output_type": "stream",
     "text": [
      "/nfs/staff-ssd/pala/miniconda3/envs/scCFM/lib/python3.10/site-packages/scanpy/preprocessing/_simple.py:372: UserWarning: Received a view of an AnnData. Making a copy.\n",
      "  view_to_actual(adata)\n"
     ]
    },
    {
     "name": "stdout",
     "output_type": "stream",
     "text": [
      "Time point 4\n",
      "predict decoded trajectory\n",
      "WARNING: adata.X seems to be already log-transformed.\n"
     ]
    },
    {
     "name": "stderr",
     "output_type": "stream",
     "text": [
      "/nfs/staff-ssd/pala/miniconda3/envs/scCFM/lib/python3.10/site-packages/scanpy/preprocessing/_simple.py:372: UserWarning: Received a view of an AnnData. Making a copy.\n",
      "  view_to_actual(adata)\n"
     ]
    },
    {
     "name": "stdout",
     "output_type": "stream",
     "text": [
      "Time point 5\n",
      "predict decoded trajectory\n",
      "WARNING: adata.X seems to be already log-transformed.\n"
     ]
    },
    {
     "name": "stderr",
     "output_type": "stream",
     "text": [
      "/nfs/staff-ssd/pala/miniconda3/envs/scCFM/lib/python3.10/site-packages/scanpy/preprocessing/_simple.py:372: UserWarning: Received a view of an AnnData. Making a copy.\n",
      "  view_to_actual(adata)\n"
     ]
    },
    {
     "name": "stdout",
     "output_type": "stream",
     "text": [
      "Time point 6\n",
      "predict decoded trajectory\n",
      "WARNING: adata.X seems to be already log-transformed.\n"
     ]
    },
    {
     "name": "stderr",
     "output_type": "stream",
     "text": [
      "/nfs/staff-ssd/pala/miniconda3/envs/scCFM/lib/python3.10/site-packages/scanpy/preprocessing/_simple.py:372: UserWarning: Received a view of an AnnData. Making a copy.\n",
      "  view_to_actual(adata)\n"
     ]
    },
    {
     "name": "stdout",
     "output_type": "stream",
     "text": [
      "Time point 1\n",
      "predict decoded trajectory\n",
      "WARNING: adata.X seems to be already log-transformed.\n"
     ]
    },
    {
     "name": "stderr",
     "output_type": "stream",
     "text": [
      "/nfs/staff-ssd/pala/miniconda3/envs/scCFM/lib/python3.10/site-packages/scanpy/preprocessing/_simple.py:372: UserWarning: Received a view of an AnnData. Making a copy.\n",
      "  view_to_actual(adata)\n"
     ]
    },
    {
     "name": "stdout",
     "output_type": "stream",
     "text": [
      "Time point 2\n",
      "predict decoded trajectory\n",
      "WARNING: adata.X seems to be already log-transformed.\n"
     ]
    },
    {
     "name": "stderr",
     "output_type": "stream",
     "text": [
      "/nfs/staff-ssd/pala/miniconda3/envs/scCFM/lib/python3.10/site-packages/scanpy/preprocessing/_simple.py:372: UserWarning: Received a view of an AnnData. Making a copy.\n",
      "  view_to_actual(adata)\n"
     ]
    },
    {
     "name": "stdout",
     "output_type": "stream",
     "text": [
      "Time point 3\n",
      "predict decoded trajectory\n",
      "WARNING: adata.X seems to be already log-transformed.\n"
     ]
    },
    {
     "name": "stderr",
     "output_type": "stream",
     "text": [
      "/nfs/staff-ssd/pala/miniconda3/envs/scCFM/lib/python3.10/site-packages/scanpy/preprocessing/_simple.py:372: UserWarning: Received a view of an AnnData. Making a copy.\n",
      "  view_to_actual(adata)\n"
     ]
    },
    {
     "name": "stdout",
     "output_type": "stream",
     "text": [
      "Time point 4\n",
      "predict decoded trajectory\n",
      "WARNING: adata.X seems to be already log-transformed.\n"
     ]
    },
    {
     "name": "stderr",
     "output_type": "stream",
     "text": [
      "/nfs/staff-ssd/pala/miniconda3/envs/scCFM/lib/python3.10/site-packages/scanpy/preprocessing/_simple.py:372: UserWarning: Received a view of an AnnData. Making a copy.\n",
      "  view_to_actual(adata)\n"
     ]
    },
    {
     "name": "stdout",
     "output_type": "stream",
     "text": [
      "Time point 5\n",
      "predict decoded trajectory\n",
      "WARNING: adata.X seems to be already log-transformed.\n"
     ]
    },
    {
     "name": "stderr",
     "output_type": "stream",
     "text": [
      "/nfs/staff-ssd/pala/miniconda3/envs/scCFM/lib/python3.10/site-packages/scanpy/preprocessing/_simple.py:372: UserWarning: Received a view of an AnnData. Making a copy.\n",
      "  view_to_actual(adata)\n"
     ]
    },
    {
     "name": "stdout",
     "output_type": "stream",
     "text": [
      "Time point 6\n",
      "predict decoded trajectory\n",
      "WARNING: adata.X seems to be already log-transformed.\n"
     ]
    },
    {
     "name": "stderr",
     "output_type": "stream",
     "text": [
      "/nfs/staff-ssd/pala/miniconda3/envs/scCFM/lib/python3.10/site-packages/scanpy/preprocessing/_simple.py:372: UserWarning: Received a view of an AnnData. Making a copy.\n",
      "  view_to_actual(adata)\n"
     ]
    },
    {
     "name": "stdout",
     "output_type": "stream",
     "text": [
      "Time point 1\n",
      "predict decoded trajectory\n",
      "WARNING: adata.X seems to be already log-transformed.\n"
     ]
    },
    {
     "name": "stderr",
     "output_type": "stream",
     "text": [
      "/nfs/staff-ssd/pala/miniconda3/envs/scCFM/lib/python3.10/site-packages/scanpy/preprocessing/_simple.py:372: UserWarning: Received a view of an AnnData. Making a copy.\n",
      "  view_to_actual(adata)\n"
     ]
    },
    {
     "name": "stdout",
     "output_type": "stream",
     "text": [
      "Time point 2\n",
      "predict decoded trajectory\n",
      "WARNING: adata.X seems to be already log-transformed.\n"
     ]
    },
    {
     "name": "stderr",
     "output_type": "stream",
     "text": [
      "/nfs/staff-ssd/pala/miniconda3/envs/scCFM/lib/python3.10/site-packages/scanpy/preprocessing/_simple.py:372: UserWarning: Received a view of an AnnData. Making a copy.\n",
      "  view_to_actual(adata)\n"
     ]
    },
    {
     "name": "stdout",
     "output_type": "stream",
     "text": [
      "Time point 3\n",
      "predict decoded trajectory\n",
      "WARNING: adata.X seems to be already log-transformed.\n"
     ]
    },
    {
     "name": "stderr",
     "output_type": "stream",
     "text": [
      "/nfs/staff-ssd/pala/miniconda3/envs/scCFM/lib/python3.10/site-packages/scanpy/preprocessing/_simple.py:372: UserWarning: Received a view of an AnnData. Making a copy.\n",
      "  view_to_actual(adata)\n"
     ]
    },
    {
     "name": "stdout",
     "output_type": "stream",
     "text": [
      "Time point 4\n",
      "predict decoded trajectory\n",
      "WARNING: adata.X seems to be already log-transformed.\n"
     ]
    },
    {
     "name": "stderr",
     "output_type": "stream",
     "text": [
      "/nfs/staff-ssd/pala/miniconda3/envs/scCFM/lib/python3.10/site-packages/scanpy/preprocessing/_simple.py:372: UserWarning: Received a view of an AnnData. Making a copy.\n",
      "  view_to_actual(adata)\n"
     ]
    },
    {
     "name": "stdout",
     "output_type": "stream",
     "text": [
      "Time point 5\n",
      "predict decoded trajectory\n",
      "WARNING: adata.X seems to be already log-transformed.\n"
     ]
    },
    {
     "name": "stderr",
     "output_type": "stream",
     "text": [
      "/nfs/staff-ssd/pala/miniconda3/envs/scCFM/lib/python3.10/site-packages/scanpy/preprocessing/_simple.py:372: UserWarning: Received a view of an AnnData. Making a copy.\n",
      "  view_to_actual(adata)\n"
     ]
    },
    {
     "name": "stdout",
     "output_type": "stream",
     "text": [
      "Time point 6\n",
      "predict decoded trajectory\n",
      "WARNING: adata.X seems to be already log-transformed.\n"
     ]
    },
    {
     "name": "stderr",
     "output_type": "stream",
     "text": [
      "/nfs/staff-ssd/pala/miniconda3/envs/scCFM/lib/python3.10/site-packages/scanpy/preprocessing/_simple.py:372: UserWarning: Received a view of an AnnData. Making a copy.\n",
      "  view_to_actual(adata)\n"
     ]
    }
   ],
   "source": [
    "for rep in range(1, 4):\n",
    "    for tp in range(1, n_timepoints-1):\n",
    "        print(f\"Time point {tp}\")\n",
    "        #Pick time 0 observations\n",
    "        X_adata_t0_latent_vae = torch.from_numpy(adata_latent_vae[adata_latent_vae.obs[\"experimental_time\"]==idx2time[(tp-1)]].X).to(device)\n",
    "        X_adata_t0_latent_flat = torch.from_numpy(adata_latent_flat[adata_latent_flat.obs[\"experimental_time\"]==idx2time[(tp-1)]].X).to(device)\n",
    "        X_adata_t0_latent_geodesic = torch.from_numpy(adata_latent_geodesic[adata_latent_geodesic.obs[\"experimental_time\"]==idx2time[(tp-1)]].X).to(device)\n",
    "    \n",
    "        # Pick observations next timepoint \n",
    "        X_adata_t1_latent_vae = torch.from_numpy(adata_latent_vae[adata_latent_vae.obs[\"experimental_time\"]==idx2time[tp]].X).to(device)\n",
    "        X_adata_t1_latent_flat = torch.from_numpy(adata_latent_flat[adata_latent_flat.obs[\"experimental_time\"]==idx2time[tp]].X).to(device)\n",
    "        X_adata_t1_latent_geodesic = torch.from_numpy(adata_latent_geodesic[adata_latent_geodesic.obs[\"experimental_time\"]==idx2time[tp]].X).to(device)    \n",
    "    \n",
    "        # Collect PCs\n",
    "        adata_real = adata_hein_original[adata_hein_original.obs[\"experimental_time\"]==idx2time[tp]]\n",
    "        X_adata_real_pca = torch.from_numpy(adata_real.obsm[\"X_pca\"]).to(device)\n",
    "        X_adata_real = torch.from_numpy(adata_real.layers[\"X_log\"].A).to(device)\n",
    "    \n",
    "        #Pick library sizes\n",
    "        l_t0_vae = adata_latent_vae.obs.loc[adata_latent_vae.obs[\"experimental_time\"]==idx2time[(tp-1)], \"log_library_size\"].to_numpy()\n",
    "        l_t0_flat = adata_latent_flat.obs.loc[adata_latent_flat.obs[\"experimental_time\"]==idx2time[(tp-1)], \"log_library_size\"].to_numpy()\n",
    "        l_t0_geodesic = adata_latent_geodesic.obs.loc[adata_latent_geodesic.obs[\"experimental_time\"]==idx2time[(tp-1)], \"log_library_size\"].to_numpy()\n",
    "    \n",
    "        #Pick library sizes\n",
    "        l_t0_vae = torch.from_numpy(l_t0_vae).to(device)\n",
    "        l_t0_flat = torch.from_numpy(l_t0_flat).to(device)\n",
    "        l_t0_geodesic = torch.from_numpy(l_t0_geodesic).to(device)\n",
    "    \n",
    "        # Initialize nets\n",
    "        net_vae = MLP(**net_hparams).to(device)\n",
    "        net_flat = MLP(**net_hparams).to(device)\n",
    "        net_geodesic = MLP(**net_hparams).to(device)\n",
    "        cfm_vae = CFMLitModule(net=net_vae, datamodule=datamodule_vae, **cfm_kwargs).to(device)\n",
    "        cfm_flat = CFMLitModule(net=net_flat, datamodule=datamodule_flat, **cfm_kwargs).to(device)\n",
    "        cfm_geodesic = CFMLitModule(net=net_geodesic, datamodule=datamodule_geodesic, **cfm_kwargs).to(device)\n",
    "    \n",
    "        # Read the checkpoints\n",
    "        cfm_vae.load_state_dict(torch.load(leavout_timepoints_folder / f\"hein_vae_leaveout_{tp}_{rep}.ckpt\")[\"state_dict\"])\n",
    "        cfm_flat.load_state_dict(torch.load(leavout_timepoints_folder / f\"hein_flat_leaveout_{tp}_{rep}.ckpt\")[\"state_dict\"])\n",
    "        cfm_geodesic.load_state_dict(torch.load(leavout_timepoints_folder / f\"hein_geodesic_leaveout_{tp}_{rep}.ckpt\")[\"state_dict\"])\n",
    "    \n",
    "        mu_adata_predicted_vae, X_adata_predicted_vae, X_adata_latent_vae = decode_trajectory_single_step(X_adata_t0_latent_vae, \n",
    "                                                                                     l_t0_vae, \n",
    "                                                                                     tp-1, \n",
    "                                                                                     cfm_vae, \n",
    "                                                                                     vae)\n",
    "                                                                                    \n",
    "        mu_adata_predicted_flat, X_adata_predicted_flat, X_adata_latent_flat = decode_trajectory_single_step(X_adata_t0_latent_flat, \n",
    "                                                                                       l_t0_flat, \n",
    "                                                                                       tp-1, \n",
    "                                                                                       cfm_flat, \n",
    "                                                                                       geometric_vae)\n",
    "                                                                                      \n",
    "        mu_adata_predicted_geodesic, X_adata_predicted_geodesic, X_adata_latent_geodesic = decode_trajectory_single_step(X_adata_t0_latent_geodesic, \n",
    "                                                                                               l_t0_geodesic, \n",
    "                                                                                               tp-1, \n",
    "                                                                                               cfm_geodesic, \n",
    "                                                                                               geodesic_ae, \n",
    "                                                                                               model_type=\"geodesic_ae\")\n",
    "    \n",
    "        ## PREDICT LATENT TRAJECTORIES \n",
    "        X_adata_t1_latent_vae, X_adata_latent_vae = cross_standardize(X_adata_t1_latent_vae, X_adata_latent_vae[:,:-1])\n",
    "        X_adata_t1_latent_flat, X_adata_latent_flat = cross_standardize(X_adata_t1_latent_flat, X_adata_latent_flat[:,:-1])\n",
    "        X_adata_t1_latent_geodesic, X_adata_latent_geodesic = cross_standardize(X_adata_t1_latent_geodesic, X_adata_latent_geodesic[:,:-1])\n",
    "                                                                                       \n",
    "        d_dist_vae_l = compute_distribution_distances(X_adata_t1_latent_vae.unsqueeze(1).to(\"cpu\"), \n",
    "                                             X_adata_latent_vae.unsqueeze(1).to(\"cpu\"))\n",
    "        d_dist_flat_l = compute_distribution_distances(X_adata_t1_latent_flat.unsqueeze(1).to(\"cpu\"),\n",
    "                                             X_adata_latent_flat.unsqueeze(1).to(\"cpu\"))\n",
    "        d_dist_geod_l = compute_distribution_distances(X_adata_t1_latent_geodesic.unsqueeze(1).to(\"cpu\"),\n",
    "                                             X_adata_latent_geodesic.unsqueeze(1).to(\"cpu\"))\n",
    "        d_dist_prev = compute_distribution_distances(X_adata_t1_latent_vae.unsqueeze(1).to(\"cpu\"),\n",
    "                                             X_adata_t0_latent_vae.unsqueeze(1).to(\"cpu\"))\n",
    "        \n",
    "        d_dist_vae_l = dict(zip(d_dist_vae_l[0], d_dist_vae_l[1]))\n",
    "        d_dist_flat_l = dict(zip(d_dist_flat_l[0], d_dist_flat_l[1]))\n",
    "        d_dist_geod_l = dict(zip(d_dist_geod_l[0], d_dist_geod_l[1]))\n",
    "        d_dist_prev_l = dict(zip(d_dist_prev[0], d_dist_prev[1]))\n",
    "    \n",
    "        print(\"predict decoded trajectory\")\n",
    "        X_adata_predicted_vae = anndata.AnnData(X=X_adata_predicted_vae.numpy())\n",
    "        X_adata_predicted_flat = anndata.AnnData(X=X_adata_predicted_flat.numpy())\n",
    "        X_adata_predicted_geodesic = anndata.AnnData(X=X_adata_predicted_geodesic.numpy())\n",
    "        X_adata_prev = adata_hein_original[adata_hein_original.obs[\"experimental_time\"]==idx2time[tp-1]]\n",
    "        \n",
    "        sc.pp.log1p(X_adata_predicted_vae)\n",
    "        sc.pp.log1p(X_adata_predicted_flat)\n",
    "        sc.pp.log1p(X_adata_prev)\n",
    "        sc.tl.pca(X_adata_predicted_vae, n_comps=50)\n",
    "        sc.tl.pca(X_adata_predicted_flat, n_comps=50)\n",
    "        sc.tl.pca(X_adata_predicted_geodesic, n_comps=50)\n",
    "        sc.tl.pca(X_adata_prev, n_comps=50)\n",
    "        \n",
    "        d_dist_vae_d = compute_prdc(torch.from_numpy(X_adata_predicted_vae.obsm[\"X_pca\"].copy()), \n",
    "                                                 X_adata_real_pca.to(\"cpu\"), nearest_k=10)\n",
    "        d_dist_flat_d = compute_prdc(torch.from_numpy(X_adata_predicted_flat.obsm[\"X_pca\"].copy()), \n",
    "                                                 X_adata_real_pca.to(\"cpu\"), nearest_k=10)\n",
    "        d_dist_geodesic_d = compute_prdc(torch.from_numpy(X_adata_predicted_geodesic.obsm[\"X_pca\"].copy()), \n",
    "                                                 X_adata_real_pca.to(\"cpu\"), nearest_k=10)\n",
    "        d_dist_prev_d = compute_prdc(torch.from_numpy(X_adata_prev.obsm[\"X_pca\"]), \n",
    "                                                 X_adata_real_pca.to(\"cpu\"), nearest_k=10)\n",
    "\n",
    "        # UPDATE DICTS \n",
    "        leaveout_ckpt_vae_latent = update_dict(leaveout_ckpt_vae_latent, d_dist_vae_l)\n",
    "        leaveout_ckpt_flat_latent = update_dict(leaveout_ckpt_flat_latent, d_dist_flat_l)\n",
    "        leaveout_ckpt_geodesic_latent = update_dict(leaveout_ckpt_geodesic_latent, d_dist_geod_l)\n",
    "        leaveout_ckpt_previous_latent = update_dict(leaveout_ckpt_previous_latent, d_dist_prev_l)\n",
    "        leaveout_ckpt_vae_data = update_dict(leaveout_ckpt_vae_data, d_dist_vae_d)\n",
    "        leaveout_ckpt_flat_data = update_dict(leaveout_ckpt_flat_data, d_dist_flat_d)\n",
    "        leaveout_ckpt_geodesic_data = update_dict(leaveout_ckpt_geodesic_data, d_dist_geodesic_d)\n",
    "        leaveout_ckpt_previous_data = update_dict(leaveout_ckpt_previous_data, d_dist_prev_d)\n",
    "        \n",
    "        leaveout_ckpt_vae_latent = update_dict(leaveout_ckpt_vae_latent, {\"rep\": rep})\n",
    "        leaveout_ckpt_flat_latent = update_dict(leaveout_ckpt_flat_latent, {\"rep\": rep})\n",
    "        leaveout_ckpt_geodesic_latent = update_dict(leaveout_ckpt_geodesic_latent, {\"rep\": rep})\n",
    "        leaveout_ckpt_previous_latent = update_dict(leaveout_ckpt_previous_latent, {\"rep\": rep})\n",
    "        leaveout_ckpt_vae_data = update_dict(leaveout_ckpt_vae_data, {\"rep\": rep})\n",
    "        leaveout_ckpt_flat_data = update_dict(leaveout_ckpt_flat_data, {\"rep\": rep})\n",
    "        leaveout_ckpt_geodesic_data = update_dict(leaveout_ckpt_geodesic_data, {\"rep\": rep})\n",
    "        leaveout_ckpt_previous_data = update_dict(leaveout_ckpt_previous_data, {\"rep\": rep})"
   ]
  },
  {
   "cell_type": "markdown",
   "id": "4cdee1f4-2733-4935-858b-ec6518b74578",
   "metadata": {},
   "source": [
    "**Latent**"
   ]
  },
  {
   "cell_type": "markdown",
   "id": "83268e8c-dfec-4bd6-9455-6b1b05f9a118",
   "metadata": {},
   "source": [
    "VAE"
   ]
  },
  {
   "cell_type": "code",
   "execution_count": 95,
   "id": "71d9d808-8db1-4a7f-ad40-b2496f2394a7",
   "metadata": {},
   "outputs": [
    {
     "data": {
      "text/plain": [
       "1-Wasserstein    2.016699\n",
       "2-Wasserstein    2.121451\n",
       "Linear_MMD       0.109529\n",
       "Poly_MMD         0.294836\n",
       "RBF_MMD          0.240606\n",
       "Mean_MSE         0.124335\n",
       "Mean_L2          0.321971\n",
       "Mean_L1          0.258785\n",
       "rep              2.000000\n",
       "dtype: float64"
      ]
     },
     "execution_count": 95,
     "metadata": {},
     "output_type": "execute_result"
    }
   ],
   "source": [
    "pd.DataFrame(leaveout_ckpt_vae_latent).mean(0)"
   ]
  },
  {
   "cell_type": "code",
   "execution_count": 96,
   "id": "9d1e9401-3248-44f2-b6a8-a004de05b5f3",
   "metadata": {},
   "outputs": [
    {
     "data": {
      "text/plain": [
       "1-Wasserstein    0.084612\n",
       "2-Wasserstein    0.082567\n",
       "Linear_MMD       0.024541\n",
       "Poly_MMD         0.036462\n",
       "RBF_MMD          0.028124\n",
       "Mean_MSE         0.024962\n",
       "Mean_L2          0.034869\n",
       "Mean_L1          0.028204\n",
       "rep              0.198030\n",
       "dtype: float64"
      ]
     },
     "execution_count": 96,
     "metadata": {},
     "output_type": "execute_result"
    }
   ],
   "source": [
    "pd.DataFrame(leaveout_ckpt_vae_latent).std(0)/np.sqrt(18)"
   ]
  },
  {
   "cell_type": "markdown",
   "id": "c3f82eae-99cc-4c12-b699-7347c00213a5",
   "metadata": {},
   "source": [
    "Flat VAE"
   ]
  },
  {
   "cell_type": "code",
   "execution_count": 97,
   "id": "a1a1caa1-c661-4663-807b-0a9c9569bc3e",
   "metadata": {},
   "outputs": [
    {
     "data": {
      "text/plain": [
       "1-Wasserstein    1.784052\n",
       "2-Wasserstein    1.962076\n",
       "Linear_MMD       0.159411\n",
       "Poly_MMD         0.357878\n",
       "RBF_MMD          0.294699\n",
       "Mean_MSE         0.164320\n",
       "Mean_L2          0.374722\n",
       "Mean_L1          0.305853\n",
       "rep              2.000000\n",
       "dtype: float64"
      ]
     },
     "execution_count": 97,
     "metadata": {},
     "output_type": "execute_result"
    }
   ],
   "source": [
    "pd.DataFrame(leaveout_ckpt_flat_latent).mean(0)"
   ]
  },
  {
   "cell_type": "code",
   "execution_count": 98,
   "id": "337bc390-8e9d-41c4-8e35-51410310d8d8",
   "metadata": {},
   "outputs": [
    {
     "data": {
      "text/plain": [
       "1-Wasserstein    0.125382\n",
       "2-Wasserstein    0.135599\n",
       "Linear_MMD       0.032181\n",
       "Poly_MMD         0.042932\n",
       "RBF_MMD          0.035017\n",
       "Mean_MSE         0.028401\n",
       "Mean_L2          0.037497\n",
       "Mean_L1          0.028780\n",
       "rep              0.198030\n",
       "dtype: float64"
      ]
     },
     "execution_count": 98,
     "metadata": {},
     "output_type": "execute_result"
    }
   ],
   "source": [
    "pd.DataFrame(leaveout_ckpt_flat_latent).std(0)/np.sqrt(18)"
   ]
  },
  {
   "cell_type": "markdown",
   "id": "9e825087-4452-45fd-acce-5f380347f07c",
   "metadata": {},
   "source": [
    "Geodesic VAE"
   ]
  },
  {
   "cell_type": "code",
   "execution_count": 99,
   "id": "92be4d23-1d2d-4e31-9512-228a0c029fe1",
   "metadata": {},
   "outputs": [
    {
     "data": {
      "text/plain": [
       "1-Wasserstein    1.988606\n",
       "2-Wasserstein    2.099862\n",
       "Linear_MMD       0.123717\n",
       "Poly_MMD         0.316766\n",
       "RBF_MMD          0.259798\n",
       "Mean_MSE         0.144897\n",
       "Mean_L2          0.343652\n",
       "Mean_L1          0.282884\n",
       "rep              2.000000\n",
       "dtype: float64"
      ]
     },
     "execution_count": 99,
     "metadata": {},
     "output_type": "execute_result"
    }
   ],
   "source": [
    "pd.DataFrame(leaveout_ckpt_geodesic_latent).mean(0)"
   ]
  },
  {
   "cell_type": "code",
   "execution_count": 101,
   "id": "e363d5fe-8371-402e-852d-9f9a92b3b285",
   "metadata": {},
   "outputs": [
    {
     "data": {
      "text/plain": [
       "1-Wasserstein    0.100507\n",
       "2-Wasserstein    0.095822\n",
       "Linear_MMD       0.026820\n",
       "Poly_MMD         0.037082\n",
       "RBF_MMD          0.032214\n",
       "Mean_MSE         0.030431\n",
       "Mean_L2          0.039705\n",
       "Mean_L1          0.033472\n",
       "rep              0.198030\n",
       "dtype: float64"
      ]
     },
     "execution_count": 101,
     "metadata": {},
     "output_type": "execute_result"
    }
   ],
   "source": [
    "pd.DataFrame(leaveout_ckpt_geodesic_latent).std(0)/np.sqrt(18)"
   ]
  },
  {
   "cell_type": "markdown",
   "id": "db3b9829-5739-496a-9894-f042192d05b4",
   "metadata": {},
   "source": [
    "Baseline"
   ]
  },
  {
   "cell_type": "code",
   "execution_count": 102,
   "id": "5b30a677-3fb1-41e7-a4ca-f18b1575b119",
   "metadata": {},
   "outputs": [
    {
     "data": {
      "text/plain": [
       "1-Wasserstein    2.676166\n",
       "2-Wasserstein    2.770522\n",
       "Linear_MMD       0.332431\n",
       "Poly_MMD         0.515711\n",
       "RBF_MMD          0.437044\n",
       "Mean_MSE         0.358540\n",
       "Mean_L2          0.546338\n",
       "Mean_L1          0.459409\n",
       "rep              2.000000\n",
       "dtype: float64"
      ]
     },
     "execution_count": 102,
     "metadata": {},
     "output_type": "execute_result"
    }
   ],
   "source": [
    "pd.DataFrame(leaveout_ckpt_previous_latent).mean(0)"
   ]
  },
  {
   "cell_type": "code",
   "execution_count": 103,
   "id": "5f58ecec-b620-41e4-9277-17b45c096961",
   "metadata": {},
   "outputs": [
    {
     "data": {
      "text/plain": [
       "1-Wasserstein    0.151179\n",
       "2-Wasserstein    0.149283\n",
       "Linear_MMD       0.077163\n",
       "Poly_MMD         0.062531\n",
       "RBF_MMD          0.058982\n",
       "Mean_MSE         0.077303\n",
       "Mean_L2          0.059436\n",
       "Mean_L1          0.054842\n",
       "rep              0.198030\n",
       "dtype: float64"
      ]
     },
     "execution_count": 103,
     "metadata": {},
     "output_type": "execute_result"
    }
   ],
   "source": [
    "pd.DataFrame(leaveout_ckpt_previous_latent).std(0)/np.sqrt(18)"
   ]
  },
  {
   "cell_type": "markdown",
   "id": "8195b16c-80fb-4ce7-81b2-372545b26440",
   "metadata": {},
   "source": [
    "**Data space**"
   ]
  },
  {
   "cell_type": "markdown",
   "id": "7e39f4bf-d5a1-4158-a77d-e742be533da6",
   "metadata": {},
   "source": [
    "VAE"
   ]
  },
  {
   "cell_type": "code",
   "execution_count": 104,
   "id": "d5c13d91-1c5b-4592-a44b-a52fff7da1f3",
   "metadata": {},
   "outputs": [
    {
     "data": {
      "text/plain": [
       "precision    0.808547\n",
       "recall       0.130680\n",
       "density      1.647513\n",
       "coverage     0.627807\n",
       "rep          2.000000\n",
       "dtype: float64"
      ]
     },
     "execution_count": 104,
     "metadata": {},
     "output_type": "execute_result"
    }
   ],
   "source": [
    "pd.DataFrame(leaveout_ckpt_vae_data).mean(0)"
   ]
  },
  {
   "cell_type": "code",
   "execution_count": 105,
   "id": "8ea83d0f-8fc5-4a37-bffa-14eb0c3dd8b0",
   "metadata": {},
   "outputs": [
    {
     "data": {
      "text/plain": [
       "precision    0.035903\n",
       "recall       0.018926\n",
       "density      0.165088\n",
       "coverage     0.031488\n",
       "rep          0.198030\n",
       "dtype: float64"
      ]
     },
     "execution_count": 105,
     "metadata": {},
     "output_type": "execute_result"
    }
   ],
   "source": [
    "pd.DataFrame(leaveout_ckpt_vae_data).std(0)/np.sqrt(18)"
   ]
  },
  {
   "cell_type": "markdown",
   "id": "7e6e171f-323d-4643-88ac-b7cbfaf6ff3e",
   "metadata": {},
   "source": [
    "Flat VAE"
   ]
  },
  {
   "cell_type": "code",
   "execution_count": 106,
   "id": "03c681f9-0ec5-4e6f-99c2-fd3f23dfe8dc",
   "metadata": {},
   "outputs": [
    {
     "data": {
      "text/plain": [
       "precision    0.804371\n",
       "recall       0.076660\n",
       "density      3.919827\n",
       "coverage     0.848067\n",
       "rep          2.000000\n",
       "dtype: float64"
      ]
     },
     "execution_count": 106,
     "metadata": {},
     "output_type": "execute_result"
    }
   ],
   "source": [
    "pd.DataFrame(leaveout_ckpt_flat_data).mean(0)"
   ]
  },
  {
   "cell_type": "code",
   "execution_count": 108,
   "id": "ac6817d5-8b4d-41ef-92ea-6a30d1c60ebb",
   "metadata": {},
   "outputs": [
    {
     "data": {
      "text/plain": [
       "precision    0.030477\n",
       "recall       0.013537\n",
       "density      0.291145\n",
       "coverage     0.025187\n",
       "rep          0.198030\n",
       "dtype: float64"
      ]
     },
     "execution_count": 108,
     "metadata": {},
     "output_type": "execute_result"
    }
   ],
   "source": [
    "pd.DataFrame(leaveout_ckpt_flat_data).std(0)/np.sqrt(18)"
   ]
  },
  {
   "cell_type": "markdown",
   "id": "6d973c63-7dc6-48af-9a0d-4297819727f4",
   "metadata": {},
   "source": [
    "Geodesic VAE"
   ]
  },
  {
   "cell_type": "code",
   "execution_count": 109,
   "id": "32d981c3-0c46-48dd-81b9-a317b9901edb",
   "metadata": {},
   "outputs": [
    {
     "data": {
      "text/plain": [
       "precision    0.130843\n",
       "recall       0.587871\n",
       "density      0.019796\n",
       "coverage     0.026560\n",
       "rep          2.000000\n",
       "dtype: float64"
      ]
     },
     "execution_count": 109,
     "metadata": {},
     "output_type": "execute_result"
    }
   ],
   "source": [
    "pd.DataFrame(leaveout_ckpt_geodesic_data).mean(0)"
   ]
  },
  {
   "cell_type": "code",
   "execution_count": 110,
   "id": "60ddb45a-e080-48ad-b73c-661ad53ec406",
   "metadata": {},
   "outputs": [
    {
     "data": {
      "text/plain": [
       "precision    0.010483\n",
       "recall       0.017022\n",
       "density      0.001905\n",
       "coverage     0.005038\n",
       "rep          0.198030\n",
       "dtype: float64"
      ]
     },
     "execution_count": 110,
     "metadata": {},
     "output_type": "execute_result"
    }
   ],
   "source": [
    "pd.DataFrame(leaveout_ckpt_geodesic_data).std(0)/np.sqrt(18)"
   ]
  },
  {
   "cell_type": "markdown",
   "id": "4864bb9c-708c-420c-a58f-b9da95e694e4",
   "metadata": {},
   "source": [
    "Previous VAE"
   ]
  },
  {
   "cell_type": "code",
   "execution_count": 111,
   "id": "3e24bed7-acd7-4a8d-91de-c937664b67d9",
   "metadata": {},
   "outputs": [
    {
     "data": {
      "text/plain": [
       "precision    0.373793\n",
       "recall       0.364364\n",
       "density      0.250444\n",
       "coverage     0.177981\n",
       "rep          2.000000\n",
       "dtype: float64"
      ]
     },
     "execution_count": 111,
     "metadata": {},
     "output_type": "execute_result"
    }
   ],
   "source": [
    "pd.DataFrame(leaveout_ckpt_previous_data).mean(0)"
   ]
  },
  {
   "cell_type": "code",
   "execution_count": 112,
   "id": "078d5227-5960-4919-9e6e-0bb14d699b73",
   "metadata": {},
   "outputs": [
    {
     "data": {
      "text/plain": [
       "precision    0.043178\n",
       "recall       0.030804\n",
       "density      0.056982\n",
       "coverage     0.028410\n",
       "rep          0.198030\n",
       "dtype: float64"
      ]
     },
     "execution_count": 112,
     "metadata": {},
     "output_type": "execute_result"
    }
   ],
   "source": [
    "pd.DataFrame(leaveout_ckpt_previous_data).std(0)/np.sqrt(18)"
   ]
  },
  {
   "cell_type": "code",
   "execution_count": null,
   "id": "e4c26641-09e1-464a-a357-f4917846362b",
   "metadata": {},
   "outputs": [],
   "source": []
  }
 ],
 "metadata": {
  "kernelspec": {
   "display_name": "Python 3 (ipykernel)",
   "language": "python",
   "name": "python3"
  },
  "language_info": {
   "codemirror_mode": {
    "name": "ipython",
    "version": 3
   },
   "file_extension": ".py",
   "mimetype": "text/x-python",
   "name": "python",
   "nbconvert_exporter": "python",
   "pygments_lexer": "ipython3",
   "version": "3.10.12"
  }
 },
 "nbformat": 4,
 "nbformat_minor": 5
}
