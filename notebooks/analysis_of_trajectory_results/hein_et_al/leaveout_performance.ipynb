{
 "cells": [
  {
   "cell_type": "code",
   "execution_count": 5,
   "id": "5f465612",
   "metadata": {},
   "outputs": [],
   "source": [
    "from paths import DATA_DIR, CKPT_FOLDER, PROJECT_FOLDER\n",
    "\n",
    "import matplotlib.pyplot as plt\n",
    "import os\n",
    "import numpy as np\n",
    "import torch\n",
    "import scanpy as sc\n",
    "import sklearn\n",
    "import scvelo as scv\n",
    "\n",
    "import anndata\n",
    "import pandas as pd\n",
    "\n",
    "from torchdyn.core import NeuralODE\n",
    "\n",
    "import paths \n",
    "from scCFM.datamodules.time_sc_datamodule import TrajectoryDataModule\n",
    "from scCFM.models.cfm.components.mlp import MLP\n",
    "from scCFM.models.cfm.cfm_module import CFMLitModule\n",
    "from scCFM.models.base.vae import VAE\n",
    "from scCFM.models.base.geometric_vae import GeometricNBVAE\n",
    "from scCFM.datamodules.sc_datamodule import scDataModule\n",
    "from scCFM.models.cfm.components.eval.distribution_distances import compute_distribution_distances\n",
    "\n",
    "from notebooks.utils import decode_trajectory_single_step\n",
    "\n",
    "import scib_metrics\n",
    "from scib_metrics.benchmark import Benchmarker, BatchCorrection, BioConservation\n",
    "from scib_metrics import silhouette_batch, ilisi_knn, clisi_knn, kbet, graph_connectivity"
   ]
  },
  {
   "cell_type": "code",
   "execution_count": 2,
   "id": "9ccf4750",
   "metadata": {},
   "outputs": [],
   "source": [
    "device = \"cuda\" if torch.cuda.is_available() else \"cpu\""
   ]
  },
  {
   "cell_type": "code",
   "execution_count": 23,
   "id": "7cd1d0e5-a9da-41fd-9ea0-e0b0e861da6b",
   "metadata": {},
   "outputs": [],
   "source": [
    "def standardize(tensor):\n",
    "    \"\"\"\n",
    "    Standardize tensor of observations\n",
    "    \"\"\"\n",
    "    tensor = (tensor - tensor.mean(0)) / tensor.std(0)+1e-6\n",
    "    return tensor\n",
    "    \n",
    "def compute_pairwise_distance(data_x, data_y=None):\n",
    "    \"\"\"\n",
    "    Args:\n",
    "        data_x: numpy.ndarray([N, feature_dim], dtype=np.float32)\n",
    "        data_y: numpy.ndarray([N, feature_dim], dtype=np.float32)\n",
    "    Returns:\n",
    "        numpy.ndarray([N, N], dtype=np.float32) of pairwise distances.\n",
    "    \"\"\"\n",
    "    if data_y is None:\n",
    "        data_y = data_x\n",
    "    dists = sklearn.metrics.pairwise_distances(\n",
    "        data_x, data_y, metric='euclidean', n_jobs=8)\n",
    "    return dists\n",
    "\n",
    "\n",
    "def get_kth_value(unsorted, k, axis=-1):\n",
    "    \"\"\"\n",
    "    Args:\n",
    "        unsorted: numpy.ndarray of any dimensionality.\n",
    "        k: int\n",
    "    Returns:\n",
    "        kth values along the designated axis.\n",
    "    \"\"\"\n",
    "    # Take only K nearest neighbors and the radius is the maximum of the knn distances \n",
    "    indices = np.argpartition(unsorted, k, axis=axis)[..., :k]\n",
    "    k_smallests = np.take_along_axis(unsorted, indices, axis=axis)\n",
    "    kth_values = k_smallests.max(axis=axis)\n",
    "    return kth_values\n",
    "\n",
    "\n",
    "def compute_nearest_neighbour_distances(input_features, nearest_k):\n",
    "    \"\"\"\n",
    "    Args:\n",
    "        input_features: numpy.ndarray([N, feature_dim], dtype=np.float32)\n",
    "        nearest_k: int\n",
    "    Returns:\n",
    "        Distances to kth nearest neighbours.\n",
    "    \"\"\"\n",
    "    distances = compute_pairwise_distance(input_features)\n",
    "    radii = get_kth_value(distances, k=nearest_k + 1, axis=-1)\n",
    "    return radii\n",
    "\n",
    "\n",
    "def compute_prdc(real_features, fake_features, nearest_k):\n",
    "    \"\"\"\n",
    "    Computes precision, recall, density, and coverage given two manifolds.\n",
    "    Args:\n",
    "        real_features: numpy.ndarray([N, feature_dim], dtype=np.float32)\n",
    "        fake_features: numpy.ndarray([N, feature_dim], dtype=np.float32)\n",
    "        nearest_k: int.\n",
    "    Returns:\n",
    "        dict of precision, recall, density, and coverage.\n",
    "    \"\"\"\n",
    "    real_nearest_neighbour_distances = compute_nearest_neighbour_distances(\n",
    "        real_features, nearest_k)\n",
    "    fake_nearest_neighbour_distances = compute_nearest_neighbour_distances(\n",
    "        fake_features, nearest_k)\n",
    "    distance_real_fake = compute_pairwise_distance(\n",
    "        real_features, fake_features)\n",
    "\n",
    "    precision = (\n",
    "            distance_real_fake <\n",
    "            np.expand_dims(real_nearest_neighbour_distances, axis=1)\n",
    "    ).any(axis=0).mean()\n",
    "\n",
    "    recall = (\n",
    "            distance_real_fake <\n",
    "            np.expand_dims(fake_nearest_neighbour_distances, axis=0)\n",
    "    ).any(axis=1).mean()\n",
    "\n",
    "    density = (1. / float(nearest_k)) * (\n",
    "            distance_real_fake <\n",
    "            np.expand_dims(real_nearest_neighbour_distances, axis=1)\n",
    "    ).sum(axis=0).mean()\n",
    "\n",
    "    coverage = (\n",
    "            distance_real_fake.min(axis=1) <\n",
    "            real_nearest_neighbour_distances\n",
    "    ).mean()\n",
    "\n",
    "    return dict(precision=precision, \n",
    "                recall=recall,\n",
    "                density=density, \n",
    "                coverage=coverage)"
   ]
  },
  {
   "cell_type": "markdown",
   "id": "a51f15f2-0f65-459b-9a9a-0e0acceffb05",
   "metadata": {},
   "source": [
    "## Initialize VAEs"
   ]
  },
  {
   "cell_type": "code",
   "execution_count": 41,
   "id": "ff8366d0-3098-4bb2-9296-ba78f1618957",
   "metadata": {},
   "outputs": [
    {
     "data": {
      "text/plain": [
       "GeometricNBVAE(\n",
       "  (encoder_layers): MLP(\n",
       "    (net): Sequential(\n",
       "      (0): Sequential(\n",
       "        (0): Linear(in_features=1727, out_features=256, bias=True)\n",
       "        (1): BatchNorm1d(256, eps=1e-05, momentum=0.1, affine=True, track_running_stats=True)\n",
       "        (2): ELU(alpha=1.0)\n",
       "      )\n",
       "    )\n",
       "  )\n",
       "  (decoder_layers): MLP(\n",
       "    (net): Sequential(\n",
       "      (0): Sequential(\n",
       "        (0): Linear(in_features=10, out_features=256, bias=True)\n",
       "        (1): BatchNorm1d(256, eps=1e-05, momentum=0.1, affine=True, track_running_stats=True)\n",
       "        (2): ELU(alpha=1.0)\n",
       "      )\n",
       "    )\n",
       "  )\n",
       "  (library_size_decoder): Linear(in_features=10, out_features=1, bias=True)\n",
       "  (decoder_mu_lib): Linear(in_features=256, out_features=1727, bias=True)\n",
       "  (mu_logvar): Linear(in_features=256, out_features=20, bias=True)\n",
       ")"
      ]
     },
     "execution_count": 41,
     "metadata": {},
     "output_type": "execute_result"
    }
   ],
   "source": [
    "datamodule={'path': PROJECT_FOLDER / 'data/hein_et_al/processed/unperturbed_time_course_host.h5ad', \n",
    "            'x_layer': 'X_norm', \n",
    "            'cond_keys': ['experimental_time', 'cluster'],\n",
    "            'use_pca': False, \n",
    "            'n_dimensions': None, \n",
    "            'train_val_test_split': [1], \n",
    "            'batch_size': 512, \n",
    "            'num_workers': 2}\n",
    "\n",
    "# Initialize datamodule\n",
    "datamodule = scDataModule(**datamodule)\n",
    "\n",
    "model_vae={\n",
    "       'in_dim': datamodule.in_dim,\n",
    "       'n_epochs_anneal_kl': 1000, \n",
    "       'kl_weight': None, \n",
    "       'likelihood': 'nb', \n",
    "       'dropout': False, \n",
    "       'learning_rate': 0.001, \n",
    "       'dropout_p': False, \n",
    "       'model_library_size': True, \n",
    "       'batch_norm': True, \n",
    "       'kl_warmup_fraction': 0.1, \n",
    "       'hidden_dims': [256, 10]}\n",
    "        \n",
    "geometric={'compute_metrics_every': 1, \n",
    "           'use_c': True, \n",
    "           'l2': True, \n",
    "           'eta_interp': 0, \n",
    "           'interpolate_z': False, \n",
    "           'start_jac_after': 0, \n",
    "           'fl_weight': 0.1,\n",
    "           'detach_theta': True}\n",
    "\n",
    "# Initialize vae and geometric vae\n",
    "vae = GeometricNBVAE(**geometric, vae_kwargs=model_vae).to(device)\n",
    "geometric_vae = GeometricNBVAE(**geometric, vae_kwargs=model_vae).to(device)\n",
    "\n",
    "# Load state dicts and put in eval mode \n",
    "vae.load_state_dict(torch.load(PROJECT_FOLDER / \"checkpoints/ae/hein_et_al_complete/best_model_vae_lib.ckpt\")[\"state_dict\"])\n",
    "geometric_vae.load_state_dict(torch.load(PROJECT_FOLDER / \"checkpoints/ae/hein_et_al_complete/best_model_geometric_lib.ckpt\")[\"state_dict\"])\n",
    "vae.eval()\n",
    "geometric_vae.eval()"
   ]
  },
  {
   "cell_type": "markdown",
   "id": "ceeb44a2-28ab-42ed-b5d3-327161629831",
   "metadata": {},
   "source": [
    "## Setup CFMs"
   ]
  },
  {
   "cell_type": "code",
   "execution_count": 42,
   "id": "df7157fe-8345-43ad-9118-eb6f7b2dd934",
   "metadata": {},
   "outputs": [
    {
     "data": {
      "text/plain": [
       "PosixPath('/home/icb/alessandro.palma/environment/scCFM/project_dir/checkpoints')"
      ]
     },
     "execution_count": 42,
     "metadata": {},
     "output_type": "execute_result"
    }
   ],
   "source": [
    "CKPT_FOLDER"
   ]
  },
  {
   "cell_type": "code",
   "execution_count": 43,
   "id": "9f8247cb-b681-4e82-8905-f3af83b2032a",
   "metadata": {},
   "outputs": [],
   "source": [
    "leavout_timepoints_folder = CKPT_FOLDER / \"trajectory\" / \"hein_et_al\""
   ]
  },
  {
   "cell_type": "markdown",
   "id": "62c4acf8-5ea9-4d9c-abdf-cbbc2d1312bf",
   "metadata": {},
   "source": [
    "Initialize datamodule"
   ]
  },
  {
   "cell_type": "code",
   "execution_count": 44,
   "id": "f4273aa1-2490-4582-abc7-5219c2e5f09c",
   "metadata": {},
   "outputs": [],
   "source": [
    "datamodule_kwargs_vae = {'path': PROJECT_FOLDER / 'data/hein_et_al/flat/hein_lib_complete.h5ad',\n",
    "                          'x_layer': 'X_latents',\n",
    "                          'time_key': 'experimental_time', \n",
    "                          'use_pca': False, \n",
    "                          'n_dimensions': None, \n",
    "                          'train_val_test_split': [0.9, 0.1], \n",
    "                          'num_workers': 2, \n",
    "                          'batch_size': 512, \n",
    "                          'model_library_size': True}\n",
    "\n",
    "datamodule_kwargs_flat = {'path': PROJECT_FOLDER / 'data/hein_et_al/flat/hein_flat_lib_complete.h5ad',\n",
    "                          'x_layer': 'X_latents',\n",
    "                          'time_key': 'experimental_time', \n",
    "                          'use_pca': False, \n",
    "                          'n_dimensions': None, \n",
    "                          'train_val_test_split': [0.9, 0.1], \n",
    "                          'num_workers': 2, \n",
    "                          'batch_size': 512, \n",
    "                           'model_library_size': True}\n",
    "\n",
    "# Initialize the datamodules \n",
    "datamodule_vae = TrajectoryDataModule(**datamodule_kwargs_vae)\n",
    "datamodule_flat = TrajectoryDataModule(**datamodule_kwargs_flat)\n",
    "\n",
    "# Mapping real times to index\n",
    "idx2time = datamodule_vae.idx2time"
   ]
  },
  {
   "cell_type": "markdown",
   "id": "00e5828a",
   "metadata": {},
   "source": [
    "## Read data"
   ]
  },
  {
   "cell_type": "markdown",
   "id": "6a1fa627-0299-49ea-b2a9-6309a3c491ef",
   "metadata": {},
   "source": [
    "First, read the latent space anndata and plot the results"
   ]
  },
  {
   "cell_type": "code",
   "execution_count": 45,
   "id": "8d0bfee4",
   "metadata": {},
   "outputs": [],
   "source": [
    "# Read latent anndata\n",
    "adata_latent_vae = sc.read_h5ad(DATA_DIR / \"hein_et_al\" / \"flat\" / \"hein_lib_complete.h5ad\")\n",
    "adata_latent_flat = sc.read_h5ad(DATA_DIR / \"hein_et_al\" / \"flat\" / \"hein_flat_lib_complete.h5ad\")\n",
    "\n",
    "# Read real anndata\n",
    "adata_hein_original = sc.read_h5ad(DATA_DIR / \"hein_et_al\" / \"processed\" / \"unperturbed_time_course_host.h5ad\")\n",
    "sc.tl.pca(adata_hein_original, n_comps=200)\n",
    "adata_hein_original.X = adata_hein_original.layers[\"X_norm\"].copy()"
   ]
  },
  {
   "cell_type": "markdown",
   "id": "26176fd4-382d-480b-a396-d62368abd40e",
   "metadata": {},
   "source": [
    "Number of experiments "
   ]
  },
  {
   "cell_type": "code",
   "execution_count": 46,
   "id": "7b6d822e-1f8d-4af6-adda-2687dd127180",
   "metadata": {},
   "outputs": [
    {
     "data": {
      "text/plain": [
       "{0: 0.0,\n",
       " 1: 0.05,\n",
       " 2: 0.16666666666666666,\n",
       " 3: 0.23333333333333334,\n",
       " 4: 0.4,\n",
       " 5: 0.6,\n",
       " 6: 0.8,\n",
       " 7: 1.0}"
      ]
     },
     "execution_count": 46,
     "metadata": {},
     "output_type": "execute_result"
    }
   ],
   "source": [
    "n_timepoints = len(np.unique(adata_latent_vae.obs.experimental_time))\n",
    "idx2time = dict(zip(range(n_timepoints), np.unique(adata_latent_vae.obs.experimental_time)))\n",
    "idx2time"
   ]
  },
  {
   "cell_type": "markdown",
   "id": "50b70343",
   "metadata": {},
   "source": [
    "Initialize model"
   ]
  },
  {
   "cell_type": "code",
   "execution_count": 47,
   "id": "dcf2a556",
   "metadata": {},
   "outputs": [],
   "source": [
    "net_hparams = {\"dim\": adata_latent_flat.X.shape[1]+1,\n",
    "                \"w\": 64,\n",
    "                \"time_varying\": True}\n",
    "\n",
    "cfm_kwargs = {'ot_sampler': 'exact', \n",
    "                   'sigma': 0.1, \n",
    "                   'use_real_time': False, \n",
    "                   'lr': 0.001, \n",
    "                   'antithetic_time_sampling': True}"
   ]
  },
  {
   "cell_type": "markdown",
   "id": "18d0cf44-7d54-49cc-95ec-7a2639a039a1",
   "metadata": {},
   "source": [
    "## Evaluation"
   ]
  },
  {
   "cell_type": "markdown",
   "id": "55b4c17f-40ac-43aa-a8bf-33f3424b6f33",
   "metadata": {},
   "source": [
    "Load checkpoints"
   ]
  },
  {
   "cell_type": "code",
   "execution_count": 48,
   "id": "09f1696f-c361-4f88-9e4c-a7084f7bbdea",
   "metadata": {},
   "outputs": [],
   "source": [
    "leaveput_ckpt_vae = {}\n",
    "leaveout_ckpt_flat = {}"
   ]
  },
  {
   "cell_type": "code",
   "execution_count": 49,
   "id": "9a10949a-5b84-4e06-b980-81cb1643dde8",
   "metadata": {},
   "outputs": [
    {
     "name": "stdout",
     "output_type": "stream",
     "text": [
      "Time point 1\n",
      "predict latent trajectory\n",
      "(['1-Wasserstein', '2-Wasserstein', 'Linear_MMD', 'Poly_MMD', 'RBF_MMD', 'Mean_MSE', 'Mean_L2', 'Mean_L1', 'Median_MSE', 'Median_L2', 'Median_L1'], [2.0241336333565942, 2.1115524613469128, 2.464568144429054e-15, 4.964441705196118e-08, 4.285210053467381e-08, 0.003369328798726201, 0.0580459197422713, 0.04800296574831009])\n",
      "(['1-Wasserstein', '2-Wasserstein', 'Linear_MMD', 'Poly_MMD', 'RBF_MMD', 'Mean_MSE', 'Mean_L2', 'Mean_L1', 'Median_MSE', 'Median_L2', 'Median_L1'], [1.5294067835403027, 1.6336672642114294, 3.4258592717626183e-15, 5.853084034731279e-08, 3.478169219306437e-08, 0.006625855807214975, 0.08139935999266196, 0.06739714741706848])\n",
      "predict decoded trajectory\n",
      "(['1-Wasserstein', '2-Wasserstein', 'Linear_MMD', 'Poly_MMD', 'RBF_MMD', 'Mean_MSE', 'Mean_L2', 'Mean_L1', 'Median_MSE', 'Median_L2', 'Median_L1'], [11.677329509332903, 11.715224494354068, 0.0841938778758049, 0.2901618132625396, 0.07722856104373932, 0.09141755849123001, 0.30235336692557274, 0.08519724011421204])\n",
      "(['1-Wasserstein', '2-Wasserstein', 'Linear_MMD', 'Poly_MMD', 'RBF_MMD', 'Mean_MSE', 'Mean_L2', 'Mean_L1', 'Median_MSE', 'Median_L2', 'Median_L1'], [12.534707915834982, 12.56905257013161, 0.084193155169487, 0.29016056790936806, 0.07722819596529007, 0.09382547438144684, 0.3063094422009332, 0.08268601447343826])\n",
      "{'precision': 0.9986139986139986, 'recall': 0.0, 'density': 27.57726957726958, 'coverage': 1.0}\n",
      "{'precision': 0.9993069993069993, 'recall': 0.0011248593925759281, 'density': 47.70887040887041, 'coverage': 1.0}\n",
      "\n",
      "Time point 2\n",
      "predict latent trajectory\n",
      "(['1-Wasserstein', '2-Wasserstein', 'Linear_MMD', 'Poly_MMD', 'RBF_MMD', 'Mean_MSE', 'Mean_L2', 'Mean_L1', 'Median_MSE', 'Median_L2', 'Median_L1'], [1.8933858379021926, 1.9701153223306065, 6.946823191084713e-16, 2.635682680271795e-08, 1.971604923767245e-08, 0.007996550761163235, 0.08942343518990553, 0.07112526893615723])\n",
      "(['1-Wasserstein', '2-Wasserstein', 'Linear_MMD', 'Poly_MMD', 'RBF_MMD', 'Mean_MSE', 'Mean_L2', 'Mean_L1', 'Median_MSE', 'Median_L2', 'Median_L1'], [1.39549812500014, 1.492239073439183, 8.51155456608587e-16, 2.9174568661911474e-08, 2.1446021847282282e-08, 0.008219674229621887, 0.09066241905895676, 0.07415821403265])\n",
      "predict decoded trajectory\n",
      "(['1-Wasserstein', '2-Wasserstein', 'Linear_MMD', 'Poly_MMD', 'RBF_MMD', 'Mean_MSE', 'Mean_L2', 'Mean_L1', 'Median_MSE', 'Median_L2', 'Median_L1'], [10.693494423533668, 10.727932966315004, 0.02677423506975174, 0.1636283443348118, 0.0439162403345108, 0.05399273708462715, 0.23236337294123433, 0.05270945653319359])\n",
      "(['1-Wasserstein', '2-Wasserstein', 'Linear_MMD', 'Poly_MMD', 'RBF_MMD', 'Mean_MSE', 'Mean_L2', 'Mean_L1', 'Median_MSE', 'Median_L2', 'Median_L1'], [11.592370604738086, 11.648840348620233, 0.026774315163493156, 0.16362858907749941, 0.04391632229089737, 0.04969216510653496, 0.22291739525334256, 0.053487252444028854])\n",
      "{'precision': 0.9811169144234633, 'recall': 0.0, 'density': 37.57846524708719, 'coverage': 1.0}\n",
      "{'precision': 0.9979911611088791, 'recall': 0.0, 'density': 67.51277621534753, 'coverage': 1.0}\n",
      "\n",
      "Time point 3\n",
      "predict latent trajectory\n",
      "(['1-Wasserstein', '2-Wasserstein', 'Linear_MMD', 'Poly_MMD', 'RBF_MMD', 'Mean_MSE', 'Mean_L2', 'Mean_L1', 'Median_MSE', 'Median_L2', 'Median_L1'], [1.4726062354180804, 1.5486909202818528, 2.2727370988534653e-16, 1.507559981842668e-08, 1.352822209810256e-08, 0.0010848823003470898, 0.032937551523255185, 0.029706459492444992])\n",
      "(['1-Wasserstein', '2-Wasserstein', 'Linear_MMD', 'Poly_MMD', 'RBF_MMD', 'Mean_MSE', 'Mean_L2', 'Mean_L1', 'Median_MSE', 'Median_L2', 'Median_L1'], [0.8667974929839104, 0.9505706386205381, 2.628968451524286e-16, 1.6214094028111117e-08, 1.0569465302978642e-08, 0.0015929469373077154, 0.03991173934204967, 0.032432571053504944])\n",
      "predict decoded trajectory\n",
      "(['1-Wasserstein', '2-Wasserstein', 'Linear_MMD', 'Poly_MMD', 'RBF_MMD', 'Mean_MSE', 'Mean_L2', 'Mean_L1', 'Median_MSE', 'Median_L2', 'Median_L1'], [10.18648544625208, 10.23828314351273, 0.02851465716958046, 0.1688628353711392, 0.03607824072241783, 0.042130593210458755, 0.2052573828403226, 0.04182928055524826])\n",
      "(['1-Wasserstein', '2-Wasserstein', 'Linear_MMD', 'Poly_MMD', 'RBF_MMD', 'Mean_MSE', 'Mean_L2', 'Mean_L1', 'Median_MSE', 'Median_L2', 'Median_L1'], [11.243784036626423, 11.283697661540984, 0.028513701632618904, 0.16886000601865114, 0.03607752174139023, 0.09830795228481293, 0.3135409898000785, 0.047993775457143784])\n",
      "{'precision': 0.9829437776373974, 'recall': 0.00040535062829347385, 'density': 41.444156664560964, 'coverage': 0.9995946493717065}\n",
      "{'precision': 0.9778900821225521, 'recall': 0.0004043671653861706, 'density': 70.6046114971573, 'coverage': 1.0}\n",
      "\n",
      "Time point 4\n",
      "predict latent trajectory\n",
      "(['1-Wasserstein', '2-Wasserstein', 'Linear_MMD', 'Poly_MMD', 'RBF_MMD', 'Mean_MSE', 'Mean_L2', 'Mean_L1', 'Median_MSE', 'Median_L2', 'Median_L1'], [1.62198145170908, 1.707946741325371, 2.756365118467089e-16, 1.660230441374657e-08, 1.3247006158678687e-08, 0.00541659165173769, 0.07359749759154648, 0.05033128336071968])\n",
      "(['1-Wasserstein', '2-Wasserstein', 'Linear_MMD', 'Poly_MMD', 'RBF_MMD', 'Mean_MSE', 'Mean_L2', 'Mean_L1', 'Median_MSE', 'Median_L2', 'Median_L1'], [1.1216092099300723, 1.2165463001228618, 5.60102071619123e-16, 2.366647569071329e-08, 2.13408846150287e-08, 0.023585524410009384, 0.15357579369812607, 0.11399408429861069])\n",
      "predict decoded trajectory\n",
      "(['1-Wasserstein', '2-Wasserstein', 'Linear_MMD', 'Poly_MMD', 'RBF_MMD', 'Mean_MSE', 'Mean_L2', 'Mean_L1', 'Median_MSE', 'Median_L2', 'Median_L1'], [10.065730763939635, 10.124817378228968, 0.012492412701249123, 0.11176946229292294, 0.04151882976293564, 0.05682254955172539, 0.23837480897050634, 0.05568813905119896])\n",
      "(['1-Wasserstein', '2-Wasserstein', 'Linear_MMD', 'Poly_MMD', 'RBF_MMD', 'Mean_MSE', 'Mean_L2', 'Mean_L1', 'Median_MSE', 'Median_L2', 'Median_L1'], [10.998794325579428, 11.024954186432316, 0.012492329813539982, 0.11176909149465242, 0.04151831939816475, 0.046918660402297974, 0.21660715685844265, 0.05222274735569954])\n",
      "{'precision': 0.9792452830188679, 'recall': 0.0, 'density': 45.451509433962265, 'coverage': 0.9869260204081632}\n",
      "{'precision': 0.9929245283018868, 'recall': 0.0, 'density': 81.94004716981132, 'coverage': 1.0}\n",
      "\n",
      "Time point 5\n",
      "predict latent trajectory\n",
      "(['1-Wasserstein', '2-Wasserstein', 'Linear_MMD', 'Poly_MMD', 'RBF_MMD', 'Mean_MSE', 'Mean_L2', 'Mean_L1', 'Median_MSE', 'Median_L2', 'Median_L1'], [1.9637182017259598, 2.0571153360486703, 2.1253001088346584e-15, 4.610097730888856e-08, 2.7556684045748625e-08, 0.010241028852760792, 0.10119796861973461, 0.07172875851392746])\n",
      "(['1-Wasserstein', '2-Wasserstein', 'Linear_MMD', 'Poly_MMD', 'RBF_MMD', 'Mean_MSE', 'Mean_L2', 'Mean_L1', 'Median_MSE', 'Median_L2', 'Median_L1'], [1.7584865415372342, 1.8922019160394334, 6.356544988384504e-16, 2.5212189489182615e-08, 1.8934168011242036e-08, 0.1081165298819542, 0.32881078127390256, 0.23523390293121338])\n",
      "predict decoded trajectory\n",
      "(['1-Wasserstein', '2-Wasserstein', 'Linear_MMD', 'Poly_MMD', 'RBF_MMD', 'Mean_MSE', 'Mean_L2', 'Mean_L1', 'Median_MSE', 'Median_L2', 'Median_L1'], [11.751000296908977, 11.829798478231227, 0.09613467007875443, 0.3100559144392418, 0.06977865844964981, 0.14418908953666687, 0.37972238482431725, 0.07337666302919388])\n",
      "(['1-Wasserstein', '2-Wasserstein', 'Linear_MMD', 'Poly_MMD', 'RBF_MMD', 'Mean_MSE', 'Mean_L2', 'Mean_L1', 'Median_MSE', 'Median_L2', 'Median_L1'], [12.872367558710284, 12.976159552612934, 0.09613507986068726, 0.3100565752579475, 0.06977885961532593, 0.12606096267700195, 0.35505064804475706, 0.07192755490541458])\n",
      "{'precision': 0.9260326609029779, 'recall': 0.0, 'density': 18.764745437079732, 'coverage': 0.9947768281101614}\n",
      "{'precision': 0.920268972142171, 'recall': 0.0, 'density': 29.66724303554275, 'coverage': 1.0}\n",
      "\n",
      "Time point 6\n",
      "predict latent trajectory\n",
      "(['1-Wasserstein', '2-Wasserstein', 'Linear_MMD', 'Poly_MMD', 'RBF_MMD', 'Mean_MSE', 'Mean_L2', 'Mean_L1', 'Median_MSE', 'Median_L2', 'Median_L1'], [1.822334984966824, 1.9671392616026282, 5.663205534134786e-15, 7.52542725307659e-08, 5.229432531450584e-08, 0.0047976733185350895, 0.06926523889033437, 0.05487848445773125])\n",
      "(['1-Wasserstein', '2-Wasserstein', 'Linear_MMD', 'Poly_MMD', 'RBF_MMD', 'Mean_MSE', 'Mean_L2', 'Mean_L1', 'Median_MSE', 'Median_L2', 'Median_L1'], [1.8742311912735456, 2.0561104863324657, 1.2517333462878488e-14, 1.1188088962319923e-07, 7.910981736358735e-08, 0.0216692928224802, 0.14720493477625063, 0.12696823477745056])\n",
      "predict decoded trajectory\n",
      "(['1-Wasserstein', '2-Wasserstein', 'Linear_MMD', 'Poly_MMD', 'RBF_MMD', 'Mean_MSE', 'Mean_L2', 'Mean_L1', 'Median_MSE', 'Median_L2', 'Median_L1'], [13.422139622596598, 13.538845818445024, 0.3169342279434204, 0.5629691181081076, 0.08267756551504135, 0.32965201139450073, 0.5741532995590122, 0.0855407640337944])\n",
      "(['1-Wasserstein', '2-Wasserstein', 'Linear_MMD', 'Poly_MMD', 'RBF_MMD', 'Mean_MSE', 'Mean_L2', 'Mean_L1', 'Median_MSE', 'Median_L2', 'Median_L1'], [14.476973246300808, 14.615158757850061, 0.3169298470020294, 0.5629652271695201, 0.08267684280872345, 0.34066689014434814, 0.5836667629258566, 0.08627036958932877])\n",
      "{'precision': 0.9300095877277086, 'recall': 0.000975609756097561, 'density': 20.291466922339406, 'coverage': 1.0}\n",
      "{'precision': 0.9280920421860019, 'recall': 0.0019455252918287938, 'density': 27.908149568552258, 'coverage': 1.0}\n",
      "\n"
     ]
    }
   ],
   "source": [
    "for tp in range(1, n_timepoints-1):\n",
    "    print(f\"Time point {tp}\")\n",
    "    #Pick time 0 observations\n",
    "    X_adata_t0_latent_vae = torch.from_numpy(adata_latent_vae[adata_latent_vae.obs[\"experimental_time\"]==idx2time[(tp-1)]].X).to(device)\n",
    "    X_adata_t0_latent_flat = torch.from_numpy(adata_latent_flat[adata_latent_flat.obs[\"experimental_time\"]==idx2time[(tp-1)]].X).to(device)\n",
    "    X_adata_t1_latent_vae = torch.from_numpy(adata_latent_vae[adata_latent_vae.obs[\"experimental_time\"]==idx2time[tp]].X).to(device)\n",
    "    X_adata_t1_latent_flat = torch.from_numpy(adata_latent_flat[adata_latent_flat.obs[\"experimental_time\"]==idx2time[tp]].X).to(device)\n",
    "    X_adata_real_pca = torch.from_numpy(adata_hein_original[adata_hein_original.obs[\"experimental_time\"]==idx2time[tp]].obsm[\"X_pca\"]).to(device)\n",
    "    X_adata_real = torch.from_numpy(adata_hein_original[adata_hein_original.obs[\"experimental_time\"]==idx2time[tp]].layers[\"X_log\"].A).to(device)\n",
    "\n",
    "    #Pick library sizes\n",
    "    l_t0_vae = adata_latent_vae.obs.loc[adata_latent_vae.obs[\"experimental_time\"]==idx2time[(tp-1)], \"log_library_size\"].to_numpy()\n",
    "    l_t0_flat = adata_latent_flat.obs.loc[adata_latent_flat.obs[\"experimental_time\"]==idx2time[(tp-1)], \"log_library_size\"].to_numpy()\n",
    "    l_t0_vae = torch.from_numpy(l_t0_vae).to(device)\n",
    "    l_t0_flat = torch.from_numpy(l_t0_flat).to(device)\n",
    "\n",
    "    # Initialize nets\n",
    "    net_vae = MLP(**net_hparams).to(device)\n",
    "    net_flat = MLP(**net_hparams).to(device)\n",
    "    cfm_vae = CFMLitModule(net=net_vae, datamodule=datamodule_vae, **cfm_kwargs).to(device)\n",
    "    cfm_flat = CFMLitModule(net=net_flat, datamodule=datamodule_flat, **cfm_kwargs).to(device)\n",
    "\n",
    "    # Read the checkpoints\n",
    "    cfm_vae.load_state_dict(torch.load(leavout_timepoints_folder / f\"hein_vae_leaveout_{tp}.ckpt\")[\"state_dict\"])\n",
    "    cfm_flat.load_state_dict(torch.load(leavout_timepoints_folder / f\"hein_flat_leaveout_{tp}.ckpt\")[\"state_dict\"])\n",
    "\n",
    "    _, X_adata_predicted_vae, X_adata_latent_vae = decode_trajectory_single_step(X_adata_t0_latent_vae, l_t0_vae, tp-1, cfm_vae, vae)\n",
    "    _, X_adata_predicted_flat, X_adata_latent_flat = decode_trajectory_single_step(X_adata_t0_latent_flat, l_t0_flat, tp-1, cfm_flat, geometric_vae)\n",
    "\n",
    "    print(\"predict latent trajectory\")\n",
    "    print(compute_distribution_distances(standardize(X_adata_t1_latent_vae.unsqueeze(1).to(\"cpu\")), \n",
    "                                         standardize(X_adata_latent_vae[:,:-1].unsqueeze(1).to(\"cpu\"))))\n",
    "    print(compute_distribution_distances(standardize(X_adata_t1_latent_flat.unsqueeze(1).to(\"cpu\")),\n",
    "                                         standardize(X_adata_latent_flat[:,:-1].unsqueeze(1).to(\"cpu\"))))\n",
    "\n",
    "    print(\"predict decoded trajectory\")\n",
    "    X_adata_predicted_vae = anndata.AnnData(X=X_adata_predicted_vae.numpy())\n",
    "    X_adata_predicted_flat = anndata.AnnData(X=X_adata_predicted_flat.numpy())\n",
    "    sc.pp.log1p(X_adata_predicted_vae)\n",
    "    sc.pp.log1p(X_adata_predicted_flat)\n",
    "    sc.tl.pca(X_adata_predicted_vae, n_comps=200)\n",
    "    sc.tl.pca(X_adata_predicted_flat, n_comps=200)\n",
    "    \n",
    "    # print(compute_distribution_distances(torch.from_numpy(X_adata_predicted_vae.X).unsqueeze(1), \n",
    "    #                                      X_adata_real.unsqueeze(1).to(\"cpu\")))\n",
    "    # print(compute_distribution_distances(torch.from_numpy(X_adata_predicted_flat.X).unsqueeze(1), \n",
    "    #                                                       X_adata_real.unsqueeze(1).to(\"cpu\")))\n",
    "    \n",
    "    print(compute_distribution_distances(torch.from_numpy(X_adata_predicted_vae.obsm[\"X_pca\"].copy()).unsqueeze(1), \n",
    "                                             X_adata_real_pca.unsqueeze(1).to(\"cpu\")))\n",
    "    print(compute_distribution_distances(torch.from_numpy(X_adata_predicted_flat.obsm[\"X_pca\"].copy()).unsqueeze(1), \n",
    "                                             X_adata_real_pca.unsqueeze(1).to(\"cpu\")))\n",
    "\n",
    "    print(compute_prdc(torch.from_numpy(X_adata_predicted_vae.obsm[\"X_pca\"].copy()), \n",
    "                                             X_adata_real_pca.to(\"cpu\"), nearest_k=10))\n",
    "    print(compute_prdc(torch.from_numpy(X_adata_predicted_flat.obsm[\"X_pca\"].copy()), \n",
    "                                             X_adata_real_pca.to(\"cpu\"), nearest_k=10))\n",
    "\n",
    "    print()"
   ]
  },
  {
   "cell_type": "code",
   "execution_count": null,
   "id": "62d86ddd-f28d-4068-90a1-df6206b20328",
   "metadata": {},
   "outputs": [],
   "source": []
  }
 ],
 "metadata": {
  "kernelspec": {
   "display_name": "Python 3 (ipykernel)",
   "language": "python",
   "name": "python3"
  },
  "language_info": {
   "codemirror_mode": {
    "name": "ipython",
    "version": 3
   },
   "file_extension": ".py",
   "mimetype": "text/x-python",
   "name": "python",
   "nbconvert_exporter": "python",
   "pygments_lexer": "ipython3",
   "version": "3.10.12"
  }
 },
 "nbformat": 4,
 "nbformat_minor": 5
}
