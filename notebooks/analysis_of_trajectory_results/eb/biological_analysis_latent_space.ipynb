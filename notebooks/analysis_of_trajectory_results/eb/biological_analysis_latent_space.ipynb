{
 "cells": [
  {
   "cell_type": "code",
   "execution_count": 21,
   "id": "5f465612",
   "metadata": {},
   "outputs": [],
   "source": [
    "from paths import DATA_DIR, CKPT_FOLDER, PROJECT_FOLDER\n",
    "\n",
    "import matplotlib.pyplot as plt\n",
    "import numpy as np\n",
    "import torch\n",
    "import scanpy as sc\n",
    "import scvelo as scv\n",
    "\n",
    "import anndata\n",
    "import pandas as pd\n",
    "import scvelo as scv\n",
    "import cellrank as cr\n",
    "\n",
    "from torchdyn.core import NeuralODE\n",
    "\n",
    "from scCFM.datamodules.time_sc_datamodule import TrajectoryDataModule\n",
    "from scCFM.models.cfm.components.mlp import MLP\n",
    "from scCFM.models.cfm.cfm_module import CFMLitModule\n",
    "from scCFM.models.base.vae import VAE\n",
    "from scCFM.models.base.geometric_vae import GeometricNBVAE\n",
    "from scCFM.datamodules.sc_datamodule import scDataModule\n",
    "\n",
    "from notebooks.utils import (standardize_adata,\n",
    "                             add_keys_to_dict,\n",
    "                             real_reconstructed_cells_adata,\n",
    "                             add_velocity_to_adata, \n",
    "                             compute_velocity_projection, \n",
    "                             compute_trajectory, \n",
    "                             decode_trajectory)\n",
    "\n",
    "import scib\n",
    "from scib_metrics.benchmark import Benchmarker, BatchCorrection"
   ]
  },
  {
   "cell_type": "code",
   "execution_count": 13,
   "id": "9ccf4750",
   "metadata": {},
   "outputs": [],
   "source": [
    "device = \"cuda\" if torch.cuda.is_available() else \"cpu\""
   ]
  },
  {
   "cell_type": "markdown",
   "id": "00e5828a",
   "metadata": {},
   "source": [
    "**Read the anndata files**"
   ]
  },
  {
   "cell_type": "markdown",
   "id": "6a1fa627-0299-49ea-b2a9-6309a3c491ef",
   "metadata": {},
   "source": [
    "First, read the latent space anndata and plot the results"
   ]
  },
  {
   "cell_type": "code",
   "execution_count": 14,
   "id": "8d0bfee4",
   "metadata": {},
   "outputs": [],
   "source": [
    "adata_latent_vae = sc.read_h5ad(DATA_DIR / \"eb\" / \"flat\" / \"eb_lib.h5ad\")\n",
    "adata_latent_flat = sc.read_h5ad(DATA_DIR / \"eb\" / \"flat\" / \"eb_flat_lib.h5ad\")"
   ]
  },
  {
   "cell_type": "code",
   "execution_count": 15,
   "id": "47a400e8",
   "metadata": {},
   "outputs": [],
   "source": [
    "datamodule_kwargs_vae = {'path': '/nfs/homedirs/pala/scCFM/project_dir/data/eb/flat/eb_lib.h5ad',\n",
    "                          'x_layer': 'X_latents',\n",
    "                          'time_key': 'experimental_time', \n",
    "                          'use_pca': False, \n",
    "                          'n_dimensions': None, \n",
    "                          'train_val_test_split': [0.9, 0.1], \n",
    "                          'num_workers': 2, \n",
    "                          'batch_size': 512, \n",
    "                          'model_library_size': True}\n",
    "\n",
    "datamodule_kwargs_flat = {'path': '/nfs/homedirs/pala/scCFM/project_dir/data/eb/flat/eb_flat_lib.h5ad',\n",
    "                          'x_layer': 'X_latents',\n",
    "                          'time_key': 'experimental_time', \n",
    "                          'use_pca': False, \n",
    "                          'n_dimensions': None, \n",
    "                          'train_val_test_split': [0.9, 0.1], \n",
    "                          'num_workers': 2, \n",
    "                          'batch_size': 512, \n",
    "                           'model_library_size': True}\n",
    "\n",
    "# Initialize the datamodules \n",
    "datamodule_vae = TrajectoryDataModule(**datamodule_kwargs_vae)\n",
    "datamodule_flat = TrajectoryDataModule(**datamodule_kwargs_flat)\n",
    "\n",
    "# Mapping real times to index\n",
    "idx2time = datamodule_vae.idx2time"
   ]
  },
  {
   "cell_type": "markdown",
   "id": "fa5bffa8",
   "metadata": {},
   "source": [
    "Velocity field network"
   ]
  },
  {
   "cell_type": "code",
   "execution_count": 16,
   "id": "dcf2a556",
   "metadata": {},
   "outputs": [],
   "source": [
    "net_hparams = {\"dim\": datamodule_vae.dim,\n",
    "                \"w\": 64,\n",
    "                \"time_varying\": True}\n",
    "\n",
    "net_vae = MLP(**net_hparams).to(device)\n",
    "net_flat = MLP(**net_hparams).to(device)"
   ]
  },
  {
   "cell_type": "markdown",
   "id": "a6a9f912",
   "metadata": {},
   "source": [
    "CFM model "
   ]
  },
  {
   "cell_type": "code",
   "execution_count": 17,
   "id": "0153f3b3",
   "metadata": {},
   "outputs": [],
   "source": [
    "cfm_kwargs = {'ot_sampler': 'exact', \n",
    "                   'sigma': 0.1, \n",
    "                   'use_real_time': False, \n",
    "                   'lr': 0.001, \n",
    "                   'antithetic_time_sampling': True}\n",
    "\n",
    "cfm_vae = CFMLitModule(net=net_vae, datamodule=datamodule_vae, **cfm_kwargs).to(device)\n",
    "cfm_flat = CFMLitModule(net=net_flat, datamodule=datamodule_flat, **cfm_kwargs).to(device)"
   ]
  },
  {
   "cell_type": "code",
   "execution_count": 18,
   "id": "a7aa01ca",
   "metadata": {
    "scrolled": true
   },
   "outputs": [
    {
     "data": {
      "text/plain": [
       "<All keys matched successfully>"
      ]
     },
     "execution_count": 18,
     "metadata": {},
     "output_type": "execute_result"
    }
   ],
   "source": [
    "cfm_vae.load_state_dict(torch.load(CKPT_FOLDER / \"trajectory\" / \"eb\" / \"best_cfm_model_eb.ckpt\")[\"state_dict\"])\n",
    "cfm_flat.load_state_dict(torch.load(CKPT_FOLDER / \"trajectory\" / \"eb\" / \"best_cfm_model_flat_eb.ckpt\")[\"state_dict\"])"
   ]
  },
  {
   "cell_type": "markdown",
   "id": "07f9f355",
   "metadata": {},
   "source": [
    "**Add velocities to anndata and plot them onto the umap and pca**"
   ]
  },
  {
   "cell_type": "code",
   "execution_count": 19,
   "id": "259fc408",
   "metadata": {
    "scrolled": true
   },
   "outputs": [],
   "source": [
    "add_velocity_to_adata(adata_latent_vae, cfm_vae, device)\n",
    "add_velocity_to_adata(adata_latent_flat, cfm_flat, device)"
   ]
  },
  {
   "cell_type": "markdown",
   "id": "96f745e5-66a9-4293-9947-04b05c0943c7",
   "metadata": {},
   "source": [
    "**Run cellrank**"
   ]
  },
  {
   "cell_type": "code",
   "execution_count": 23,
   "id": "10a9db25-d192-4a1e-a686-5f07d1c18d55",
   "metadata": {},
   "outputs": [
    {
     "data": {
      "text/plain": [
       "AnnData object with n_obs × n_vars = 18176 × 10\n",
       "    obs: 'experimental_time', 'leiden', 'log_library_size'\n",
       "    uns: 'leiden_colors', 'neighbors', 'pca', 'umap'\n",
       "    obsm: 'X_pca', 'X_umap'\n",
       "    varm: 'PCs'\n",
       "    layers: 'X_latents', 'velocity'\n",
       "    obsp: 'connectivities', 'distances'"
      ]
     },
     "execution_count": 23,
     "metadata": {},
     "output_type": "execute_result"
    }
   ],
   "source": [
    "adata_latent_flat"
   ]
  },
  {
   "cell_type": "code",
   "execution_count": 24,
   "id": "017e84c9-8689-434a-8a6f-25665c792241",
   "metadata": {},
   "outputs": [],
   "source": [
    "vk = cr.kernels.VelocityKernel(adata_latent_flat,\n",
    "                              xkey=\"X_latents\", \n",
    "                              vkey=\"velocity\")"
   ]
  },
  {
   "cell_type": "code",
   "execution_count": 25,
   "id": "65b3dadc-f05b-44cf-bef2-8b2721c99553",
   "metadata": {},
   "outputs": [
    {
     "data": {
      "application/vnd.jupyter.widget-view+json": {
       "model_id": "08996f989a0d4579abc8a94e7bd96c28",
       "version_major": 2,
       "version_minor": 0
      },
      "text/plain": [
       "  0%|          | 0/18176 [00:00<?, ?cell/s]"
      ]
     },
     "metadata": {},
     "output_type": "display_data"
    },
    {
     "data": {
      "application/vnd.jupyter.widget-view+json": {
       "model_id": "caf3ebf9e67c411f8e5a99caa6ef0b6c",
       "version_major": 2,
       "version_minor": 0
      },
      "text/plain": [
       "  0%|          | 0/18176 [00:00<?, ?cell/s]"
      ]
     },
     "metadata": {},
     "output_type": "display_data"
    },
    {
     "data": {
      "text/plain": [
       "VelocityKernel[n=18176, model='deterministic', similarity='correlation', softmax_scale=3.46]"
      ]
     },
     "execution_count": 25,
     "metadata": {},
     "output_type": "execute_result"
    }
   ],
   "source": [
    "vk.compute_transition_matrix()"
   ]
  },
  {
   "cell_type": "code",
   "execution_count": 32,
   "id": "4b31b4c3-7eb7-4084-8d8d-eb43c511c817",
   "metadata": {},
   "outputs": [],
   "source": [
    "g = cr.estimators.GPCCA(vk)"
   ]
  },
  {
   "cell_type": "code",
   "execution_count": null,
   "id": "518c7e05-4d5e-4dc7-8ac5-d681614949b0",
   "metadata": {},
   "outputs": [
    {
     "name": "stdout",
     "output_type": "stream",
     "text": [
      "WARNING: Unable to import `petsc4py` or `slepc4py`. Using `method='brandts'`\n",
      "WARNING: For `method='brandts'`, dense matrix is required. Densifying\n"
     ]
    }
   ],
   "source": [
    "g.fit(n_states=5, cluster_key=\"clusters\")\n",
    "g.plot_macrostates(which=\"all\")"
   ]
  },
  {
   "cell_type": "code",
   "execution_count": null,
   "id": "507740b5-8cda-4820-ad6f-cf5e8bae86a5",
   "metadata": {},
   "outputs": [],
   "source": []
  }
 ],
 "metadata": {
  "kernelspec": {
   "display_name": "Python 3 (ipykernel)",
   "language": "python",
   "name": "python3"
  },
  "language_info": {
   "codemirror_mode": {
    "name": "ipython",
    "version": 3
   },
   "file_extension": ".py",
   "mimetype": "text/x-python",
   "name": "python",
   "nbconvert_exporter": "python",
   "pygments_lexer": "ipython3",
   "version": "3.10.12"
  }
 },
 "nbformat": 4,
 "nbformat_minor": 5
}
