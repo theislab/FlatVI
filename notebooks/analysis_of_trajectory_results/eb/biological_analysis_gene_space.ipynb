{
 "cells": [
  {
   "cell_type": "code",
   "execution_count": 1,
   "id": "1dec8c49-cff4-48b6-917f-fa3ec98ff9d0",
   "metadata": {},
   "outputs": [
    {
     "name": "stderr",
     "output_type": "stream",
     "text": [
      "No GPU/TPU found, falling back to CPU. (Set TF_CPP_MIN_LOG_LEVEL=0 and rerun for more info.)\n",
      "/nfs/staff-ssd/pala/miniconda3/envs/scCFM/lib/python3.10/site-packages/scvi/_settings.py:63: UserWarning: Since v1.0.0, scvi-tools no longer uses a random seed by default. Run `scvi.settings.seed = 0` to reproduce results from previous versions.\n",
      "  self.seed = seed\n",
      "/nfs/staff-ssd/pala/miniconda3/envs/scCFM/lib/python3.10/site-packages/scvi/_settings.py:70: UserWarning: Setting `dl_pin_memory_gpu_training` is deprecated in v1.0 and will be removed in v1.1. Please pass in `pin_memory` to the data loaders instead.\n",
      "  self.dl_pin_memory_gpu_training = (\n"
     ]
    }
   ],
   "source": [
    "from paths import DATA_DIR, CKPT_FOLDER, PROJECT_FOLDER\n",
    "\n",
    "import matplotlib.pyplot as plt\n",
    "import numpy as np\n",
    "import torch\n",
    "import scanpy as sc\n",
    "import scvelo as scv\n",
    "import cellrank as cr\n",
    "\n",
    "import anndata\n",
    "import pandas as pd\n",
    "import seaborn as sns\n",
    "\n",
    "from torchdyn.core import NeuralODE\n",
    "\n",
    "from scCFM.datamodules.time_sc_datamodule import TrajectoryDataModule\n",
    "from scCFM.models.cfm.components.mlp import MLP\n",
    "from scCFM.models.cfm.cfm_module import CFMLitModule\n",
    "from scCFM.models.base.vae import VAE\n",
    "from scCFM.models.base.geometric_vae import GeometricNBVAE\n",
    "from scCFM.datamodules.sc_datamodule import scDataModule\n",
    "from scCFM.models.cfm.components.eval.distribution_distances import compute_distribution_distances\n",
    "\n",
    "from notebooks.utils import (standardize_adata,\n",
    "                             add_keys_to_dict,\n",
    "                             real_reconstructed_cells_adata,\n",
    "                             add_velocity_to_adata, \n",
    "                             compute_velocity_projection, \n",
    "                             compute_trajectory, \n",
    "                             decode_trajectory)\n",
    "\n",
    "import scib\n",
    "from scib_metrics.benchmark import Benchmarker, BatchCorrection"
   ]
  },
  {
   "cell_type": "code",
   "execution_count": 2,
   "id": "c09ff6eb-9268-45cd-ba62-2f2a2a5fc3a1",
   "metadata": {},
   "outputs": [],
   "source": [
    "device = \"cuda\" if torch.cuda.is_available() else \"cpu\""
   ]
  },
  {
   "cell_type": "code",
   "execution_count": 3,
   "id": "0fb04f38-88b0-434e-be28-cb9f411b5b20",
   "metadata": {},
   "outputs": [],
   "source": [
    "adata_latent_vae = sc.read_h5ad(DATA_DIR / \"eb\" / \"flat\" / \"eb_lib.h5ad\")\n",
    "adata_latent_flat = sc.read_h5ad(DATA_DIR / \"eb\" / \"flat\" / \"eb_flat_lib.h5ad\")"
   ]
  },
  {
   "cell_type": "code",
   "execution_count": 4,
   "id": "1a9b5614-8a3b-4aea-920f-f423cfd52f6c",
   "metadata": {},
   "outputs": [],
   "source": [
    "def get_trajectory(adata, cluster, gene_list, n_tp=4):\n",
    "    condition = np.logical_and(adata.obs.experimental_time==1.0, adata.obs.leiden==cluster)\n",
    "    cells_t1 = np.array(adata[condition].obs.index).astype(np.int32) \n",
    "\n",
    "    # Collect the indices of the observations mapping to ncc\n",
    "    indices_lineage = [cells_t1]\n",
    "    \n",
    "    tmp_indices = cells_t1.copy()\n",
    "    for _ in range(n_tp):\n",
    "        tmp_indices -= n_x0\n",
    "        indices_lineage.append(tmp_indices.copy())\n",
    "\n",
    "    # Collect observations mapping to lineage \n",
    "    X_lineage = []\n",
    "\n",
    "    for idxs in indices_lineage[::-1]:\n",
    "        X_lineage.append(adata.X[idxs])\n",
    "    \n",
    "    X_lineage = np.stack(X_lineage, axis=1)\n",
    "\n",
    "    # Collect indices of genes of interest\n",
    "    genes_indices = list(adata.var[adata.var.gene_name.isin(gene_list)].index)\n",
    "    return X_lineage,genes_indices\n",
    "\n",
    "def plot_gene_trajectory_dpt(X_method_list, X_reference, pseudotime, idx2time, method_names, idx, gene_name):\n",
    "    # Add reference name\n",
    "    method_names.append(\"pseudotime\")\n",
    "    # Get the associated time\n",
    "    real_times = [idx2time[i] for i in idx2time]\n",
    "    time = [real_times*X.shape[0] for X in X_method_list]\n",
    "    time.append(pseudotime)\n",
    "    # Subset to values of interest\n",
    "    X_list = [X[:,:,idx].ravel() for X in X_method_list]\n",
    "    X_list.append(X_reference[:, idx])\n",
    "    # Method \n",
    "    method = [[method_names[i]]*X_list[i].shape[0] for i in range(len(X_list))]\n",
    "\n",
    "    # Concatenate\n",
    "    X_list = np.concatenate(X_list)\n",
    "    time = np.concatenate(time)\n",
    "    method = np.concatenate(method)\n",
    "    \n",
    "    # Dictironary to plot \n",
    "    plotting_dict = {\"gene_expression\": X_list, \n",
    "                     \"time\": time,\n",
    "                    \"method\": method}\n",
    "    sns.lineplot(plotting_dict, x=\"time\", y=\"gene_expression\", hue=\"method\")\n",
    "    plt.title(gene_name)\n",
    "\n",
    "def plot_gene_trajectory(X_method_list, X_original, data_times, idx2time, method_names, idx, gene_name):\n",
    "    # Append name real data\n",
    "    method_names.append(\"real_data\")\n",
    "    # Get the associated time\n",
    "    real_times = [idx2time[i] for i in idx2time]\n",
    "    time = [real_times*X.shape[0] for X in X_method_list]\n",
    "    time.append(data_times)\n",
    "    # Subset to values of interest\n",
    "    X_list = [X[:,:,idx].ravel() for X in X_method_list]\n",
    "    X_list.append(X_original[:, idx])\n",
    "    # Method \n",
    "    method = [[method_names[i]]*X_list[i].shape[0] for i in range(len(X_list))]\n",
    "\n",
    "    # Concatenate\n",
    "    X_list = np.concatenate(X_list)\n",
    "    time = np.concatenate(time)\n",
    "    method = np.concatenate(method)\n",
    "    \n",
    "    # Dictironary to plot \n",
    "    plotting_dict = {\"gene_expression\": X_list, \n",
    "                     \"time\": time,\n",
    "                    \"method\": method}\n",
    "    sns.lineplot(plotting_dict, x=\"time\", y=\"gene_expression\", hue=\"method\")\n",
    "    plt.title(gene_name)"
   ]
  },
  {
   "cell_type": "markdown",
   "id": "50b70343",
   "metadata": {},
   "source": [
    "Initialize datamodule"
   ]
  },
  {
   "cell_type": "code",
   "execution_count": 5,
   "id": "47a400e8",
   "metadata": {},
   "outputs": [],
   "source": [
    "datamodule_kwargs_vae = {'path': '/nfs/homedirs/pala/scCFM/project_dir/data/eb/flat/eb_lib.h5ad',\n",
    "                          'x_layer': 'X_latents',\n",
    "                          'time_key': 'experimental_time', \n",
    "                          'use_pca': False, \n",
    "                          'n_dimensions': None, \n",
    "                          'train_val_test_split': [0.9, 0.1], \n",
    "                          'num_workers': 2, \n",
    "                          'batch_size': 512, \n",
    "                          'model_library_size': True}\n",
    "\n",
    "datamodule_kwargs_flat = {'path': '/nfs/homedirs/pala/scCFM/project_dir/data/eb/flat/eb_flat_lib.h5ad',\n",
    "                          'x_layer': 'X_latents',\n",
    "                          'time_key': 'experimental_time', \n",
    "                          'use_pca': False, \n",
    "                          'n_dimensions': None, \n",
    "                          'train_val_test_split': [0.9, 0.1], \n",
    "                          'num_workers': 2, \n",
    "                          'batch_size': 512, \n",
    "                           'model_library_size': True}\n",
    "\n",
    "# Initialize the datamodules \n",
    "datamodule_vae = TrajectoryDataModule(**datamodule_kwargs_vae)\n",
    "datamodule_flat = TrajectoryDataModule(**datamodule_kwargs_flat)\n",
    "\n",
    "# Mapping real times to index\n",
    "idx2time = datamodule_vae.idx2time"
   ]
  },
  {
   "cell_type": "markdown",
   "id": "fa5bffa8",
   "metadata": {},
   "source": [
    "Velocity field network"
   ]
  },
  {
   "cell_type": "code",
   "execution_count": 6,
   "id": "dcf2a556",
   "metadata": {},
   "outputs": [],
   "source": [
    "net_hparams = {\"dim\": datamodule_vae.dim,\n",
    "                \"w\": 64,\n",
    "                \"time_varying\": True}\n",
    "\n",
    "net_vae = MLP(**net_hparams).to(device)\n",
    "net_flat = MLP(**net_hparams).to(device)"
   ]
  },
  {
   "cell_type": "markdown",
   "id": "a6a9f912",
   "metadata": {},
   "source": [
    "CFM model "
   ]
  },
  {
   "cell_type": "code",
   "execution_count": 7,
   "id": "0153f3b3",
   "metadata": {},
   "outputs": [],
   "source": [
    "cfm_kwargs = {'ot_sampler': 'exact', \n",
    "                   'sigma': 0.1, \n",
    "                   'use_real_time': False, \n",
    "                   'lr': 0.001, \n",
    "                   'antithetic_time_sampling': True}\n",
    "\n",
    "cfm_vae = CFMLitModule(net=net_vae, datamodule=datamodule_vae, **cfm_kwargs).to(device)\n",
    "cfm_flat = CFMLitModule(net=net_flat, datamodule=datamodule_flat, **cfm_kwargs).to(device)"
   ]
  },
  {
   "cell_type": "code",
   "execution_count": 8,
   "id": "a7aa01ca",
   "metadata": {
    "scrolled": true
   },
   "outputs": [
    {
     "data": {
      "text/plain": [
       "<All keys matched successfully>"
      ]
     },
     "execution_count": 8,
     "metadata": {},
     "output_type": "execute_result"
    }
   ],
   "source": [
    "cfm_vae.load_state_dict(torch.load(CKPT_FOLDER / \"trajectory\" / \"eb\" / \"best_cfm_model_eb.ckpt\")[\"state_dict\"])\n",
    "cfm_flat.load_state_dict(torch.load(CKPT_FOLDER / \"trajectory\" / \"eb\" / \"best_cfm_model_flat_eb.ckpt\")[\"state_dict\"])"
   ]
  },
  {
   "cell_type": "markdown",
   "id": "de9dfba5",
   "metadata": {},
   "source": [
    "**Decoded trajectories**"
   ]
  },
  {
   "cell_type": "code",
   "execution_count": 9,
   "id": "155bf423",
   "metadata": {},
   "outputs": [],
   "source": [
    "datamodule={'path': '/nfs/homedirs/pala/scCFM/project_dir/data/eb/processed/eb_phate.h5ad', \n",
    "            'x_layer': 'X_norm', \n",
    "            'cond_keys': ['experimental_time', 'leiden'],\n",
    "            'use_pca': False, \n",
    "            'n_dimensions': None, \n",
    "            'train_val_test_split': [1], \n",
    "            'batch_size': 512, \n",
    "            'num_workers': 2}\n",
    "\n",
    "# Initialize datamodule\n",
    "datamodule = scDataModule(**datamodule)"
   ]
  },
  {
   "cell_type": "markdown",
   "id": "667ea3e6-05e0-4d85-a5db-c8745b96ddb9",
   "metadata": {},
   "source": [
    "Initialize variational autoencoders"
   ]
  },
  {
   "cell_type": "code",
   "execution_count": 10,
   "id": "b6eb561c",
   "metadata": {},
   "outputs": [],
   "source": [
    "model_vae={\n",
    "       'in_dim': datamodule.in_dim,\n",
    "       'n_epochs_anneal_kl': 1000, \n",
    "       'kl_weight': None, \n",
    "       'likelihood': 'nb', \n",
    "       'dropout': False, \n",
    "       'learning_rate': 0.001, \n",
    "       'dropout_p': False, \n",
    "       'model_library_size': True, \n",
    "       'batch_norm': True, \n",
    "       'kl_warmup_fraction': 0.1, \n",
    "       'hidden_dims': [256, 10]}\n",
    "        \n",
    "geometric={'compute_metrics_every': 1, \n",
    "           'use_c': True, \n",
    "           'l2': True, \n",
    "           'eta_interp': 0, \n",
    "           'interpolate_z': False, \n",
    "           'start_jac_after': 0, \n",
    "           'fl_weight': 0.1,\n",
    "           'detach_theta': True}"
   ]
  },
  {
   "cell_type": "code",
   "execution_count": 11,
   "id": "ead4a5c2",
   "metadata": {},
   "outputs": [],
   "source": [
    "# Initialize vae and geometric vae\n",
    "vae = GeometricNBVAE(**geometric, vae_kwargs=model_vae).to(cfm_vae.device)\n",
    "geometric_vae = GeometricNBVAE(**geometric, vae_kwargs=model_vae).to(cfm_vae.device)"
   ]
  },
  {
   "cell_type": "code",
   "execution_count": 12,
   "id": "01be295c",
   "metadata": {
    "scrolled": true
   },
   "outputs": [
    {
     "data": {
      "text/plain": [
       "GeometricNBVAE(\n",
       "  (encoder_layers): MLP(\n",
       "    (net): Sequential(\n",
       "      (0): Sequential(\n",
       "        (0): Linear(in_features=1241, out_features=256, bias=True)\n",
       "        (1): BatchNorm1d(256, eps=1e-05, momentum=0.1, affine=True, track_running_stats=True)\n",
       "        (2): ELU(alpha=1.0)\n",
       "      )\n",
       "    )\n",
       "  )\n",
       "  (decoder_layers): MLP(\n",
       "    (net): Sequential(\n",
       "      (0): Sequential(\n",
       "        (0): Linear(in_features=10, out_features=256, bias=True)\n",
       "        (1): BatchNorm1d(256, eps=1e-05, momentum=0.1, affine=True, track_running_stats=True)\n",
       "        (2): ELU(alpha=1.0)\n",
       "      )\n",
       "    )\n",
       "  )\n",
       "  (library_size_decoder): Linear(in_features=10, out_features=1, bias=True)\n",
       "  (decoder_mu_lib): Linear(in_features=256, out_features=1241, bias=True)\n",
       "  (mu_logvar): Linear(in_features=256, out_features=20, bias=True)\n",
       ")"
      ]
     },
     "execution_count": 12,
     "metadata": {},
     "output_type": "execute_result"
    }
   ],
   "source": [
    "# Load state dicts and put in eval mode \n",
    "vae.load_state_dict(torch.load(PROJECT_FOLDER / \"checkpoints/ae/eb/best_model_vae_lib.ckpt\")[\"state_dict\"])\n",
    "geometric_vae.load_state_dict(torch.load(PROJECT_FOLDER / \"checkpoints/ae/eb/best_model_geometric_lib.ckpt\")[\"state_dict\"])\n",
    "\n",
    "vae.eval()\n",
    "geometric_vae.eval()"
   ]
  },
  {
   "cell_type": "markdown",
   "id": "7238ed55",
   "metadata": {},
   "source": [
    "Compute the trajectories "
   ]
  },
  {
   "cell_type": "code",
   "execution_count": 13,
   "id": "e1a6eac9-a233-4d9c-a99a-c05bcdc76a1e",
   "metadata": {},
   "outputs": [],
   "source": [
    "#Pick time 0 observations\n",
    "X_adata_t0_vae = torch.from_numpy(adata_latent_vae[adata_latent_vae.obs[\"experimental_time\"]==0].X).to(device)\n",
    "X_adata_t0_flat = torch.from_numpy(adata_latent_flat[adata_latent_flat.obs[\"experimental_time\"]==0].X).to(device)\n",
    "\n",
    "#Library values of observations at time 0\n",
    "l_t0_vae = adata_latent_vae.obs.loc[adata_latent_vae.obs[\"experimental_time\"]==0, \"log_library_size\"].to_numpy()\n",
    "l_t0_flat = adata_latent_flat.obs.loc[adata_latent_flat.obs[\"experimental_time\"]==0, \"log_library_size\"].to_numpy()\n",
    "l_t0_vae = torch.from_numpy(l_t0_vae).to(device)\n",
    "l_t0_flat = torch.from_numpy(l_t0_flat).to(device)"
   ]
  },
  {
   "cell_type": "code",
   "execution_count": 14,
   "id": "baf2fb7b-6fbf-41e9-9039-5b66245d48aa",
   "metadata": {},
   "outputs": [],
   "source": [
    "# Number of observations at x0\n",
    "n_x0 = X_adata_t0_vae.shape[0]"
   ]
  },
  {
   "cell_type": "code",
   "execution_count": 15,
   "id": "02b77190",
   "metadata": {
    "scrolled": true
   },
   "outputs": [],
   "source": [
    "# Collect data trajectories\n",
    "mu_traj_vae, x_traj_vae, times_traj_vae = decode_trajectory(X_adata_t0_vae,\n",
    "                                                            l_t0_vae,\n",
    "                                                            cfm_vae,\n",
    "                                                            vae,\n",
    "                                                            idx2time, \n",
    "                                                            device, \n",
    "                                                            False,\n",
    "                                                            keep_time_d=False, \n",
    "                                                           append_last=False)\n",
    "\n",
    "mu_traj_flat, x_traj_flat, times_traj_flat = decode_trajectory(X_adata_t0_flat,\n",
    "                                                               l_t0_flat,\n",
    "                                                               cfm_flat,\n",
    "                                                               geometric_vae,\n",
    "                                                               idx2time, \n",
    "                                                               device, \n",
    "                                                               False,\n",
    "                                                               keep_time_d=False)\n",
    "\n",
    "# Real time cells (for plotting)\n",
    "times_traj_vae = pd.DataFrame(times_traj_vae)\n",
    "times_traj_flat = pd.DataFrame(times_traj_flat)\n",
    "\n",
    "times_traj_vae.columns = [\"experimental_time\"]\n",
    "times_traj_flat.columns = [\"experimental_time\"]"
   ]
  },
  {
   "cell_type": "code",
   "execution_count": 16,
   "id": "f37f4213-76f3-42f0-907c-cddcd1bc0679",
   "metadata": {},
   "outputs": [
    {
     "name": "stderr",
     "output_type": "stream",
     "text": [
      "/nfs/staff-ssd/pala/miniconda3/envs/scCFM/lib/python3.10/site-packages/anndata/_core/anndata.py:121: ImplicitModificationWarning: Transforming to str index.\n",
      "  warnings.warn(\"Transforming to str index.\", ImplicitModificationWarning)\n"
     ]
    },
    {
     "ename": "ValueError",
     "evalue": "Observations annot. `obs` must have number of rows of `X` (22653), but has 17655653 rows.",
     "output_type": "error",
     "traceback": [
      "\u001b[0;31m---------------------------------------------------------------------------\u001b[0m",
      "\u001b[0;31mValueError\u001b[0m                                Traceback (most recent call last)",
      "Cell \u001b[0;32mIn[16], line 2\u001b[0m\n\u001b[1;32m      1\u001b[0m \u001b[38;5;66;03m# Create anndatas\u001b[39;00m\n\u001b[0;32m----> 2\u001b[0m adata_x_traj_vae \u001b[38;5;241m=\u001b[39m \u001b[43manndata\u001b[49m\u001b[38;5;241;43m.\u001b[39;49m\u001b[43mAnnData\u001b[49m\u001b[43m(\u001b[49m\u001b[43mX\u001b[49m\u001b[38;5;241;43m=\u001b[39;49m\u001b[43mx_traj_vae\u001b[49m\u001b[38;5;241;43m.\u001b[39;49m\u001b[43mdetach\u001b[49m\u001b[43m(\u001b[49m\u001b[43m)\u001b[49m\u001b[38;5;241;43m.\u001b[39;49m\u001b[43mnumpy\u001b[49m\u001b[43m(\u001b[49m\u001b[43m)\u001b[49m\u001b[43m,\u001b[49m\u001b[43m \u001b[49m\n\u001b[1;32m      3\u001b[0m \u001b[43m                                     \u001b[49m\u001b[43mobs\u001b[49m\u001b[38;5;241;43m=\u001b[39;49m\u001b[43mtimes_traj_vae\u001b[49m\u001b[43m)\u001b[49m\n\u001b[1;32m      4\u001b[0m adata_x_traj_flat \u001b[38;5;241m=\u001b[39m anndata\u001b[38;5;241m.\u001b[39mAnnData(X\u001b[38;5;241m=\u001b[39mx_traj_flat\u001b[38;5;241m.\u001b[39mdetach()\u001b[38;5;241m.\u001b[39mnumpy(),\n\u001b[1;32m      5\u001b[0m                                       obs\u001b[38;5;241m=\u001b[39mtimes_traj_flat)\n",
      "File \u001b[0;32m/nfs/staff-ssd/pala/miniconda3/envs/scCFM/lib/python3.10/site-packages/anndata/_core/anndata.py:291\u001b[0m, in \u001b[0;36mAnnData.__init__\u001b[0;34m(self, X, obs, var, uns, obsm, varm, layers, raw, dtype, shape, filename, filemode, asview, obsp, varp, oidx, vidx)\u001b[0m\n\u001b[1;32m    289\u001b[0m     \u001b[38;5;28mself\u001b[39m\u001b[38;5;241m.\u001b[39m_init_as_view(X, oidx, vidx)\n\u001b[1;32m    290\u001b[0m \u001b[38;5;28;01melse\u001b[39;00m:\n\u001b[0;32m--> 291\u001b[0m     \u001b[38;5;28;43mself\u001b[39;49m\u001b[38;5;241;43m.\u001b[39;49m\u001b[43m_init_as_actual\u001b[49m\u001b[43m(\u001b[49m\n\u001b[1;32m    292\u001b[0m \u001b[43m        \u001b[49m\u001b[43mX\u001b[49m\u001b[38;5;241;43m=\u001b[39;49m\u001b[43mX\u001b[49m\u001b[43m,\u001b[49m\n\u001b[1;32m    293\u001b[0m \u001b[43m        \u001b[49m\u001b[43mobs\u001b[49m\u001b[38;5;241;43m=\u001b[39;49m\u001b[43mobs\u001b[49m\u001b[43m,\u001b[49m\n\u001b[1;32m    294\u001b[0m \u001b[43m        \u001b[49m\u001b[43mvar\u001b[49m\u001b[38;5;241;43m=\u001b[39;49m\u001b[43mvar\u001b[49m\u001b[43m,\u001b[49m\n\u001b[1;32m    295\u001b[0m \u001b[43m        \u001b[49m\u001b[43muns\u001b[49m\u001b[38;5;241;43m=\u001b[39;49m\u001b[43muns\u001b[49m\u001b[43m,\u001b[49m\n\u001b[1;32m    296\u001b[0m \u001b[43m        \u001b[49m\u001b[43mobsm\u001b[49m\u001b[38;5;241;43m=\u001b[39;49m\u001b[43mobsm\u001b[49m\u001b[43m,\u001b[49m\n\u001b[1;32m    297\u001b[0m \u001b[43m        \u001b[49m\u001b[43mvarm\u001b[49m\u001b[38;5;241;43m=\u001b[39;49m\u001b[43mvarm\u001b[49m\u001b[43m,\u001b[49m\n\u001b[1;32m    298\u001b[0m \u001b[43m        \u001b[49m\u001b[43mraw\u001b[49m\u001b[38;5;241;43m=\u001b[39;49m\u001b[43mraw\u001b[49m\u001b[43m,\u001b[49m\n\u001b[1;32m    299\u001b[0m \u001b[43m        \u001b[49m\u001b[43mlayers\u001b[49m\u001b[38;5;241;43m=\u001b[39;49m\u001b[43mlayers\u001b[49m\u001b[43m,\u001b[49m\n\u001b[1;32m    300\u001b[0m \u001b[43m        \u001b[49m\u001b[43mdtype\u001b[49m\u001b[38;5;241;43m=\u001b[39;49m\u001b[43mdtype\u001b[49m\u001b[43m,\u001b[49m\n\u001b[1;32m    301\u001b[0m \u001b[43m        \u001b[49m\u001b[43mshape\u001b[49m\u001b[38;5;241;43m=\u001b[39;49m\u001b[43mshape\u001b[49m\u001b[43m,\u001b[49m\n\u001b[1;32m    302\u001b[0m \u001b[43m        \u001b[49m\u001b[43mobsp\u001b[49m\u001b[38;5;241;43m=\u001b[39;49m\u001b[43mobsp\u001b[49m\u001b[43m,\u001b[49m\n\u001b[1;32m    303\u001b[0m \u001b[43m        \u001b[49m\u001b[43mvarp\u001b[49m\u001b[38;5;241;43m=\u001b[39;49m\u001b[43mvarp\u001b[49m\u001b[43m,\u001b[49m\n\u001b[1;32m    304\u001b[0m \u001b[43m        \u001b[49m\u001b[43mfilename\u001b[49m\u001b[38;5;241;43m=\u001b[39;49m\u001b[43mfilename\u001b[49m\u001b[43m,\u001b[49m\n\u001b[1;32m    305\u001b[0m \u001b[43m        \u001b[49m\u001b[43mfilemode\u001b[49m\u001b[38;5;241;43m=\u001b[39;49m\u001b[43mfilemode\u001b[49m\u001b[43m,\u001b[49m\n\u001b[1;32m    306\u001b[0m \u001b[43m    \u001b[49m\u001b[43m)\u001b[49m\n",
      "File \u001b[0;32m/nfs/staff-ssd/pala/miniconda3/envs/scCFM/lib/python3.10/site-packages/anndata/_core/anndata.py:511\u001b[0m, in \u001b[0;36mAnnData._init_as_actual\u001b[0;34m(self, X, obs, var, uns, obsm, varm, varp, obsp, raw, layers, dtype, shape, filename, filemode)\u001b[0m\n\u001b[1;32m    508\u001b[0m \u001b[38;5;66;03m# Backwards compat for connectivities matrices in uns[\"neighbors\"]\u001b[39;00m\n\u001b[1;32m    509\u001b[0m _move_adj_mtx({\u001b[38;5;124m\"\u001b[39m\u001b[38;5;124muns\u001b[39m\u001b[38;5;124m\"\u001b[39m: \u001b[38;5;28mself\u001b[39m\u001b[38;5;241m.\u001b[39m_uns, \u001b[38;5;124m\"\u001b[39m\u001b[38;5;124mobsp\u001b[39m\u001b[38;5;124m\"\u001b[39m: \u001b[38;5;28mself\u001b[39m\u001b[38;5;241m.\u001b[39m_obsp})\n\u001b[0;32m--> 511\u001b[0m \u001b[38;5;28;43mself\u001b[39;49m\u001b[38;5;241;43m.\u001b[39;49m\u001b[43m_check_dimensions\u001b[49m\u001b[43m(\u001b[49m\u001b[43m)\u001b[49m\n\u001b[1;32m    512\u001b[0m \u001b[38;5;28mself\u001b[39m\u001b[38;5;241m.\u001b[39m_check_uniqueness()\n\u001b[1;32m    514\u001b[0m \u001b[38;5;28;01mif\u001b[39;00m \u001b[38;5;28mself\u001b[39m\u001b[38;5;241m.\u001b[39mfilename:\n",
      "File \u001b[0;32m/nfs/staff-ssd/pala/miniconda3/envs/scCFM/lib/python3.10/site-packages/anndata/_core/anndata.py:1853\u001b[0m, in \u001b[0;36mAnnData._check_dimensions\u001b[0;34m(self, key)\u001b[0m\n\u001b[1;32m   1851\u001b[0m     key \u001b[38;5;241m=\u001b[39m {key}\n\u001b[1;32m   1852\u001b[0m \u001b[38;5;28;01mif\u001b[39;00m \u001b[38;5;124m\"\u001b[39m\u001b[38;5;124mobs\u001b[39m\u001b[38;5;124m\"\u001b[39m \u001b[38;5;129;01min\u001b[39;00m key \u001b[38;5;129;01mand\u001b[39;00m \u001b[38;5;28mlen\u001b[39m(\u001b[38;5;28mself\u001b[39m\u001b[38;5;241m.\u001b[39m_obs) \u001b[38;5;241m!=\u001b[39m \u001b[38;5;28mself\u001b[39m\u001b[38;5;241m.\u001b[39m_n_obs:\n\u001b[0;32m-> 1853\u001b[0m     \u001b[38;5;28;01mraise\u001b[39;00m \u001b[38;5;167;01mValueError\u001b[39;00m(\n\u001b[1;32m   1854\u001b[0m         \u001b[38;5;124m\"\u001b[39m\u001b[38;5;124mObservations annot. `obs` must have number of rows of `X`\u001b[39m\u001b[38;5;124m\"\u001b[39m\n\u001b[1;32m   1855\u001b[0m         \u001b[38;5;124mf\u001b[39m\u001b[38;5;124m\"\u001b[39m\u001b[38;5;124m (\u001b[39m\u001b[38;5;132;01m{\u001b[39;00m\u001b[38;5;28mself\u001b[39m\u001b[38;5;241m.\u001b[39m_n_obs\u001b[38;5;132;01m}\u001b[39;00m\u001b[38;5;124m), but has \u001b[39m\u001b[38;5;132;01m{\u001b[39;00m\u001b[38;5;28mself\u001b[39m\u001b[38;5;241m.\u001b[39m_obs\u001b[38;5;241m.\u001b[39mshape[\u001b[38;5;241m0\u001b[39m]\u001b[38;5;132;01m}\u001b[39;00m\u001b[38;5;124m rows.\u001b[39m\u001b[38;5;124m\"\u001b[39m\n\u001b[1;32m   1856\u001b[0m     )\n\u001b[1;32m   1857\u001b[0m \u001b[38;5;28;01mif\u001b[39;00m \u001b[38;5;124m\"\u001b[39m\u001b[38;5;124mvar\u001b[39m\u001b[38;5;124m\"\u001b[39m \u001b[38;5;129;01min\u001b[39;00m key \u001b[38;5;129;01mand\u001b[39;00m \u001b[38;5;28mlen\u001b[39m(\u001b[38;5;28mself\u001b[39m\u001b[38;5;241m.\u001b[39m_var) \u001b[38;5;241m!=\u001b[39m \u001b[38;5;28mself\u001b[39m\u001b[38;5;241m.\u001b[39m_n_vars:\n\u001b[1;32m   1858\u001b[0m     \u001b[38;5;28;01mraise\u001b[39;00m \u001b[38;5;167;01mValueError\u001b[39;00m(\n\u001b[1;32m   1859\u001b[0m         \u001b[38;5;124m\"\u001b[39m\u001b[38;5;124mVariables annot. `var` must have number of columns of `X`\u001b[39m\u001b[38;5;124m\"\u001b[39m\n\u001b[1;32m   1860\u001b[0m         \u001b[38;5;124mf\u001b[39m\u001b[38;5;124m\"\u001b[39m\u001b[38;5;124m (\u001b[39m\u001b[38;5;132;01m{\u001b[39;00m\u001b[38;5;28mself\u001b[39m\u001b[38;5;241m.\u001b[39m_n_vars\u001b[38;5;132;01m}\u001b[39;00m\u001b[38;5;124m), but has \u001b[39m\u001b[38;5;132;01m{\u001b[39;00m\u001b[38;5;28mself\u001b[39m\u001b[38;5;241m.\u001b[39m_var\u001b[38;5;241m.\u001b[39mshape[\u001b[38;5;241m0\u001b[39m]\u001b[38;5;132;01m}\u001b[39;00m\u001b[38;5;124m rows.\u001b[39m\u001b[38;5;124m\"\u001b[39m\n\u001b[1;32m   1861\u001b[0m     )\n",
      "\u001b[0;31mValueError\u001b[0m: Observations annot. `obs` must have number of rows of `X` (22653), but has 17655653 rows."
     ]
    }
   ],
   "source": [
    "# Create anndatas\n",
    "adata_x_traj_vae = anndata.AnnData(X=x_traj_vae.detach().numpy(), \n",
    "                                     obs=times_traj_vae)\n",
    "adata_x_traj_flat = anndata.AnnData(X=x_traj_flat.detach().numpy(),\n",
    "                                      obs=times_traj_flat)"
   ]
  },
  {
   "cell_type": "markdown",
   "id": "d6d3e9ff-a9c6-4ff7-8aba-710ff45da11a",
   "metadata": {},
   "source": [
    "We now have simulated datasets. We read the true datasets and visualize it "
   ]
  },
  {
   "cell_type": "code",
   "execution_count": null,
   "id": "6501525f-a8d1-4a92-946a-9770faf91dac",
   "metadata": {},
   "outputs": [],
   "source": [
    "adata_eb_original = sc.read_h5ad('/nfs/homedirs/pala/scCFM/project_dir/data/eb/processed/eb_phate.h5ad')\n",
    "adata_eb_original.X = adata_eb_original.layers[\"X_norm\"].copy()\n",
    "adata_eb_original.var = adata_eb_original.var"
   ]
  },
  {
   "cell_type": "markdown",
   "id": "58347ef5-d774-433b-9bdc-d36f975da8d8",
   "metadata": {},
   "source": [
    "Annotate genes"
   ]
  },
  {
   "cell_type": "code",
   "execution_count": null,
   "id": "d0f46178-71c0-478e-854a-192d4f445c6b",
   "metadata": {},
   "outputs": [],
   "source": [
    "adata_x_traj_vae.var = adata_eb_original.var.copy()\n",
    "adata_x_traj_flat.var = adata_eb_original.var.copy()"
   ]
  },
  {
   "cell_type": "code",
   "execution_count": null,
   "id": "c52e18bf-a0f2-4524-8ff5-0d27da5148ea",
   "metadata": {},
   "outputs": [],
   "source": [
    "sc.pl.embedding(adata_eb_original, basis=\"X_phate\", color=[\"leiden\", \"experimental_time\"])"
   ]
  },
  {
   "cell_type": "code",
   "execution_count": null,
   "id": "74a667f5-259f-46d5-b2d6-5ba35d9587fd",
   "metadata": {},
   "outputs": [],
   "source": [
    "sc.pl.umap(adata_eb_original, color=[\"leiden\", \"experimental_time\"])"
   ]
  },
  {
   "cell_type": "code",
   "execution_count": null,
   "id": "11664ade-b11b-4c1e-8078-7c2b77deb13a",
   "metadata": {},
   "outputs": [],
   "source": [
    "#log1p and neighbors calculation\n",
    "sc.pp.log1p(adata_x_traj_vae)\n",
    "sc.pp.log1p(adata_x_traj_flat)\n",
    "\n",
    "sc.tl.pca(adata_x_traj_vae)\n",
    "sc.tl.pca(adata_x_traj_flat)\n",
    "\n",
    "sc.pp.neighbors(adata_x_traj_vae)\n",
    "sc.pp.neighbors(adata_x_traj_flat)\n",
    "\n",
    "sc.tl.umap(adata_x_traj_vae)\n",
    "sc.tl.umap(adata_x_traj_flat)"
   ]
  },
  {
   "cell_type": "code",
   "execution_count": null,
   "id": "844d594d-9e3a-43e5-9747-61e532e1b488",
   "metadata": {},
   "outputs": [],
   "source": [
    "sc.tl.ingest(adata_x_traj_vae, adata_eb_original, obs=\"leiden\", embedding_method=\"umap\")\n",
    "sc.tl.ingest(adata_x_traj_flat, adata_eb_original, obs=\"leiden\", embedding_method=\"umap\")"
   ]
  },
  {
   "cell_type": "code",
   "execution_count": null,
   "id": "59d92f6e-ac97-4e05-a605-9359cb2f7ef9",
   "metadata": {},
   "outputs": [],
   "source": [
    "sc.pl.umap(adata_x_traj_flat, color=\"leiden\")"
   ]
  },
  {
   "cell_type": "code",
   "execution_count": null,
   "id": "e49bf055-ee67-41f0-a780-3ccf8b4c6607",
   "metadata": {},
   "outputs": [],
   "source": [
    "sc.pl.umap(adata_x_traj_vae, color=[\"leiden\", \"experimental_time\"])"
   ]
  },
  {
   "cell_type": "code",
   "execution_count": null,
   "id": "15d32c3c-6bc5-45c0-9091-2694ec0eacc3",
   "metadata": {
    "scrolled": true
   },
   "outputs": [],
   "source": [
    "adata_x_traj_flat.var = adata_x_traj_flat.var.reset_index()\n",
    "adata_x_traj_vae.var = adata_x_traj_vae.var.reset_index()\n",
    "adata_eb_original.var = adata_eb_original.var.reset_index()"
   ]
  },
  {
   "cell_type": "markdown",
   "id": "b96376e9-6bd4-42e0-bc28-d51b2ea5f478",
   "metadata": {},
   "source": [
    "### Neural crest cells"
   ]
  },
  {
   "cell_type": "code",
   "execution_count": null,
   "id": "f1e0daaa-4577-4569-b049-30496bc1dde2",
   "metadata": {},
   "outputs": [],
   "source": [
    "X_neural_crest_cells_flat, genes_neural_crest_cells = get_trajectory(adata_x_traj_flat, '3', [\"NGFR\", \"GYPC\", \"CXCR4\", \"PDGFRB\"], n_tp=4)\n",
    "X_neural_crest_cells_vae, genes_neural_crest_cells = get_trajectory(adata_x_traj_vae, '3', [\"NGFR\", \"GYPC\", \"CXCR4\", \"PDGFRB\"], n_tp=4)"
   ]
  },
  {
   "cell_type": "code",
   "execution_count": null,
   "id": "17ded761-dbad-4efa-98b7-c1520154be41",
   "metadata": {},
   "outputs": [],
   "source": [
    "adata_eb_original_neural_crest = adata_eb_original[adata_eb_original.obs.leiden.isin(['7', '4', '8', '3'])]\n",
    "sc.pl.embedding(adata_eb_original_neural_crest, basis=\"X_phate\", color=[\"leiden\", \"dpt_pseudotime\"])\n",
    "adata_eb_original_neural_crest.uns['iroot'] = np.flatnonzero(adata_eb_original_neural_crest.obs['leiden']  == '7')[0]\n",
    "sc.tl.dpt(adata_eb_original_neural_crest)\n",
    "adata_eb_original_neural_crest = adata_eb_original_neural_crest[adata_eb_original_neural_crest.obs.sort_values(by=\"dpt_pseudotime\").index]"
   ]
  },
  {
   "cell_type": "markdown",
   "id": "25a73b29-a628-4439-8e22-ddddc73a577f",
   "metadata": {},
   "source": [
    "Plot pseudotime "
   ]
  },
  {
   "cell_type": "code",
   "execution_count": null,
   "id": "93f2190a-c9ea-4be1-873c-c1e122dba6f7",
   "metadata": {
    "scrolled": true
   },
   "outputs": [],
   "source": [
    "plot_gene_trajectory([X_neural_crest_cells_flat, X_neural_crest_cells_vae], \n",
    "                     np.array(adata_eb_original_neural_crest.X.A), \n",
    "                     np.array(adata_eb_original_neural_crest.obs.experimental_time), \n",
    "                     idx2time, \n",
    "                     [\"flat\", \"vae\", \"real\"],\n",
    "                     257, \n",
    "                     \"NGFR\")"
   ]
  },
  {
   "cell_type": "code",
   "execution_count": null,
   "id": "10e2e71e-e23f-4fff-a90c-5adf8e26cad9",
   "metadata": {
    "scrolled": true
   },
   "outputs": [],
   "source": [
    "plot_gene_trajectory([X_neural_crest_cells_flat, X_neural_crest_cells_vae], \n",
    "                     np.array(adata_eb_original_neural_crest.X.A), \n",
    "                     np.array(adata_eb_original_neural_crest.obs.experimental_time), \n",
    "                     idx2time, \n",
    "                     [\"flat\", \"vae\", \"real\"],\n",
    "                     455, \n",
    "                     \"GYPC\")"
   ]
  },
  {
   "cell_type": "code",
   "execution_count": null,
   "id": "83789ada-9137-4995-8635-5fa8c0db1597",
   "metadata": {
    "scrolled": true
   },
   "outputs": [],
   "source": [
    "plot_gene_trajectory([X_neural_crest_cells_flat, X_neural_crest_cells_vae], \n",
    "                     np.array(adata_eb_original_neural_crest.X.A), \n",
    "                     np.array(adata_eb_original_neural_crest.obs.experimental_time), \n",
    "                     idx2time, \n",
    "                     [\"flat\", \"vae\", \"real\"],\n",
    "                     755, \n",
    "                     \"CXCR4\")"
   ]
  },
  {
   "cell_type": "code",
   "execution_count": null,
   "id": "12731fab-4380-4d83-98ed-38fbb9553d68",
   "metadata": {
    "scrolled": true
   },
   "outputs": [],
   "source": [
    "plot_gene_trajectory([X_neural_crest_cells_flat, X_neural_crest_cells_vae], \n",
    "                     np.array(adata_eb_original_neural_crest.X.A), \n",
    "                     np.array(adata_eb_original_neural_crest.obs.experimental_time), \n",
    "                     idx2time, \n",
    "                     [\"flat\", \"vae\", \"real\"],\n",
    "                     824, \n",
    "                     \"PDGFRB\")"
   ]
  },
  {
   "cell_type": "markdown",
   "id": "99fda619-f08f-4ae5-8d0d-4803c2d21cbe",
   "metadata": {},
   "source": [
    "**Neuron subtypes**"
   ]
  },
  {
   "cell_type": "code",
   "execution_count": null,
   "id": "d53ae25d-71fe-459e-aa85-5d0e4bf53007",
   "metadata": {},
   "outputs": [],
   "source": []
  },
  {
   "cell_type": "code",
   "execution_count": null,
   "id": "bdf8666c-82a3-4ef6-aa87-dffe49da159a",
   "metadata": {},
   "outputs": [],
   "source": []
  },
  {
   "cell_type": "code",
   "execution_count": null,
   "id": "7836640e-40f6-4dc4-a10d-91bc7905d5a8",
   "metadata": {},
   "outputs": [],
   "source": []
  }
 ],
 "metadata": {
  "kernelspec": {
   "display_name": "Python 3 (ipykernel)",
   "language": "python",
   "name": "python3"
  },
  "language_info": {
   "codemirror_mode": {
    "name": "ipython",
    "version": 3
   },
   "file_extension": ".py",
   "mimetype": "text/x-python",
   "name": "python",
   "nbconvert_exporter": "python",
   "pygments_lexer": "ipython3",
   "version": "3.10.12"
  }
 },
 "nbformat": 4,
 "nbformat_minor": 5
}
