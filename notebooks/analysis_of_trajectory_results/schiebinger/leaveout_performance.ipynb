{
 "cells": [
  {
   "cell_type": "code",
   "execution_count": 1,
   "id": "5f465612",
   "metadata": {},
   "outputs": [
    {
     "name": "stderr",
     "output_type": "stream",
     "text": [
      "No GPU/TPU found, falling back to CPU. (Set TF_CPP_MIN_LOG_LEVEL=0 and rerun for more info.)\n"
     ]
    }
   ],
   "source": [
    "from paths import DATA_DIR, CKPT_FOLDER, PROJECT_FOLDER\n",
    "\n",
    "import matplotlib.pyplot as plt\n",
    "import os\n",
    "import numpy as np\n",
    "import torch\n",
    "import anndata\n",
    "import scanpy as sc\n",
    "import sklearn\n",
    "import scvelo as scv\n",
    "\n",
    "import anndata\n",
    "import pandas as pd\n",
    "\n",
    "from IPython.display import display\n",
    "from torchdyn.core import NeuralODE\n",
    "\n",
    "from scCFM.datamodules.time_sc_datamodule import TrajectoryDataModule\n",
    "from scCFM.models.cfm.components.mlp import MLP\n",
    "from scCFM.models.cfm.cfm_module import CFMLitModule\n",
    "\n",
    "from scCFM.models.base.vae import VAE\n",
    "from scCFM.models.base.geometric_vae import GeometricNBVAE\n",
    "from scCFM.models.base.geodesic_ae import GeodesicAE\n",
    "\n",
    "from scCFM.datamodules.sc_datamodule import scDataModule\n",
    "from scCFM.models.cfm.components.eval.distribution_distances import compute_distribution_distances\n",
    "\n",
    "from notebooks.utils import decode_trajectory_single_step, standardize, compute_prdc\n",
    "from scvi.distributions import NegativeBinomial"
   ]
  },
  {
   "cell_type": "markdown",
   "id": "09d363b9-65bc-4273-85d2-3cfaa07d3c4b",
   "metadata": {},
   "source": [
    "Initialize the device"
   ]
  },
  {
   "cell_type": "code",
   "execution_count": 2,
   "id": "9ccf4750",
   "metadata": {},
   "outputs": [],
   "source": [
    "device = \"cuda\" if torch.cuda.is_available() else \"cpu\""
   ]
  },
  {
   "cell_type": "code",
   "execution_count": 3,
   "id": "4fd2ec94-1c3b-4d0a-9da2-5eb4fe1de6d1",
   "metadata": {},
   "outputs": [],
   "source": [
    "def cross_standardize(tensor1, tensor2):\n",
    "    \"\"\"\n",
    "    Standardize tensor across the rows\n",
    "    \"\"\"\n",
    "    mean_t1, std_t1 = tensor1.mean(0), tensor1.std(0)\n",
    "    tensor1 = (tensor1 - mean_t1) / (std_t1 + 1e-6)\n",
    "    tensor2 = (tensor2 - mean_t1) / (std_t1 + 1e-6)\n",
    "    return tensor1, tensor2\n",
    "\n",
    "def update_dict(ref, tgt):\n",
    "    for key in tgt:\n",
    "        if key not in ref:\n",
    "            ref[key] = []\n",
    "        ref[key].append(tgt[key])\n",
    "    return ref"
   ]
  },
  {
   "cell_type": "markdown",
   "id": "8c0e1767-1abe-4746-afff-7439aeb0a2ab",
   "metadata": {},
   "source": [
    "Initialize datamodule to set vaes up"
   ]
  },
  {
   "cell_type": "code",
   "execution_count": 4,
   "id": "4761425c-8b15-4610-9861-b88a1e70a3e5",
   "metadata": {},
   "outputs": [],
   "source": [
    "datamodule={'path': PROJECT_FOLDER / 'data/schiebinger_et_al/processed/schiebinger_et_al.h5ad', \n",
    "            'x_layer': 'X_norm', \n",
    "            'cond_keys': ['experimental_time', 'cell_sets'],\n",
    "            'use_pca': False, \n",
    "            'n_dimensions': None, \n",
    "            'train_val_test_split': [1], \n",
    "            'batch_size': 64, \n",
    "            'num_workers': 2}\n",
    "\n",
    "# Initialize datamodule\n",
    "datamodule = scDataModule(**datamodule)"
   ]
  },
  {
   "cell_type": "markdown",
   "id": "bb402a71-f7a0-40f1-b3c0-f02fa51b7f59",
   "metadata": {},
   "source": [
    "Initialize autoencoders"
   ]
  },
  {
   "cell_type": "code",
   "execution_count": 5,
   "id": "ff8366d0-3098-4bb2-9296-ba78f1618957",
   "metadata": {
    "scrolled": true
   },
   "outputs": [
    {
     "data": {
      "text/plain": [
       "<All keys matched successfully>"
      ]
     },
     "execution_count": 5,
     "metadata": {},
     "output_type": "execute_result"
    }
   ],
   "source": [
    "vae_kwargs={'in_dim': datamodule.in_dim,\n",
    "       'n_epochs_anneal_kl': 1000, \n",
    "       'kl_weight': None, \n",
    "       'likelihood': 'nb', \n",
    "       'dropout': False, \n",
    "       'learning_rate': 0.001, \n",
    "       'dropout_p': False, \n",
    "       'model_library_size': True, \n",
    "       'batch_norm': True, \n",
    "       'kl_warmup_fraction': 0.1, \n",
    "       'hidden_dims': [256, 10]}\n",
    "        \n",
    "geometric_kwargs={'compute_metrics_every': 1, \n",
    "           'use_c': False, \n",
    "           'l2': True, \n",
    "           'eta_interp': 0, \n",
    "           'interpolate_z': False, \n",
    "           'start_jac_after': 0, \n",
    "           'fl_weight': 0.1,\n",
    "           'detach_theta': True}\n",
    "\n",
    "geodesic_kwargs={\"in_dim\": datamodule.in_dim,\n",
    "          \"hidden_dims\": [256, 10],\n",
    "          \"batch_norm\": True,\n",
    "          \"dropout\": False, \n",
    "          \"dropout_p\": False,\n",
    "          \"likelihood\": \"nb\",\n",
    "          \"learning_rate\": 0.001}\n",
    "\n",
    "# Initialize vae and geometric vae\n",
    "vae = GeometricNBVAE(**geometric_kwargs, vae_kwargs=vae_kwargs).to(device)\n",
    "geometric_vae = GeometricNBVAE(**geometric_kwargs, vae_kwargs=vae_kwargs).to(device)\n",
    "geodesic_ae = GeodesicAE(**geodesic_kwargs).to(device)\n",
    "\n",
    "# Load state dicts and put in eval mode \n",
    "vae.load_state_dict(torch.load(PROJECT_FOLDER / \"checkpoints/ae/schiebinger_et_al/best_model_vae.ckpt\")[\"state_dict\"])\n",
    "geometric_vae.load_state_dict(torch.load(PROJECT_FOLDER / \"checkpoints/ae/schiebinger_et_al/best_model_geometric.ckpt\")[\"state_dict\"])\n",
    "geodesic_ae.load_state_dict(torch.load(PROJECT_FOLDER / \"checkpoints/ae/schiebinger_et_al/best_model_geodesic.ckpt\")[\"state_dict\"])\n",
    "\n",
    "# vae.eval()\n",
    "# geometric_vae.eval()\n",
    "# geodesic_ae.eval()"
   ]
  },
  {
   "cell_type": "markdown",
   "id": "ceeb44a2-28ab-42ed-b5d3-327161629831",
   "metadata": {},
   "source": [
    "## Setup CFMs"
   ]
  },
  {
   "cell_type": "code",
   "execution_count": 6,
   "id": "9f8247cb-b681-4e82-8905-f3af83b2032a",
   "metadata": {},
   "outputs": [],
   "source": [
    "leavout_timepoints_folder = CKPT_FOLDER / \"trajectory\" / \"schiebinger_et_al\""
   ]
  },
  {
   "cell_type": "markdown",
   "id": "62c4acf8-5ea9-4d9c-abdf-cbbc2d1312bf",
   "metadata": {},
   "source": [
    "Initialize datamodule for trajectory"
   ]
  },
  {
   "cell_type": "code",
   "execution_count": 7,
   "id": "f4273aa1-2490-4582-abc7-5219c2e5f09c",
   "metadata": {},
   "outputs": [],
   "source": [
    "datamodule_kwargs_vae = {'path': PROJECT_FOLDER / 'data/schiebinger_et_al/flat/schiebinger_et_al_lib.h5ad',\n",
    "                          'x_layer': 'X_latents',\n",
    "                          'time_key': 'experimental_time', \n",
    "                          'use_pca': False, \n",
    "                          'n_dimensions': None, \n",
    "                          'train_val_test_split': [0.9, 0.1], \n",
    "                          'num_workers': 2, \n",
    "                          'batch_size': 512, \n",
    "                          'model_library_size': True}\n",
    "\n",
    "datamodule_kwargs_flat = {'path': PROJECT_FOLDER / 'data/schiebinger_et_al/flat/schiebinger_et_al_flat_lib.h5ad',\n",
    "                          'x_layer': 'X_latents',\n",
    "                          'time_key': 'experimental_time', \n",
    "                          'use_pca': False, \n",
    "                          'n_dimensions': None, \n",
    "                          'train_val_test_split': [0.9, 0.1], \n",
    "                          'num_workers': 2, \n",
    "                          'batch_size': 512, \n",
    "                           'model_library_size': True}\n",
    "\n",
    "datamodule_kwargs_geodesic= {'path': PROJECT_FOLDER / 'data/schiebinger_et_al/flat/schiebinger_et_al_geodesic.h5ad',\n",
    "                          'x_layer': 'X_latents',\n",
    "                          'time_key': 'experimental_time', \n",
    "                          'use_pca': False, \n",
    "                          'n_dimensions': None, \n",
    "                          'train_val_test_split': [0.9, 0.1], \n",
    "                          'num_workers': 2, \n",
    "                          'batch_size': 512, \n",
    "                           'model_library_size': True}\n",
    "\n",
    "# Initialize the datamodules \n",
    "datamodule_vae = TrajectoryDataModule(**datamodule_kwargs_vae)\n",
    "datamodule_flat = TrajectoryDataModule(**datamodule_kwargs_flat)\n",
    "datamodule_geodesic = TrajectoryDataModule(**datamodule_kwargs_geodesic)\n",
    "\n",
    "# Mapping real times to index\n",
    "idx2time = datamodule_vae.idx2time"
   ]
  },
  {
   "cell_type": "markdown",
   "id": "00e5828a",
   "metadata": {},
   "source": [
    "## Read data"
   ]
  },
  {
   "cell_type": "markdown",
   "id": "6a1fa627-0299-49ea-b2a9-6309a3c491ef",
   "metadata": {},
   "source": [
    "First, read the latent space anndata and plot the results"
   ]
  },
  {
   "cell_type": "code",
   "execution_count": 8,
   "id": "8d0bfee4",
   "metadata": {},
   "outputs": [],
   "source": [
    "# Read latent anndata\n",
    "adata_latent_vae = sc.read_h5ad(DATA_DIR / \"schiebinger_et_al\" / \"flat\" / \"schiebinger_et_al_lib.h5ad\")\n",
    "adata_latent_flat = sc.read_h5ad(DATA_DIR / \"schiebinger_et_al\" / \"flat\" / \"schiebinger_et_al_flat_lib.h5ad\")\n",
    "adata_latent_geodesic = sc.read_h5ad(DATA_DIR / \"schiebinger_et_al\" / \"flat\" / \"schiebinger_et_al_geodesic.h5ad\")\n",
    "\n",
    "# Read real anndata\n",
    "adata_schiebinger_original = sc.read_h5ad(PROJECT_FOLDER / 'data/schiebinger_et_al/processed/schiebinger_et_al.h5ad')\n",
    "sc.tl.pca(adata_schiebinger_original, n_comps=50)\n",
    "adata_schiebinger_original.X = adata_schiebinger_original.layers[\"X_norm\"].copy()"
   ]
  },
  {
   "cell_type": "markdown",
   "id": "26176fd4-382d-480b-a396-d62368abd40e",
   "metadata": {},
   "source": [
    "Number of experiments "
   ]
  },
  {
   "cell_type": "code",
   "execution_count": 9,
   "id": "7b6d822e-1f8d-4af6-adda-2687dd127180",
   "metadata": {
    "scrolled": true
   },
   "outputs": [
    {
     "data": {
      "text/plain": [
       "{0: 0.0,\n",
       " 1: 0.027777777777777776,\n",
       " 2: 0.05555555555555555,\n",
       " 3: 0.08333333333333333,\n",
       " 4: 0.1111111111111111,\n",
       " 5: 0.1388888888888889,\n",
       " 6: 0.16666666666666666,\n",
       " 7: 0.19444444444444445,\n",
       " 8: 0.2222222222222222,\n",
       " 9: 0.25,\n",
       " 10: 0.2777777777777778,\n",
       " 11: 0.3055555555555556,\n",
       " 12: 0.3333333333333333,\n",
       " 13: 0.3611111111111111,\n",
       " 14: 0.3888888888888889,\n",
       " 15: 0.4166666666666667,\n",
       " 16: 0.4444444444444444,\n",
       " 17: 0.4583333333333333,\n",
       " 18: 0.4722222222222222,\n",
       " 19: 0.4861111111111111,\n",
       " 20: 0.5,\n",
       " 21: 0.5277777777777778,\n",
       " 22: 0.5555555555555556,\n",
       " 23: 0.5833333333333334,\n",
       " 24: 0.6111111111111112,\n",
       " 25: 0.6388888888888888,\n",
       " 26: 0.6666666666666666,\n",
       " 27: 0.6944444444444444,\n",
       " 28: 0.7222222222222222,\n",
       " 29: 0.75,\n",
       " 30: 0.7777777777777778,\n",
       " 31: 0.8055555555555556,\n",
       " 32: 0.8333333333333334,\n",
       " 33: 0.8611111111111112,\n",
       " 34: 0.8888888888888888,\n",
       " 35: 0.9166666666666666,\n",
       " 36: 0.9444444444444444,\n",
       " 37: 0.9722222222222222,\n",
       " 38: 1.0}"
      ]
     },
     "execution_count": 9,
     "metadata": {},
     "output_type": "execute_result"
    }
   ],
   "source": [
    "n_timepoints = len(np.unique(adata_latent_vae.obs.experimental_time))\n",
    "idx2time = dict(zip(range(n_timepoints), np.unique(adata_latent_vae.obs.experimental_time)))\n",
    "idx2time"
   ]
  },
  {
   "cell_type": "markdown",
   "id": "50b70343",
   "metadata": {},
   "source": [
    "Initialize model"
   ]
  },
  {
   "cell_type": "code",
   "execution_count": 10,
   "id": "dcf2a556",
   "metadata": {},
   "outputs": [],
   "source": [
    "net_hparams = {\"dim\": adata_latent_flat.X.shape[1]+1,\n",
    "                \"w\": 64,\n",
    "                \"time_varying\": True}\n",
    "\n",
    "cfm_kwargs = {'ot_sampler': 'exact', \n",
    "                   'sigma': 0.1, \n",
    "                   'use_real_time': False, \n",
    "                   'lr': 0.001, \n",
    "                   'antithetic_time_sampling': True}"
   ]
  },
  {
   "cell_type": "markdown",
   "id": "18d0cf44-7d54-49cc-95ec-7a2639a039a1",
   "metadata": {},
   "source": [
    "## Evaluation"
   ]
  },
  {
   "cell_type": "markdown",
   "id": "55b4c17f-40ac-43aa-a8bf-33f3424b6f33",
   "metadata": {},
   "source": [
    "Load checkpoints"
   ]
  },
  {
   "cell_type": "code",
   "execution_count": 11,
   "id": "09f1696f-c361-4f88-9e4c-a7084f7bbdea",
   "metadata": {},
   "outputs": [],
   "source": [
    "# LATENT SPACE METRICS\n",
    "leaveout_ckpt_vae_latent = {}\n",
    "leaveout_ckpt_flat_latent = {}\n",
    "leaveout_ckpt_geodesic_latent = {}\n",
    "leaveout_ckpt_previous_latent = {}"
   ]
  },
  {
   "cell_type": "code",
   "execution_count": 14,
   "id": "3c33d559-bef8-471d-a9e8-342b1639f2bb",
   "metadata": {},
   "outputs": [],
   "source": [
    "# DATA SPACE METRICS\n",
    "leaveout_ckpt_vae_data = {}\n",
    "leaveout_ckpt_flat_data = {}\n",
    "leaveout_ckpt_geodesic_data = {}\n",
    "leaveout_ckpt_previous = {}"
   ]
  },
  {
   "cell_type": "code",
   "execution_count": null,
   "id": "9a10949a-5b84-4e06-b980-81cb1643dde8",
   "metadata": {},
   "outputs": [
    {
     "name": "stdout",
     "output_type": "stream",
     "text": [
      "Time point 2\n"
     ]
    }
   ],
   "source": [
    "for tp in [2, 5, 10, 15, 20, 25, 30]:\n",
    "    print(f\"Time point {tp}\")\n",
    "    #Pick time 0 observations\n",
    "    X_adata_t0_latent_vae = torch.from_numpy(adata_latent_vae[adata_latent_vae.obs[\"experimental_time\"]==idx2time[(tp-1)]].X).to(device)\n",
    "    X_adata_t0_latent_flat = torch.from_numpy(adata_latent_flat[adata_latent_flat.obs[\"experimental_time\"]==idx2time[(tp-1)]].X).to(device)\n",
    "    X_adata_t0_latent_geodesic = torch.from_numpy(adata_latent_geodesic[adata_latent_geodesic.obs[\"experimental_time\"]==idx2time[(tp-1)]].X).to(device)\n",
    "\n",
    "    # Pick observations next timepoint \n",
    "    X_adata_t1_latent_vae = torch.from_numpy(adata_latent_vae[adata_latent_vae.obs[\"experimental_time\"]==idx2time[tp]].X).to(device)\n",
    "    X_adata_t1_latent_flat = torch.from_numpy(adata_latent_flat[adata_latent_flat.obs[\"experimental_time\"]==idx2time[tp]].X).to(device)\n",
    "    X_adata_t1_latent_geodesic = torch.from_numpy(adata_latent_geodesic[adata_latent_geodesic.obs[\"experimental_time\"]==idx2time[tp]].X).to(device)    \n",
    "\n",
    "    # Collect PCs    \n",
    "    X_adata_real_pca = torch.from_numpy(adata_schiebinger_original[adata_schiebinger_original.obs[\"experimental_time\"]==idx2time[tp]].obsm[\"X_pca\"]).to(device)\n",
    "    X_adata_real = torch.from_numpy(adata_schiebinger_original[adata_schiebinger_original.obs[\"experimental_time\"]==idx2time[tp]].layers[\"X_log\"].A).to(device)\n",
    "    adata_real = adata_schiebinger_original[adata_schiebinger_original.obs[\"experimental_time\"]==idx2time[tp]]\n",
    "    \n",
    "    #Pick library sizes\n",
    "    l_t0_vae = adata_latent_vae.obs.loc[adata_latent_vae.obs[\"experimental_time\"]==idx2time[(tp-1)], \"log_library_size\"].to_numpy()\n",
    "    l_t0_flat = adata_latent_flat.obs.loc[adata_latent_flat.obs[\"experimental_time\"]==idx2time[(tp-1)], \"log_library_size\"].to_numpy()\n",
    "    l_t0_geodesic = adata_latent_geodesic.obs.loc[adata_latent_geodesic.obs[\"experimental_time\"]==idx2time[(tp-1)], \"log_library_size\"].to_numpy()\n",
    "\n",
    "    #Pick library sizes\n",
    "    l_t0_vae = torch.from_numpy(l_t0_vae).to(device)\n",
    "    l_t0_flat = torch.from_numpy(l_t0_flat).to(device)\n",
    "    l_t0_geodesic = torch.from_numpy(l_t0_geodesic).to(device)\n",
    "\n",
    "    # Initialize nets\n",
    "    net_vae = MLP(**net_hparams).to(device)\n",
    "    net_flat = MLP(**net_hparams).to(device)\n",
    "    net_geodesic = MLP(**net_hparams).to(device)\n",
    "    cfm_vae = CFMLitModule(net=net_vae, datamodule=datamodule_vae, **cfm_kwargs).to(device)\n",
    "    cfm_flat = CFMLitModule(net=net_flat, datamodule=datamodule_flat, **cfm_kwargs).to(device)\n",
    "    cfm_geodesic = CFMLitModule(net=net_geodesic, datamodule=datamodule_geodesic, **cfm_kwargs).to(device)\n",
    "\n",
    "    # Read the checkpoints\n",
    "    cfm_vae.load_state_dict(torch.load(leavout_timepoints_folder / f\"schiebinger_vae_leaveout_{tp}.ckpt\")[\"state_dict\"])\n",
    "    cfm_flat.load_state_dict(torch.load(leavout_timepoints_folder / f\"schiebinger_geometric_leaveout_{tp}.ckpt\")[\"state_dict\"])\n",
    "    cfm_geodesic.load_state_dict(torch.load(leavout_timepoints_folder / f\"schiebinger_geodesic_leaveout_{tp}.ckpt\")[\"state_dict\"])\n",
    "\n",
    "    mu_adata_predicted_vae, X_adata_predicted_vae, X_adata_latent_vae = decode_trajectory_single_step(X_adata_t0_latent_vae, \n",
    "                                                                                 l_t0_vae, \n",
    "                                                                                 tp-1, \n",
    "                                                                                 cfm_vae, \n",
    "                                                                                 vae)\n",
    "                                                                                \n",
    "    mu_adata_predicted_flat, X_adata_predicted_flat, X_adata_latent_flat = decode_trajectory_single_step(X_adata_t0_latent_flat, \n",
    "                                                                                   l_t0_flat, \n",
    "                                                                                   tp-1, \n",
    "                                                                                   cfm_flat, \n",
    "                                                                                   geometric_vae)\n",
    "                                                                                  \n",
    "    mu_adata_predicted_geodesic, X_adata_predicted_geodesic, X_adata_latent_geodesic = decode_trajectory_single_step(X_adata_t0_latent_geodesic, \n",
    "                                                                                           l_t0_geodesic, \n",
    "                                                                                           tp-1, \n",
    "                                                                                           cfm_geodesic, \n",
    "                                                                                           geodesic_ae, \n",
    "                                                                                           model_type=\"geodesic_ae\")\n",
    "\n",
    "    ## PREDICT LATENT TRAJECTORIES \n",
    "    X_adata_t1_latent_vae, X_adata_latent_vae = cross_standardize(X_adata_t1_latent_vae, X_adata_latent_vae[:,:-1])\n",
    "    X_adata_t1_latent_flat, X_adata_latent_flat = cross_standardize(X_adata_t1_latent_flat, X_adata_latent_flat[:,:-1])\n",
    "    X_adata_t1_latent_geodesic, X_adata_latent_geodesic = cross_standardize(X_adata_t1_latent_geodesic, X_adata_latent_geodesic[:,:-1])\n",
    "                                                                                   \n",
    "    d_dist_vae_l = compute_distribution_distances(X_adata_t1_latent_vae.unsqueeze(1).to(\"cpu\"), \n",
    "                                         X_adata_latent_vae.unsqueeze(1).to(\"cpu\"))\n",
    "    d_dist_flat_l = compute_distribution_distances(X_adata_t1_latent_flat.unsqueeze(1).to(\"cpu\"),\n",
    "                                         X_adata_latent_flat.unsqueeze(1).to(\"cpu\"))\n",
    "    d_dist_geod_l = compute_distribution_distances(X_adata_t1_latent_geodesic.unsqueeze(1).to(\"cpu\"),\n",
    "                                         X_adata_latent_geodesic.unsqueeze(1).to(\"cpu\"))\n",
    "    d_dist_prev = compute_distribution_distances(X_adata_t1_latent_vae.unsqueeze(1).to(\"cpu\"),\n",
    "                                         X_adata_t0_latent_vae.unsqueeze(1).to(\"cpu\"))\n",
    "    \n",
    "    d_dist_vae_l = dict(zip(d_dist_vae_l[0], d_dist_vae_l[1]))\n",
    "    d_dist_flat_l = dict(zip(d_dist_flat_l[0], d_dist_flat_l[1]))\n",
    "    d_dist_geod_l = dict(zip(d_dist_geod_l[0], d_dist_geod_l[1]))\n",
    "    d_dist_prev_l = dict(zip(d_dist_prev[0], d_dist_prev[1]))\n",
    "    \n",
    "    leaveout_ckpt_vae_latent = update_dict(leaveout_ckpt_vae_latent, d_dist_vae_l)\n",
    "    leaveout_ckpt_flat_latent = update_dict(leaveout_ckpt_flat_latent, d_dist_flat_l)\n",
    "    leaveout_ckpt_geodesic_latent = update_dict(leaveout_ckpt_geodesic_latent, d_dist_geod_l)\n",
    "    leaveout_ckpt_previous_latent = update_dict(leaveout_ckpt_previous, d_dist_prev_l)\n",
    "\n",
    "    print(\"predict decoded trajectory\")\n",
    "    X_adata_predicted_vae = anndata.AnnData(X=X_adata_predicted_vae.numpy())\n",
    "    X_adata_predicted_flat = anndata.AnnData(X=X_adata_predicted_flat.numpy())\n",
    "    X_adata_predicted_geodesic = anndata.AnnData(X=X_adata_predicted_geodesic.numpy())\n",
    "    X_adata_prev = adata_schiebinger_original[adata_schiebinger_original.obs[\"experimental_time\"]==idx2time[tp-1]]\n",
    "    \n",
    "    sc.pp.log1p(X_adata_predicted_vae)\n",
    "    sc.pp.log1p(X_adata_predicted_flat)\n",
    "    sc.pp.log1p(X_adata_prev)\n",
    "    sc.tl.pca(X_adata_predicted_vae, n_comps=50)\n",
    "    sc.tl.pca(X_adata_predicted_flat, n_comps=50)\n",
    "    sc.tl.pca(X_adata_predicted_geodesic, n_comps=50)\n",
    "    sc.tl.pca(X_adata_prev, n_comps=50)\n",
    "    \n",
    "    d_dist_vae_d = compute_prdc(torch.from_numpy(X_adata_predicted_vae.obsm[\"X_pca\"]), \n",
    "                                             X_adata_real_pca.to(\"cpu\"), nearest_k=10)\n",
    "    d_dist_flat_d = compute_prdc(torch.from_numpy(X_adata_predicted_flat.obsm[\"X_pca\"]), \n",
    "                                             X_adata_real_pca.to(\"cpu\"), nearest_k=10)\n",
    "    d_dist_geodesic_d = compute_prdc(torch.from_numpy(X_adata_predicted_geodesic.obsm[\"X_pca\"]), \n",
    "                                             X_adata_real_pca.to(\"cpu\"), nearest_k=10)\n",
    "    d_dist_prev_d = compute_prdc(torch.from_numpy(X_adata_prev.obsm[\"X_pca\"]), \n",
    "                                             X_adata_real_pca.to(\"cpu\"), nearest_k=10)\n",
    "\n",
    "    leaveout_ckpt_vae_data = update_dict(leaveout_ckpt_vae_data, d_dist_vae_d)\n",
    "    leaveout_ckpt_flat_data = update_dict(leaveout_ckpt_flat_data, d_dist_flat_d)\n",
    "    leaveout_ckpt_geodesic_data = update_dict(leaveout_ckpt_geodesic_data, d_dist_geodesic_d)\n",
    "    leaveout_ckpt_previous_latent = update_dict(leaveout_ckpt_previous, d_dist_prev_d)"
   ]
  },
  {
   "cell_type": "code",
   "execution_count": null,
   "id": "d50a03e6-db84-49a3-9e53-9d7e6c987bd3",
   "metadata": {},
   "outputs": [],
   "source": []
  },
  {
   "cell_type": "markdown",
   "id": "4cdee1f4-2733-4935-858b-ec6518b74578",
   "metadata": {},
   "source": [
    "**Latent**"
   ]
  },
  {
   "cell_type": "code",
   "execution_count": 24,
   "id": "40a1b9b7-a880-4aa0-bed3-758b472f6586",
   "metadata": {},
   "outputs": [
    {
     "data": {
      "text/plain": [
       "1-Wasserstein    2.540210\n",
       "2-Wasserstein    2.700140\n",
       "Linear_MMD       0.502100\n",
       "Poly_MMD         0.610239\n",
       "RBF_MMD          0.517735\n",
       "Mean_MSE         0.541038\n",
       "Mean_L2          0.641646\n",
       "Mean_L1          0.544225\n",
       "dtype: float64"
      ]
     },
     "execution_count": 24,
     "metadata": {},
     "output_type": "execute_result"
    }
   ],
   "source": [
    "pd.DataFrame(leaveout_ckpt_geodesic_latent).mean(0)"
   ]
  },
  {
   "cell_type": "code",
   "execution_count": 25,
   "id": "71d9d808-8db1-4a7f-ad40-b2496f2394a7",
   "metadata": {},
   "outputs": [
    {
     "data": {
      "text/plain": [
       "1-Wasserstein    2.061504\n",
       "2-Wasserstein    2.138104\n",
       "Linear_MMD       0.212973\n",
       "Poly_MMD         0.408604\n",
       "RBF_MMD          0.314814\n",
       "Mean_MSE         0.231756\n",
       "Mean_L2          0.427936\n",
       "Mean_L1          0.329839\n",
       "dtype: float64"
      ]
     },
     "execution_count": 25,
     "metadata": {},
     "output_type": "execute_result"
    }
   ],
   "source": [
    "pd.DataFrame(leaveout_ckpt_vae_latent).mean(0)"
   ]
  },
  {
   "cell_type": "code",
   "execution_count": 26,
   "id": "337bc390-8e9d-41c4-8e35-51410310d8d8",
   "metadata": {},
   "outputs": [
    {
     "data": {
      "text/plain": [
       "1-Wasserstein    1.396038\n",
       "2-Wasserstein    1.495108\n",
       "Linear_MMD       0.105236\n",
       "Poly_MMD         0.268931\n",
       "RBF_MMD          0.230020\n",
       "Mean_MSE         0.109330\n",
       "Mean_L2          0.276014\n",
       "Mean_L1          0.231768\n",
       "dtype: float64"
      ]
     },
     "execution_count": 26,
     "metadata": {},
     "output_type": "execute_result"
    }
   ],
   "source": [
    "pd.DataFrame(leaveout_ckpt_flat_latent).mean(0)"
   ]
  },
  {
   "cell_type": "code",
   "execution_count": 27,
   "id": "c9b93bc2-ef68-4cba-bd09-623fa8849c0a",
   "metadata": {},
   "outputs": [
    {
     "data": {
      "text/plain": [
       "1-Wasserstein    3.138594\n",
       "2-Wasserstein    3.213354\n",
       "Linear_MMD       0.752031\n",
       "Poly_MMD         0.828778\n",
       "RBF_MMD          0.699239\n",
       "Mean_MSE         0.767308\n",
       "Mean_L2          0.834317\n",
       "Mean_L1          0.698441\n",
       "precision        0.270361\n",
       "recall           0.072238\n",
       "density          0.123421\n",
       "coverage         0.071784\n",
       "dtype: float64"
      ]
     },
     "execution_count": 27,
     "metadata": {},
     "output_type": "execute_result"
    }
   ],
   "source": [
    "pd.DataFrame(leaveout_ckpt_previous_latent).mean(0)"
   ]
  },
  {
   "cell_type": "markdown",
   "id": "8195b16c-80fb-4ce7-81b2-372545b26440",
   "metadata": {},
   "source": [
    "**Data space**"
   ]
  },
  {
   "cell_type": "code",
   "execution_count": 20,
   "id": "d5c13d91-1c5b-4592-a44b-a52fff7da1f3",
   "metadata": {},
   "outputs": [
    {
     "data": {
      "text/html": [
       "<div>\n",
       "<style scoped>\n",
       "    .dataframe tbody tr th:only-of-type {\n",
       "        vertical-align: middle;\n",
       "    }\n",
       "\n",
       "    .dataframe tbody tr th {\n",
       "        vertical-align: top;\n",
       "    }\n",
       "\n",
       "    .dataframe thead th {\n",
       "        text-align: right;\n",
       "    }\n",
       "</style>\n",
       "<table border=\"1\" class=\"dataframe\">\n",
       "  <thead>\n",
       "    <tr style=\"text-align: right;\">\n",
       "      <th></th>\n",
       "      <th>precision</th>\n",
       "      <th>recall</th>\n",
       "      <th>density</th>\n",
       "      <th>coverage</th>\n",
       "    </tr>\n",
       "  </thead>\n",
       "  <tbody>\n",
       "    <tr>\n",
       "      <th>0</th>\n",
       "      <td>0.178454</td>\n",
       "      <td>0.171064</td>\n",
       "      <td>0.022807</td>\n",
       "      <td>0.006379</td>\n",
       "    </tr>\n",
       "    <tr>\n",
       "      <th>1</th>\n",
       "      <td>0.140184</td>\n",
       "      <td>0.042258</td>\n",
       "      <td>0.015147</td>\n",
       "      <td>0.003438</td>\n",
       "    </tr>\n",
       "    <tr>\n",
       "      <th>2</th>\n",
       "      <td>0.008302</td>\n",
       "      <td>0.022032</td>\n",
       "      <td>0.000927</td>\n",
       "      <td>0.001123</td>\n",
       "    </tr>\n",
       "    <tr>\n",
       "      <th>3</th>\n",
       "      <td>0.001581</td>\n",
       "      <td>0.143691</td>\n",
       "      <td>0.000158</td>\n",
       "      <td>0.000307</td>\n",
       "    </tr>\n",
       "    <tr>\n",
       "      <th>4</th>\n",
       "      <td>0.000000</td>\n",
       "      <td>0.114313</td>\n",
       "      <td>0.000000</td>\n",
       "      <td>0.000000</td>\n",
       "    </tr>\n",
       "    <tr>\n",
       "      <th>5</th>\n",
       "      <td>0.000000</td>\n",
       "      <td>0.409741</td>\n",
       "      <td>0.000000</td>\n",
       "      <td>0.000000</td>\n",
       "    </tr>\n",
       "    <tr>\n",
       "      <th>6</th>\n",
       "      <td>0.001863</td>\n",
       "      <td>0.708456</td>\n",
       "      <td>0.000186</td>\n",
       "      <td>0.000983</td>\n",
       "    </tr>\n",
       "  </tbody>\n",
       "</table>\n",
       "</div>"
      ],
      "text/plain": [
       "   precision    recall   density  coverage\n",
       "0   0.178454  0.171064  0.022807  0.006379\n",
       "1   0.140184  0.042258  0.015147  0.003438\n",
       "2   0.008302  0.022032  0.000927  0.001123\n",
       "3   0.001581  0.143691  0.000158  0.000307\n",
       "4   0.000000  0.114313  0.000000  0.000000\n",
       "5   0.000000  0.409741  0.000000  0.000000\n",
       "6   0.001863  0.708456  0.000186  0.000983"
      ]
     },
     "execution_count": 20,
     "metadata": {},
     "output_type": "execute_result"
    }
   ],
   "source": [
    "pd.DataFrame(leaveout_ckpt_geodesic_data)"
   ]
  },
  {
   "cell_type": "code",
   "execution_count": 28,
   "id": "ba6a8bda-4af7-4ac4-bef5-ccf97a184884",
   "metadata": {},
   "outputs": [
    {
     "data": {
      "text/plain": [
       "precision    0.331942\n",
       "recall       0.057294\n",
       "density      0.114136\n",
       "coverage     0.092057\n",
       "dtype: float64"
      ]
     },
     "execution_count": 28,
     "metadata": {},
     "output_type": "execute_result"
    }
   ],
   "source": [
    "pd.DataFrame(leaveout_ckpt_vae_data).mean(0)"
   ]
  },
  {
   "cell_type": "code",
   "execution_count": 29,
   "id": "5d13acb5-4fb7-48cf-93e0-6ea4d8db72ca",
   "metadata": {},
   "outputs": [
    {
     "data": {
      "text/plain": [
       "precision    0.383816\n",
       "recall       0.089209\n",
       "density      0.135379\n",
       "coverage     0.120557\n",
       "dtype: float64"
      ]
     },
     "execution_count": 29,
     "metadata": {},
     "output_type": "execute_result"
    }
   ],
   "source": [
    "pd.DataFrame(leaveout_ckpt_flat_data).mean(0)"
   ]
  },
  {
   "cell_type": "code",
   "execution_count": 31,
   "id": "1e5f3930-46f4-4379-a17d-057acae829c9",
   "metadata": {},
   "outputs": [
    {
     "data": {
      "text/plain": [
       "1-Wasserstein    3.138594\n",
       "2-Wasserstein    3.213354\n",
       "Linear_MMD       0.752031\n",
       "Poly_MMD         0.828778\n",
       "RBF_MMD          0.699239\n",
       "Mean_MSE         0.767308\n",
       "Mean_L2          0.834317\n",
       "Mean_L1          0.698441\n",
       "precision        0.270361\n",
       "recall           0.072238\n",
       "density          0.123421\n",
       "coverage         0.071784\n",
       "dtype: float64"
      ]
     },
     "execution_count": 31,
     "metadata": {},
     "output_type": "execute_result"
    }
   ],
   "source": [
    "pd.DataFrame(leaveout_ckpt_previous_latent).mean(0)"
   ]
  },
  {
   "cell_type": "code",
   "execution_count": null,
   "id": "18e94a9e-bfb3-4285-8e51-668034aeda57",
   "metadata": {},
   "outputs": [],
   "source": []
  },
  {
   "cell_type": "code",
   "execution_count": null,
   "id": "ee04a2fb-f774-401a-9f3b-f400d46458bd",
   "metadata": {},
   "outputs": [],
   "source": []
  }
 ],
 "metadata": {
  "kernelspec": {
   "display_name": "Python 3 (ipykernel)",
   "language": "python",
   "name": "python3"
  },
  "language_info": {
   "codemirror_mode": {
    "name": "ipython",
    "version": 3
   },
   "file_extension": ".py",
   "mimetype": "text/x-python",
   "name": "python",
   "nbconvert_exporter": "python",
   "pygments_lexer": "ipython3",
   "version": "3.10.12"
  }
 },
 "nbformat": 4,
 "nbformat_minor": 5
}
