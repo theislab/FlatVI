{
 "cells": [
  {
   "cell_type": "code",
   "execution_count": 114,
   "id": "7535e638-58dd-4e31-bc4c-49476da3b39c",
   "metadata": {},
   "outputs": [
    {
     "name": "stdout",
     "output_type": "stream",
     "text": [
      "The autoreload extension is already loaded. To reload it, use:\n",
      "  %reload_ext autoreload\n"
     ]
    }
   ],
   "source": [
    "%load_ext autoreload\n",
    "%autoreload 2"
   ]
  },
  {
   "cell_type": "code",
   "execution_count": 115,
   "id": "dcc9d915-8563-4796-a4f5-2d8b82abee86",
   "metadata": {},
   "outputs": [],
   "source": [
    "import scanpy as sc\n",
    "import numpy as np\n",
    "import phate \n",
    "from scipy.spatial.distance import pdist, squareform\n",
    "from data import train_valid_loader_from_pc\n",
    "from model import AEDist\n",
    "import torch\n",
    "from transformations import LogTransform, NonTransform, StandardScaler, \\\n",
    "    MinMaxScaler, PowerTransformer, KernelTransform\n",
    "\n",
    "from pytorch_lightning import Trainer\n",
    "from pytorch_lightning.callbacks import EarlyStopping, ModelCheckpoint\n",
    "from pytorch_lightning.loggers import WandbLogger, TensorBoardLogger"
   ]
  },
  {
   "cell_type": "code",
   "execution_count": 116,
   "id": "245e1fab-1d0d-434a-b062-64a21c5d81ec",
   "metadata": {},
   "outputs": [],
   "source": [
    "adata = sc.read_h5ad(\"/home/icb/alessandro.palma/environment/scCFM/project_dir/data/pancreas/processed/pancreas.h5ad\")"
   ]
  },
  {
   "cell_type": "code",
   "execution_count": 117,
   "id": "fae5a0e2-33cc-4a09-9e75-919c46903e85",
   "metadata": {},
   "outputs": [
    {
     "data": {
      "text/plain": [
       "(20519, 2000)"
      ]
     },
     "execution_count": 117,
     "metadata": {},
     "output_type": "execute_result"
    }
   ],
   "source": [
    "adata.X.shape"
   ]
  },
  {
   "cell_type": "code",
   "execution_count": 108,
   "id": "1c180c45-da9b-4529-a218-c16a562618ce",
   "metadata": {},
   "outputs": [],
   "source": [
    "X_expression = np.array(adata.X.copy().todense())"
   ]
  },
  {
   "cell_type": "markdown",
   "id": "66d65819-88c0-4e43-b501-fcf2284377ed",
   "metadata": {},
   "source": [
    "### Run PHATE"
   ]
  },
  {
   "cell_type": "code",
   "execution_count": 109,
   "id": "6a86e2d5-16fc-4e70-ac22-fea7141f25ce",
   "metadata": {
    "scrolled": true
   },
   "outputs": [
    {
     "name": "stdout",
     "output_type": "stream",
     "text": [
      "Calculating PHATE...\n",
      "  Running PHATE on 20519 observations and 2000 variables.\n",
      "  Calculating graph and diffusion operator...\n",
      "    Calculating PCA...\n",
      "    Calculated PCA in 3.32 seconds.\n",
      "    Calculating KNN search...\n",
      "    Calculated KNN search in 36.23 seconds.\n",
      "    Calculating affinities...\n",
      "    Calculated affinities in 4.13 seconds.\n",
      "  Calculated graph and diffusion operator in 43.73 seconds.\n",
      "  Calculating landmark operator...\n",
      "    Calculating SVD...\n",
      "    Calculated SVD in 2.42 seconds.\n",
      "    Calculating KMeans...\n",
      "    Calculated KMeans in 3.19 seconds.\n",
      "  Calculated landmark operator in 6.73 seconds.\n",
      "  Calculating optimal t...\n",
      "    Automatically selected t = 17\n",
      "  Calculated optimal t in 1.60 seconds.\n",
      "  Calculating diffusion potential...\n",
      "  Calculated diffusion potential in 0.47 seconds.\n",
      "  Calculating metric MDS...\n",
      "  Calculated metric MDS in 6.10 seconds.\n",
      "Calculated PHATE in 58.65 seconds.\n"
     ]
    }
   ],
   "source": [
    "phate_op = phate.PHATE()\n",
    "phate_coords = phate_op.fit_transform(X_expression)"
   ]
  },
  {
   "cell_type": "code",
   "execution_count": 110,
   "id": "a1511fe8-7d9a-43b8-a97c-fcf581244519",
   "metadata": {},
   "outputs": [],
   "source": [
    "phate_D = squareform(pdist(phate_coords))"
   ]
  },
  {
   "cell_type": "code",
   "execution_count": 111,
   "id": "04cc6165-05ef-4e03-bb13-d207e743d386",
   "metadata": {},
   "outputs": [],
   "source": [
    "dist_std = np.std(phate_D.flatten())"
   ]
  },
  {
   "cell_type": "code",
   "execution_count": 96,
   "id": "2371c749-762a-46ad-87f4-11b7f4e29aad",
   "metadata": {},
   "outputs": [],
   "source": [
    "trainloader, valloader, mean, std = train_valid_loader_from_pc(\n",
    "            X_expression, # <---- Pointcloud\n",
    "            phate_D, # <---- Distance matrix to match\n",
    "            batch_size=256,\n",
    "            train_valid_split=0.8,\n",
    "            shuffle=True,\n",
    "            seed=42, return_mean_std=True, componentwise_std=False)"
   ]
  },
  {
   "cell_type": "code",
   "execution_count": 112,
   "id": "0d1908bb-63cf-4cc4-ac17-4684d4038518",
   "metadata": {},
   "outputs": [],
   "source": [
    "b = next(iter(trainloader))"
   ]
  },
  {
   "cell_type": "markdown",
   "id": "279d4bcf-3828-4c5a-a861-ca824cf0cdea",
   "metadata": {},
   "source": [
    "### Initialize AE"
   ]
  },
  {
   "cell_type": "code",
   "execution_count": 118,
   "id": "e8a5310b-3141-48c0-971e-8570b199d089",
   "metadata": {},
   "outputs": [
    {
     "name": "stderr",
     "output_type": "stream",
     "text": [
      "/home/icb/alessandro.palma/miniconda3/envs/flatvi_baselines_env/lib/python3.10/site-packages/pytorch_lightning/utilities/parsing.py:269: UserWarning: Attribute 'activation_fn' is an instance of `nn.Module` and is already saved during checkpointing. It is recommended to ignore them using `self.save_hyperparameters(ignore=['activation_fn'])`.\n",
      "  rank_zero_warn(\n"
     ]
    }
   ],
   "source": [
    "model = AEDist(\n",
    "            dim=X_expression.shape[1],\n",
    "            emb_dim=10,\n",
    "            layer_widths=[256, 128, 64],\n",
    "            activation_fn=torch.nn.ReLU(),\n",
    "            dist_reconstr_weights=[0.9, 0.1, 0.],\n",
    "            pp=NonTransform(),\n",
    "            lr=0.001,\n",
    "            weight_decay=0.0001,\n",
    "            batch_norm=True,\n",
    "            dist_recon_topk_coords=0,\n",
    "            use_dist_mse_decay=False,\n",
    "            dist_mse_decay=0.,\n",
    "            dropout=0.,\n",
    "            cycle_weight=0.,\n",
    "            cycle_dist_weight=0.,\n",
    "            mean=mean,\n",
    "            std=std,\n",
    "            dist_std=dist_std)"
   ]
  },
  {
   "cell_type": "code",
   "execution_count": 119,
   "id": "122eb8d3-15e6-4953-96a1-22fcfc41d1b0",
   "metadata": {
    "scrolled": true
   },
   "outputs": [
    {
     "data": {
      "text/plain": [
       "AEDist(\n",
       "  (encoder): MLP(\n",
       "    (net): Sequential(\n",
       "      (0): Linear(in_features=2000, out_features=256, bias=True)\n",
       "      (1): BatchNorm1d(256, eps=1e-05, momentum=0.1, affine=True, track_running_stats=True)\n",
       "      (2): ReLU()\n",
       "      (3): Linear(in_features=256, out_features=128, bias=True)\n",
       "      (4): BatchNorm1d(128, eps=1e-05, momentum=0.1, affine=True, track_running_stats=True)\n",
       "      (5): ReLU()\n",
       "      (6): Linear(in_features=128, out_features=64, bias=True)\n",
       "      (7): BatchNorm1d(64, eps=1e-05, momentum=0.1, affine=True, track_running_stats=True)\n",
       "      (8): ReLU()\n",
       "      (9): Linear(in_features=64, out_features=10, bias=True)\n",
       "    )\n",
       "  )\n",
       "  (decoder): MLP(\n",
       "    (net): Sequential(\n",
       "      (0): Linear(in_features=10, out_features=64, bias=True)\n",
       "      (1): BatchNorm1d(64, eps=1e-05, momentum=0.1, affine=True, track_running_stats=True)\n",
       "      (2): ReLU()\n",
       "      (3): Linear(in_features=64, out_features=128, bias=True)\n",
       "      (4): BatchNorm1d(128, eps=1e-05, momentum=0.1, affine=True, track_running_stats=True)\n",
       "      (5): ReLU()\n",
       "      (6): Linear(in_features=128, out_features=256, bias=True)\n",
       "      (7): BatchNorm1d(256, eps=1e-05, momentum=0.1, affine=True, track_running_stats=True)\n",
       "      (8): ReLU()\n",
       "      (9): Linear(in_features=256, out_features=2000, bias=True)\n",
       "    )\n",
       "  )\n",
       ")"
      ]
     },
     "execution_count": 119,
     "metadata": {},
     "output_type": "execute_result"
    }
   ],
   "source": [
    "model"
   ]
  },
  {
   "cell_type": "markdown",
   "id": "7a4dd7d8-88c6-4855-8a1e-af1e56de59da",
   "metadata": {},
   "source": [
    "## Run with torch lightning "
   ]
  },
  {
   "cell_type": "code",
   "execution_count": null,
   "id": "9ab5bd27-75c2-4933-8dd8-e006737eb740",
   "metadata": {},
   "outputs": [
    {
     "name": "stderr",
     "output_type": "stream",
     "text": [
      "/home/icb/alessandro.palma/miniconda3/envs/flatvi_baselines_env/lib/python3.10/site-packages/lightning_fabric/plugins/environments/slurm.py:165: PossibleUserWarning: The `srun` command is available on your system but is not used. HINT: If your intention is to run Lightning on SLURM, prepend your python command with `srun` like so: srun python /home/icb/alessandro.palma/miniconda3/envs/flatvi_ba ...\n",
      "  rank_zero_warn(\n",
      "GPU available: True (cuda), used: True\n",
      "TPU available: False, using: 0 TPU cores\n",
      "IPU available: False, using: 0 IPUs\n",
      "HPU available: False, using: 0 HPUs\n",
      "Missing logger folder: /home/icb/alessandro.palma/environment/scCFM/project_dir/baselines/gaga/run/lightning_logs\n",
      "LOCAL_RANK: 0 - CUDA_VISIBLE_DEVICES: [0]\n",
      "\n",
      "  | Name    | Type | Params\n",
      "---------------------------------\n",
      "0 | encoder | MLP  | 136 K \n",
      "1 | decoder | MLP  | 138 K \n",
      "---------------------------------\n",
      "275 K     Trainable params\n",
      "0         Non-trainable params\n",
      "275 K     Total params\n",
      "1.103     Total estimated model params size (MB)\n"
     ]
    },
    {
     "data": {
      "application/vnd.jupyter.widget-view+json": {
       "model_id": "41dbd5e4469c4e04bb916c5d496367f2",
       "version_major": 2,
       "version_minor": 0
      },
      "text/plain": [
       "Sanity Checking: 0it [00:00, ?it/s]"
      ]
     },
     "metadata": {},
     "output_type": "display_data"
    },
    {
     "name": "stderr",
     "output_type": "stream",
     "text": [
      "/home/icb/alessandro.palma/miniconda3/envs/flatvi_baselines_env/lib/python3.10/site-packages/pytorch_lightning/trainer/connectors/data_connector.py:488: PossibleUserWarning: Your `val_dataloader`'s sampler has shuffling enabled, it is strongly recommended that you turn shuffling off for val/test/predict dataloaders.\n",
      "  rank_zero_warn(\n",
      "/home/icb/alessandro.palma/miniconda3/envs/flatvi_baselines_env/lib/python3.10/site-packages/pytorch_lightning/trainer/connectors/data_connector.py:224: PossibleUserWarning: The dataloader, val_dataloader 0, does not have many workers which may be a bottleneck. Consider increasing the value of the `num_workers` argument` (try 112 which is the number of cpus on this machine) in the `DataLoader` init to improve performance.\n",
      "  rank_zero_warn(\n",
      "/home/icb/alessandro.palma/miniconda3/envs/flatvi_baselines_env/lib/python3.10/site-packages/pytorch_lightning/trainer/connectors/data_connector.py:224: PossibleUserWarning: The dataloader, train_dataloader, does not have many workers which may be a bottleneck. Consider increasing the value of the `num_workers` argument` (try 112 which is the number of cpus on this machine) in the `DataLoader` init to improve performance.\n",
      "  rank_zero_warn(\n"
     ]
    },
    {
     "data": {
      "application/vnd.jupyter.widget-view+json": {
       "model_id": "4181bd679cbf45b887ec7b85cff0347b",
       "version_major": 2,
       "version_minor": 0
      },
      "text/plain": [
       "Training: 0it [00:00, ?it/s]"
      ]
     },
     "metadata": {},
     "output_type": "display_data"
    }
   ],
   "source": [
    "path_dir = \"/home/icb/alessandro.palma/environment/scCFM/project_dir/baselines/gaga/run\"\n",
    "path_model = \"/home/icb/alessandro.palma/environment/scCFM/project_dir/baselines/gaga/model\"\n",
    "\n",
    "logger = TensorBoardLogger(save_dir=path_dir)\n",
    "checkpoint_callback = ModelCheckpoint(\n",
    "    dirpath=path_dir,  # Save checkpoints in wandb directory\n",
    "    filename=path_model,\n",
    "    save_top_k=1,\n",
    "    monitor='train_loss_step',  # Model selection based on validation loss\n",
    "    mode='min',  # Minimize validation loss,\n",
    "    every_n_train_steps=10000\n",
    ")\n",
    "\n",
    "trainer = Trainer(\n",
    "    logger=logger,\n",
    "    max_epochs=50,\n",
    "    accelerator='cuda',\n",
    "    callbacks=[checkpoint_callback],\n",
    "    log_every_n_steps=100,\n",
    ")\n",
    "\n",
    "trainer.fit(\n",
    "    model=model,\n",
    "    train_dataloaders=trainloader)"
   ]
  },
  {
   "cell_type": "code",
   "execution_count": null,
   "id": "df8ac0b6-9ca7-47f1-8503-d2df3b16dd2a",
   "metadata": {},
   "outputs": [],
   "source": []
  }
 ],
 "metadata": {
  "kernelspec": {
   "display_name": "Python 3 (ipykernel)",
   "language": "python",
   "name": "python3"
  },
  "language_info": {
   "codemirror_mode": {
    "name": "ipython",
    "version": 3
   },
   "file_extension": ".py",
   "mimetype": "text/x-python",
   "name": "python",
   "nbconvert_exporter": "python",
   "pygments_lexer": "ipython3",
   "version": "3.10.12"
  }
 },
 "nbformat": 4,
 "nbformat_minor": 5
}
