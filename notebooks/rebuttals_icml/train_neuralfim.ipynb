{
 "cells": [
  {
   "cell_type": "code",
   "execution_count": 54,
   "id": "4f47926a-5058-4dfb-a670-ef5199f09f8c",
   "metadata": {},
   "outputs": [
    {
     "name": "stdout",
     "output_type": "stream",
     "text": [
      "/ictstr01/home/icb/alessandro.palma/environment/flatvi_baselines/phate_fim\n"
     ]
    }
   ],
   "source": [
    "cd /home/icb/alessandro.palma/environment/flatvi_baselines/phate_fim"
   ]
  },
  {
   "cell_type": "code",
   "execution_count": 25,
   "id": "7535e638-58dd-4e31-bc4c-49476da3b39c",
   "metadata": {},
   "outputs": [
    {
     "name": "stdout",
     "output_type": "stream",
     "text": [
      "The autoreload extension is already loaded. To reload it, use:\n",
      "  %reload_ext autoreload\n"
     ]
    }
   ],
   "source": [
    "%load_ext autoreload\n",
    "%autoreload 2"
   ]
  },
  {
   "cell_type": "code",
   "execution_count": 74,
   "id": "dcc9d915-8563-4796-a4f5-2d8b82abee86",
   "metadata": {},
   "outputs": [],
   "source": [
    "import scanpy as sc\n",
    "import numpy as np\n",
    "import phate \n",
    "import scipy as sp\n",
    "from scipy.spatial.distance import pdist, squareform\n",
    "from data import train_valid_loader_from_pc\n",
    "from model import AEDist\n",
    "import torch\n",
    "from transformations import LogTransform, NonTransform, StandardScaler, \\\n",
    "    MinMaxScaler, PowerTransformer, KernelTransform\n",
    "\n",
    "from pytorch_lightning import Trainer\n",
    "from pytorch_lightning.callbacks import EarlyStopping, ModelCheckpoint\n",
    "from pytorch_lightning.loggers import WandbLogger, TensorBoardLogger\n",
    "from torch.utils.data import Dataset\n",
    "\n",
    "import sys \n",
    "sys.path.insert(0, \"/home/icb/alessandro.palma/environment/flatvi_baselines/phate_fim/src\")\n",
    "from src.models.lit_encoder import LitAutoencoder"
   ]
  },
  {
   "cell_type": "code",
   "execution_count": 57,
   "id": "e5b205dc-9571-419e-ade1-b7bff8887898",
   "metadata": {},
   "outputs": [],
   "source": [
    "class torch_dataset(Dataset):\n",
    "    def __init__(self, X, Y) -> None:\n",
    "        self.X = X\n",
    "        self.Y = Y\n",
    "    def __len__(self):\n",
    "        return self.X.shape[0]\n",
    "\n",
    "    def __getitem__(self, index):\n",
    "        target = self.Y[index, :]\n",
    "        sample = self.X[index, :]\n",
    "        return sample, target"
   ]
  },
  {
   "cell_type": "code",
   "execution_count": 58,
   "id": "245e1fab-1d0d-434a-b062-64a21c5d81ec",
   "metadata": {},
   "outputs": [],
   "source": [
    "adata = sc.read_h5ad(\"/home/icb/alessandro.palma/environment/scCFM/project_dir/data/pancreas/processed/pancreas.h5ad\")"
   ]
  },
  {
   "cell_type": "code",
   "execution_count": 29,
   "id": "fae5a0e2-33cc-4a09-9e75-919c46903e85",
   "metadata": {},
   "outputs": [
    {
     "data": {
      "text/plain": [
       "(20519, 2000)"
      ]
     },
     "execution_count": 29,
     "metadata": {},
     "output_type": "execute_result"
    }
   ],
   "source": [
    "adata.X.shape"
   ]
  },
  {
   "cell_type": "code",
   "execution_count": 30,
   "id": "1c180c45-da9b-4529-a218-c16a562618ce",
   "metadata": {},
   "outputs": [],
   "source": [
    "X_expression = np.array(adata.X.copy().todense())"
   ]
  },
  {
   "cell_type": "markdown",
   "id": "66d65819-88c0-4e43-b501-fcf2284377ed",
   "metadata": {},
   "source": [
    "### Run PHATE"
   ]
  },
  {
   "cell_type": "code",
   "execution_count": 31,
   "id": "6a86e2d5-16fc-4e70-ac22-fea7141f25ce",
   "metadata": {
    "scrolled": true
   },
   "outputs": [
    {
     "name": "stdout",
     "output_type": "stream",
     "text": [
      "Calculating PHATE...\n",
      "  Running PHATE on 20519 observations and 2000 variables.\n",
      "  Calculating graph and diffusion operator...\n",
      "    Calculating PCA...\n",
      "    Calculated PCA in 3.35 seconds.\n",
      "    Calculating KNN search...\n",
      "    Calculated KNN search in 31.48 seconds.\n",
      "    Calculating affinities...\n",
      "    Calculated affinities in 3.54 seconds.\n",
      "  Calculated graph and diffusion operator in 38.41 seconds.\n",
      "  Calculating landmark operator...\n",
      "    Calculating SVD...\n",
      "    Calculated SVD in 2.44 seconds.\n",
      "    Calculating KMeans...\n",
      "    Calculated KMeans in 3.36 seconds.\n",
      "  Calculated landmark operator in 6.96 seconds.\n",
      "  Calculating optimal t...\n",
      "    Automatically selected t = 19\n",
      "  Calculated optimal t in 1.67 seconds.\n",
      "  Calculating diffusion potential...\n",
      "  Calculated diffusion potential in 0.62 seconds.\n",
      "  Calculating metric MDS...\n",
      "  Calculated metric MDS in 5.72 seconds.\n",
      "Calculated PHATE in 53.39 seconds.\n"
     ]
    }
   ],
   "source": [
    "phate_op = phate.PHATE()\n",
    "phate_coords = phate_op.fit_transform(X_expression)"
   ]
  },
  {
   "cell_type": "code",
   "execution_count": 32,
   "id": "0b1adcbc-b76e-422d-bbb9-5d0dfa3941b7",
   "metadata": {},
   "outputs": [],
   "source": [
    "phate_coords = sp.stats.zscore(phate_coords) "
   ]
  },
  {
   "cell_type": "code",
   "execution_count": 33,
   "id": "b286310f-a026-46cf-9861-dca2ef5a66d7",
   "metadata": {},
   "outputs": [],
   "source": [
    "X_expression = torch.from_numpy(X_expression)\n",
    "phate_coords = torch.from_numpy(phate_coords)\n",
    "train_dataset = torch_dataset(X_expression, phate_coords)\n",
    "train_loader = torch.utils.data.DataLoader(\n",
    "    dataset=train_dataset, batch_size=256, shuffle=True\n",
    ")"
   ]
  },
  {
   "cell_type": "code",
   "execution_count": 70,
   "id": "6705bb54-b06e-4d25-bec6-55b68ef911bd",
   "metadata": {},
   "outputs": [],
   "source": [
    "class Args:\n",
    "    def __init__(self, **kwargs):\n",
    "        self.__dict__.update(kwargs)\n",
    "\n",
    "args = Args(\n",
    "    run_name=None,\n",
    "    dataset=\"tree\",\n",
    "    n_obs=1600,\n",
    "    n_dim=2000,\n",
    "    batch_size=150,\n",
    "    lr=0.0001,\n",
    "    knn=5,\n",
    "    max_epochs=150,\n",
    "    wandb=False,\n",
    "    activation=\"ReLU\",\n",
    "    kernel_type=\"phate\",\n",
    "    loss=\"loss_dist\",\n",
    "    encoder_layer=[256, 100, 10],\n",
    "    scale=0.0005,\n",
    "    inference=False,\n",
    "    inference_obs=1600\n",
    ")\n",
    "\n",
    "dict_args = vars(args)"
   ]
  },
  {
   "cell_type": "code",
   "execution_count": 71,
   "id": "4de5d40e-3c7c-4d71-9bfa-bdf04c923dea",
   "metadata": {},
   "outputs": [],
   "source": [
    "logger = WandbLogger(project=\"fim_phate\", name=args.run_name)"
   ]
  },
  {
   "cell_type": "code",
   "execution_count": 72,
   "id": "5a92d069-63c4-45ea-bb89-00afcfbb5278",
   "metadata": {},
   "outputs": [
    {
     "name": "stderr",
     "output_type": "stream",
     "text": [
      "GPU available: True (cuda), used: True\n",
      "TPU available: False, using: 0 TPU cores\n",
      "IPU available: False, using: 0 IPUs\n",
      "HPU available: False, using: 0 HPUs\n"
     ]
    }
   ],
   "source": [
    "trainer = Trainer.from_argparse_args(\n",
    "    args, accelerator=\"gpu\", devices=1, logger=logger\n",
    ")"
   ]
  },
  {
   "cell_type": "code",
   "execution_count": 73,
   "id": "5e59bf6c-d4f7-40e5-8806-48eca5963ce4",
   "metadata": {},
   "outputs": [
    {
     "name": "stderr",
     "output_type": "stream",
     "text": [
      "LOCAL_RANK: 0 - CUDA_VISIBLE_DEVICES: [0]\n",
      "\n",
      "  | Name    | Type       | Params\n",
      "---------------------------------------\n",
      "0 | encoder | Sequential | 543 K \n",
      "1 | decoder | Sequential | 5.8 K \n",
      "---------------------------------------\n",
      "548 K     Trainable params\n",
      "0         Non-trainable params\n",
      "548 K     Total params\n",
      "2.195     Total estimated model params size (MB)\n"
     ]
    },
    {
     "name": "stdout",
     "output_type": "stream",
     "text": [
      "[Linear(in_features=2000, out_features=256, bias=True), ReLU(), Linear(in_features=256, out_features=100, bias=True), ReLU(), Linear(in_features=100, out_features=50, bias=True), Softmax(dim=1)]\n",
      "[Linear(in_features=50, out_features=50, bias=True), ReLU(), Linear(in_features=50, out_features=50, bias=True), ReLU(), Linear(in_features=50, out_features=10, bias=True), ReLU(), Linear(in_features=10, out_features=10, bias=True), ReLU(), Linear(in_features=10, out_features=10, bias=True), ReLU()]\n"
     ]
    },
    {
     "data": {
      "application/vnd.jupyter.widget-view+json": {
       "model_id": "6df2c2aef338443bb15852119d23ab68",
       "version_major": 2,
       "version_minor": 0
      },
      "text/plain": [
       "Training: 0it [00:00, ?it/s]"
      ]
     },
     "metadata": {},
     "output_type": "display_data"
    },
    {
     "name": "stderr",
     "output_type": "stream",
     "text": [
      "/home/icb/alessandro.palma/miniconda3/envs/flatvi_baselines_env/lib/python3.10/site-packages/pytorch_lightning/trainer/call.py:48: UserWarning: Detected KeyboardInterrupt, attempting graceful shutdown...\n",
      "  rank_zero_warn(\"Detected KeyboardInterrupt, attempting graceful shutdown...\")\n"
     ]
    },
    {
     "ename": "NameError",
     "evalue": "name 'os' is not defined",
     "output_type": "error",
     "traceback": [
      "\u001b[0;31m---------------------------------------------------------------------------\u001b[0m",
      "\u001b[0;31mNameError\u001b[0m                                 Traceback (most recent call last)",
      "Cell \u001b[0;32mIn[73], line 4\u001b[0m\n\u001b[1;32m      2\u001b[0m model \u001b[38;5;241m=\u001b[39m LitAutoencoder(input_dim\u001b[38;5;241m=\u001b[39margs\u001b[38;5;241m.\u001b[39mn_dim, emb_dim\u001b[38;5;241m=\u001b[39memb_dim, \u001b[38;5;241m*\u001b[39m\u001b[38;5;241m*\u001b[39mdict_args)\n\u001b[1;32m      3\u001b[0m trainer\u001b[38;5;241m.\u001b[39mfit(model, train_dataloaders\u001b[38;5;241m=\u001b[39mtrain_loader)\n\u001b[0;32m----> 4\u001b[0m model_name \u001b[38;5;241m=\u001b[39m \u001b[43mos\u001b[49m\u001b[38;5;241m.\u001b[39mgetcwd() \u001b[38;5;241m+\u001b[39m args\u001b[38;5;241m.\u001b[39mdataset \u001b[38;5;241m+\u001b[39m \u001b[38;5;124m'\u001b[39m\u001b[38;5;124m.pt\u001b[39m\u001b[38;5;124m'\u001b[39m\n\u001b[1;32m      5\u001b[0m torch\u001b[38;5;241m.\u001b[39msave(model\u001b[38;5;241m.\u001b[39mstate_dict(), model_name)\n",
      "\u001b[0;31mNameError\u001b[0m: name 'os' is not defined"
     ]
    }
   ],
   "source": [
    "emb_dim = args.encoder_layer[-1]\n",
    "model = LitAutoencoder(input_dim=args.n_dim, emb_dim=emb_dim, **dict_args)\n",
    "trainer.fit(model, train_dataloaders=train_loader)\n",
    "model_name = os.getcwd() + args.dataset + '.pt'\n",
    "torch.save(model.state_dict(), model_name)"
   ]
  },
  {
   "cell_type": "code",
   "execution_count": null,
   "id": "8b8d5e1c-29af-49db-b6ed-2fd50ba28ff5",
   "metadata": {},
   "outputs": [],
   "source": []
  },
  {
   "cell_type": "code",
   "execution_count": null,
   "id": "ec74f63f-1587-48de-8caf-10599718393c",
   "metadata": {},
   "outputs": [],
   "source": []
  }
 ],
 "metadata": {
  "kernelspec": {
   "display_name": "Python 3 (ipykernel)",
   "language": "python",
   "name": "python3"
  },
  "language_info": {
   "codemirror_mode": {
    "name": "ipython",
    "version": 3
   },
   "file_extension": ".py",
   "mimetype": "text/x-python",
   "name": "python",
   "nbconvert_exporter": "python",
   "pygments_lexer": "ipython3",
   "version": "3.10.12"
  }
 },
 "nbformat": 4,
 "nbformat_minor": 5
}
