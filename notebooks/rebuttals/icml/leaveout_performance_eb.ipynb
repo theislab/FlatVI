{
 "cells": [
  {
   "cell_type": "code",
   "execution_count": 1,
   "id": "5f465612",
   "metadata": {},
   "outputs": [
    {
     "data": {
      "text/html": [
       "<pre style=\"white-space:pre;overflow-x:auto;line-height:normal;font-family:Menlo,'DejaVu Sans Mono',consolas,'Courier New',monospace\"><span style=\"color: #808000; text-decoration-color: #808000; font-weight: bold\">ryp2 is not installed. Install with </span><span style=\"color: #008000; text-decoration-color: #008000; font-weight: bold\">pip install rpy2 </span><span style=\"color: #808000; text-decoration-color: #808000; font-weight: bold\">to run tools with R support.</span>\n",
       "</pre>\n"
      ],
      "text/plain": [
       "\u001b[1;33mryp2 is not installed. Install with \u001b[0m\u001b[1;32mpip install rpy2 \u001b[0m\u001b[1;33mto run tools with R support.\u001b[0m\n"
      ]
     },
     "metadata": {},
     "output_type": "display_data"
    },
    {
     "data": {
      "text/html": [
       "<pre style=\"white-space:pre;overflow-x:auto;line-height:normal;font-family:Menlo,'DejaVu Sans Mono',consolas,'Courier New',monospace\"><span style=\"color: #808000; text-decoration-color: #808000; font-weight: bold\">To use sccoda or tasccoda please install ete3 with </span><span style=\"color: #008000; text-decoration-color: #008000; font-weight: bold\">pip install ete3</span>\n",
       "</pre>\n"
      ],
      "text/plain": [
       "\u001b[1;33mTo use sccoda or tasccoda please install ete3 with \u001b[0m\u001b[1;32mpip install ete3\u001b[0m\n"
      ]
     },
     "metadata": {},
     "output_type": "display_data"
    }
   ],
   "source": [
    "from paths import DATA_DIR, CKPT_FOLDER, PROJECT_FOLDER\n",
    "\n",
    "import matplotlib.pyplot as plt\n",
    "import os\n",
    "import numpy as np\n",
    "import torch\n",
    "import anndata\n",
    "import scanpy as sc\n",
    "import sklearn\n",
    "import scvelo as scv\n",
    "from pathlib import Path\n",
    "import pertpy as pt\n",
    "\n",
    "import anndata\n",
    "import pandas as pd\n",
    "\n",
    "from IPython.display import display\n",
    "from torchdyn.core import NeuralODE\n",
    "\n",
    "from scCFM.datamodules.time_sc_datamodule import TrajectoryDataModule\n",
    "from scCFM.models.cfm.components.mlp import MLP\n",
    "from scCFM.models.cfm.cfm_module import CFMLitModule\n",
    "\n",
    "from scCFM.models.base.vae import VAE\n",
    "from scCFM.models.base.geometric_vae import GeometricNBVAE\n",
    "from scCFM.models.base.geodesic_ae import GeodesicAE\n",
    "\n",
    "from scCFM.datamodules.sc_datamodule import scDataModule\n",
    "from scCFM.models.cfm.components.eval.distribution_distances import compute_distribution_distances\n",
    "\n",
    "from notebooks.utils import decode_trajectory_single_step, standardize, compute_prdc"
   ]
  },
  {
   "cell_type": "markdown",
   "id": "09d363b9-65bc-4273-85d2-3cfaa07d3c4b",
   "metadata": {},
   "source": [
    "Initialize the device"
   ]
  },
  {
   "cell_type": "code",
   "execution_count": 2,
   "id": "6f62187b-ca63-4988-ac5f-dace32be6ebe",
   "metadata": {},
   "outputs": [],
   "source": [
    "device = \"cuda\" if torch.cuda.is_available() else \"cpu\"\n",
    "\n",
    "def cross_standardize(tensor1, tensor2, minmax_scale=False):\n",
    "    \"\"\"\n",
    "    Standardize tensor across the rows\n",
    "    \"\"\"\n",
    "    mean_t1, std_t1 = tensor1.mean(0), tensor1.std(0)\n",
    "    if minmax_scale:\n",
    "        min_t1, max_t1 = tensor1.min(0), tensor1.max(0)\n",
    "        tensor1 = (tensor1 - min_t1) / (max_t1 - min_t1 + 1e-6)\n",
    "        tensor2 = (tensor2 - min_t1) / (max_t1 - min_t1 + 1e-6)\n",
    "    else:\n",
    "        tensor1 = (tensor1 - mean_t1) / (std_t1 + 1e-6)\n",
    "        tensor2 = (tensor2 - mean_t1) / (std_t1 + 1e-6)\n",
    "    return tensor1, tensor2\n",
    "\n",
    "def update_dict(ref, tgt):\n",
    "    \"\"\"\n",
    "    Update a dictionary with the values of another \n",
    "    \"\"\"\n",
    "    for key in tgt:\n",
    "        if key not in ref:\n",
    "            ref[key] = []\n",
    "        ref[key].append(tgt[key])\n",
    "    return ref\n",
    "\n",
    "# def distance_metrics_pertpy(ref, trg):\n",
    "#     \"\"\"\n",
    "#     Distance metrics using pertpy\n",
    "#     \"\"\"\n",
    "#     adata_ref, adata_trg = ref.copy(), trg.copy()\n",
    "#     adata_together = sc.AnnData(X=np.concatenate([adata_ref.X,\n",
    "#                                                   adata_trg.X], axis=0))\n",
    "#     annot = [\"reference\" for _ in range(len(adata_ref))] + [\"target\" for _ in range(len(adata_trg))]\n",
    "#     annot_df = pd.DataFrame(annot)\n",
    "#     annot_df.columns = [\"dataset_type\"]\n",
    "#     adata_together.obs = annot_df\n",
    "#     adata_together.obsm[\"X_data\"] = adata_together.X.copy()\n",
    "#     # Wasserstein\n",
    "#     w_distance = pt.tl.Distance(\"wasserstein\", obsm_key=\"X_data\")\n",
    "#     # MMD\n",
    "#     mmd_distance = pt.tl.Distance(\"mmd\", obsm_key=\"X_data\")\n",
    "#     df_w = w_distance.pairwise(adata_together, groupby=\"dataset_type\").to_numpy()\n",
    "#     df_mmd = mmd_distance.pairwise(adata_together, groupby=\"dataset_type\", verbose=False).to_numpy()\n",
    "#     return {'wassersetein':df_w.max(), \n",
    "#             'mmd':df_mmd.max()}\n",
    "\n",
    "def distance_metrics_pertpy(ref, trg):\n",
    "    \"\"\"\n",
    "    Distance metrics using pertpy\n",
    "    \"\"\"\n",
    "    d =  compute_distribution_distances(torch.tensor(ref.X[:,None,:]), \n",
    "                                             torch.tensor(trg.X[:,None,:]))\n",
    "    return dict(zip(d[0], d[1]))"
   ]
  },
  {
   "cell_type": "markdown",
   "id": "8c0e1767-1abe-4746-afff-7439aeb0a2ab",
   "metadata": {},
   "source": [
    "Initialize datamodule"
   ]
  },
  {
   "cell_type": "code",
   "execution_count": 3,
   "id": "4761425c-8b15-4610-9861-b88a1e70a3e5",
   "metadata": {},
   "outputs": [],
   "source": [
    "datamodule={'path': PROJECT_FOLDER / 'data/eb/processed/eb_phate.h5ad', \n",
    "            'x_layer': 'X_norm', \n",
    "            'cond_keys': ['experimental_time', 'leiden'],\n",
    "            'use_pca': False, \n",
    "            'n_dimensions': None, \n",
    "            'train_val_test_split': [1], \n",
    "            'batch_size': 512, \n",
    "            'num_workers': 2}\n",
    "\n",
    "# Initialize datamodule\n",
    "datamodule = scDataModule(**datamodule)"
   ]
  },
  {
   "cell_type": "markdown",
   "id": "bb402a71-f7a0-40f1-b3c0-f02fa51b7f59",
   "metadata": {},
   "source": [
    "Initialize autoencoders"
   ]
  },
  {
   "cell_type": "code",
   "execution_count": 4,
   "id": "ff8366d0-3098-4bb2-9296-ba78f1618957",
   "metadata": {
    "scrolled": true
   },
   "outputs": [
    {
     "data": {
      "text/plain": [
       "<All keys matched successfully>"
      ]
     },
     "execution_count": 4,
     "metadata": {},
     "output_type": "execute_result"
    }
   ],
   "source": [
    "vae_kwargs={'in_dim': datamodule.in_dim,\n",
    "               'n_epochs_anneal_kl': 1000, \n",
    "               'kl_weight': None, \n",
    "               'likelihood': 'nb', \n",
    "               'dropout': False, \n",
    "               'learning_rate': 0.001, \n",
    "               'dropout_p': False, \n",
    "               'model_library_size': True, \n",
    "               'batch_norm': True, \n",
    "               'kl_warmup_fraction': 0.1, \n",
    "               'hidden_dims': [256, 10]}\n",
    "        \n",
    "geometric_kwargs={'compute_metrics_every': 1, \n",
    "                   'use_c': True, \n",
    "                   'trainable_c': False,\n",
    "                   'l2': True, \n",
    "                   'eta_interp': 0, \n",
    "                   'interpolate_z': False, \n",
    "                   'start_jac_after': 0, \n",
    "                   'fl_weight': 0.1,\n",
    "                   'detach_theta': True}\n",
    "\n",
    "geodesic_kwargs={\"in_dim\": datamodule.in_dim,\n",
    "                  \"hidden_dims\": [256, 10],\n",
    "                  \"batch_norm\": True,\n",
    "                  \"dropout\": False, \n",
    "                  \"dropout_p\": False,\n",
    "                  \"likelihood\": \"nb\",\n",
    "                  \"learning_rate\": 0.001}\n",
    "\n",
    "# Initialize vae and geometric vae\n",
    "vae = VAE(**vae_kwargs).to(device)\n",
    "geometric_vae = GeometricNBVAE(**geometric_kwargs, vae_kwargs=vae_kwargs).to(device)\n",
    "geodesic_ae = GeodesicAE(**geodesic_kwargs).to(device)\n",
    "\n",
    "# Load state dicts and put in eval mode \n",
    "vae.load_state_dict(torch.load(PROJECT_FOLDER / \"checkpoints/ae/eb/best_model_vae_lib.ckpt\")[\"state_dict\"])\n",
    "geometric_vae.load_state_dict(torch.load(PROJECT_FOLDER / \"checkpoints/ae/eb/best_model_geometric_lib.ckpt\")[\"state_dict\"])\n",
    "geodesic_ae.load_state_dict(torch.load(PROJECT_FOLDER / \"checkpoints/ae/eb/best_model_geodesic_ae.ckpt\")[\"state_dict\"])"
   ]
  },
  {
   "cell_type": "markdown",
   "id": "ceeb44a2-28ab-42ed-b5d3-327161629831",
   "metadata": {},
   "source": [
    "## Setup CFMs"
   ]
  },
  {
   "cell_type": "code",
   "execution_count": 5,
   "id": "9f8247cb-b681-4e82-8905-f3af83b2032a",
   "metadata": {},
   "outputs": [],
   "source": [
    "leavout_timepoints_folder = Path(\"/home/icb/alessandro.palma/environment/scCFM/project_dir/checkpoints/trajectory/eb\")"
   ]
  },
  {
   "cell_type": "markdown",
   "id": "62c4acf8-5ea9-4d9c-abdf-cbbc2d1312bf",
   "metadata": {},
   "source": [
    "Initialize datamodule for trajectory"
   ]
  },
  {
   "cell_type": "code",
   "execution_count": 6,
   "id": "f4273aa1-2490-4582-abc7-5219c2e5f09c",
   "metadata": {},
   "outputs": [],
   "source": [
    "datamodule_kwargs_vae = {'path': PROJECT_FOLDER / 'data/eb/flat/eb_lib.h5ad',\n",
    "                          'x_layer': 'X_latents',\n",
    "                          'time_key': 'experimental_time', \n",
    "                          'use_pca': False, \n",
    "                          'n_dimensions': None, \n",
    "                          'train_val_test_split': [0.9, 0.1], \n",
    "                          'num_workers': 2, \n",
    "                          'batch_size': 512, \n",
    "                          'model_library_size': True}\n",
    "\n",
    "datamodule_kwargs_flat = {'path': PROJECT_FOLDER / 'data/eb/flat/eb_flat_lib.h5ad',\n",
    "                          'x_layer': 'X_latents',\n",
    "                          'time_key': 'experimental_time', \n",
    "                          'use_pca': False, \n",
    "                          'n_dimensions': None, \n",
    "                          'train_val_test_split': [0.9, 0.1], \n",
    "                          'num_workers': 2, \n",
    "                          'batch_size': 512, \n",
    "                           'model_library_size': True}\n",
    "\n",
    "datamodule_kwargs_geodesic= {'path': PROJECT_FOLDER / 'data/eb/flat/eb_geodesic.h5ad',\n",
    "                          'x_layer': 'X_latents',\n",
    "                          'time_key': 'experimental_time', \n",
    "                          'use_pca': False, \n",
    "                          'n_dimensions': None, \n",
    "                          'train_val_test_split': [0.9, 0.1], \n",
    "                          'num_workers': 2, \n",
    "                          'batch_size': 512, \n",
    "                           'model_library_size': True}\n",
    "\n",
    "# Initialize the datamodules \n",
    "datamodule_vae = TrajectoryDataModule(**datamodule_kwargs_vae)\n",
    "datamodule_flat = TrajectoryDataModule(**datamodule_kwargs_flat)\n",
    "datamodule_geodesic = TrajectoryDataModule(**datamodule_kwargs_geodesic)"
   ]
  },
  {
   "cell_type": "markdown",
   "id": "00e5828a",
   "metadata": {},
   "source": [
    "## Read data"
   ]
  },
  {
   "cell_type": "markdown",
   "id": "6a1fa627-0299-49ea-b2a9-6309a3c491ef",
   "metadata": {},
   "source": [
    "First, read the latent space anndata and plot the results"
   ]
  },
  {
   "cell_type": "code",
   "execution_count": 7,
   "id": "8d0bfee4",
   "metadata": {},
   "outputs": [],
   "source": [
    "# Read latent anndata\n",
    "adata_latent_vae = sc.read_h5ad(DATA_DIR / \"eb\" / \"flat\" / \"eb_lib.h5ad\")\n",
    "adata_latent_flat = sc.read_h5ad(DATA_DIR / \"eb\" / \"flat\" / \"eb_flat_lib.h5ad\")\n",
    "adata_latent_geodesic = sc.read_h5ad(DATA_DIR / \"eb\" / \"flat\" / \"eb_geodesic.h5ad\")\n",
    "\n",
    "# Read real anndata\n",
    "adata_eb_original = sc.read_h5ad(PROJECT_FOLDER / 'data/eb/processed/eb_phate.h5ad')\n",
    "sc.tl.pca(adata_eb_original, n_comps=50)\n",
    "adata_eb_original.X = adata_eb_original.layers[\"X_norm\"].A.copy()"
   ]
  },
  {
   "cell_type": "markdown",
   "id": "26176fd4-382d-480b-a396-d62368abd40e",
   "metadata": {},
   "source": [
    "Number of experiments "
   ]
  },
  {
   "cell_type": "code",
   "execution_count": 8,
   "id": "7b6d822e-1f8d-4af6-adda-2687dd127180",
   "metadata": {},
   "outputs": [
    {
     "data": {
      "text/plain": [
       "{0: 0.0, 1: 0.25, 2: 0.5, 3: 0.75, 4: 1.0}"
      ]
     },
     "execution_count": 8,
     "metadata": {},
     "output_type": "execute_result"
    }
   ],
   "source": [
    "n_timepoints = len(np.unique(adata_latent_vae.obs.experimental_time))\n",
    "idx2time = dict(zip(range(n_timepoints), np.unique(adata_latent_vae.obs.experimental_time)))\n",
    "idx2time"
   ]
  },
  {
   "cell_type": "markdown",
   "id": "50b70343",
   "metadata": {},
   "source": [
    "Initialize model"
   ]
  },
  {
   "cell_type": "code",
   "execution_count": 9,
   "id": "dcf2a556",
   "metadata": {},
   "outputs": [],
   "source": [
    "net_hparams = {\"dim\": adata_latent_flat.X.shape[1]+1,\n",
    "                \"w\": 64,\n",
    "                \"time_varying\": True}\n",
    "\n",
    "cfm_kwargs = {'ot_sampler': 'exact', \n",
    "                   'sigma': 0.1, \n",
    "                   'use_real_time': False, \n",
    "                   'lr': 0.001, \n",
    "                   'antithetic_time_sampling': True}"
   ]
  },
  {
   "cell_type": "markdown",
   "id": "18d0cf44-7d54-49cc-95ec-7a2639a039a1",
   "metadata": {},
   "source": [
    "## Evaluation"
   ]
  },
  {
   "cell_type": "markdown",
   "id": "55b4c17f-40ac-43aa-a8bf-33f3424b6f33",
   "metadata": {},
   "source": [
    "Load checkpoints"
   ]
  },
  {
   "cell_type": "code",
   "execution_count": 10,
   "id": "9a10949a-5b84-4e06-b980-81cb1643dde8",
   "metadata": {
    "scrolled": true
   },
   "outputs": [
    {
     "name": "stdout",
     "output_type": "stream",
     "text": [
      "Time point 1\n",
      "predict latent trajectory\n",
      "predict decoded trajectory\n",
      "WARNING: adata.X seems to be already log-transformed.\n",
      "Time point 2\n",
      "predict latent trajectory\n",
      "predict decoded trajectory\n",
      "WARNING: adata.X seems to be already log-transformed.\n",
      "Time point 3\n",
      "predict latent trajectory\n",
      "predict decoded trajectory\n",
      "WARNING: adata.X seems to be already log-transformed.\n",
      "Time point 1\n",
      "predict latent trajectory\n",
      "predict decoded trajectory\n",
      "WARNING: adata.X seems to be already log-transformed.\n",
      "Time point 2\n",
      "predict latent trajectory\n",
      "predict decoded trajectory\n",
      "WARNING: adata.X seems to be already log-transformed.\n",
      "Time point 3\n",
      "predict latent trajectory\n",
      "predict decoded trajectory\n",
      "WARNING: adata.X seems to be already log-transformed.\n",
      "Time point 1\n",
      "predict latent trajectory\n",
      "predict decoded trajectory\n",
      "WARNING: adata.X seems to be already log-transformed.\n",
      "Time point 2\n",
      "predict latent trajectory\n",
      "predict decoded trajectory\n",
      "WARNING: adata.X seems to be already log-transformed.\n",
      "Time point 3\n",
      "predict latent trajectory\n",
      "predict decoded trajectory\n",
      "WARNING: adata.X seems to be already log-transformed.\n"
     ]
    }
   ],
   "source": [
    "# LATENT SPACE METRICS\n",
    "leaveout_ckpt_vae_latent = {}\n",
    "leaveout_ckpt_flat_latent = {}\n",
    "leaveout_ckpt_geodesic_latent = {}\n",
    "leaveout_ckpt_previous_latent = {}\n",
    "\n",
    "# DATA SPACE METRICS\n",
    "leaveout_ckpt_vae_data = {}\n",
    "leaveout_ckpt_flat_data = {}\n",
    "leaveout_ckpt_geodesic_data = {}\n",
    "leaveout_ckpt_previous_data = {}\n",
    "\n",
    "for rep in range(1, 4):\n",
    "    for tp in range(1, n_timepoints-1):\n",
    "        print(f\"Time point {tp}\")\n",
    "        #Pick time 0 observations\n",
    "        X_adata_t0_latent_vae = torch.from_numpy(adata_latent_vae[adata_latent_vae.obs[\"experimental_time\"]==idx2time[(tp-1)]].X).to(device)\n",
    "        X_adata_t0_latent_flat = torch.from_numpy(adata_latent_flat[adata_latent_flat.obs[\"experimental_time\"]==idx2time[(tp-1)]].X).to(device)\n",
    "        X_adata_t0_latent_geodesic = torch.from_numpy(adata_latent_geodesic[adata_latent_geodesic.obs[\"experimental_time\"]==idx2time[(tp-1)]].X).to(device)\n",
    "    \n",
    "        # Pick observations next timepoint \n",
    "        X_adata_t1_latent_vae = torch.from_numpy(adata_latent_vae[adata_latent_vae.obs[\"experimental_time\"]==idx2time[tp]].X).to(device)\n",
    "        X_adata_t1_latent_flat = torch.from_numpy(adata_latent_flat[adata_latent_flat.obs[\"experimental_time\"]==idx2time[tp]].X).to(device)\n",
    "        X_adata_t1_latent_geodesic = torch.from_numpy(adata_latent_geodesic[adata_latent_geodesic.obs[\"experimental_time\"]==idx2time[tp]].X).to(device)    \n",
    "    \n",
    "        # Collect PCs  \n",
    "        adata_real = adata_eb_original[adata_eb_original.obs[\"experimental_time\"]==idx2time[tp]]\n",
    "        X_adata_real_pca = torch.from_numpy(adata_real.obsm[\"X_pca\"]).to(device)\n",
    "        X_adata_real = torch.from_numpy(adata_real.layers[\"X_log\"].A).to(device)\n",
    "        \n",
    "        #Pick library sizes\n",
    "        l_t0_vae = adata_latent_vae.obs.loc[adata_latent_vae.obs[\"experimental_time\"]==idx2time[(tp-1)], \"log_library_size\"].to_numpy()\n",
    "        l_t0_flat = adata_latent_flat.obs.loc[adata_latent_flat.obs[\"experimental_time\"]==idx2time[(tp-1)], \"log_library_size\"].to_numpy()\n",
    "        l_t0_geodesic = adata_latent_geodesic.obs.loc[adata_latent_geodesic.obs[\"experimental_time\"]==idx2time[(tp-1)], \"log_library_size\"].to_numpy()\n",
    "        l_t0_vae = torch.from_numpy(l_t0_vae).to(device)\n",
    "        l_t0_flat = torch.from_numpy(l_t0_flat).to(device)\n",
    "        l_t0_geodesic = torch.from_numpy(l_t0_geodesic).to(device)\n",
    "    \n",
    "        # Initialize nets\n",
    "        net_vae = MLP(**net_hparams).to(device)\n",
    "        net_flat = MLP(**net_hparams).to(device)\n",
    "        net_geodesic = MLP(**net_hparams).to(device)\n",
    "        cfm_vae = CFMLitModule(net=net_vae, datamodule=datamodule_vae, **cfm_kwargs).to(device)\n",
    "        cfm_flat = CFMLitModule(net=net_flat, datamodule=datamodule_flat, **cfm_kwargs).to(device)\n",
    "        cfm_geodesic = CFMLitModule(net=net_geodesic, datamodule=datamodule_geodesic, **cfm_kwargs).to(device)\n",
    "    \n",
    "        # Read the checkpoints\n",
    "        cfm_vae.load_state_dict(torch.load(leavout_timepoints_folder / f\"eb_vae_leaveout_{tp}_{rep}.ckpt\")[\"state_dict\"])\n",
    "        cfm_flat.load_state_dict(torch.load(leavout_timepoints_folder / f\"eb_flat_leaveout_{tp}_{rep}.ckpt\")[\"state_dict\"])\n",
    "        cfm_geodesic.load_state_dict(torch.load(leavout_timepoints_folder / f\"eb_geodesic_leaveout_{tp}_{rep}.ckpt\")[\"state_dict\"])\n",
    "    \n",
    "        mu_adata_predicted_vae, X_adata_predicted_vae, X_adata_latent_vae = decode_trajectory_single_step(X_adata_t0_latent_vae, \n",
    "                                                                                     l_t0_vae, \n",
    "                                                                                     tp-1, \n",
    "                                                                                     cfm_vae, \n",
    "                                                                                     vae)\n",
    "                                                                                    \n",
    "        mu_adata_predicted_flat, X_adata_predicted_flat, X_adata_latent_flat = decode_trajectory_single_step(X_adata_t0_latent_flat, \n",
    "                                                                                       l_t0_flat, \n",
    "                                                                                       tp-1, \n",
    "                                                                                       cfm_flat, \n",
    "                                                                                       geometric_vae)\n",
    "                                                                                      \n",
    "        mu_adata_predicted_geodesic, X_adata_predicted_geodesic, X_adata_latent_geodesic = decode_trajectory_single_step(X_adata_t0_latent_geodesic, \n",
    "                                                                                               l_t0_geodesic, \n",
    "                                                                                               tp-1, \n",
    "                                                                                               cfm_geodesic, \n",
    "                                                                                               geodesic_ae, \n",
    "                                                                                               model_type=\"geodesic_ae\")\n",
    "    \n",
    "        ## PREDICT LATENT TRAJECTORIES \n",
    "        print(\"predict latent trajectory\")\n",
    "        X_adata_t1_latent_vae, X_adata_latent_vae = cross_standardize(X_adata_t1_latent_vae, X_adata_latent_vae[:,:-1])\n",
    "        X_adata_t1_latent_flat, X_adata_latent_flat = cross_standardize(X_adata_t1_latent_flat, X_adata_latent_flat[:,:-1])\n",
    "        X_adata_t1_latent_geodesic, X_adata_latent_geodesic = cross_standardize(X_adata_t1_latent_geodesic, X_adata_latent_geodesic[:,:-1])\n",
    "                                                                                       \n",
    "        d_dist_vae_l = compute_distribution_distances(X_adata_t1_latent_vae.unsqueeze(1).to(\"cpu\"), \n",
    "                                             X_adata_latent_vae.unsqueeze(1).to(\"cpu\"))\n",
    "        d_dist_flat_l = compute_distribution_distances(X_adata_t1_latent_flat.unsqueeze(1).to(\"cpu\"),\n",
    "                                             X_adata_latent_flat.unsqueeze(1).to(\"cpu\"))\n",
    "        d_dist_geod_l = compute_distribution_distances(X_adata_t1_latent_geodesic.unsqueeze(1).to(\"cpu\"),\n",
    "                                             X_adata_latent_geodesic.unsqueeze(1).to(\"cpu\"))\n",
    "        d_dist_prev = compute_distribution_distances(X_adata_t1_latent_vae.unsqueeze(1).to(\"cpu\"),\n",
    "                                             X_adata_t0_latent_vae.unsqueeze(1).to(\"cpu\"))\n",
    "        \n",
    "        d_dist_vae_l = dict(zip(d_dist_vae_l[0], d_dist_vae_l[1]))\n",
    "        d_dist_flat_l = dict(zip(d_dist_flat_l[0], d_dist_flat_l[1]))\n",
    "        d_dist_geod_l = dict(zip(d_dist_geod_l[0], d_dist_geod_l[1]))\n",
    "        d_dist_prev_l = dict(zip(d_dist_prev[0], d_dist_prev[1]))\n",
    "        \n",
    "        leaveout_ckpt_vae_latent = update_dict(leaveout_ckpt_vae_latent, d_dist_vae_l)\n",
    "        leaveout_ckpt_flat_latent = update_dict(leaveout_ckpt_flat_latent, d_dist_flat_l)\n",
    "        leaveout_ckpt_geodesic_latent = update_dict(leaveout_ckpt_geodesic_latent, d_dist_geod_l)\n",
    "        leaveout_ckpt_previous_latent = update_dict(leaveout_ckpt_previous_latent, d_dist_prev_l)\n",
    "    \n",
    "        print(\"predict decoded trajectory\")\n",
    "        X_adata_predicted_vae = anndata.AnnData(X=X_adata_predicted_vae.numpy())\n",
    "        X_adata_predicted_flat = anndata.AnnData(X=X_adata_predicted_flat.numpy())\n",
    "        X_adata_predicted_geodesic = anndata.AnnData(X=X_adata_predicted_geodesic.numpy())\n",
    "        mu_adata_predicted_vae = anndata.AnnData(X=mu_adata_predicted_vae.numpy())\n",
    "        mu_adata_predicted_flat = anndata.AnnData(X=mu_adata_predicted_flat.numpy())\n",
    "        mu_adata_predicted_geodesic = anndata.AnnData(X=mu_adata_predicted_geodesic.numpy())\n",
    "        \n",
    "        X_adata_prev = adata_eb_original[adata_eb_original.obs[\"experimental_time\"]==idx2time[tp-1]].copy()\n",
    "        # rnd_idx = np.random.choice(range(len(adata_eb_original)), size=len(X_adata_predicted_vae), replace=False)\n",
    "        # X_adata_prev = adata_eb_original[rnd_idx]\n",
    "\n",
    "        X_adata_predicted_vae.layers[\"X_norm\"] = X_adata_predicted_vae.X.copy()\n",
    "        X_adata_predicted_flat.layers[\"X_norm\"] = X_adata_predicted_flat.X.copy()\n",
    "        X_adata_predicted_geodesic.layers[\"X_norm\"] = np.exp(X_adata_predicted_geodesic.X.copy())-1\n",
    "        X_adata_prev.layers[\"X_norm\"] = X_adata_prev.X.copy()\n",
    "        sc.pp.log1p(X_adata_predicted_vae)\n",
    "        sc.pp.log1p(X_adata_predicted_flat)\n",
    "        sc.pp.log1p(X_adata_prev)\n",
    "        \n",
    "        sc.tl.pca(X_adata_predicted_vae, n_comps=50)\n",
    "        sc.tl.pca(X_adata_predicted_flat, n_comps=50)\n",
    "        sc.tl.pca(X_adata_predicted_geodesic, n_comps=50)\n",
    "        sc.tl.pca(X_adata_prev, n_comps=50)\n",
    "        X_adata_predicted_vae.X = X_adata_predicted_vae.layers[\"X_norm\"].copy()\n",
    "        X_adata_predicted_flat.X = X_adata_predicted_flat.layers[\"X_norm\"].copy()\n",
    "        X_adata_predicted_geodesic.X = X_adata_predicted_geodesic.layers[\"X_norm\"].copy()\n",
    "        X_adata_prev.X = X_adata_prev.layers[\"X_norm\"].copy()\n",
    "        \n",
    "        # Compute den\n",
    "        d_dist_vae_d = compute_prdc(torch.from_numpy(X_adata_predicted_vae.obsm[\"X_pca\"]), \n",
    "                                                 X_adata_real_pca.to(\"cpu\"), nearest_k=10)\n",
    "        d_dist_flat_d = compute_prdc(torch.from_numpy(X_adata_predicted_flat.obsm[\"X_pca\"]), \n",
    "                                                 X_adata_real_pca.to(\"cpu\"), nearest_k=10)\n",
    "        d_dist_geodesic_d = compute_prdc(torch.from_numpy(X_adata_predicted_geodesic.obsm[\"X_pca\"]), \n",
    "                                                 X_adata_real_pca.to(\"cpu\"), nearest_k=10)\n",
    "        d_dist_prev_d = compute_prdc(torch.from_numpy(X_adata_prev.obsm[\"X_pca\"]), \n",
    "                                                 X_adata_real_pca.to(\"cpu\"), nearest_k=10)\n",
    "\n",
    "        # d_dist_w_mmd_vae = distance_metrics_pertpy(adata_real, X_adata_predicted_vae)\n",
    "        # d_dist_w_mmd_flat =distance_metrics_pertpy(adata_real, X_adata_predicted_flat)\n",
    "        # d_dist_w_mmd_geodesic =distance_metrics_pertpy(adata_real, X_adata_predicted_geodesic)\n",
    "        # d_dist_w_mmd_prev =distance_metrics_pertpy(adata_real, X_adata_prev)\n",
    "        d_dist_w_mmd_vae = distance_metrics_pertpy(adata_real, mu_adata_predicted_vae)\n",
    "        d_dist_w_mmd_flat =distance_metrics_pertpy(adata_real, mu_adata_predicted_flat)\n",
    "        d_dist_w_mmd_geodesic =distance_metrics_pertpy(adata_real, X_adata_predicted_geodesic)\n",
    "        d_dist_w_mmd_prev =distance_metrics_pertpy(adata_real, X_adata_prev)\n",
    "        \n",
    "        leaveout_ckpt_vae_data = update_dict(leaveout_ckpt_vae_data, d_dist_w_mmd_vae)\n",
    "        leaveout_ckpt_flat_data = update_dict(leaveout_ckpt_flat_data, d_dist_w_mmd_flat)\n",
    "        leaveout_ckpt_geodesic_data = update_dict(leaveout_ckpt_geodesic_data, d_dist_w_mmd_geodesic)\n",
    "        leaveout_ckpt_previous_data = update_dict(leaveout_ckpt_previous_data, d_dist_w_mmd_prev)\n",
    "        leaveout_ckpt_vae_data = update_dict(leaveout_ckpt_vae_data, d_dist_vae_d)\n",
    "        leaveout_ckpt_flat_data = update_dict(leaveout_ckpt_flat_data, d_dist_flat_d)\n",
    "        leaveout_ckpt_geodesic_data = update_dict(leaveout_ckpt_geodesic_data, d_dist_geodesic_d)\n",
    "        leaveout_ckpt_previous_data = update_dict(leaveout_ckpt_previous_data, d_dist_prev_d)\n",
    "\n",
    "        leaveout_ckpt_vae_latent = update_dict(leaveout_ckpt_vae_latent, {\"rep\": rep})\n",
    "        leaveout_ckpt_flat_latent = update_dict(leaveout_ckpt_flat_latent, {\"rep\": rep})\n",
    "        leaveout_ckpt_geodesic_latent = update_dict(leaveout_ckpt_geodesic_latent, {\"rep\": rep})\n",
    "        leaveout_ckpt_previous_latent = update_dict(leaveout_ckpt_previous_latent, {\"rep\": rep})\n",
    "        leaveout_ckpt_vae_data = update_dict(leaveout_ckpt_vae_data, {\"rep\": rep})\n",
    "        leaveout_ckpt_flat_data = update_dict(leaveout_ckpt_flat_data, {\"rep\": rep})\n",
    "        leaveout_ckpt_geodesic_data = update_dict(leaveout_ckpt_geodesic_data, {\"rep\": rep})\n",
    "        leaveout_ckpt_previous_data = update_dict(leaveout_ckpt_previous_data, {\"rep\": rep})"
   ]
  },
  {
   "cell_type": "code",
   "execution_count": 11,
   "id": "e8ecc893-a0e1-4fda-ab83-a260067d54e6",
   "metadata": {},
   "outputs": [],
   "source": [
    "tp = [1,2,3]*3"
   ]
  },
  {
   "cell_type": "code",
   "execution_count": 12,
   "id": "e0690115-56d9-49d6-8436-65894a3c7701",
   "metadata": {},
   "outputs": [],
   "source": [
    "# LATENT SPACE METRICS\n",
    "leaveout_ckpt_vae_latent = pd.DataFrame(leaveout_ckpt_vae_latent)\n",
    "leaveout_ckpt_flat_latent = pd.DataFrame(leaveout_ckpt_flat_latent)\n",
    "leaveout_ckpt_geodesic_latent = pd.DataFrame(leaveout_ckpt_geodesic_latent)\n",
    "leaveout_ckpt_previous_latent = pd.DataFrame(leaveout_ckpt_previous_latent)\n",
    "\n",
    "# DATA SPACE METRICS\n",
    "leaveout_ckpt_vae_data = pd.DataFrame(leaveout_ckpt_vae_data)\n",
    "leaveout_ckpt_flat_data = pd.DataFrame(leaveout_ckpt_flat_data)\n",
    "leaveout_ckpt_geodesic_data = pd.DataFrame(leaveout_ckpt_geodesic_data)\n",
    "leaveout_ckpt_previous_data = pd.DataFrame(leaveout_ckpt_previous_data)"
   ]
  },
  {
   "cell_type": "code",
   "execution_count": 13,
   "id": "339bf82a-d06e-4481-941d-2e627d79b3f2",
   "metadata": {},
   "outputs": [],
   "source": [
    "# LATENT SPACE METRICS\n",
    "leaveout_ckpt_vae_latent[\"time\"] = tp\n",
    "leaveout_ckpt_flat_latent[\"time\"] = tp \n",
    "leaveout_ckpt_geodesic_latent[\"time\"] = tp \n",
    "leaveout_ckpt_previous_latent[\"time\"] = tp \n",
    "\n",
    "# DATA SPACE METRICS\n",
    "leaveout_ckpt_vae_data[\"time\"] = tp \n",
    "leaveout_ckpt_flat_data[\"time\"] = tp \n",
    "leaveout_ckpt_geodesic_data[\"time\"] = tp \n",
    "leaveout_ckpt_previous_data[\"time\"] = tp "
   ]
  },
  {
   "cell_type": "markdown",
   "id": "3e537e86-74e6-4348-ad8d-162d225fcd3e",
   "metadata": {},
   "source": [
    "## Latent space"
   ]
  },
  {
   "cell_type": "markdown",
   "id": "dd5ad06a-0653-4556-ac6e-9ecdf5959e28",
   "metadata": {},
   "source": [
    "**VAE**"
   ]
  },
  {
   "cell_type": "code",
   "execution_count": 14,
   "id": "d1008aa1-6164-4370-a86b-ea5bf56cbdd6",
   "metadata": {},
   "outputs": [
    {
     "data": {
      "text/plain": [
       "1-Wasserstein    1.964602\n",
       "2-Wasserstein    2.067490\n",
       "Linear_MMD       0.087632\n",
       "Poly_MMD         0.292767\n",
       "RBF_MMD          0.233982\n",
       "Mean_MSE         0.091551\n",
       "Mean_L2          0.296550\n",
       "Mean_L1          0.240507\n",
       "rep              2.000000\n",
       "time             2.000000\n",
       "dtype: float64"
      ]
     },
     "execution_count": 14,
     "metadata": {},
     "output_type": "execute_result"
    }
   ],
   "source": [
    "leaveout_ckpt_vae_latent.mean(0)"
   ]
  },
  {
   "cell_type": "code",
   "execution_count": 15,
   "id": "e278c609-35e2-404d-a123-5ad0829ef788",
   "metadata": {},
   "outputs": [
    {
     "data": {
      "text/plain": [
       "1-Wasserstein    0.068766\n",
       "2-Wasserstein    0.065620\n",
       "Linear_MMD       0.009279\n",
       "Poly_MMD         0.015491\n",
       "RBF_MMD          0.008062\n",
       "Mean_MSE         0.013298\n",
       "Mean_L2          0.021239\n",
       "Mean_L1          0.011798\n",
       "rep              0.288675\n",
       "time             0.288675\n",
       "dtype: float64"
      ]
     },
     "execution_count": 15,
     "metadata": {},
     "output_type": "execute_result"
    }
   ],
   "source": [
    "leaveout_ckpt_vae_latent.std(0)/np.sqrt(9)"
   ]
  },
  {
   "cell_type": "markdown",
   "id": "00d1e501-78a7-43ac-aaed-e700301ee5f4",
   "metadata": {},
   "source": [
    "**Flat VAE**"
   ]
  },
  {
   "cell_type": "code",
   "execution_count": 16,
   "id": "40ab2705-c73b-4edf-936f-077fe6335600",
   "metadata": {},
   "outputs": [
    {
     "data": {
      "text/plain": [
       "1-Wasserstein    1.413430\n",
       "2-Wasserstein    1.543451\n",
       "Linear_MMD       0.076828\n",
       "Poly_MMD         0.266540\n",
       "RBF_MMD          0.223911\n",
       "Mean_MSE         0.080226\n",
       "Mean_L2          0.270242\n",
       "Mean_L1          0.227224\n",
       "rep              2.000000\n",
       "time             2.000000\n",
       "dtype: float64"
      ]
     },
     "execution_count": 16,
     "metadata": {},
     "output_type": "execute_result"
    }
   ],
   "source": [
    "leaveout_ckpt_flat_latent.mean(0)"
   ]
  },
  {
   "cell_type": "code",
   "execution_count": 17,
   "id": "dc5553c5-e6ca-4b78-b29a-0428f18dfd70",
   "metadata": {},
   "outputs": [
    {
     "data": {
      "text/plain": [
       "1-Wasserstein    0.084468\n",
       "2-Wasserstein    0.085379\n",
       "Linear_MMD       0.013930\n",
       "Poly_MMD         0.026889\n",
       "RBF_MMD          0.024301\n",
       "Mean_MSE         0.015449\n",
       "Mean_L2          0.029989\n",
       "Mean_L1          0.028668\n",
       "rep              0.288675\n",
       "time             0.288675\n",
       "dtype: float64"
      ]
     },
     "execution_count": 17,
     "metadata": {},
     "output_type": "execute_result"
    }
   ],
   "source": [
    "leaveout_ckpt_flat_latent.std(0)/np.sqrt(9)"
   ]
  },
  {
   "cell_type": "markdown",
   "id": "53fdc710-c535-4d5e-8ed9-fd309b08e497",
   "metadata": {},
   "source": [
    "**Geodesic VAE**"
   ]
  },
  {
   "cell_type": "code",
   "execution_count": 18,
   "id": "a9f3485e-089b-4bb6-899e-1758a0d85b3d",
   "metadata": {},
   "outputs": [
    {
     "data": {
      "text/plain": [
       "1-Wasserstein    2.062476\n",
       "2-Wasserstein    2.156820\n",
       "Linear_MMD       0.148777\n",
       "Poly_MMD         0.359872\n",
       "RBF_MMD          0.309058\n",
       "Mean_MSE         0.183059\n",
       "Mean_L2          0.397406\n",
       "Mean_L1          0.340322\n",
       "rep              2.000000\n",
       "time             2.000000\n",
       "dtype: float64"
      ]
     },
     "execution_count": 18,
     "metadata": {},
     "output_type": "execute_result"
    }
   ],
   "source": [
    "leaveout_ckpt_geodesic_latent.mean(0)"
   ]
  },
  {
   "cell_type": "code",
   "execution_count": 19,
   "id": "d5c13d91-1c5b-4592-a44b-a52fff7da1f3",
   "metadata": {},
   "outputs": [
    {
     "data": {
      "text/plain": [
       "1-Wasserstein    0.132530\n",
       "2-Wasserstein    0.138736\n",
       "Linear_MMD       0.040133\n",
       "Poly_MMD         0.049077\n",
       "RBF_MMD          0.042275\n",
       "Mean_MSE         0.050251\n",
       "Mean_L2          0.056044\n",
       "Mean_L1          0.048060\n",
       "rep              0.288675\n",
       "time             0.288675\n",
       "dtype: float64"
      ]
     },
     "execution_count": 19,
     "metadata": {},
     "output_type": "execute_result"
    }
   ],
   "source": [
    "leaveout_ckpt_geodesic_latent.std(0)/np.sqrt(9)"
   ]
  },
  {
   "cell_type": "markdown",
   "id": "56b80d37-5825-46c5-ae09-6fd612678353",
   "metadata": {},
   "source": [
    "**Baseline**"
   ]
  },
  {
   "cell_type": "code",
   "execution_count": 20,
   "id": "96d8c083-e246-4570-8efb-56a72542bcb8",
   "metadata": {},
   "outputs": [
    {
     "data": {
      "text/plain": [
       "1-Wasserstein    2.570373\n",
       "2-Wasserstein    2.694164\n",
       "Linear_MMD       0.281414\n",
       "Poly_MMD         0.487632\n",
       "RBF_MMD          0.388111\n",
       "Mean_MSE         0.292014\n",
       "Mean_L2          0.496841\n",
       "Mean_L1          0.405017\n",
       "rep              2.000000\n",
       "time             2.000000\n",
       "dtype: float64"
      ]
     },
     "execution_count": 20,
     "metadata": {},
     "output_type": "execute_result"
    }
   ],
   "source": [
    "leaveout_ckpt_previous_latent.mean(0)"
   ]
  },
  {
   "cell_type": "code",
   "execution_count": 21,
   "id": "6a342cbb-9a81-4fbd-94ae-5540b20b6c1d",
   "metadata": {},
   "outputs": [
    {
     "data": {
      "text/plain": [
       "1-Wasserstein    0.195134\n",
       "2-Wasserstein    0.199802\n",
       "Linear_MMD       0.079529\n",
       "Poly_MMD         0.073849\n",
       "RBF_MMD          0.064728\n",
       "Mean_MSE         0.080947\n",
       "Mean_L2          0.075136\n",
       "Mean_L1          0.067284\n",
       "rep              0.288675\n",
       "time             0.288675\n",
       "dtype: float64"
      ]
     },
     "execution_count": 21,
     "metadata": {},
     "output_type": "execute_result"
    }
   ],
   "source": [
    "leaveout_ckpt_previous_latent.std(0)/np.sqrt(9)"
   ]
  },
  {
   "cell_type": "markdown",
   "id": "c283a2ea-81a2-4cef-83e0-e1cbb3c2fb9d",
   "metadata": {},
   "source": [
    "## Data space"
   ]
  },
  {
   "cell_type": "markdown",
   "id": "d22d7ec3-097a-438e-be7d-21d4145459be",
   "metadata": {},
   "source": [
    "### VAE"
   ]
  },
  {
   "cell_type": "code",
   "execution_count": 22,
   "id": "80485972-5b67-4638-82cb-b8bce4810716",
   "metadata": {},
   "outputs": [
    {
     "data": {
      "text/plain": [
       "1-Wasserstein    39.926498\n",
       "2-Wasserstein    43.355890\n",
       "Linear_MMD        0.084729\n",
       "Poly_MMD          0.289782\n",
       "RBF_MMD           0.093701\n",
       "Mean_MSE          0.093223\n",
       "Mean_L2           0.304837\n",
       "Mean_L1           0.121863\n",
       "precision         0.452893\n",
       "recall            0.225640\n",
       "density           0.204526\n",
       "coverage          0.367233\n",
       "rep               2.000000\n",
       "time              2.000000\n",
       "dtype: float64"
      ]
     },
     "execution_count": 22,
     "metadata": {},
     "output_type": "execute_result"
    }
   ],
   "source": [
    "leaveout_ckpt_vae_data.mean(0)"
   ]
  },
  {
   "cell_type": "code",
   "execution_count": 23,
   "id": "04548a6d-f578-447b-a702-f6ee99be9ac0",
   "metadata": {},
   "outputs": [
    {
     "data": {
      "text/plain": [
       "1-Wasserstein    0.076734\n",
       "2-Wasserstein    0.190334\n",
       "Linear_MMD       0.002389\n",
       "Poly_MMD         0.004118\n",
       "RBF_MMD          0.000393\n",
       "Mean_MSE         0.002505\n",
       "Mean_L2          0.004020\n",
       "Mean_L1          0.001422\n",
       "precision        0.010406\n",
       "recall           0.007099\n",
       "density          0.015175\n",
       "coverage         0.014892\n",
       "rep              0.577350\n",
       "dtype: float64"
      ]
     },
     "execution_count": 23,
     "metadata": {},
     "output_type": "execute_result"
    }
   ],
   "source": [
    "(leaveout_ckpt_vae_data.groupby(\"time\").std()/np.sqrt(3)).mean(0)"
   ]
  },
  {
   "cell_type": "markdown",
   "id": "0c9ef52c-5b58-4cc8-8a2f-db2531092b64",
   "metadata": {},
   "source": [
    "### Flat VAE"
   ]
  },
  {
   "cell_type": "code",
   "execution_count": 24,
   "id": "93ae16e0-df4f-4c7e-b6f0-049ccf479da5",
   "metadata": {},
   "outputs": [
    {
     "data": {
      "text/plain": [
       "1-Wasserstein    39.051561\n",
       "2-Wasserstein    41.995502\n",
       "Linear_MMD        0.081517\n",
       "Poly_MMD          0.281975\n",
       "RBF_MMD           0.091962\n",
       "Mean_MSE          0.101312\n",
       "Mean_L2           0.317911\n",
       "Mean_L1           0.155587\n",
       "precision         0.538112\n",
       "recall            0.320581\n",
       "density           0.302635\n",
       "coverage          0.491362\n",
       "rep               2.000000\n",
       "time              2.000000\n",
       "dtype: float64"
      ]
     },
     "execution_count": 24,
     "metadata": {},
     "output_type": "execute_result"
    }
   ],
   "source": [
    "leaveout_ckpt_flat_data.mean(0)"
   ]
  },
  {
   "cell_type": "code",
   "execution_count": 25,
   "id": "5d13acb5-4fb7-48cf-93e0-6ea4d8db72ca",
   "metadata": {},
   "outputs": [
    {
     "data": {
      "text/plain": [
       "1-Wasserstein    0.033349\n",
       "2-Wasserstein    0.042345\n",
       "Linear_MMD       0.000749\n",
       "Poly_MMD         0.001277\n",
       "RBF_MMD          0.000170\n",
       "Mean_MSE         0.000545\n",
       "Mean_L2          0.000839\n",
       "Mean_L1          0.000468\n",
       "precision        0.010167\n",
       "recall           0.008574\n",
       "density          0.011467\n",
       "coverage         0.006163\n",
       "rep              0.577350\n",
       "dtype: float64"
      ]
     },
     "execution_count": 25,
     "metadata": {},
     "output_type": "execute_result"
    }
   ],
   "source": [
    "(leaveout_ckpt_flat_data.groupby(\"time\").std()/np.sqrt(3)).mean(0)"
   ]
  },
  {
   "cell_type": "markdown",
   "id": "8e803c99-185f-47ea-8945-48ba76b01150",
   "metadata": {},
   "source": [
    "### Geodesic VAE"
   ]
  },
  {
   "cell_type": "code",
   "execution_count": 26,
   "id": "53c8d5da-a6e4-4677-9535-05d298a27328",
   "metadata": {},
   "outputs": [
    {
     "data": {
      "text/plain": [
       "1-Wasserstein     88.590220\n",
       "2-Wasserstein    193.089633\n",
       "Linear_MMD         0.972043\n",
       "Poly_MMD           0.975561\n",
       "RBF_MMD            0.175337\n",
       "Mean_MSE           0.324564\n",
       "Mean_L2            0.568741\n",
       "Mean_L1            0.145377\n",
       "precision          0.065568\n",
       "recall             0.334207\n",
       "density            0.008051\n",
       "coverage           0.016565\n",
       "rep                2.000000\n",
       "time               2.000000\n",
       "dtype: float64"
      ]
     },
     "execution_count": 26,
     "metadata": {},
     "output_type": "execute_result"
    }
   ],
   "source": [
    "leaveout_ckpt_geodesic_data.mean(0)"
   ]
  },
  {
   "cell_type": "code",
   "execution_count": 27,
   "id": "cca83f89-7063-4e9d-b144-85ea347206b5",
   "metadata": {},
   "outputs": [
    {
     "data": {
      "text/plain": [
       "1-Wasserstein    1.066383\n",
       "2-Wasserstein    9.547412\n",
       "Linear_MMD       0.025047\n",
       "Poly_MMD         0.012023\n",
       "RBF_MMD          0.000915\n",
       "Mean_MSE         0.003162\n",
       "Mean_L2          0.002775\n",
       "Mean_L1          0.000484\n",
       "precision        0.001966\n",
       "recall           0.012303\n",
       "density          0.000386\n",
       "coverage         0.000950\n",
       "rep              0.577350\n",
       "dtype: float64"
      ]
     },
     "execution_count": 27,
     "metadata": {},
     "output_type": "execute_result"
    }
   ],
   "source": [
    "(leaveout_ckpt_geodesic_data.groupby(\"time\").std()/np.sqrt(3)).mean(0)"
   ]
  },
  {
   "cell_type": "markdown",
   "id": "2ccc2687-354c-414c-832f-3403f8daf758",
   "metadata": {},
   "source": [
    "### Baseline"
   ]
  },
  {
   "cell_type": "code",
   "execution_count": 28,
   "id": "71c71940-8d0d-4f79-b3e5-4b9d4f9e444b",
   "metadata": {
    "scrolled": true
   },
   "outputs": [
    {
     "data": {
      "text/plain": [
       "1-Wasserstein    45.482058\n",
       "2-Wasserstein    47.811630\n",
       "Linear_MMD        0.201387\n",
       "Poly_MMD          0.437026\n",
       "RBF_MMD           0.127186\n",
       "Mean_MSE          0.185233\n",
       "Mean_L2           0.413694\n",
       "Mean_L1           0.077155\n",
       "precision         0.189846\n",
       "recall            0.408392\n",
       "density           0.038347\n",
       "coverage          0.124779\n",
       "rep               2.000000\n",
       "time              2.000000\n",
       "dtype: float64"
      ]
     },
     "execution_count": 28,
     "metadata": {},
     "output_type": "execute_result"
    }
   ],
   "source": [
    "leaveout_ckpt_previous_data.mean(0)"
   ]
  },
  {
   "cell_type": "code",
   "execution_count": 29,
   "id": "d46db661-24cf-40cb-b602-1e6a33eccbf4",
   "metadata": {},
   "outputs": [
    {
     "data": {
      "text/plain": [
       "1-Wasserstein    0.00000\n",
       "2-Wasserstein    0.00000\n",
       "Linear_MMD       0.00000\n",
       "Poly_MMD         0.00000\n",
       "RBF_MMD          0.00000\n",
       "Mean_MSE         0.00000\n",
       "Mean_L2          0.00000\n",
       "Mean_L1          0.00000\n",
       "precision        0.00000\n",
       "recall           0.00000\n",
       "density          0.00000\n",
       "coverage         0.00000\n",
       "rep              0.57735\n",
       "dtype: float64"
      ]
     },
     "execution_count": 29,
     "metadata": {},
     "output_type": "execute_result"
    }
   ],
   "source": [
    "(leaveout_ckpt_previous_data.groupby(\"time\").std()/np.sqrt(3)).mean(0)"
   ]
  },
  {
   "cell_type": "code",
   "execution_count": null,
   "id": "84a01138-3069-47b1-aebf-1bb2d172a474",
   "metadata": {},
   "outputs": [],
   "source": []
  },
  {
   "cell_type": "code",
   "execution_count": null,
   "id": "721c3a0d-0054-45c3-9e20-e5e0837cc11e",
   "metadata": {},
   "outputs": [],
   "source": []
  },
  {
   "cell_type": "code",
   "execution_count": null,
   "id": "c8e6eb59-4709-4c65-8531-7d2c23fef928",
   "metadata": {},
   "outputs": [],
   "source": []
  }
 ],
 "metadata": {
  "kernelspec": {
   "display_name": "Python 3 (ipykernel)",
   "language": "python",
   "name": "python3"
  },
  "language_info": {
   "codemirror_mode": {
    "name": "ipython",
    "version": 3
   },
   "file_extension": ".py",
   "mimetype": "text/x-python",
   "name": "python",
   "nbconvert_exporter": "python",
   "pygments_lexer": "ipython3",
   "version": "3.10.12"
  }
 },
 "nbformat": 4,
 "nbformat_minor": 5
}
