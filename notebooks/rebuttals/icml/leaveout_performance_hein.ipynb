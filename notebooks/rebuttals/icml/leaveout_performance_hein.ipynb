{
 "cells": [
  {
   "cell_type": "code",
   "execution_count": 37,
   "id": "5f465612",
   "metadata": {},
   "outputs": [],
   "source": [
    "from paths import DATA_DIR, CKPT_FOLDER, PROJECT_FOLDER\n",
    "\n",
    "import matplotlib.pyplot as plt\n",
    "import os\n",
    "import numpy as np\n",
    "import torch\n",
    "import anndata\n",
    "import scanpy as sc\n",
    "import sklearn\n",
    "import scvelo as scv\n",
    "from pathlib import Path\n",
    "import pertpy as pt\n",
    "\n",
    "import anndata\n",
    "import pandas as pd\n",
    "\n",
    "from IPython.display import display\n",
    "from torchdyn.core import NeuralODE\n",
    "\n",
    "from scCFM.datamodules.time_sc_datamodule import TrajectoryDataModule\n",
    "from scCFM.models.cfm.components.mlp import MLP\n",
    "from scCFM.models.cfm.cfm_module import CFMLitModule\n",
    "\n",
    "from scCFM.models.base.vae import VAE\n",
    "from scCFM.models.base.geometric_vae import GeometricNBVAE\n",
    "from scCFM.models.base.geodesic_ae import GeodesicAE\n",
    "\n",
    "from scCFM.datamodules.sc_datamodule import scDataModule\n",
    "from scCFM.models.cfm.components.eval.distribution_distances import compute_distribution_distances\n",
    "\n",
    "from notebooks.utils import decode_trajectory_single_step, standardize, compute_prdc"
   ]
  },
  {
   "cell_type": "markdown",
   "id": "09d363b9-65bc-4273-85d2-3cfaa07d3c4b",
   "metadata": {},
   "source": [
    "Initialize the device"
   ]
  },
  {
   "cell_type": "code",
   "execution_count": 38,
   "id": "4fd2ec94-1c3b-4d0a-9da2-5eb4fe1de6d1",
   "metadata": {},
   "outputs": [],
   "source": [
    "device = \"cuda\" if torch.cuda.is_available() else \"cpu\"\n",
    "\n",
    "def cross_standardize(tensor1, tensor2, minmax_scale=False):\n",
    "    \"\"\"\n",
    "    Standardize tensor across the rows\n",
    "    \"\"\"\n",
    "    mean_t1, std_t1 = tensor1.mean(0), tensor1.std(0)\n",
    "    if minmax_scale:\n",
    "        min_t1, max_t1 = tensor1.min(0), tensor1.max(0)\n",
    "        tensor1 = (tensor1 - min_t1) / (max_t1 - min_t1 + 1e-6)\n",
    "        tensor2 = (tensor2 - min_t1) / (max_t1 - min_t1 + 1e-6)\n",
    "    else:\n",
    "        tensor1 = (tensor1 - mean_t1) / (std_t1 + 1e-6)\n",
    "        tensor2 = (tensor2 - mean_t1) / (std_t1 + 1e-6)\n",
    "    return tensor1, tensor2\n",
    "\n",
    "def update_dict(ref, tgt):\n",
    "    \"\"\"\n",
    "    Update a dictionary with the values of another \n",
    "    \"\"\"\n",
    "    for key in tgt:\n",
    "        if key not in ref:\n",
    "            ref[key] = []\n",
    "        ref[key].append(tgt[key])\n",
    "    return ref\n",
    "\n",
    "# def distance_metrics_pertpy(ref, trg):\n",
    "#     \"\"\"\n",
    "#     Distance metrics using pertpy\n",
    "#     \"\"\"\n",
    "#     adata_ref, adata_trg = ref.copy(), trg.copy()\n",
    "#     adata_together = sc.AnnData(X=np.concatenate([adata_ref.X,\n",
    "#                                                   adata_trg.X], axis=0))\n",
    "#     annot = [\"reference\" for _ in range(len(adata_ref))] + [\"target\" for _ in range(len(adata_trg))]\n",
    "#     annot_df = pd.DataFrame(annot)\n",
    "#     annot_df.columns = [\"dataset_type\"]\n",
    "#     adata_together.obs = annot_df\n",
    "#     adata_together.obsm[\"X_data\"] = adata_together.X.copy()\n",
    "#     # Wasserstein\n",
    "#     w_distance = pt.tl.Distance(\"wasserstein\", obsm_key=\"X_data\")\n",
    "#     # MMD\n",
    "#     mmd_distance = pt.tl.Distance(\"mmd\", obsm_key=\"X_data\")\n",
    "#     df_w = w_distance.pairwise(adata_together, groupby=\"dataset_type\").to_numpy()\n",
    "#     df_mmd = mmd_distance.pairwise(adata_together, groupby=\"dataset_type\", verbose=False).to_numpy()\n",
    "#     return {'wassersetein':df_w.max(), \n",
    "#             'mmd':df_mmd.max()}\n",
    "\n",
    "def distance_metrics_pertpy(ref, trg):\n",
    "    \"\"\"\n",
    "    Distance metrics using pertpy\n",
    "    \"\"\"\n",
    "    d =  compute_distribution_distances(torch.tensor(ref.X[:,None,:]), \n",
    "                                             torch.tensor(trg.X[:,None,:]))\n",
    "    return dict(zip(d[0], d[1]))"
   ]
  },
  {
   "cell_type": "markdown",
   "id": "8c0e1767-1abe-4746-afff-7439aeb0a2ab",
   "metadata": {},
   "source": [
    "Initialize datamodule"
   ]
  },
  {
   "cell_type": "code",
   "execution_count": 39,
   "id": "4761425c-8b15-4610-9861-b88a1e70a3e5",
   "metadata": {},
   "outputs": [],
   "source": [
    "datamodule={'path': PROJECT_FOLDER / 'data/hein_et_al/processed/unperturbed_time_course_host.h5ad', \n",
    "            'x_layer': 'X_norm', \n",
    "            'cond_keys': ['experimental_time', 'cluster'],\n",
    "            'use_pca': False, \n",
    "            'n_dimensions': None, \n",
    "            'train_val_test_split': [1], \n",
    "            'batch_size': 512, \n",
    "            'num_workers': 2}\n",
    "\n",
    "# Initialize datamodule\n",
    "datamodule = scDataModule(**datamodule)"
   ]
  },
  {
   "cell_type": "markdown",
   "id": "bb402a71-f7a0-40f1-b3c0-f02fa51b7f59",
   "metadata": {},
   "source": [
    "Initialize autoencoders"
   ]
  },
  {
   "cell_type": "code",
   "execution_count": 40,
   "id": "ff8366d0-3098-4bb2-9296-ba78f1618957",
   "metadata": {
    "scrolled": true
   },
   "outputs": [
    {
     "data": {
      "text/plain": [
       "<All keys matched successfully>"
      ]
     },
     "execution_count": 40,
     "metadata": {},
     "output_type": "execute_result"
    }
   ],
   "source": [
    "vae_kwargs={'in_dim': datamodule.in_dim,\n",
    "       'n_epochs_anneal_kl': 1000, \n",
    "       'kl_weight': None, \n",
    "       'likelihood': 'nb', \n",
    "       'dropout': False, \n",
    "       'learning_rate': 0.001, \n",
    "       'dropout_p': False, \n",
    "       'model_library_size': True, \n",
    "       'batch_norm': True, \n",
    "       'kl_warmup_fraction': 0.1, \n",
    "       'hidden_dims': [256, 10]}\n",
    "        \n",
    "geometric_kwargs={'compute_metrics_every': 1, \n",
    "           'use_c': True, \n",
    "           'trainable_c': False,\n",
    "           'l2': True, \n",
    "           'eta_interp': 0, \n",
    "           'interpolate_z': False, \n",
    "           'start_jac_after': 0, \n",
    "           'fl_weight': 0.1,\n",
    "           'detach_theta': True}\n",
    "\n",
    "geodesic_kwargs={\"in_dim\": datamodule.in_dim,\n",
    "          \"hidden_dims\": [256, 10],\n",
    "          \"batch_norm\": True,\n",
    "          \"dropout\": False, \n",
    "          \"dropout_p\": False,\n",
    "          \"likelihood\": \"nb\",\n",
    "          \"learning_rate\": 0.001}\n",
    "\n",
    "# Initialize vae and geometric vae\n",
    "vae = VAE(**vae_kwargs).to(device)\n",
    "geometric_vae = GeometricNBVAE(**geometric_kwargs, vae_kwargs=vae_kwargs).to(device)\n",
    "geodesic_ae = GeodesicAE(**geodesic_kwargs).to(device)\n",
    "\n",
    "# Load state dicts and put in eval mode \n",
    "vae.load_state_dict(torch.load(PROJECT_FOLDER / \"checkpoints/ae/hein_et_al_complete/best_model_vae_lib.ckpt\")[\"state_dict\"])\n",
    "geometric_vae.load_state_dict(torch.load(PROJECT_FOLDER / \"checkpoints/ae/hein_et_al_complete/best_model_geometric_lib.ckpt\")[\"state_dict\"])\n",
    "geodesic_ae.load_state_dict(torch.load(PROJECT_FOLDER / \"checkpoints/ae/hein_et_al_complete/best_model_geodesic_ae.ckpt\")[\"state_dict\"])"
   ]
  },
  {
   "cell_type": "markdown",
   "id": "ceeb44a2-28ab-42ed-b5d3-327161629831",
   "metadata": {},
   "source": [
    "## Setup CFMs"
   ]
  },
  {
   "cell_type": "code",
   "execution_count": 41,
   "id": "9f8247cb-b681-4e82-8905-f3af83b2032a",
   "metadata": {},
   "outputs": [],
   "source": [
    "leavout_timepoints_folder = Path(\"/home/icb/alessandro.palma/environment/scCFM/project_dir/checkpoints/trajectory/hein_et_al\")"
   ]
  },
  {
   "cell_type": "markdown",
   "id": "62c4acf8-5ea9-4d9c-abdf-cbbc2d1312bf",
   "metadata": {},
   "source": [
    "Initialize datamodule for trajectory"
   ]
  },
  {
   "cell_type": "code",
   "execution_count": 42,
   "id": "f4273aa1-2490-4582-abc7-5219c2e5f09c",
   "metadata": {},
   "outputs": [],
   "source": [
    "datamodule_kwargs_vae = {'path': PROJECT_FOLDER / 'data/hein_et_al/flat/hein_lib_complete.h5ad',\n",
    "                          'x_layer': 'X_latents',\n",
    "                          'time_key': 'experimental_time', \n",
    "                          'use_pca': False, \n",
    "                          'n_dimensions': None, \n",
    "                          'train_val_test_split': [0.9, 0.1], \n",
    "                          'num_workers': 2, \n",
    "                          'batch_size': 512, \n",
    "                          'model_library_size': True}\n",
    "\n",
    "datamodule_kwargs_flat = {'path': PROJECT_FOLDER / 'data/hein_et_al/flat/hein_flat_lib_complete.h5ad',\n",
    "                          'x_layer': 'X_latents',\n",
    "                          'time_key': 'experimental_time', \n",
    "                          'use_pca': False, \n",
    "                          'n_dimensions': None, \n",
    "                          'train_val_test_split': [0.9, 0.1], \n",
    "                          'num_workers': 2, \n",
    "                          'batch_size': 512, \n",
    "                           'model_library_size': True}\n",
    "\n",
    "datamodule_kwargs_geodesic= {'path': PROJECT_FOLDER / 'data/hein_et_al/flat/hein_geodesic_complete.h5ad',\n",
    "                          'x_layer': 'X_latents',\n",
    "                          'time_key': 'experimental_time', \n",
    "                          'use_pca': False, \n",
    "                          'n_dimensions': None, \n",
    "                          'train_val_test_split': [0.9, 0.1], \n",
    "                          'num_workers': 2, \n",
    "                          'batch_size': 512, \n",
    "                           'model_library_size': True}\n",
    "\n",
    "# Initialize the datamodules \n",
    "datamodule_vae = TrajectoryDataModule(**datamodule_kwargs_vae)\n",
    "datamodule_flat = TrajectoryDataModule(**datamodule_kwargs_flat)\n",
    "datamodule_geodesic = TrajectoryDataModule(**datamodule_kwargs_geodesic)"
   ]
  },
  {
   "cell_type": "markdown",
   "id": "00e5828a",
   "metadata": {},
   "source": [
    "## Read data"
   ]
  },
  {
   "cell_type": "markdown",
   "id": "6a1fa627-0299-49ea-b2a9-6309a3c491ef",
   "metadata": {},
   "source": [
    "First, read the latent space anndata and plot the results"
   ]
  },
  {
   "cell_type": "code",
   "execution_count": 43,
   "id": "8d0bfee4",
   "metadata": {},
   "outputs": [],
   "source": [
    "# Read latent anndata\n",
    "adata_latent_vae = sc.read_h5ad(DATA_DIR / \"hein_et_al\" / \"flat\" / \"hein_lib_complete.h5ad\")\n",
    "adata_latent_flat = sc.read_h5ad(DATA_DIR / \"hein_et_al\" / \"flat\" / \"hein_flat_lib_complete.h5ad\")\n",
    "adata_latent_geodesic = sc.read_h5ad(DATA_DIR / \"hein_et_al\" / \"flat\" / \"hein_geodesic_complete.h5ad\")\n",
    "\n",
    "# Read real anndata\n",
    "adata_hein_original = sc.read_h5ad(PROJECT_FOLDER / 'data/hein_et_al/processed/unperturbed_time_course_host.h5ad')\n",
    "sc.tl.pca(adata_hein_original, n_comps=50)\n",
    "adata_hein_original.X = adata_hein_original.layers[\"X_norm\"].A.copy()"
   ]
  },
  {
   "cell_type": "markdown",
   "id": "26176fd4-382d-480b-a396-d62368abd40e",
   "metadata": {},
   "source": [
    "Number of experiments "
   ]
  },
  {
   "cell_type": "code",
   "execution_count": 44,
   "id": "7b6d822e-1f8d-4af6-adda-2687dd127180",
   "metadata": {},
   "outputs": [
    {
     "data": {
      "text/plain": [
       "{0: 0.0,\n",
       " 1: 0.05,\n",
       " 2: 0.16666666666666666,\n",
       " 3: 0.23333333333333334,\n",
       " 4: 0.4,\n",
       " 5: 0.6,\n",
       " 6: 0.8,\n",
       " 7: 1.0}"
      ]
     },
     "execution_count": 44,
     "metadata": {},
     "output_type": "execute_result"
    }
   ],
   "source": [
    "n_timepoints = len(np.unique(adata_latent_vae.obs.experimental_time))\n",
    "idx2time = dict(zip(range(n_timepoints), np.unique(adata_latent_vae.obs.experimental_time)))\n",
    "idx2time"
   ]
  },
  {
   "cell_type": "markdown",
   "id": "50b70343",
   "metadata": {},
   "source": [
    "Initialize model"
   ]
  },
  {
   "cell_type": "code",
   "execution_count": 45,
   "id": "dcf2a556",
   "metadata": {},
   "outputs": [],
   "source": [
    "net_hparams = {\"dim\": adata_latent_flat.X.shape[1]+1,\n",
    "                \"w\": 64,\n",
    "                \"time_varying\": True}\n",
    "\n",
    "cfm_kwargs = {'ot_sampler': 'exact', \n",
    "                   'sigma': 0.1, \n",
    "                   'use_real_time': False, \n",
    "                   'lr': 0.001, \n",
    "                   'antithetic_time_sampling': True}"
   ]
  },
  {
   "cell_type": "markdown",
   "id": "18d0cf44-7d54-49cc-95ec-7a2639a039a1",
   "metadata": {},
   "source": [
    "## Evaluation"
   ]
  },
  {
   "cell_type": "markdown",
   "id": "55b4c17f-40ac-43aa-a8bf-33f3424b6f33",
   "metadata": {},
   "source": [
    "Load checkpoints"
   ]
  },
  {
   "cell_type": "code",
   "execution_count": 1,
   "id": "9a10949a-5b84-4e06-b980-81cb1643dde8",
   "metadata": {
    "scrolled": true
   },
   "outputs": [
    {
     "ename": "NameError",
     "evalue": "name 'n_timepoints' is not defined",
     "output_type": "error",
     "traceback": [
      "\u001b[0;31m---------------------------------------------------------------------------\u001b[0m",
      "\u001b[0;31mNameError\u001b[0m                                 Traceback (most recent call last)",
      "Cell \u001b[0;32mIn[1], line 14\u001b[0m\n\u001b[1;32m     11\u001b[0m leaveout_ckpt_previous_data \u001b[38;5;241m=\u001b[39m {}\n\u001b[1;32m     13\u001b[0m \u001b[38;5;28;01mfor\u001b[39;00m rep \u001b[38;5;129;01min\u001b[39;00m \u001b[38;5;28mrange\u001b[39m(\u001b[38;5;241m1\u001b[39m, \u001b[38;5;241m4\u001b[39m):\n\u001b[0;32m---> 14\u001b[0m     \u001b[38;5;28;01mfor\u001b[39;00m tp \u001b[38;5;129;01min\u001b[39;00m \u001b[38;5;28mrange\u001b[39m(\u001b[38;5;241m1\u001b[39m, \u001b[43mn_timepoints\u001b[49m\u001b[38;5;241m-\u001b[39m\u001b[38;5;241m1\u001b[39m):\n\u001b[1;32m     15\u001b[0m         \u001b[38;5;28mprint\u001b[39m(\u001b[38;5;124mf\u001b[39m\u001b[38;5;124m\"\u001b[39m\u001b[38;5;124mTime point \u001b[39m\u001b[38;5;132;01m{\u001b[39;00mtp\u001b[38;5;132;01m}\u001b[39;00m\u001b[38;5;124m\"\u001b[39m)\n\u001b[1;32m     16\u001b[0m         \u001b[38;5;66;03m#Pick time 0 observations\u001b[39;00m\n",
      "\u001b[0;31mNameError\u001b[0m: name 'n_timepoints' is not defined"
     ]
    }
   ],
   "source": [
    "# LATENT SPACE METRICS\n",
    "leaveout_ckpt_vae_latent = {}\n",
    "leaveout_ckpt_flat_latent = {}\n",
    "leaveout_ckpt_geodesic_latent = {}\n",
    "leaveout_ckpt_previous_latent = {}\n",
    "\n",
    "# DATA SPACE METRICS\n",
    "leaveout_ckpt_vae_data = {}\n",
    "leaveout_ckpt_flat_data = {}\n",
    "leaveout_ckpt_geodesic_data = {}\n",
    "leaveout_ckpt_previous_data = {}\n",
    "\n",
    "for rep in range(1, 4):\n",
    "    for tp in range(1, n_timepoints-1):\n",
    "        print(f\"Time point {tp}\")\n",
    "        #Pick time 0 observations\n",
    "        X_adata_t0_latent_vae = torch.from_numpy(adata_latent_vae[adata_latent_vae.obs[\"experimental_time\"]==idx2time[(tp-1)]].X).to(device)\n",
    "        X_adata_t0_latent_flat = torch.from_numpy(adata_latent_flat[adata_latent_flat.obs[\"experimental_time\"]==idx2time[(tp-1)]].X).to(device)\n",
    "        X_adata_t0_latent_geodesic = torch.from_numpy(adata_latent_geodesic[adata_latent_geodesic.obs[\"experimental_time\"]==idx2time[(tp-1)]].X).to(device)\n",
    "    \n",
    "        # Pick observations next timepoint \n",
    "        X_adata_t1_latent_vae = torch.from_numpy(adata_latent_vae[adata_latent_vae.obs[\"experimental_time\"]==idx2time[tp]].X).to(device)\n",
    "        X_adata_t1_latent_flat = torch.from_numpy(adata_latent_flat[adata_latent_flat.obs[\"experimental_time\"]==idx2time[tp]].X).to(device)\n",
    "        X_adata_t1_latent_geodesic = torch.from_numpy(adata_latent_geodesic[adata_latent_geodesic.obs[\"experimental_time\"]==idx2time[tp]].X).to(device)    \n",
    "    \n",
    "        # Collect PCs\n",
    "        adata_real = adata_hein_original[adata_hein_original.obs[\"experimental_time\"]==idx2time[tp]]\n",
    "        X_adata_real_pca = torch.from_numpy(adata_real.obsm[\"X_pca\"]).to(device)\n",
    "        X_adata_real = torch.from_numpy(adata_real.layers[\"X_log\"].A).to(device)\n",
    "    \n",
    "        #Pick library sizes\n",
    "        l_t0_vae = adata_latent_vae.obs.loc[adata_latent_vae.obs[\"experimental_time\"]==idx2time[(tp-1)], \"log_library_size\"].to_numpy()\n",
    "        l_t0_flat = adata_latent_flat.obs.loc[adata_latent_flat.obs[\"experimental_time\"]==idx2time[(tp-1)], \"log_library_size\"].to_numpy()\n",
    "        l_t0_geodesic = adata_latent_geodesic.obs.loc[adata_latent_geodesic.obs[\"experimental_time\"]==idx2time[(tp-1)], \"log_library_size\"].to_numpy()\n",
    "        l_t0_vae = torch.from_numpy(l_t0_vae).to(device)\n",
    "        l_t0_flat = torch.from_numpy(l_t0_flat).to(device)\n",
    "        l_t0_geodesic = torch.from_numpy(l_t0_geodesic).to(device)\n",
    "    \n",
    "        # Initialize nets\n",
    "        net_vae = MLP(**net_hparams).to(device)\n",
    "        net_flat = MLP(**net_hparams).to(device)\n",
    "        net_geodesic = MLP(**net_hparams).to(device)\n",
    "        cfm_vae = CFMLitModule(net=net_vae, datamodule=datamodule_vae, **cfm_kwargs).to(device)\n",
    "        cfm_flat = CFMLitModule(net=net_flat, datamodule=datamodule_flat, **cfm_kwargs).to(device)\n",
    "        cfm_geodesic = CFMLitModule(net=net_geodesic, datamodule=datamodule_geodesic, **cfm_kwargs).to(device)\n",
    "    \n",
    "        # Read the checkpoints\n",
    "        cfm_vae.load_state_dict(torch.load(leavout_timepoints_folder / f\"hein_vae_leaveout_{tp}_{rep}.ckpt\")[\"state_dict\"])\n",
    "        cfm_flat.load_state_dict(torch.load(leavout_timepoints_folder / f\"hein_flat_leaveout_{tp}_{rep}.ckpt\")[\"state_dict\"])\n",
    "        cfm_geodesic.load_state_dict(torch.load(leavout_timepoints_folder / f\"hein_geodesic_leaveout_{tp}_{rep}.ckpt\")[\"state_dict\"])\n",
    "    \n",
    "        mu_adata_predicted_vae, X_adata_predicted_vae, X_adata_latent_vae = decode_trajectory_single_step(X_adata_t0_latent_vae, \n",
    "                                                                                     l_t0_vae, \n",
    "                                                                                     tp-1, \n",
    "                                                                                     cfm_vae, \n",
    "                                                                                     vae)\n",
    "                                                                                    \n",
    "        mu_adata_predicted_flat, X_adata_predicted_flat, X_adata_latent_flat = decode_trajectory_single_step(X_adata_t0_latent_flat, \n",
    "                                                                                       l_t0_flat, \n",
    "                                                                                       tp-1, \n",
    "                                                                                       cfm_flat, \n",
    "                                                                                       geometric_vae)\n",
    "                                                                                      \n",
    "        mu_adata_predicted_geodesic, X_adata_predicted_geodesic, X_adata_latent_geodesic = decode_trajectory_single_step(X_adata_t0_latent_geodesic, \n",
    "                                                                                               l_t0_geodesic, \n",
    "                                                                                               tp-1, \n",
    "                                                                                               cfm_geodesic, \n",
    "                                                                                               geodesic_ae, \n",
    "                                                                                               model_type=\"geodesic_ae\")\n",
    "    \n",
    "        ## PREDICT LATENT TRAJECTORIES \n",
    "        X_adata_t1_latent_vae, X_adata_latent_vae = cross_standardize(X_adata_t1_latent_vae, X_adata_latent_vae[:,:-1])\n",
    "        X_adata_t1_latent_flat, X_adata_latent_flat = cross_standardize(X_adata_t1_latent_flat, X_adata_latent_flat[:,:-1])\n",
    "        X_adata_t1_latent_geodesic, X_adata_latent_geodesic = cross_standardize(X_adata_t1_latent_geodesic, X_adata_latent_geodesic[:,:-1])\n",
    "                                                                                       \n",
    "        d_dist_vae_l = compute_distribution_distances(X_adata_t1_latent_vae.unsqueeze(1).to(\"cpu\"), \n",
    "                                             X_adata_latent_vae.unsqueeze(1).to(\"cpu\"))\n",
    "        d_dist_flat_l = compute_distribution_distances(X_adata_t1_latent_flat.unsqueeze(1).to(\"cpu\"),\n",
    "                                             X_adata_latent_flat.unsqueeze(1).to(\"cpu\"))\n",
    "        d_dist_geod_l = compute_distribution_distances(X_adata_t1_latent_geodesic.unsqueeze(1).to(\"cpu\"),\n",
    "                                             X_adata_latent_geodesic.unsqueeze(1).to(\"cpu\"))\n",
    "        d_dist_prev = compute_distribution_distances(X_adata_t1_latent_vae.unsqueeze(1).to(\"cpu\"),\n",
    "                                             X_adata_t0_latent_vae.unsqueeze(1).to(\"cpu\"))\n",
    "        \n",
    "        d_dist_vae_l = dict(zip(d_dist_vae_l[0], d_dist_vae_l[1]))\n",
    "        d_dist_flat_l = dict(zip(d_dist_flat_l[0], d_dist_flat_l[1]))\n",
    "        d_dist_geod_l = dict(zip(d_dist_geod_l[0], d_dist_geod_l[1]))\n",
    "        d_dist_prev_l = dict(zip(d_dist_prev[0], d_dist_prev[1]))\n",
    "\n",
    "        leaveout_ckpt_vae_latent = update_dict(leaveout_ckpt_vae_latent, d_dist_vae_l)\n",
    "        leaveout_ckpt_flat_latent = update_dict(leaveout_ckpt_flat_latent, d_dist_flat_l)\n",
    "        leaveout_ckpt_geodesic_latent = update_dict(leaveout_ckpt_geodesic_latent, d_dist_geod_l)\n",
    "        leaveout_ckpt_previous_latent = update_dict(leaveout_ckpt_previous_latent, d_dist_prev_l)\n",
    "    \n",
    "        print(\"predict decoded trajectory\")\n",
    "        X_adata_predicted_vae = anndata.AnnData(X=X_adata_predicted_vae.numpy())\n",
    "        X_adata_predicted_flat = anndata.AnnData(X=X_adata_predicted_flat.numpy())\n",
    "        X_adata_predicted_geodesic = anndata.AnnData(X=X_adata_predicted_geodesic.numpy())\n",
    "        mu_adata_predicted_vae = anndata.AnnData(X=mu_adata_predicted_vae.numpy())\n",
    "        mu_adata_predicted_flat = anndata.AnnData(X=mu_adata_predicted_flat.numpy())\n",
    "        mu_adata_predicted_geodesic = anndata.AnnData(X=mu_adata_predicted_geodesic.numpy())\n",
    "        \n",
    "        X_adata_prev = adata_hein_original[adata_hein_original.obs[\"experimental_time\"]==idx2time[tp-1]].copy()\n",
    "        # rnd_idx = np.random.choice(range(len(adata_hein_original)), size=len(X_adata_predicted_vae), replace=False)\n",
    "        # X_adata_prev = adata_hein_original[rnd_idx]\n",
    "\n",
    "        X_adata_predicted_vae.layers[\"X_norm\"] = X_adata_predicted_vae.X.copy()\n",
    "        X_adata_predicted_flat.layers[\"X_norm\"] = X_adata_predicted_flat.X.copy()\n",
    "        X_adata_predicted_geodesic.layers[\"X_norm\"] = np.exp(X_adata_predicted_geodesic.X.copy())-1\n",
    "        X_adata_prev.layers[\"X_norm\"] = X_adata_prev.X.copy()\n",
    "        sc.pp.log1p(X_adata_predicted_vae)\n",
    "        sc.pp.log1p(X_adata_predicted_flat)\n",
    "        sc.pp.log1p(X_adata_prev)\n",
    "        \n",
    "        sc.tl.pca(X_adata_predicted_vae, n_comps=50)\n",
    "        sc.tl.pca(X_adata_predicted_flat, n_comps=50)\n",
    "        sc.tl.pca(X_adata_predicted_geodesic, n_comps=50)\n",
    "        sc.tl.pca(X_adata_prev, n_comps=50)\n",
    "        X_adata_predicted_vae.X = X_adata_predicted_vae.layers[\"X_norm\"].copy()\n",
    "        X_adata_predicted_flat.X = X_adata_predicted_flat.layers[\"X_norm\"].copy()\n",
    "        X_adata_predicted_geodesic.X = X_adata_predicted_geodesic.layers[\"X_norm\"].copy()\n",
    "        X_adata_prev.X = X_adata_prev.layers[\"X_norm\"].copy()\n",
    "        \n",
    "        # Compute den\n",
    "        d_dist_vae_d = compute_prdc(torch.from_numpy(X_adata_predicted_vae.obsm[\"X_pca\"].copy()), \n",
    "                                                 X_adata_real_pca.to(\"cpu\"), nearest_k=10)\n",
    "        d_dist_flat_d = compute_prdc(torch.from_numpy(X_adata_predicted_flat.obsm[\"X_pca\"].copy()), \n",
    "                                                 X_adata_real_pca.to(\"cpu\"), nearest_k=10)\n",
    "        d_dist_geodesic_d = compute_prdc(torch.from_numpy(X_adata_predicted_geodesic.obsm[\"X_pca\"].copy()), \n",
    "                                                 X_adata_real_pca.to(\"cpu\"), nearest_k=10)\n",
    "        d_dist_prev_d = compute_prdc(torch.from_numpy(X_adata_prev.obsm[\"X_pca\"].copy()), \n",
    "                                                 X_adata_real_pca.to(\"cpu\"), nearest_k=10)\n",
    "\n",
    "        # d_dist_w_mmd_vae = distance_metrics_pertpy(adata_real, X_adata_predicted_vae)\n",
    "        # d_dist_w_mmd_flat =distance_metrics_pertpy(adata_real, X_adata_predicted_flat)\n",
    "        # d_dist_w_mmd_geodesic =distance_metrics_pertpy(adata_real, X_adata_predicted_geodesic)\n",
    "        # d_dist_w_mmd_prev =distance_metrics_pertpy(adata_real, X_adata_prev)\n",
    "        d_dist_w_mmd_vae = distance_metrics_pertpy(adata_real, mu_adata_predicted_vae)\n",
    "        d_dist_w_mmd_flat =distance_metrics_pertpy(adata_real, mu_adata_predicted_flat)\n",
    "        d_dist_w_mmd_geodesic =distance_metrics_pertpy(adata_real, X_adata_predicted_geodesic)\n",
    "        d_dist_w_mmd_prev =distance_metrics_pertpy(adata_real, X_adata_prev)\n",
    "        \n",
    "        leaveout_ckpt_vae_data = update_dict(leaveout_ckpt_vae_data, d_dist_w_mmd_vae)\n",
    "        leaveout_ckpt_flat_data = update_dict(leaveout_ckpt_flat_data, d_dist_w_mmd_flat)\n",
    "        leaveout_ckpt_geodesic_data = update_dict(leaveout_ckpt_geodesic_data, d_dist_w_mmd_geodesic)\n",
    "        leaveout_ckpt_previous_data = update_dict(leaveout_ckpt_previous_data, d_dist_w_mmd_prev)\n",
    "        leaveout_ckpt_vae_data = update_dict(leaveout_ckpt_vae_data, d_dist_vae_d)\n",
    "        leaveout_ckpt_flat_data = update_dict(leaveout_ckpt_flat_data, d_dist_flat_d)\n",
    "        leaveout_ckpt_geodesic_data = update_dict(leaveout_ckpt_geodesic_data, d_dist_geodesic_d)\n",
    "        leaveout_ckpt_previous_data = update_dict(leaveout_ckpt_previous_data, d_dist_prev_d)\n",
    "\n",
    "        leaveout_ckpt_vae_latent = update_dict(leaveout_ckpt_vae_latent, {\"rep\": rep})\n",
    "        leaveout_ckpt_flat_latent = update_dict(leaveout_ckpt_flat_latent, {\"rep\": rep})\n",
    "        leaveout_ckpt_geodesic_latent = update_dict(leaveout_ckpt_geodesic_latent, {\"rep\": rep})\n",
    "        leaveout_ckpt_previous_latent = update_dict(leaveout_ckpt_previous_latent, {\"rep\": rep})\n",
    "        leaveout_ckpt_vae_data = update_dict(leaveout_ckpt_vae_data, {\"rep\": rep})\n",
    "        leaveout_ckpt_flat_data = update_dict(leaveout_ckpt_flat_data, {\"rep\": rep})\n",
    "        leaveout_ckpt_geodesic_data = update_dict(leaveout_ckpt_geodesic_data, {\"rep\": rep})\n",
    "        leaveout_ckpt_previous_data = update_dict(leaveout_ckpt_previous_data, {\"rep\": rep})"
   ]
  },
  {
   "cell_type": "code",
   "execution_count": 47,
   "id": "7491b32e-4331-40ce-ae67-675dda239674",
   "metadata": {},
   "outputs": [
    {
     "data": {
      "text/plain": [
       "3.0483348"
      ]
     },
     "execution_count": 47,
     "metadata": {},
     "output_type": "execute_result"
    }
   ],
   "source": [
    "mu_adata_predicted_geodesic.X.max()"
   ]
  },
  {
   "cell_type": "code",
   "execution_count": 48,
   "id": "62bae630-2ae2-43c8-9b7a-1a7a1ecc05d5",
   "metadata": {},
   "outputs": [
    {
     "data": {
      "text/plain": [
       "3.0483348"
      ]
     },
     "execution_count": 48,
     "metadata": {},
     "output_type": "execute_result"
    }
   ],
   "source": [
    "mu_adata_predicted_geodesic.X.max()"
   ]
  },
  {
   "cell_type": "code",
   "execution_count": 49,
   "id": "74b5735e-548e-4561-99d9-fa81987d98dc",
   "metadata": {},
   "outputs": [],
   "source": [
    "tp = [1,2,3,4,5,6]*3"
   ]
  },
  {
   "cell_type": "code",
   "execution_count": 50,
   "id": "76d5d628-b6ae-4a92-8b61-7d6177ef7a6d",
   "metadata": {},
   "outputs": [],
   "source": [
    "# LATENT SPACE METRICS\n",
    "leaveout_ckpt_vae_latent = pd.DataFrame(leaveout_ckpt_vae_latent)\n",
    "leaveout_ckpt_flat_latent = pd.DataFrame(leaveout_ckpt_flat_latent)\n",
    "leaveout_ckpt_geodesic_latent = pd.DataFrame(leaveout_ckpt_geodesic_latent)\n",
    "leaveout_ckpt_previous_latent = pd.DataFrame(leaveout_ckpt_previous_latent)\n",
    "\n",
    "# DATA SPACE METRICS\n",
    "leaveout_ckpt_vae_data = pd.DataFrame(leaveout_ckpt_vae_data)\n",
    "leaveout_ckpt_flat_data = pd.DataFrame(leaveout_ckpt_flat_data)\n",
    "leaveout_ckpt_geodesic_data = pd.DataFrame(leaveout_ckpt_geodesic_data)\n",
    "leaveout_ckpt_previous_data = pd.DataFrame(leaveout_ckpt_previous_data)"
   ]
  },
  {
   "cell_type": "code",
   "execution_count": 51,
   "id": "12189b9c-d0c8-4eac-954d-bc02ad668b46",
   "metadata": {},
   "outputs": [],
   "source": [
    "# LATENT SPACE METRICS\n",
    "leaveout_ckpt_vae_latent[\"time\"] = tp\n",
    "leaveout_ckpt_flat_latent[\"time\"] = tp \n",
    "leaveout_ckpt_geodesic_latent[\"time\"] = tp \n",
    "leaveout_ckpt_previous_latent[\"time\"] = tp \n",
    "\n",
    "# DATA SPACE METRICS\n",
    "leaveout_ckpt_vae_data[\"time\"] = tp \n",
    "leaveout_ckpt_flat_data[\"time\"] = tp \n",
    "leaveout_ckpt_geodesic_data[\"time\"] = tp \n",
    "leaveout_ckpt_previous_data[\"time\"] = tp "
   ]
  },
  {
   "cell_type": "markdown",
   "id": "a10a1508-2aa5-421d-ad3b-1b898601492a",
   "metadata": {},
   "source": [
    "## Latent space"
   ]
  },
  {
   "cell_type": "markdown",
   "id": "83268e8c-dfec-4bd6-9455-6b1b05f9a118",
   "metadata": {},
   "source": [
    "### VAE"
   ]
  },
  {
   "cell_type": "code",
   "execution_count": 52,
   "id": "71d9d808-8db1-4a7f-ad40-b2496f2394a7",
   "metadata": {},
   "outputs": [
    {
     "data": {
      "text/plain": [
       "1-Wasserstein    2.016699\n",
       "2-Wasserstein    2.121451\n",
       "Linear_MMD       0.109529\n",
       "Poly_MMD         0.294836\n",
       "RBF_MMD          0.240606\n",
       "Mean_MSE         0.124335\n",
       "Mean_L2          0.321971\n",
       "Mean_L1          0.258785\n",
       "rep              2.000000\n",
       "time             3.500000\n",
       "dtype: float64"
      ]
     },
     "execution_count": 52,
     "metadata": {},
     "output_type": "execute_result"
    }
   ],
   "source": [
    "leaveout_ckpt_vae_latent.mean(0)"
   ]
  },
  {
   "cell_type": "code",
   "execution_count": 53,
   "id": "9d1e9401-3248-44f2-b6a8-a004de05b5f3",
   "metadata": {},
   "outputs": [
    {
     "data": {
      "text/plain": [
       "1-Wasserstein    0.084612\n",
       "2-Wasserstein    0.082567\n",
       "Linear_MMD       0.024541\n",
       "Poly_MMD         0.036462\n",
       "RBF_MMD          0.028124\n",
       "Mean_MSE         0.024962\n",
       "Mean_L2          0.034869\n",
       "Mean_L1          0.028204\n",
       "rep              0.198030\n",
       "time             0.414208\n",
       "dtype: float64"
      ]
     },
     "execution_count": 53,
     "metadata": {},
     "output_type": "execute_result"
    }
   ],
   "source": [
    "leaveout_ckpt_vae_latent.std(0)/np.sqrt(18)"
   ]
  },
  {
   "cell_type": "markdown",
   "id": "c3f82eae-99cc-4c12-b699-7347c00213a5",
   "metadata": {},
   "source": [
    "Flat VAE"
   ]
  },
  {
   "cell_type": "code",
   "execution_count": 54,
   "id": "a1a1caa1-c661-4663-807b-0a9c9569bc3e",
   "metadata": {},
   "outputs": [
    {
     "data": {
      "text/plain": [
       "1-Wasserstein    1.784052\n",
       "2-Wasserstein    1.962076\n",
       "Linear_MMD       0.159411\n",
       "Poly_MMD         0.357878\n",
       "RBF_MMD          0.294699\n",
       "Mean_MSE         0.164320\n",
       "Mean_L2          0.374722\n",
       "Mean_L1          0.305853\n",
       "rep              2.000000\n",
       "time             3.500000\n",
       "dtype: float64"
      ]
     },
     "execution_count": 54,
     "metadata": {},
     "output_type": "execute_result"
    }
   ],
   "source": [
    "leaveout_ckpt_flat_latent.mean(0)"
   ]
  },
  {
   "cell_type": "code",
   "execution_count": 55,
   "id": "337bc390-8e9d-41c4-8e35-51410310d8d8",
   "metadata": {},
   "outputs": [
    {
     "data": {
      "text/plain": [
       "1-Wasserstein    0.010301\n",
       "2-Wasserstein    0.012283\n",
       "Linear_MMD       0.002355\n",
       "Poly_MMD         0.004570\n",
       "RBF_MMD          0.004549\n",
       "Mean_MSE         0.002360\n",
       "Mean_L2          0.004618\n",
       "Mean_L1          0.004033\n",
       "rep              0.577350\n",
       "dtype: float64"
      ]
     },
     "execution_count": 55,
     "metadata": {},
     "output_type": "execute_result"
    }
   ],
   "source": [
    "(leaveout_ckpt_flat_latent.groupby(\"time\").std()/np.sqrt(3)).mean(0)"
   ]
  },
  {
   "cell_type": "markdown",
   "id": "9e825087-4452-45fd-acce-5f380347f07c",
   "metadata": {},
   "source": [
    "Geodesic VAE"
   ]
  },
  {
   "cell_type": "code",
   "execution_count": 56,
   "id": "92be4d23-1d2d-4e31-9512-228a0c029fe1",
   "metadata": {},
   "outputs": [
    {
     "data": {
      "text/plain": [
       "1-Wasserstein    1.988606\n",
       "2-Wasserstein    2.099862\n",
       "Linear_MMD       0.123717\n",
       "Poly_MMD         0.316766\n",
       "RBF_MMD          0.259798\n",
       "Mean_MSE         0.144897\n",
       "Mean_L2          0.343652\n",
       "Mean_L1          0.282884\n",
       "rep              2.000000\n",
       "time             3.500000\n",
       "dtype: float64"
      ]
     },
     "execution_count": 56,
     "metadata": {},
     "output_type": "execute_result"
    }
   ],
   "source": [
    "leaveout_ckpt_geodesic_latent.mean(0)"
   ]
  },
  {
   "cell_type": "code",
   "execution_count": 57,
   "id": "e363d5fe-8371-402e-852d-9f9a92b3b285",
   "metadata": {},
   "outputs": [
    {
     "data": {
      "text/plain": [
       "1-Wasserstein    0.014962\n",
       "2-Wasserstein    0.017538\n",
       "Linear_MMD       0.006610\n",
       "Poly_MMD         0.010507\n",
       "RBF_MMD          0.008059\n",
       "Mean_MSE         0.008274\n",
       "Mean_L2          0.011682\n",
       "Mean_L1          0.008496\n",
       "rep              0.577350\n",
       "dtype: float64"
      ]
     },
     "execution_count": 57,
     "metadata": {},
     "output_type": "execute_result"
    }
   ],
   "source": [
    "(leaveout_ckpt_geodesic_latent.groupby(\"time\").std()/np.sqrt(3)).mean(0)"
   ]
  },
  {
   "cell_type": "markdown",
   "id": "db3b9829-5739-496a-9894-f042192d05b4",
   "metadata": {},
   "source": [
    "Baseline"
   ]
  },
  {
   "cell_type": "code",
   "execution_count": 58,
   "id": "5b30a677-3fb1-41e7-a4ca-f18b1575b119",
   "metadata": {},
   "outputs": [
    {
     "data": {
      "text/plain": [
       "1-Wasserstein    2.676166\n",
       "2-Wasserstein    2.770522\n",
       "Linear_MMD       0.332431\n",
       "Poly_MMD         0.515711\n",
       "RBF_MMD          0.437044\n",
       "Mean_MSE         0.358540\n",
       "Mean_L2          0.546338\n",
       "Mean_L1          0.459409\n",
       "rep              2.000000\n",
       "time             3.500000\n",
       "dtype: float64"
      ]
     },
     "execution_count": 58,
     "metadata": {},
     "output_type": "execute_result"
    }
   ],
   "source": [
    "leaveout_ckpt_previous_latent.mean(0)"
   ]
  },
  {
   "cell_type": "code",
   "execution_count": 59,
   "id": "5f58ecec-b620-41e4-9277-17b45c096961",
   "metadata": {},
   "outputs": [
    {
     "data": {
      "text/plain": [
       "1-Wasserstein    0.00000\n",
       "2-Wasserstein    0.00000\n",
       "Linear_MMD       0.00000\n",
       "Poly_MMD         0.00000\n",
       "RBF_MMD          0.00000\n",
       "Mean_MSE         0.00000\n",
       "Mean_L2          0.00000\n",
       "Mean_L1          0.00000\n",
       "rep              0.57735\n",
       "dtype: float64"
      ]
     },
     "execution_count": 59,
     "metadata": {},
     "output_type": "execute_result"
    }
   ],
   "source": [
    "(leaveout_ckpt_previous_latent.groupby(\"time\").std()/np.sqrt(3)).mean(0)"
   ]
  },
  {
   "cell_type": "markdown",
   "id": "8195b16c-80fb-4ce7-81b2-372545b26440",
   "metadata": {},
   "source": [
    "### Data space"
   ]
  },
  {
   "cell_type": "markdown",
   "id": "7e39f4bf-d5a1-4158-a77d-e742be533da6",
   "metadata": {},
   "source": [
    "### VAE"
   ]
  },
  {
   "cell_type": "code",
   "execution_count": 60,
   "id": "d5c13d91-1c5b-4592-a44b-a52fff7da1f3",
   "metadata": {},
   "outputs": [
    {
     "data": {
      "text/plain": [
       "1-Wasserstein    20.729193\n",
       "2-Wasserstein    21.293918\n",
       "Linear_MMD        0.061055\n",
       "Poly_MMD          0.211279\n",
       "RBF_MMD           0.107533\n",
       "Mean_MSE          0.078647\n",
       "Mean_L2           0.266358\n",
       "Mean_L1           0.172970\n",
       "precision         0.806755\n",
       "recall            0.128265\n",
       "density           1.730449\n",
       "coverage          0.623003\n",
       "rep               2.000000\n",
       "time              3.500000\n",
       "dtype: float64"
      ]
     },
     "execution_count": 60,
     "metadata": {},
     "output_type": "execute_result"
    }
   ],
   "source": [
    "leaveout_ckpt_vae_data.mean(0)"
   ]
  },
  {
   "cell_type": "code",
   "execution_count": 61,
   "id": "8ea83d0f-8fc5-4a37-bffa-14eb0c3dd8b0",
   "metadata": {},
   "outputs": [
    {
     "data": {
      "text/plain": [
       "1-Wasserstein    0.004779\n",
       "2-Wasserstein    0.005733\n",
       "Linear_MMD       0.000066\n",
       "Poly_MMD         0.000110\n",
       "RBF_MMD          0.000046\n",
       "Mean_MSE         0.000076\n",
       "Mean_L2          0.000141\n",
       "Mean_L1          0.000097\n",
       "precision        0.009982\n",
       "recall           0.006468\n",
       "density          0.114479\n",
       "coverage         0.016224\n",
       "rep              0.577350\n",
       "dtype: float64"
      ]
     },
     "execution_count": 61,
     "metadata": {},
     "output_type": "execute_result"
    }
   ],
   "source": [
    "(leaveout_ckpt_vae_data.groupby(\"time\").std()/np.sqrt(3)).mean(0)"
   ]
  },
  {
   "cell_type": "markdown",
   "id": "7e6e171f-323d-4643-88ac-b7cbfaf6ff3e",
   "metadata": {},
   "source": [
    "### Flat VAE"
   ]
  },
  {
   "cell_type": "code",
   "execution_count": 62,
   "id": "03c681f9-0ec5-4e6f-99c2-fd3f23dfe8dc",
   "metadata": {},
   "outputs": [
    {
     "data": {
      "text/plain": [
       "1-Wasserstein    26.455578\n",
       "2-Wasserstein    28.401863\n",
       "Linear_MMD        0.091276\n",
       "Poly_MMD          0.256261\n",
       "RBF_MMD           0.129980\n",
       "Mean_MSE          0.105373\n",
       "Mean_L2           0.311699\n",
       "Mean_L1           0.212559\n",
       "precision         0.817493\n",
       "recall            0.078406\n",
       "density           3.873392\n",
       "coverage          0.844084\n",
       "rep               2.000000\n",
       "time              3.500000\n",
       "dtype: float64"
      ]
     },
     "execution_count": 62,
     "metadata": {},
     "output_type": "execute_result"
    }
   ],
   "source": [
    "leaveout_ckpt_flat_data.mean(0)"
   ]
  },
  {
   "cell_type": "code",
   "execution_count": 63,
   "id": "ac6817d5-8b4d-41ef-92ea-6a30d1c60ebb",
   "metadata": {},
   "outputs": [
    {
     "data": {
      "text/plain": [
       "1-Wasserstein    0.030261\n",
       "2-Wasserstein    0.045585\n",
       "Linear_MMD       0.000086\n",
       "Poly_MMD         0.000206\n",
       "RBF_MMD          0.000217\n",
       "Mean_MSE         0.000149\n",
       "Mean_L2          0.000240\n",
       "Mean_L1          0.000210\n",
       "precision        0.013144\n",
       "recall           0.003712\n",
       "density          0.106844\n",
       "coverage         0.009352\n",
       "rep              0.577350\n",
       "dtype: float64"
      ]
     },
     "execution_count": 63,
     "metadata": {},
     "output_type": "execute_result"
    }
   ],
   "source": [
    "(leaveout_ckpt_flat_data.groupby(\"time\").std()/np.sqrt(3)).mean(0)"
   ]
  },
  {
   "cell_type": "markdown",
   "id": "6d973c63-7dc6-48af-9a0d-4297819727f4",
   "metadata": {},
   "source": [
    "## Geodesic VAE"
   ]
  },
  {
   "cell_type": "code",
   "execution_count": 64,
   "id": "32d981c3-0c46-48dd-81b9-a317b9901edb",
   "metadata": {},
   "outputs": [
    {
     "data": {
      "text/plain": [
       "1-Wasserstein    24.944361\n",
       "2-Wasserstein    47.553928\n",
       "Linear_MMD        0.087869\n",
       "Poly_MMD          0.259042\n",
       "RBF_MMD           0.129626\n",
       "Mean_MSE          0.094511\n",
       "Mean_L2           0.286499\n",
       "Mean_L1           0.174464\n",
       "precision         0.130843\n",
       "recall            0.587871\n",
       "density           0.019796\n",
       "coverage          0.026560\n",
       "rep               2.000000\n",
       "time              3.500000\n",
       "dtype: float64"
      ]
     },
     "execution_count": 64,
     "metadata": {},
     "output_type": "execute_result"
    }
   ],
   "source": [
    "leaveout_ckpt_geodesic_data.mean(0)"
   ]
  },
  {
   "cell_type": "code",
   "execution_count": 65,
   "id": "60ddb45a-e080-48ad-b73c-661ad53ec406",
   "metadata": {},
   "outputs": [
    {
     "data": {
      "text/plain": [
       "1-Wasserstein    0.155584\n",
       "2-Wasserstein    4.283589\n",
       "Linear_MMD       0.001194\n",
       "Poly_MMD         0.002123\n",
       "RBF_MMD          0.000590\n",
       "Mean_MSE         0.000704\n",
       "Mean_L2          0.001026\n",
       "Mean_L1          0.000433\n",
       "precision        0.013981\n",
       "recall           0.012860\n",
       "density          0.002844\n",
       "coverage         0.002006\n",
       "rep              0.577350\n",
       "dtype: float64"
      ]
     },
     "execution_count": 65,
     "metadata": {},
     "output_type": "execute_result"
    }
   ],
   "source": [
    "(leaveout_ckpt_geodesic_data.groupby(\"time\").std()/np.sqrt(3)).mean(0)"
   ]
  },
  {
   "cell_type": "markdown",
   "id": "4864bb9c-708c-420c-a58f-b9da95e694e4",
   "metadata": {},
   "source": [
    "### Previous VAE"
   ]
  },
  {
   "cell_type": "code",
   "execution_count": 66,
   "id": "3e24bed7-acd7-4a8d-91de-c937664b67d9",
   "metadata": {},
   "outputs": [
    {
     "data": {
      "text/plain": [
       "1-Wasserstein    25.040489\n",
       "2-Wasserstein    25.630669\n",
       "Linear_MMD        0.048910\n",
       "Poly_MMD          0.198033\n",
       "RBF_MMD           0.101330\n",
       "Mean_MSE          0.061222\n",
       "Mean_L2           0.225436\n",
       "Mean_L1           0.088712\n",
       "precision         0.373793\n",
       "recall            0.364364\n",
       "density           0.250447\n",
       "coverage          0.177981\n",
       "rep               2.000000\n",
       "time              3.500000\n",
       "dtype: float64"
      ]
     },
     "execution_count": 66,
     "metadata": {},
     "output_type": "execute_result"
    }
   ],
   "source": [
    "leaveout_ckpt_previous_data.mean(0)"
   ]
  },
  {
   "cell_type": "code",
   "execution_count": 67,
   "id": "5de41dc9-0113-48d5-88d8-a4429e2a9637",
   "metadata": {},
   "outputs": [
    {
     "data": {
      "text/plain": [
       "1-Wasserstein    0.00000\n",
       "2-Wasserstein    0.00000\n",
       "Linear_MMD       0.00000\n",
       "Poly_MMD         0.00000\n",
       "RBF_MMD          0.00000\n",
       "Mean_MSE         0.00000\n",
       "Mean_L2          0.00000\n",
       "Mean_L1          0.00000\n",
       "precision        0.00000\n",
       "recall           0.00000\n",
       "density          0.00000\n",
       "coverage         0.00000\n",
       "rep              0.57735\n",
       "dtype: float64"
      ]
     },
     "execution_count": 67,
     "metadata": {},
     "output_type": "execute_result"
    }
   ],
   "source": [
    "(leaveout_ckpt_previous_data.groupby(\"time\").std()/np.sqrt(3)).mean(0)"
   ]
  },
  {
   "cell_type": "code",
   "execution_count": null,
   "id": "73fe78e4-cdec-479c-a7a2-6cd7fd81a60b",
   "metadata": {},
   "outputs": [],
   "source": []
  },
  {
   "cell_type": "code",
   "execution_count": null,
   "id": "c051e84c-8497-4432-aa86-212a99befa3e",
   "metadata": {},
   "outputs": [],
   "source": []
  },
  {
   "cell_type": "code",
   "execution_count": null,
   "id": "af98f412-d2e5-41a1-af79-0c2f39de19a5",
   "metadata": {},
   "outputs": [],
   "source": []
  }
 ],
 "metadata": {
  "kernelspec": {
   "display_name": "Python 3 (ipykernel)",
   "language": "python",
   "name": "python3"
  },
  "language_info": {
   "codemirror_mode": {
    "name": "ipython",
    "version": 3
   },
   "file_extension": ".py",
   "mimetype": "text/x-python",
   "name": "python",
   "nbconvert_exporter": "python",
   "pygments_lexer": "ipython3",
   "version": "3.10.12"
  }
 },
 "nbformat": 4,
 "nbformat_minor": 5
}
