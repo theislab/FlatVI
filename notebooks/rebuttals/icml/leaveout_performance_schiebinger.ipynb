{
 "cells": [
  {
   "cell_type": "code",
   "execution_count": 2,
   "id": "5f465612",
   "metadata": {},
   "outputs": [
    {
     "data": {
      "text/html": [
       "<pre style=\"white-space:pre;overflow-x:auto;line-height:normal;font-family:Menlo,'DejaVu Sans Mono',consolas,'Courier New',monospace\"><span style=\"color: #808000; text-decoration-color: #808000; font-weight: bold\">ryp2 is not installed. Install with </span><span style=\"color: #008000; text-decoration-color: #008000; font-weight: bold\">pip install rpy2 </span><span style=\"color: #808000; text-decoration-color: #808000; font-weight: bold\">to run tools with R support.</span>\n",
       "</pre>\n"
      ],
      "text/plain": [
       "\u001b[1;33mryp2 is not installed. Install with \u001b[0m\u001b[1;32mpip install rpy2 \u001b[0m\u001b[1;33mto run tools with R support.\u001b[0m\n"
      ]
     },
     "metadata": {},
     "output_type": "display_data"
    },
    {
     "data": {
      "text/html": [
       "<pre style=\"white-space:pre;overflow-x:auto;line-height:normal;font-family:Menlo,'DejaVu Sans Mono',consolas,'Courier New',monospace\"><span style=\"color: #808000; text-decoration-color: #808000; font-weight: bold\">To use sccoda or tasccoda please install ete3 with </span><span style=\"color: #008000; text-decoration-color: #008000; font-weight: bold\">pip install ete3</span>\n",
       "</pre>\n"
      ],
      "text/plain": [
       "\u001b[1;33mTo use sccoda or tasccoda please install ete3 with \u001b[0m\u001b[1;32mpip install ete3\u001b[0m\n"
      ]
     },
     "metadata": {},
     "output_type": "display_data"
    }
   ],
   "source": [
    "from paths import DATA_DIR, CKPT_FOLDER, PROJECT_FOLDER\n",
    "\n",
    "import matplotlib.pyplot as plt\n",
    "import os\n",
    "import numpy as np\n",
    "import torch\n",
    "import anndata\n",
    "import scanpy as sc\n",
    "import sklearn\n",
    "import scvelo as scv\n",
    "from pathlib import Path\n",
    "import pertpy as pt\n",
    "\n",
    "import anndata\n",
    "import pandas as pd\n",
    "\n",
    "from IPython.display import display\n",
    "from torchdyn.core import NeuralODE\n",
    "\n",
    "from scCFM.datamodules.time_sc_datamodule import TrajectoryDataModule\n",
    "from scCFM.models.cfm.components.mlp import MLP\n",
    "from scCFM.models.cfm.cfm_module import CFMLitModule\n",
    "\n",
    "from scCFM.models.base.vae import VAE\n",
    "from scCFM.models.base.geometric_vae import GeometricNBVAE\n",
    "from scCFM.models.base.geodesic_ae import GeodesicAE\n",
    "\n",
    "from scCFM.datamodules.sc_datamodule import scDataModule\n",
    "from scCFM.models.cfm.components.eval.distribution_distances import compute_distribution_distances\n",
    "\n",
    "from notebooks.utils import decode_trajectory_single_step, standardize, compute_prdc"
   ]
  },
  {
   "cell_type": "markdown",
   "id": "09d363b9-65bc-4273-85d2-3cfaa07d3c4b",
   "metadata": {},
   "source": [
    "Initialize the device"
   ]
  },
  {
   "cell_type": "code",
   "execution_count": 3,
   "id": "4fd2ec94-1c3b-4d0a-9da2-5eb4fe1de6d1",
   "metadata": {},
   "outputs": [],
   "source": [
    "device = \"cuda\" if torch.cuda.is_available() else \"cpu\"\n",
    "\n",
    "def cross_standardize(tensor1, tensor2, minmax_scale=False):\n",
    "    \"\"\"\n",
    "    Standardize tensor across the rows\n",
    "    \"\"\"\n",
    "    mean_t1, std_t1 = tensor1.mean(0), tensor1.std(0)\n",
    "    if minmax_scale:\n",
    "        min_t1, max_t1 = tensor1.min(0), tensor1.max(0)\n",
    "        tensor1 = (tensor1 - min_t1) / (max_t1 - min_t1 + 1e-6)\n",
    "        tensor2 = (tensor2 - min_t1) / (max_t1 - min_t1 + 1e-6)\n",
    "    else:\n",
    "        tensor1 = (tensor1 - mean_t1) / (std_t1 + 1e-6)\n",
    "        tensor2 = (tensor2 - mean_t1) / (std_t1 + 1e-6)\n",
    "    return tensor1, tensor2\n",
    "\n",
    "def update_dict(ref, tgt):\n",
    "    \"\"\"\n",
    "    Update a dictionary with the values of another \n",
    "    \"\"\"\n",
    "    for key in tgt:\n",
    "        if key not in ref:\n",
    "            ref[key] = []\n",
    "        ref[key].append(tgt[key])\n",
    "    return ref\n",
    "\n",
    "# def distance_metrics_pertpy(ref, trg):\n",
    "#     \"\"\"\n",
    "#     Distance metrics using pertpy\n",
    "#     \"\"\"\n",
    "#     adata_ref, adata_trg = ref.copy(), trg.copy()\n",
    "#     adata_together = sc.AnnData(X=np.concatenate([adata_ref.X/10,\n",
    "#                                                   adata_trg.X/10], axis=0))\n",
    "#     annot = [\"reference\" for _ in range(len(adata_ref))] + [\"target\" for _ in range(len(adata_trg))]\n",
    "#     annot_df = pd.DataFrame(annot)\n",
    "#     annot_df.columns = [\"dataset_type\"]\n",
    "#     adata_together.obs = annot_df\n",
    "#     adata_together.obsm[\"X_data\"] = adata_together.X.copy()\n",
    "#     # Wasserstein\n",
    "#     w_distance = pt.tl.Distance(\"wasserstein\", obsm_key=\"X_data\")\n",
    "#     # MMD\n",
    "#     mmd_distance = pt.tl.Distance(\"mmd\", obsm_key=\"X_data\")\n",
    "#     df_w = w_distance.pairwise(adata_together, groupby=\"dataset_type\").to_numpy()\n",
    "#     df_mmd = mmd_distance.pairwise(adata_together, groupby=\"dataset_type\", verbose=False).to_numpy()\n",
    "#     return {'wassersetein':df_w.max(), \n",
    "#             'mmd':df_mmd.max()}\n",
    "\n",
    "def distance_metrics_pertpy(ref, trg):\n",
    "    \"\"\"\n",
    "    Distance metrics using pertpy\n",
    "    \"\"\"\n",
    "    d =  compute_distribution_distances(torch.tensor(ref.X[:,None,:]), \n",
    "                                             torch.tensor(trg.X[:,None,:]))\n",
    "    return dict(zip(d[0], d[1]))"
   ]
  },
  {
   "cell_type": "markdown",
   "id": "8c0e1767-1abe-4746-afff-7439aeb0a2ab",
   "metadata": {},
   "source": [
    "Initialize datamodule to set vaes up"
   ]
  },
  {
   "cell_type": "code",
   "execution_count": 4,
   "id": "4761425c-8b15-4610-9861-b88a1e70a3e5",
   "metadata": {},
   "outputs": [],
   "source": [
    "datamodule={'path': PROJECT_FOLDER / 'data/schiebinger_et_al/processed/schiebinger_et_al.h5ad', \n",
    "            'x_layer': 'X_norm', \n",
    "            'cond_keys': ['experimental_time', 'cell_sets'],\n",
    "            'use_pca': False, \n",
    "            'n_dimensions': None, \n",
    "            'train_val_test_split': [1], \n",
    "            'batch_size': 64, \n",
    "            'num_workers': 2}\n",
    "\n",
    "# Initialize datamodule\n",
    "datamodule = scDataModule(**datamodule)"
   ]
  },
  {
   "cell_type": "markdown",
   "id": "bb402a71-f7a0-40f1-b3c0-f02fa51b7f59",
   "metadata": {},
   "source": [
    "Initialize autoencoders"
   ]
  },
  {
   "cell_type": "code",
   "execution_count": 6,
   "id": "ff8366d0-3098-4bb2-9296-ba78f1618957",
   "metadata": {
    "scrolled": true
   },
   "outputs": [
    {
     "data": {
      "text/plain": [
       "<All keys matched successfully>"
      ]
     },
     "execution_count": 6,
     "metadata": {},
     "output_type": "execute_result"
    }
   ],
   "source": [
    "vae_kwargs={'in_dim': datamodule.in_dim,\n",
    "       'n_epochs_anneal_kl': 1000, \n",
    "       'kl_weight': None, \n",
    "       'likelihood': 'nb', \n",
    "       'dropout': False, \n",
    "       'learning_rate': 0.001, \n",
    "       'dropout_p': False, \n",
    "       'model_library_size': True, \n",
    "       'batch_norm': True, \n",
    "       'kl_warmup_fraction': 0.1, \n",
    "       'hidden_dims': [256, 10]}\n",
    "        \n",
    "geometric_kwargs={'compute_metrics_every': 1, \n",
    "                   'use_c': False, \n",
    "                   'trainable_c': False,\n",
    "                   'l2': True, \n",
    "                   'eta_interp': 0, \n",
    "                   'interpolate_z': False, \n",
    "                   'start_jac_after': 0, \n",
    "                   'fl_weight': 0.1,\n",
    "                   'detach_theta': True}\n",
    "\n",
    "geodesic_kwargs={\"in_dim\": datamodule.in_dim,\n",
    "                  \"hidden_dims\": [256, 10],\n",
    "                  \"batch_norm\": True,\n",
    "                  \"dropout\": False, \n",
    "                  \"dropout_p\": False,\n",
    "                  \"likelihood\": \"nb\",\n",
    "                  \"learning_rate\": 0.001}\n",
    "\n",
    "# Initialize vae and geometric vae\n",
    "vae = VAE(**vae_kwargs).to(device)\n",
    "geometric_vae = GeometricNBVAE(**geometric_kwargs, vae_kwargs=vae_kwargs).to(device)\n",
    "geodesic_ae = GeodesicAE(**geodesic_kwargs).to(device)\n",
    "\n",
    "# Load state dicts and put in eval mode \n",
    "vae.load_state_dict(torch.load(PROJECT_FOLDER / \"checkpoints/ae/schiebinger_et_al/best_model_vae.ckpt\")[\"state_dict\"])\n",
    "geometric_vae.load_state_dict(torch.load(PROJECT_FOLDER / \"checkpoints/ae/schiebinger_et_al/best_model_geometric.ckpt\")[\"state_dict\"])\n",
    "geodesic_ae.load_state_dict(torch.load(PROJECT_FOLDER / \"checkpoints/ae/schiebinger_et_al/best_model_geodesic.ckpt\")[\"state_dict\"])"
   ]
  },
  {
   "cell_type": "markdown",
   "id": "ceeb44a2-28ab-42ed-b5d3-327161629831",
   "metadata": {},
   "source": [
    "## Setup CFMs"
   ]
  },
  {
   "cell_type": "code",
   "execution_count": 7,
   "id": "9f8247cb-b681-4e82-8905-f3af83b2032a",
   "metadata": {},
   "outputs": [],
   "source": [
    "leavout_timepoints_folder = Path(\"/home/icb/alessandro.palma/environment/scCFM/project_dir/checkpoints/trajectory/schiebinger_et_al\")"
   ]
  },
  {
   "cell_type": "markdown",
   "id": "62c4acf8-5ea9-4d9c-abdf-cbbc2d1312bf",
   "metadata": {},
   "source": [
    "Initialize datamodule for trajectory"
   ]
  },
  {
   "cell_type": "code",
   "execution_count": 8,
   "id": "f4273aa1-2490-4582-abc7-5219c2e5f09c",
   "metadata": {},
   "outputs": [],
   "source": [
    "datamodule_kwargs_vae = {'path': PROJECT_FOLDER / 'data/schiebinger_et_al/flat/schiebinger_et_al_lib.h5ad',\n",
    "                          'x_layer': 'X_latents',\n",
    "                          'time_key': 'experimental_time', \n",
    "                          'use_pca': False, \n",
    "                          'n_dimensions': None, \n",
    "                          'train_val_test_split': [0.9, 0.1], \n",
    "                          'num_workers': 2, \n",
    "                          'batch_size': 512, \n",
    "                          'model_library_size': True}\n",
    "\n",
    "datamodule_kwargs_flat = {'path': PROJECT_FOLDER / 'data/schiebinger_et_al/flat/schiebinger_et_al_flat_lib.h5ad',\n",
    "                          'x_layer': 'X_latents',\n",
    "                          'time_key': 'experimental_time', \n",
    "                          'use_pca': False, \n",
    "                          'n_dimensions': None, \n",
    "                          'train_val_test_split': [0.9, 0.1], \n",
    "                          'num_workers': 2, \n",
    "                          'batch_size': 512, \n",
    "                           'model_library_size': True}\n",
    "\n",
    "datamodule_kwargs_geodesic= {'path': PROJECT_FOLDER / 'data/schiebinger_et_al/flat/schiebinger_et_al_geodesic.h5ad',\n",
    "                          'x_layer': 'X_latents',\n",
    "                          'time_key': 'experimental_time', \n",
    "                          'use_pca': False, \n",
    "                          'n_dimensions': None, \n",
    "                          'train_val_test_split': [0.9, 0.1], \n",
    "                          'num_workers': 2, \n",
    "                          'batch_size': 512, \n",
    "                           'model_library_size': True}\n",
    "\n",
    "# Initialize the datamodules \n",
    "datamodule_vae = TrajectoryDataModule(**datamodule_kwargs_vae)\n",
    "datamodule_flat = TrajectoryDataModule(**datamodule_kwargs_flat)\n",
    "datamodule_geodesic = TrajectoryDataModule(**datamodule_kwargs_geodesic)"
   ]
  },
  {
   "cell_type": "markdown",
   "id": "00e5828a",
   "metadata": {},
   "source": [
    "## Read data"
   ]
  },
  {
   "cell_type": "markdown",
   "id": "6a1fa627-0299-49ea-b2a9-6309a3c491ef",
   "metadata": {},
   "source": [
    "First, read the latent space anndata and plot the results"
   ]
  },
  {
   "cell_type": "code",
   "execution_count": 9,
   "id": "8d0bfee4",
   "metadata": {},
   "outputs": [],
   "source": [
    "# Read latent anndata\n",
    "adata_latent_vae = sc.read_h5ad(DATA_DIR / \"schiebinger_et_al\" / \"flat\" / \"schiebinger_et_al_lib.h5ad\")\n",
    "adata_latent_flat = sc.read_h5ad(DATA_DIR / \"schiebinger_et_al\" / \"flat\" / \"schiebinger_et_al_flat_lib.h5ad\")\n",
    "adata_latent_geodesic = sc.read_h5ad(DATA_DIR / \"schiebinger_et_al\" / \"flat\" / \"schiebinger_et_al_geodesic.h5ad\")\n",
    "\n",
    "# Read real anndata\n",
    "adata_schiebinger_original = sc.read_h5ad(PROJECT_FOLDER / 'data/schiebinger_et_al/processed/schiebinger_et_al.h5ad')\n",
    "sc.tl.pca(adata_schiebinger_original, n_comps=50)\n",
    "adata_schiebinger_original.X = adata_schiebinger_original.layers[\"X_norm\"].A.copy()"
   ]
  },
  {
   "cell_type": "markdown",
   "id": "26176fd4-382d-480b-a396-d62368abd40e",
   "metadata": {},
   "source": [
    "Number of experiments "
   ]
  },
  {
   "cell_type": "code",
   "execution_count": 10,
   "id": "7b6d822e-1f8d-4af6-adda-2687dd127180",
   "metadata": {
    "scrolled": true
   },
   "outputs": [
    {
     "data": {
      "text/plain": [
       "{0: 0.0,\n",
       " 1: 0.027777777777777776,\n",
       " 2: 0.05555555555555555,\n",
       " 3: 0.08333333333333333,\n",
       " 4: 0.1111111111111111,\n",
       " 5: 0.1388888888888889,\n",
       " 6: 0.16666666666666666,\n",
       " 7: 0.19444444444444445,\n",
       " 8: 0.2222222222222222,\n",
       " 9: 0.25,\n",
       " 10: 0.2777777777777778,\n",
       " 11: 0.3055555555555556,\n",
       " 12: 0.3333333333333333,\n",
       " 13: 0.3611111111111111,\n",
       " 14: 0.3888888888888889,\n",
       " 15: 0.4166666666666667,\n",
       " 16: 0.4444444444444444,\n",
       " 17: 0.4583333333333333,\n",
       " 18: 0.4722222222222222,\n",
       " 19: 0.4861111111111111,\n",
       " 20: 0.5,\n",
       " 21: 0.5277777777777778,\n",
       " 22: 0.5555555555555556,\n",
       " 23: 0.5833333333333334,\n",
       " 24: 0.6111111111111112,\n",
       " 25: 0.6388888888888888,\n",
       " 26: 0.6666666666666666,\n",
       " 27: 0.6944444444444444,\n",
       " 28: 0.7222222222222222,\n",
       " 29: 0.75,\n",
       " 30: 0.7777777777777778,\n",
       " 31: 0.8055555555555556,\n",
       " 32: 0.8333333333333334,\n",
       " 33: 0.8611111111111112,\n",
       " 34: 0.8888888888888888,\n",
       " 35: 0.9166666666666666,\n",
       " 36: 0.9444444444444444,\n",
       " 37: 0.9722222222222222,\n",
       " 38: 1.0}"
      ]
     },
     "execution_count": 10,
     "metadata": {},
     "output_type": "execute_result"
    }
   ],
   "source": [
    "n_timepoints = len(np.unique(adata_latent_vae.obs.experimental_time))\n",
    "idx2time = dict(zip(range(n_timepoints), np.unique(adata_latent_vae.obs.experimental_time)))\n",
    "idx2time"
   ]
  },
  {
   "cell_type": "markdown",
   "id": "50b70343",
   "metadata": {},
   "source": [
    "Initialize model"
   ]
  },
  {
   "cell_type": "code",
   "execution_count": 11,
   "id": "dcf2a556",
   "metadata": {},
   "outputs": [],
   "source": [
    "net_hparams = {\"dim\": adata_latent_flat.X.shape[1]+1,\n",
    "                \"w\": 64,\n",
    "                \"time_varying\": True}\n",
    "\n",
    "cfm_kwargs = {'ot_sampler': 'exact', \n",
    "                   'sigma': 0.1, \n",
    "                   'use_real_time': False, \n",
    "                   'lr': 0.001, \n",
    "                   'antithetic_time_sampling': True}"
   ]
  },
  {
   "cell_type": "markdown",
   "id": "18d0cf44-7d54-49cc-95ec-7a2639a039a1",
   "metadata": {},
   "source": [
    "## Evaluation"
   ]
  },
  {
   "cell_type": "markdown",
   "id": "55b4c17f-40ac-43aa-a8bf-33f3424b6f33",
   "metadata": {},
   "source": [
    "Load checkpoints"
   ]
  },
  {
   "cell_type": "code",
   "execution_count": 12,
   "id": "9a10949a-5b84-4e06-b980-81cb1643dde8",
   "metadata": {},
   "outputs": [
    {
     "name": "stdout",
     "output_type": "stream",
     "text": [
      "Time point 2\n",
      "predict decoded trajectory\n",
      "Time point 5\n",
      "predict decoded trajectory\n",
      "Time point 10\n",
      "predict decoded trajectory\n",
      "Time point 15\n",
      "predict decoded trajectory\n",
      "Time point 20\n",
      "predict decoded trajectory\n",
      "Time point 25\n",
      "predict decoded trajectory\n",
      "Time point 30\n",
      "predict decoded trajectory\n",
      "Time point 2\n",
      "predict decoded trajectory\n",
      "Time point 5\n",
      "predict decoded trajectory\n",
      "Time point 10\n",
      "predict decoded trajectory\n",
      "Time point 15\n",
      "predict decoded trajectory\n",
      "Time point 20\n",
      "predict decoded trajectory\n",
      "Time point 25\n",
      "predict decoded trajectory\n",
      "Time point 30\n",
      "predict decoded trajectory\n",
      "Time point 2\n",
      "predict decoded trajectory\n",
      "Time point 5\n",
      "predict decoded trajectory\n",
      "Time point 10\n",
      "predict decoded trajectory\n",
      "Time point 15\n",
      "predict decoded trajectory\n",
      "Time point 20\n",
      "predict decoded trajectory\n",
      "Time point 25\n",
      "predict decoded trajectory\n",
      "Time point 30\n",
      "predict decoded trajectory\n"
     ]
    }
   ],
   "source": [
    "# LATENT SPACE METRICS\n",
    "leaveout_ckpt_vae_latent = {}\n",
    "leaveout_ckpt_flat_latent = {}\n",
    "leaveout_ckpt_geodesic_latent = {}\n",
    "leaveout_ckpt_previous_latent = {}\n",
    "\n",
    "# DATA SPACE METRICS\n",
    "leaveout_ckpt_vae_data = {}\n",
    "leaveout_ckpt_flat_data = {}\n",
    "leaveout_ckpt_geodesic_data = {}\n",
    "leaveout_ckpt_previous_data = {}\n",
    "\n",
    "for rep in range(1,4):\n",
    "    for tp in [2, 5, 10, 15, 20, 25, 30]:\n",
    "        print(f\"Time point {tp}\")\n",
    "        #Pick time 0 observations\n",
    "        X_adata_t0_latent_vae = torch.from_numpy(adata_latent_vae[adata_latent_vae.obs[\"experimental_time\"]==idx2time[(tp-1)]].X).to(device)\n",
    "        X_adata_t0_latent_flat = torch.from_numpy(adata_latent_flat[adata_latent_flat.obs[\"experimental_time\"]==idx2time[(tp-1)]].X).to(device)\n",
    "        X_adata_t0_latent_geodesic = torch.from_numpy(adata_latent_geodesic[adata_latent_geodesic.obs[\"experimental_time\"]==idx2time[(tp-1)]].X).to(device)\n",
    "    \n",
    "        # Pick observations next timepoint \n",
    "        X_adata_t1_latent_vae = torch.from_numpy(adata_latent_vae[adata_latent_vae.obs[\"experimental_time\"]==idx2time[tp]].X).to(device)\n",
    "        X_adata_t1_latent_flat = torch.from_numpy(adata_latent_flat[adata_latent_flat.obs[\"experimental_time\"]==idx2time[tp]].X).to(device)\n",
    "        X_adata_t1_latent_geodesic = torch.from_numpy(adata_latent_geodesic[adata_latent_geodesic.obs[\"experimental_time\"]==idx2time[tp]].X).to(device)    \n",
    "    \n",
    "        # Collect PCs    \n",
    "        adata_real = adata_schiebinger_original[adata_schiebinger_original.obs[\"experimental_time\"]==idx2time[tp]]\n",
    "        X_adata_real_pca = torch.from_numpy(adata_real.obsm[\"X_pca\"]).to(device)\n",
    "        X_adata_real = torch.from_numpy(adata_real.layers[\"X_log\"].A).to(device)\n",
    "        \n",
    "        #Pick library sizes\n",
    "        l_t0_vae = adata_latent_vae.obs.loc[adata_latent_vae.obs[\"experimental_time\"]==idx2time[(tp-1)], \"log_library_size\"].to_numpy()\n",
    "        l_t0_flat = adata_latent_flat.obs.loc[adata_latent_flat.obs[\"experimental_time\"]==idx2time[(tp-1)], \"log_library_size\"].to_numpy()\n",
    "        l_t0_geodesic = adata_latent_geodesic.obs.loc[adata_latent_geodesic.obs[\"experimental_time\"]==idx2time[(tp-1)], \"log_library_size\"].to_numpy()\n",
    "        l_t0_vae = torch.from_numpy(l_t0_vae).to(device)\n",
    "        l_t0_flat = torch.from_numpy(l_t0_flat).to(device)\n",
    "        l_t0_geodesic = torch.from_numpy(l_t0_geodesic).to(device)\n",
    "    \n",
    "        # Initialize nets\n",
    "        net_vae = MLP(**net_hparams).to(device)\n",
    "        net_flat = MLP(**net_hparams).to(device)\n",
    "        net_geodesic = MLP(**net_hparams).to(device)\n",
    "        cfm_vae = CFMLitModule(net=net_vae, datamodule=datamodule_vae, **cfm_kwargs).to(device)\n",
    "        cfm_flat = CFMLitModule(net=net_flat, datamodule=datamodule_flat, **cfm_kwargs).to(device)\n",
    "        cfm_geodesic = CFMLitModule(net=net_geodesic, datamodule=datamodule_geodesic, **cfm_kwargs).to(device)\n",
    "    \n",
    "        # Read the checkpoints\n",
    "        cfm_vae.load_state_dict(torch.load(leavout_timepoints_folder / f\"schiebinger_vae_leaveout_{tp}_{rep}.ckpt\")[\"state_dict\"])\n",
    "        cfm_flat.load_state_dict(torch.load(leavout_timepoints_folder / f\"schiebinger_flat_leaveout_{tp}_{rep}.ckpt\")[\"state_dict\"])\n",
    "        cfm_geodesic.load_state_dict(torch.load(leavout_timepoints_folder / f\"schiebinger_geodesic_leaveout_{tp}_{rep}.ckpt\")[\"state_dict\"])\n",
    "    \n",
    "        mu_adata_predicted_vae, X_adata_predicted_vae, X_adata_latent_vae = decode_trajectory_single_step(X_adata_t0_latent_vae, \n",
    "                                                                                     l_t0_vae, \n",
    "                                                                                     tp-1, \n",
    "                                                                                     cfm_vae, \n",
    "                                                                                     vae)\n",
    "                                                                                    \n",
    "        mu_adata_predicted_flat, X_adata_predicted_flat, X_adata_latent_flat = decode_trajectory_single_step(X_adata_t0_latent_flat, \n",
    "                                                                                       l_t0_flat, \n",
    "                                                                                       tp-1, \n",
    "                                                                                       cfm_flat, \n",
    "                                                                                       geometric_vae)\n",
    "                                                                                      \n",
    "        mu_adata_predicted_geodesic, X_adata_predicted_geodesic, X_adata_latent_geodesic = decode_trajectory_single_step(X_adata_t0_latent_geodesic, \n",
    "                                                                                               l_t0_geodesic, \n",
    "                                                                                               tp-1, \n",
    "                                                                                               cfm_geodesic, \n",
    "                                                                                               geodesic_ae, \n",
    "                                                                                               model_type=\"geodesic_ae\")\n",
    "    \n",
    "        ## PREDICT LATENT TRAJECTORIES \n",
    "        X_adata_t1_latent_vae, X_adata_latent_vae = cross_standardize(X_adata_t1_latent_vae, X_adata_latent_vae[:,:-1])\n",
    "        X_adata_t1_latent_flat, X_adata_latent_flat = cross_standardize(X_adata_t1_latent_flat, X_adata_latent_flat[:,:-1])\n",
    "        X_adata_t1_latent_geodesic, X_adata_latent_geodesic = cross_standardize(X_adata_t1_latent_geodesic, X_adata_latent_geodesic[:,:-1])\n",
    "                                                                                       \n",
    "        d_dist_vae_l = compute_distribution_distances(X_adata_t1_latent_vae.unsqueeze(1).to(\"cpu\"), \n",
    "                                             X_adata_latent_vae.unsqueeze(1).to(\"cpu\"))\n",
    "        d_dist_flat_l = compute_distribution_distances(X_adata_t1_latent_flat.unsqueeze(1).to(\"cpu\"),\n",
    "                                             X_adata_latent_flat.unsqueeze(1).to(\"cpu\"))\n",
    "        d_dist_geod_l = compute_distribution_distances(X_adata_t1_latent_geodesic.unsqueeze(1).to(\"cpu\"),\n",
    "                                             X_adata_latent_geodesic.unsqueeze(1).to(\"cpu\"))\n",
    "        d_dist_prev = compute_distribution_distances(X_adata_t1_latent_vae.unsqueeze(1).to(\"cpu\"),\n",
    "                                             X_adata_t0_latent_vae.unsqueeze(1).to(\"cpu\"))\n",
    "        \n",
    "        d_dist_vae_l = dict(zip(d_dist_vae_l[0], d_dist_vae_l[1]))\n",
    "        d_dist_flat_l = dict(zip(d_dist_flat_l[0], d_dist_flat_l[1]))\n",
    "        d_dist_geod_l = dict(zip(d_dist_geod_l[0], d_dist_geod_l[1]))\n",
    "        d_dist_prev_l = dict(zip(d_dist_prev[0], d_dist_prev[1]))\n",
    "\n",
    "        leaveout_ckpt_vae_latent = update_dict(leaveout_ckpt_vae_latent, d_dist_vae_l)\n",
    "        leaveout_ckpt_flat_latent = update_dict(leaveout_ckpt_flat_latent, d_dist_flat_l)\n",
    "        leaveout_ckpt_geodesic_latent = update_dict(leaveout_ckpt_geodesic_latent, d_dist_geod_l)\n",
    "        leaveout_ckpt_previous_latent = update_dict(leaveout_ckpt_previous_latent, d_dist_prev_l)\n",
    "        \n",
    "        print(\"predict decoded trajectory\")\n",
    "        X_adata_predicted_vae = anndata.AnnData(X=X_adata_predicted_vae.numpy())\n",
    "        X_adata_predicted_flat = anndata.AnnData(X=X_adata_predicted_flat.numpy())\n",
    "        X_adata_predicted_geodesic = anndata.AnnData(X=X_adata_predicted_geodesic.numpy())\n",
    "        mu_adata_predicted_vae = anndata.AnnData(X=mu_adata_predicted_vae.numpy())\n",
    "        mu_adata_predicted_flat = anndata.AnnData(X=mu_adata_predicted_flat.numpy())\n",
    "        mu_adata_predicted_geodesic = anndata.AnnData(X=mu_adata_predicted_geodesic.numpy())\n",
    "        \n",
    "        X_adata_prev = adata_schiebinger_original[adata_schiebinger_original.obs[\"experimental_time\"]==idx2time[tp-1]].copy()\n",
    "        # rnd_idx = np.random.choice(range(len(adata_eb_original)), size=len(X_adata_predicted_vae), replace=False)\n",
    "        # X_adata_prev = adata_eb_original[rnd_idx]\n",
    "\n",
    "        X_adata_predicted_vae.layers[\"X_norm\"] = X_adata_predicted_vae.X.copy()\n",
    "        X_adata_predicted_flat.layers[\"X_norm\"] = X_adata_predicted_flat.X.copy()\n",
    "        X_adata_predicted_geodesic.layers[\"X_norm\"] = np.exp(X_adata_predicted_geodesic.X.copy())-1\n",
    "        X_adata_prev.layers[\"X_norm\"] = X_adata_prev.X.copy()\n",
    "        sc.pp.log1p(X_adata_predicted_vae)\n",
    "        sc.pp.log1p(X_adata_predicted_flat)\n",
    "        sc.pp.log1p(X_adata_prev)\n",
    "        \n",
    "        sc.tl.pca(X_adata_predicted_vae, n_comps=50)\n",
    "        sc.tl.pca(X_adata_predicted_flat, n_comps=50)\n",
    "        sc.tl.pca(X_adata_predicted_geodesic, n_comps=50)\n",
    "        sc.tl.pca(X_adata_prev, n_comps=50)\n",
    "        X_adata_predicted_vae.X = X_adata_predicted_vae.layers[\"X_norm\"].copy()\n",
    "        X_adata_predicted_flat.X = X_adata_predicted_flat.layers[\"X_norm\"].copy()\n",
    "        X_adata_predicted_geodesic.X = X_adata_predicted_geodesic.layers[\"X_norm\"].copy()\n",
    "        X_adata_prev.X = X_adata_prev.layers[\"X_norm\"].copy()\n",
    "        \n",
    "        # Compute den\n",
    "        d_dist_vae_d = compute_prdc(torch.from_numpy(X_adata_predicted_vae.obsm[\"X_pca\"]), \n",
    "                                                 X_adata_real_pca.to(\"cpu\"), nearest_k=10)\n",
    "        d_dist_flat_d = compute_prdc(torch.from_numpy(X_adata_predicted_flat.obsm[\"X_pca\"]), \n",
    "                                                 X_adata_real_pca.to(\"cpu\"), nearest_k=10)\n",
    "        d_dist_geodesic_d = compute_prdc(torch.from_numpy(X_adata_predicted_geodesic.obsm[\"X_pca\"]), \n",
    "                                                 X_adata_real_pca.to(\"cpu\"), nearest_k=10)\n",
    "        d_dist_prev_d = compute_prdc(torch.from_numpy(X_adata_prev.obsm[\"X_pca\"]), \n",
    "                                                 X_adata_real_pca.to(\"cpu\"), nearest_k=10)\n",
    "\n",
    "        # d_dist_w_mmd_vae = distance_metrics_pertpy(adata_real, X_adata_predicted_vae)\n",
    "        # d_dist_w_mmd_flat =distance_metrics_pertpy(adata_real, X_adata_predicted_flat)\n",
    "        # d_dist_w_mmd_geodesic =distance_metrics_pertpy(adata_real, X_adata_predicted_geodesic)\n",
    "        # d_dist_w_mmd_prev =distance_metrics_pertpy(adata_real, X_adata_prev)\n",
    "        d_dist_w_mmd_vae = distance_metrics_pertpy(adata_real, mu_adata_predicted_vae)\n",
    "        d_dist_w_mmd_flat =distance_metrics_pertpy(adata_real, mu_adata_predicted_flat)\n",
    "        d_dist_w_mmd_geodesic =distance_metrics_pertpy(adata_real, X_adata_predicted_geodesic)\n",
    "        d_dist_w_mmd_prev =distance_metrics_pertpy(adata_real, X_adata_prev)\n",
    "        \n",
    "        leaveout_ckpt_vae_data = update_dict(leaveout_ckpt_vae_data, d_dist_w_mmd_vae)\n",
    "        leaveout_ckpt_flat_data = update_dict(leaveout_ckpt_flat_data, d_dist_w_mmd_flat)\n",
    "        leaveout_ckpt_geodesic_data = update_dict(leaveout_ckpt_geodesic_data, d_dist_w_mmd_geodesic)\n",
    "        leaveout_ckpt_previous_data = update_dict(leaveout_ckpt_previous_data, d_dist_w_mmd_prev)\n",
    "        leaveout_ckpt_vae_data = update_dict(leaveout_ckpt_vae_data, d_dist_vae_d)\n",
    "        leaveout_ckpt_flat_data = update_dict(leaveout_ckpt_flat_data, d_dist_flat_d)\n",
    "        leaveout_ckpt_geodesic_data = update_dict(leaveout_ckpt_geodesic_data, d_dist_geodesic_d)\n",
    "        leaveout_ckpt_previous_data = update_dict(leaveout_ckpt_previous_data, d_dist_prev_d)\n",
    "\n",
    "        leaveout_ckpt_vae_latent = update_dict(leaveout_ckpt_vae_latent, {\"rep\": rep})\n",
    "        leaveout_ckpt_flat_latent = update_dict(leaveout_ckpt_flat_latent, {\"rep\": rep})\n",
    "        leaveout_ckpt_geodesic_latent = update_dict(leaveout_ckpt_geodesic_latent, {\"rep\": rep})\n",
    "        leaveout_ckpt_previous_latent = update_dict(leaveout_ckpt_previous_latent, {\"rep\": rep})\n",
    "        leaveout_ckpt_vae_data = update_dict(leaveout_ckpt_vae_data, {\"rep\": rep})\n",
    "        leaveout_ckpt_flat_data = update_dict(leaveout_ckpt_flat_data, {\"rep\": rep})\n",
    "        leaveout_ckpt_geodesic_data = update_dict(leaveout_ckpt_geodesic_data, {\"rep\": rep})\n",
    "        leaveout_ckpt_previous_data = update_dict(leaveout_ckpt_previous_data, {\"rep\": rep})"
   ]
  },
  {
   "cell_type": "code",
   "execution_count": 13,
   "id": "8816be87-c02f-46fc-9f83-9b70ad6defd1",
   "metadata": {},
   "outputs": [],
   "source": [
    "tp = [1,2,3,4,5,6,7]*3"
   ]
  },
  {
   "cell_type": "code",
   "execution_count": 14,
   "id": "9b6f755c-5455-4498-9b10-fd1076378d4d",
   "metadata": {},
   "outputs": [],
   "source": [
    "# LATENT SPACE METRICS\n",
    "leaveout_ckpt_vae_latent = pd.DataFrame(leaveout_ckpt_vae_latent)\n",
    "leaveout_ckpt_flat_latent = pd.DataFrame(leaveout_ckpt_flat_latent)\n",
    "leaveout_ckpt_geodesic_latent = pd.DataFrame(leaveout_ckpt_geodesic_latent)\n",
    "leaveout_ckpt_previous_latent = pd.DataFrame(leaveout_ckpt_previous_latent)\n",
    "\n",
    "# DATA SPACE METRICS\n",
    "leaveout_ckpt_vae_data = pd.DataFrame(leaveout_ckpt_vae_data)\n",
    "leaveout_ckpt_flat_data = pd.DataFrame(leaveout_ckpt_flat_data)\n",
    "leaveout_ckpt_geodesic_data = pd.DataFrame(leaveout_ckpt_geodesic_data)\n",
    "leaveout_ckpt_previous_data = pd.DataFrame(leaveout_ckpt_previous_data)"
   ]
  },
  {
   "cell_type": "code",
   "execution_count": 15,
   "id": "8f4444ed-a020-48e2-bd3e-e39234f5ffd2",
   "metadata": {},
   "outputs": [],
   "source": [
    "# LATENT SPACE METRICS\n",
    "leaveout_ckpt_vae_latent[\"time\"] = tp\n",
    "leaveout_ckpt_flat_latent[\"time\"] = tp \n",
    "leaveout_ckpt_geodesic_latent[\"time\"] = tp \n",
    "leaveout_ckpt_previous_latent[\"time\"] = tp \n",
    "\n",
    "# DATA SPACE METRICS\n",
    "leaveout_ckpt_vae_data[\"time\"] = tp \n",
    "leaveout_ckpt_flat_data[\"time\"] = tp \n",
    "leaveout_ckpt_geodesic_data[\"time\"] = tp \n",
    "leaveout_ckpt_previous_data[\"time\"] = tp "
   ]
  },
  {
   "cell_type": "markdown",
   "id": "acd2b463-056c-4d19-9bec-689ee7631262",
   "metadata": {},
   "source": [
    "## Latent space"
   ]
  },
  {
   "cell_type": "markdown",
   "id": "0181e8bd-5b3a-4989-825d-b702779e7fb8",
   "metadata": {},
   "source": [
    "Geodesic"
   ]
  },
  {
   "cell_type": "code",
   "execution_count": 16,
   "id": "40a1b9b7-a880-4aa0-bed3-758b472f6586",
   "metadata": {},
   "outputs": [
    {
     "data": {
      "text/plain": [
       "1-Wasserstein    2.329433\n",
       "2-Wasserstein    2.492044\n",
       "Linear_MMD       0.385581\n",
       "Poly_MMD         0.535126\n",
       "RBF_MMD          0.454486\n",
       "Mean_MSE         0.426298\n",
       "Mean_L2          0.570427\n",
       "Mean_L1          0.483610\n",
       "rep              2.000000\n",
       "time             4.000000\n",
       "dtype: float64"
      ]
     },
     "execution_count": 16,
     "metadata": {},
     "output_type": "execute_result"
    }
   ],
   "source": [
    "leaveout_ckpt_geodesic_latent.mean(0)"
   ]
  },
  {
   "cell_type": "code",
   "execution_count": 43,
   "id": "8cb626f4-b957-4696-8bc0-6bf53a15710a",
   "metadata": {},
   "outputs": [
    {
     "data": {
      "text/plain": [
       "1-Wasserstein    0.015211\n",
       "2-Wasserstein    0.016414\n",
       "Linear_MMD       0.008611\n",
       "Poly_MMD         0.007975\n",
       "RBF_MMD          0.010070\n",
       "Mean_MSE         0.008860\n",
       "Mean_L2          0.008126\n",
       "Mean_L1          0.010147\n",
       "rep              0.577350\n",
       "dtype: float64"
      ]
     },
     "execution_count": 43,
     "metadata": {},
     "output_type": "execute_result"
    }
   ],
   "source": [
    "(leaveout_ckpt_geodesic_latent.groupby(\"time\").std()/np.sqrt(3)).mean(0)"
   ]
  },
  {
   "cell_type": "markdown",
   "id": "b99153ed-a312-49fc-b1b7-8ff4e4322164",
   "metadata": {},
   "source": [
    "VAE"
   ]
  },
  {
   "cell_type": "code",
   "execution_count": 18,
   "id": "4569d4d4-c9b3-4b98-a742-9ed3af478558",
   "metadata": {},
   "outputs": [
    {
     "data": {
      "text/plain": [
       "1-Wasserstein    1.999991\n",
       "2-Wasserstein    2.078605\n",
       "Linear_MMD       0.191206\n",
       "Poly_MMD         0.381490\n",
       "RBF_MMD          0.292974\n",
       "Mean_MSE         0.211045\n",
       "Mean_L2          0.402064\n",
       "Mean_L1          0.314145\n",
       "rep              2.000000\n",
       "time             4.000000\n",
       "dtype: float64"
      ]
     },
     "execution_count": 18,
     "metadata": {},
     "output_type": "execute_result"
    }
   ],
   "source": [
    "leaveout_ckpt_vae_latent.mean(0)"
   ]
  },
  {
   "cell_type": "code",
   "execution_count": 42,
   "id": "0691b1aa-d563-41ba-bebb-7e9989fa8091",
   "metadata": {},
   "outputs": [
    {
     "data": {
      "text/plain": [
       "1-Wasserstein    0.021897\n",
       "2-Wasserstein    0.021782\n",
       "Linear_MMD       0.008896\n",
       "Poly_MMD         0.010692\n",
       "RBF_MMD          0.012825\n",
       "Mean_MSE         0.009696\n",
       "Mean_L2          0.011361\n",
       "Mean_L1          0.012056\n",
       "rep              0.577350\n",
       "dtype: float64"
      ]
     },
     "execution_count": 42,
     "metadata": {},
     "output_type": "execute_result"
    }
   ],
   "source": [
    "(leaveout_ckpt_vae_latent.groupby(\"time\").std()/np.sqrt(3)).mean(0)"
   ]
  },
  {
   "cell_type": "markdown",
   "id": "05357930-d1e6-4481-97ad-7459ac31c9ea",
   "metadata": {},
   "source": [
    "Flat"
   ]
  },
  {
   "cell_type": "code",
   "execution_count": 20,
   "id": "363ad962-6279-43b4-a0ea-d3c405fa7b2d",
   "metadata": {},
   "outputs": [
    {
     "data": {
      "text/plain": [
       "1-Wasserstein    1.545736\n",
       "2-Wasserstein    1.638642\n",
       "Linear_MMD       0.163053\n",
       "Poly_MMD         0.346271\n",
       "RBF_MMD          0.289706\n",
       "Mean_MSE         0.170591\n",
       "Mean_L2          0.360636\n",
       "Mean_L1          0.299171\n",
       "rep              2.000000\n",
       "time             4.000000\n",
       "dtype: float64"
      ]
     },
     "execution_count": 20,
     "metadata": {},
     "output_type": "execute_result"
    }
   ],
   "source": [
    "leaveout_ckpt_flat_latent.mean(0)"
   ]
  },
  {
   "cell_type": "code",
   "execution_count": 41,
   "id": "c018f51a-5f05-4f84-baad-85db3a44ec48",
   "metadata": {},
   "outputs": [
    {
     "data": {
      "text/plain": [
       "1-Wasserstein    0.035848\n",
       "2-Wasserstein    0.036462\n",
       "Linear_MMD       0.009945\n",
       "Poly_MMD         0.015722\n",
       "RBF_MMD          0.013542\n",
       "Mean_MSE         0.009390\n",
       "Mean_L2          0.013847\n",
       "Mean_L1          0.011714\n",
       "rep              0.577350\n",
       "dtype: float64"
      ]
     },
     "execution_count": 41,
     "metadata": {},
     "output_type": "execute_result"
    }
   ],
   "source": [
    "(leaveout_ckpt_flat_latent.groupby(\"time\").std()/np.sqrt(3)).mean(0)"
   ]
  },
  {
   "cell_type": "markdown",
   "id": "04eea288-5541-465c-a47c-18d11cf6f29d",
   "metadata": {},
   "source": [
    "Baseline"
   ]
  },
  {
   "cell_type": "code",
   "execution_count": 22,
   "id": "f766071e-291e-45b9-aade-cf6fa5cc91c4",
   "metadata": {},
   "outputs": [
    {
     "data": {
      "text/plain": [
       "1-Wasserstein    3.138594\n",
       "2-Wasserstein    3.213354\n",
       "Linear_MMD       0.752031\n",
       "Poly_MMD         0.828778\n",
       "RBF_MMD          0.699239\n",
       "Mean_MSE         0.767308\n",
       "Mean_L2          0.834317\n",
       "Mean_L1          0.698441\n",
       "rep              2.000000\n",
       "time             4.000000\n",
       "dtype: float64"
      ]
     },
     "execution_count": 22,
     "metadata": {},
     "output_type": "execute_result"
    }
   ],
   "source": [
    "leaveout_ckpt_previous_latent.mean(0)"
   ]
  },
  {
   "cell_type": "code",
   "execution_count": 34,
   "id": "1193f135-50e9-4241-afa2-82eb36b9778b",
   "metadata": {},
   "outputs": [
    {
     "data": {
      "text/plain": [
       "1-Wasserstein    0.00000\n",
       "2-Wasserstein    0.00000\n",
       "Linear_MMD       0.00000\n",
       "Poly_MMD         0.00000\n",
       "RBF_MMD          0.00000\n",
       "Mean_MSE         0.00000\n",
       "Mean_L2          0.00000\n",
       "Mean_L1          0.00000\n",
       "rep              0.57735\n",
       "dtype: float64"
      ]
     },
     "execution_count": 34,
     "metadata": {},
     "output_type": "execute_result"
    }
   ],
   "source": [
    "(leaveout_ckpt_previous_latent.groupby(\"time\").std()/np.sqrt(3)).mean(0)"
   ]
  },
  {
   "cell_type": "markdown",
   "id": "a807705b-2e25-4eee-81f2-f3f91b233d6e",
   "metadata": {},
   "source": [
    "## Data space"
   ]
  },
  {
   "cell_type": "markdown",
   "id": "2c3e15ae-f378-45a4-b118-525f363d355f",
   "metadata": {},
   "source": [
    "**Flat**"
   ]
  },
  {
   "cell_type": "markdown",
   "id": "22a33ac8-d1e7-4061-a605-37d849d9bc88",
   "metadata": {},
   "source": [
    "Geodesic"
   ]
  },
  {
   "cell_type": "code",
   "execution_count": 24,
   "id": "f08b0f7f-9c4c-47cd-92cc-c7368972ba3f",
   "metadata": {},
   "outputs": [
    {
     "data": {
      "text/plain": [
       "1-Wasserstein     150.621103\n",
       "2-Wasserstein    2988.165986\n",
       "Linear_MMD          6.668410\n",
       "Poly_MMD            2.263231\n",
       "RBF_MMD             0.363236\n",
       "Mean_MSE            0.693917\n",
       "Mean_L2             0.781490\n",
       "Mean_L1             0.183662\n",
       "precision           0.036196\n",
       "recall              0.230541\n",
       "density             0.003977\n",
       "coverage            0.001679\n",
       "rep                 2.000000\n",
       "time                4.000000\n",
       "dtype: float64"
      ]
     },
     "execution_count": 24,
     "metadata": {},
     "output_type": "execute_result"
    }
   ],
   "source": [
    "leaveout_ckpt_geodesic_data.mean(0)"
   ]
  },
  {
   "cell_type": "code",
   "execution_count": 25,
   "id": "285d2e6b-a54e-497b-be38-519cc263078c",
   "metadata": {},
   "outputs": [
    {
     "data": {
      "text/plain": [
       "1-Wasserstein     0.657903\n",
       "2-Wasserstein    35.749086\n",
       "Linear_MMD        0.106061\n",
       "Poly_MMD          0.014464\n",
       "RBF_MMD           0.000501\n",
       "Mean_MSE          0.000292\n",
       "Mean_L2           0.000178\n",
       "Mean_L1           0.000066\n",
       "precision         0.007817\n",
       "recall            0.002312\n",
       "density           0.000934\n",
       "coverage          0.000142\n",
       "rep               0.577350\n",
       "dtype: float64"
      ]
     },
     "execution_count": 25,
     "metadata": {},
     "output_type": "execute_result"
    }
   ],
   "source": [
    "(leaveout_ckpt_geodesic_data.groupby(\"time\").std()/np.sqrt(3)).mean(0)"
   ]
  },
  {
   "cell_type": "markdown",
   "id": "c5763aa5-eabc-4e80-bbc1-928f73e9d454",
   "metadata": {},
   "source": [
    "VAE"
   ]
  },
  {
   "cell_type": "code",
   "execution_count": 26,
   "id": "f3ae05dc-5714-4a73-b304-e7079f85fcff",
   "metadata": {},
   "outputs": [
    {
     "data": {
      "text/plain": [
       "1-Wasserstein     91.733385\n",
       "2-Wasserstein    103.294799\n",
       "Linear_MMD         1.361351\n",
       "Poly_MMD           1.087649\n",
       "RBF_MMD            0.286201\n",
       "Mean_MSE           0.682997\n",
       "Mean_L2            0.777758\n",
       "Mean_L1            0.188730\n",
       "precision          0.344058\n",
       "recall             0.050446\n",
       "density            0.118456\n",
       "coverage           0.093550\n",
       "rep                2.000000\n",
       "time               4.000000\n",
       "dtype: float64"
      ]
     },
     "execution_count": 26,
     "metadata": {},
     "output_type": "execute_result"
    }
   ],
   "source": [
    "leaveout_ckpt_vae_data.mean(0)"
   ]
  },
  {
   "cell_type": "code",
   "execution_count": 27,
   "id": "ca0478d6-e0e0-4bd7-9494-44255498a5bc",
   "metadata": {},
   "outputs": [
    {
     "data": {
      "text/plain": [
       "1-Wasserstein    0.591066\n",
       "2-Wasserstein    0.780703\n",
       "Linear_MMD       0.015506\n",
       "Poly_MMD         0.006174\n",
       "RBF_MMD          0.002134\n",
       "Mean_MSE         0.006587\n",
       "Mean_L2          0.004072\n",
       "Mean_L1          0.001397\n",
       "precision        0.025628\n",
       "recall           0.003773\n",
       "density          0.015675\n",
       "coverage         0.004605\n",
       "rep              0.577350\n",
       "dtype: float64"
      ]
     },
     "execution_count": 27,
     "metadata": {},
     "output_type": "execute_result"
    }
   ],
   "source": [
    "(leaveout_ckpt_vae_data.groupby(\"time\").std()/np.sqrt(3)).mean(0)"
   ]
  },
  {
   "cell_type": "markdown",
   "id": "2edadf1a-8668-449d-a353-c298fbec775d",
   "metadata": {},
   "source": [
    "Flat"
   ]
  },
  {
   "cell_type": "code",
   "execution_count": 28,
   "id": "71d9d808-8db1-4a7f-ad40-b2496f2394a7",
   "metadata": {},
   "outputs": [
    {
     "data": {
      "text/plain": [
       "1-Wasserstein    86.025011\n",
       "2-Wasserstein    97.125271\n",
       "Linear_MMD        1.391957\n",
       "Poly_MMD          1.098078\n",
       "RBF_MMD           0.285913\n",
       "Mean_MSE          0.852192\n",
       "Mean_L2           0.870995\n",
       "Mean_L1           0.252778\n",
       "precision         0.378826\n",
       "recall            0.072305\n",
       "density           0.146882\n",
       "coverage          0.127343\n",
       "rep               2.000000\n",
       "time              4.000000\n",
       "dtype: float64"
      ]
     },
     "execution_count": 28,
     "metadata": {},
     "output_type": "execute_result"
    }
   ],
   "source": [
    "leaveout_ckpt_flat_data.mean(0)"
   ]
  },
  {
   "cell_type": "code",
   "execution_count": 29,
   "id": "fe401bbf-fd54-497b-a8c5-2a2c4a27d5cc",
   "metadata": {},
   "outputs": [
    {
     "data": {
      "text/plain": [
       "1-Wasserstein    0.461155\n",
       "2-Wasserstein    0.556764\n",
       "Linear_MMD       0.021463\n",
       "Poly_MMD         0.008520\n",
       "RBF_MMD          0.002822\n",
       "Mean_MSE         0.020882\n",
       "Mean_L2          0.009633\n",
       "Mean_L1          0.003751\n",
       "precision        0.065256\n",
       "recall           0.005225\n",
       "density          0.047184\n",
       "coverage         0.013797\n",
       "rep              0.577350\n",
       "dtype: float64"
      ]
     },
     "execution_count": 29,
     "metadata": {},
     "output_type": "execute_result"
    }
   ],
   "source": [
    "(leaveout_ckpt_flat_data.groupby(\"time\").std()/np.sqrt(3)).mean(0)"
   ]
  },
  {
   "cell_type": "markdown",
   "id": "db8a7c2a-7354-4953-832e-ed54ea587a9b",
   "metadata": {},
   "source": [
    "Baseline"
   ]
  },
  {
   "cell_type": "code",
   "execution_count": 30,
   "id": "8578c55e-32ea-4b49-96dc-a699eaeb39cd",
   "metadata": {},
   "outputs": [
    {
     "data": {
      "text/plain": [
       "1-Wasserstein    82.719952\n",
       "2-Wasserstein    92.218817\n",
       "Linear_MMD        1.078137\n",
       "Poly_MMD          0.861033\n",
       "RBF_MMD           0.185775\n",
       "Mean_MSE          0.583367\n",
       "Mean_L2           0.665078\n",
       "Mean_L1           0.115671\n",
       "precision         0.270361\n",
       "recall            0.072238\n",
       "density           0.123425\n",
       "coverage          0.071784\n",
       "rep               2.000000\n",
       "time              4.000000\n",
       "dtype: float64"
      ]
     },
     "execution_count": 30,
     "metadata": {},
     "output_type": "execute_result"
    }
   ],
   "source": [
    "leaveout_ckpt_previous_data.mean(0)"
   ]
  },
  {
   "cell_type": "code",
   "execution_count": 31,
   "id": "1298b995-f9e7-4d79-8792-430c1f194762",
   "metadata": {},
   "outputs": [
    {
     "data": {
      "text/plain": [
       "1-Wasserstein    0.00000\n",
       "2-Wasserstein    0.00000\n",
       "Linear_MMD       0.00000\n",
       "Poly_MMD         0.00000\n",
       "RBF_MMD          0.00000\n",
       "Mean_MSE         0.00000\n",
       "Mean_L2          0.00000\n",
       "Mean_L1          0.00000\n",
       "precision        0.00000\n",
       "recall           0.00000\n",
       "density          0.00000\n",
       "coverage         0.00000\n",
       "rep              0.57735\n",
       "dtype: float64"
      ]
     },
     "execution_count": 31,
     "metadata": {},
     "output_type": "execute_result"
    }
   ],
   "source": [
    "(leaveout_ckpt_previous_data.groupby(\"time\").std()/np.sqrt(3)).mean(0)"
   ]
  },
  {
   "cell_type": "code",
   "execution_count": null,
   "id": "ee04a2fb-f774-401a-9f3b-f400d46458bd",
   "metadata": {},
   "outputs": [],
   "source": []
  },
  {
   "cell_type": "code",
   "execution_count": null,
   "id": "9ed3b3d7-6319-4ad3-94a3-016bb35fab76",
   "metadata": {},
   "outputs": [],
   "source": []
  },
  {
   "cell_type": "code",
   "execution_count": null,
   "id": "4aeda305-62e4-457d-a92d-04b7c9b71f59",
   "metadata": {},
   "outputs": [],
   "source": []
  }
 ],
 "metadata": {
  "kernelspec": {
   "display_name": "Python 3 (ipykernel)",
   "language": "python",
   "name": "python3"
  },
  "language_info": {
   "codemirror_mode": {
    "name": "ipython",
    "version": 3
   },
   "file_extension": ".py",
   "mimetype": "text/x-python",
   "name": "python",
   "nbconvert_exporter": "python",
   "pygments_lexer": "ipython3",
   "version": "3.10.12"
  }
 },
 "nbformat": 4,
 "nbformat_minor": 5
}
