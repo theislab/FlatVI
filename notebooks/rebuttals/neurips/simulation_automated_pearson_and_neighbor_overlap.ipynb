{
 "cells": [
  {
   "cell_type": "code",
   "execution_count": null,
   "id": "30a5f496-54d5-4727-a92a-09d34d424760",
   "metadata": {},
   "outputs": [],
   "source": [
    "import numpy as np\n",
    "import scvi \n",
    "import torch\n",
    "import pandas as pd\n",
    "import torch.distributions as dist\n",
    "import scanpy as sc\n",
    "from scCFM.models.base.vae import VAE, AE\n",
    "from scCFM.models.base.geometric_vae import GeometricNBAE,GeometricNBVAE\n",
    "from pytorch_lightning import Trainer\n",
    "from torch.utils.data import Dataset, DataLoader\n",
    "from pytorch_lightning.loggers import WandbLogger\n",
    "from scvi.distributions import NegativeBinomial\n",
    "from tqdm import tqdm\n",
    "\n",
    "import scipy as sp\n",
    "import  matplotlib.pyplot as plt\n",
    "\n",
    "from typing import Optional\n",
    "\n",
    "import torch\n",
    "from torch.distributions import kl_divergence\n",
    "\n",
    "from stochman.manifold import Manifold\n",
    "from stochman.curves import BasicCurve, CubicSpline\n",
    "\n",
    "from scCFM.models.manifold.geodesic import sc_geodesic_minimizing_energy\n",
    "from scCFM.models.utils import get_distribution\n",
    "from scCFM.models.manifold.utils import nb_kl"
   ]
  },
  {
   "cell_type": "markdown",
   "id": "7154940a-1022-4fe7-a7f4-60fd4c91fab9",
   "metadata": {},
   "source": [
    "## Geodesic distance"
   ]
  },
  {
   "cell_type": "markdown",
   "id": "5d546d6d-9c16-4617-8f01-ca6d63898a5f",
   "metadata": {},
   "source": [
    "Exploit the manifold object from stochman"
   ]
  },
  {
   "cell_type": "code",
   "execution_count": null,
   "id": "fd9db945-1ee6-4c86-b9bc-321220563076",
   "metadata": {},
   "outputs": [],
   "source": [
    "def compute_geodesic_dist(manifold, c):\n",
    "    # Compute the curve and length\n",
    "    alpha = torch.linspace(0, 1, 100)  # Space of times selected\n",
    "    traj = c(alpha)  # Computation of the curve at the given times (spline)\n",
    "    return manifold.curve_length(traj)  # Calculation of the length "
   ]
  },
  {
   "cell_type": "markdown",
   "id": "7af9c392-b8fe-42cb-8713-2cb4c3fa53c0",
   "metadata": {},
   "source": [
    "## Single-cell statistical manifold"
   ]
  },
  {
   "cell_type": "code",
   "execution_count": null,
   "id": "2f64122c-3674-44ab-8a46-1d15501e82b0",
   "metadata": {},
   "outputs": [],
   "source": [
    "class scStatisticalManifold(Manifold):\n",
    "    def __init__(self, model, is_latent=True):\n",
    "        # The VAE model \n",
    "        self.model = model \n",
    "        self.is_latent = is_latent  # Whether the manifold is a latent manifold\n",
    "        \n",
    "    def curve_energy(self, curve: torch.Tensor):\n",
    "        \"\"\"\n",
    "        Given a curve of length L, measure the energy of given the KL divergence between subsequent points.\n",
    "        \"\"\"\n",
    "        if len(curve.shape) == 2:\n",
    "            curve = curve.unsqueeze(0)\n",
    "        dt = (curve[:, :-1] - curve[:, 1:]).pow(2).sum(dim=-1).sqrt().squeeze(1)  # b\n",
    "        kl = self._decode_and_kl(curve)\n",
    "        return torch.sum(kl.view(kl.shape[0], -1), dim=1) * (2 * (dt ** -1))\n",
    "\n",
    "    def curve_length(self, curve: torch.Tensor):\n",
    "        \"\"\"\n",
    "        Given a curve of length L, measure the length of given the KL divergence between subsequent points.\n",
    "        \"\"\"\n",
    "        if len(curve.shape) == 2:\n",
    "            curve = curve.unsqueeze(0)\n",
    "        kl = self._decode_and_kl(curve)\n",
    "        return torch.sqrt(2 * torch.sum(kl.view(kl.shape[0], -1), dim=1))\n",
    "\n",
    "    def connecting_geodesic(self, \n",
    "                            p0, \n",
    "                            p1, \n",
    "                            init_curve: Optional[BasicCurve] = None, \n",
    "                            max_iter=100, \n",
    "                            eval_grid=100, \n",
    "                            lr=1e-4, \n",
    "                            minimize_energy=False, \n",
    "                            return_losses=True):\n",
    "        \"\"\"\n",
    "        Parameterize a spline as the shortest connecting curve in terms of length (or energy)\n",
    "        \"\"\"\n",
    "        # Decouple curve and library size\n",
    "        curve = CubicSpline(p0, p1)\n",
    "        \n",
    "        # Train the geodesic spline \n",
    "        losses = sc_geodesic_minimizing_energy(curve, \n",
    "                                                self, \n",
    "                                                max_iter=max_iter, \n",
    "                                                eval_grid=eval_grid,\n",
    "                                                lr=lr, \n",
    "                                                minimize_energy=minimize_energy, \n",
    "                                                return_losses=return_losses)\n",
    "        return curve, losses\n",
    "\n",
    "    def metric(self, z, decoder_outputs):    \n",
    "        \"\"\"\n",
    "        The metric is the pullback metric\n",
    "        \"\"\"\n",
    "        # Compute the value of the Fisher matrix\n",
    "        if self.model.likelihood == \"nb\":\n",
    "            nb_fisher = self.model.theta.unsqueeze(0) / \\\n",
    "                (decoder_outputs[\"mu\"] * (self.model.theta.unsqueeze(0) + decoder_outputs[\"mu\"]))  # B x D\n",
    "        else:\n",
    "            raise NotImplementedError\n",
    "        \n",
    "        # Use the canonical basis vectors to select separate columns of the decoder (speed reasons)\n",
    "        basis =  torch.eye(z.shape[1])\n",
    "        basis = basis.unsqueeze(0).expand(z.shape[0], z.shape[1], z.shape[1])  # B x d x d\n",
    "        \n",
    "        # Compute the statistical manifold metric tensor \n",
    "        jac = []\n",
    "        for i in range(z.shape[1]):\n",
    "            _, jac_partial = torch.func.jvp(self.model.decode,\n",
    "                                            (z,), \n",
    "                                            (basis[:, :, i],))  # B x D\n",
    "            jac.append(jac_partial)\n",
    "\n",
    "        jac = torch.stack(jac, dim=-1)  # B x D x d\n",
    "        return torch.einsum(\"bij,bik->bjk\", jac, jac * nb_fisher.unsqueeze(-1))\n",
    "    \n",
    "    def _decode_and_kl(self, curve):\n",
    "        \"\"\"\n",
    "        Perform decoding and compute the KL (or other notion of metrics) between successive steps.\n",
    "        \"\"\"\n",
    "        if not self.is_latent:\n",
    "            decoder_outputs1 = {\"mu\": curve[:, :-1, :]}\n",
    "            decoder_outputs2 =  {\"mu\": curve[:, 1:, :]}\n",
    "            dist1 = get_distribution(decoder_outputs1, \n",
    "                                     self.model.theta, \n",
    "                                     likelihood = \"nb\")\n",
    "            dist2 = get_distribution(decoder_outputs2, \n",
    "                                     self.model.theta, \n",
    "                                     likelihood = \"nb\")\n",
    "            kl = nb_kl(dist1, dist2)  \n",
    "        else:\n",
    "            decoder_outputs1 = self.model.decode(curve[:, :-1, :])\n",
    "            decoder_outputs2 = self.model.decode(curve[:, 1:, :])\n",
    "    \n",
    "            dist1 = get_distribution(self.model._preprocess_decoder_output(decoder_outputs1), \n",
    "                                     self.model.theta, \n",
    "                                     likelihood = self.model.likelihood)\n",
    "            dist2 = get_distribution(self.model._preprocess_decoder_output(decoder_outputs2), \n",
    "                                     self.model.theta, \n",
    "                                     likelihood = self.model.likelihood)\n",
    "            kl = nb_kl(dist1, dist2)  \n",
    "        return kl"
   ]
  },
  {
   "cell_type": "markdown",
   "id": "c7d771da-b50e-4c07-9fc7-43c885cb9b64",
   "metadata": {},
   "source": [
    "# Simulate dataset, same for all"
   ]
  },
  {
   "cell_type": "code",
   "execution_count": null,
   "id": "8b4535b7-4278-4a4b-a6be-4180c34c28e0",
   "metadata": {},
   "outputs": [],
   "source": [
    "# Set seed for reproducibility\n",
    "torch.manual_seed(42)\n",
    "\n",
    "# Parameters\n",
    "num_genes = 10  # Number of genes\n",
    "num_cells = 1000  # Number of cells\n",
    "num_cell_types = 3  # Number of cell types\n",
    "\n",
    "dist_means = [dist.Normal(torch.zeros(num_genes)+1, torch.ones(num_genes)),\n",
    "              dist.Normal(torch.zeros(num_genes), torch.ones(num_genes)),\n",
    "              dist.Normal(torch.zeros(num_genes)-1, torch.ones(num_genes))]"
   ]
  },
  {
   "cell_type": "code",
   "execution_count": null,
   "id": "507f30dd-ae63-4526-ae82-6d7309cc07b1",
   "metadata": {},
   "outputs": [],
   "source": [
    "# Generate inverse dispersion parameters (theta)\n",
    "# Assume inverse dispersions are sampled from a gamma distribution\n",
    "inverse_dispersion = torch.abs(torch.distributions.Gamma(2.0, 1.0).sample((num_genes,)))\n",
    "\n",
    "# Generate size factors for each cell\n",
    "size_factors = torch.exp(torch.distributions.LogNormal(0, 0.1).sample((num_cells,)))\n",
    "\n",
    "# Assign cells to cell types (assuming balanced classes)\n",
    "cell_type_indices = torch.randint(0, num_cell_types, (num_cells,))"
   ]
  },
  {
   "cell_type": "code",
   "execution_count": null,
   "id": "afb5465e-7488-4096-8599-f620e8ad10e0",
   "metadata": {},
   "outputs": [],
   "source": [
    "# Initialize the counts matrix\n",
    "counts = torch.zeros((num_cells, num_genes))\n",
    "means = torch.zeros((num_cells, num_genes))\n",
    "\n",
    "# Simulate counts for each cell\n",
    "for i in range(num_cells):\n",
    "    cell_type = cell_type_indices[i]\n",
    "    mean = dist_means[cell_type].sample()\n",
    "    # mu = size_factors[i] * torch.exp(mean)\n",
    "    mu = torch.exp(mean)\n",
    "    theta = inverse_dispersion\n",
    "\n",
    "    means[i, :] = mu\n",
    "    counts[i, :] = NegativeBinomial(mu=mu, theta=theta).sample()\n",
    "\n",
    "# Show the first few simulated counts\n",
    "print(\"Simulated Counts Matrix (first 5 cells, all 10 genes):\")\n",
    "print(counts[:5, :])  # Show first 5 cells and all 10 genes"
   ]
  },
  {
   "cell_type": "markdown",
   "id": "0517ffb7-92bc-4f31-bd27-23d4223befc7",
   "metadata": {},
   "source": [
    "# Scanpy visualization"
   ]
  },
  {
   "cell_type": "code",
   "execution_count": null,
   "id": "fe38b83c-84a9-431f-a874-4320ab5eeb2e",
   "metadata": {},
   "outputs": [],
   "source": [
    "adata = sc.AnnData(X=counts.numpy().copy(), \n",
    "                  obs=pd.DataFrame({\"cell_type\": cell_type_indices.numpy()}))\n",
    "adata.obs[\"cell_type\"]=adata.obs[\"cell_type\"].astype(\"category\")"
   ]
  },
  {
   "cell_type": "code",
   "execution_count": null,
   "id": "b4e96712-fae6-474b-935a-3e622c2823e0",
   "metadata": {
    "scrolled": true
   },
   "outputs": [],
   "source": [
    "sc.pp.log1p(adata)\n",
    "sc.tl.pca(adata)\n",
    "sc.pp.neighbors(adata)\n",
    "sc.tl.umap(adata)"
   ]
  },
  {
   "cell_type": "code",
   "execution_count": null,
   "id": "3dd50155-e79f-4f84-ad3d-c6a123fc9ad8",
   "metadata": {},
   "outputs": [],
   "source": [
    "sc.pl.pca(adata, color=\"cell_type\")"
   ]
  },
  {
   "cell_type": "code",
   "execution_count": null,
   "id": "9e19d202-454d-46ff-87c4-cfafe908bcc6",
   "metadata": {},
   "outputs": [],
   "source": [
    "sc.pl.umap(adata, color=\"cell_type\")"
   ]
  },
  {
   "cell_type": "code",
   "execution_count": null,
   "id": "95ff22d4-2476-4330-a3ee-28bfc65df470",
   "metadata": {},
   "outputs": [],
   "source": [
    "counts"
   ]
  },
  {
   "cell_type": "code",
   "execution_count": null,
   "id": "4afd713c-d667-4a57-907a-1cc1b7c44553",
   "metadata": {},
   "outputs": [],
   "source": [
    "class SingleCellDataset(Dataset):\n",
    "    def __init__(self, counts):\n",
    "        self.counts = counts\n",
    "\n",
    "    def __len__(self):\n",
    "        return len(self.counts)\n",
    "\n",
    "    def __getitem__(self, idx):\n",
    "        return {\"X\": self.counts[idx]}\n",
    "\n",
    "# Create an instance of the custom dataset\n",
    "dataset = SingleCellDataset(counts)\n",
    "\n",
    "# Create a DataLoader to iterate over the dataset\n",
    "batch_size = 32  # You can choose an appropriate batch size\n",
    "dataloader = DataLoader(dataset, batch_size=batch_size, shuffle=True)"
   ]
  },
  {
   "cell_type": "markdown",
   "id": "5ba5ffaa-2105-442e-b933-6163d1ba9b9b",
   "metadata": {},
   "source": [
    "## Fixed indivdual points to test for all"
   ]
  },
  {
   "cell_type": "markdown",
   "id": "6a1e42e7-259f-4cd2-9ced-e9e1dd712c4b",
   "metadata": {},
   "source": [
    "Test the geodesic between a fixed amount of couples between VAE and FlatVI."
   ]
  },
  {
   "cell_type": "code",
   "execution_count": null,
   "id": "a9eb1400-1dab-4371-8d1b-08c916736515",
   "metadata": {},
   "outputs": [],
   "source": [
    "np.random.seed(1)\n",
    "couples = []\n",
    "for _ in range(1000):\n",
    "    i = np.random.choice(range(1000))\n",
    "    j = np.random.choice(range(1000))\n",
    "    couples.append((i,j))"
   ]
  },
  {
   "cell_type": "markdown",
   "id": "88125493-181c-471d-8d23-a62534bea246",
   "metadata": {},
   "source": [
    "## Compute results with replicates"
   ]
  },
  {
   "cell_type": "code",
   "execution_count": null,
   "id": "63a1b629-f586-485a-9612-dd331c51c135",
   "metadata": {
    "scrolled": true
   },
   "outputs": [],
   "source": [
    "results_metric_data_space = {\n",
    "    \"nll\": [],\n",
    "    \"rep\": [],\n",
    "    \"fl_weight\": [],\n",
    "    \"eu_latent_space\": [],\n",
    "    \"pullback_latent_space\":[]\n",
    "}\n",
    "mse_params = {\"fl_weight\": [],\n",
    "             \"mse_mean\": [],\n",
    "             \"mse_inv\": [],\n",
    "             \"rep\": []}\n",
    "\n",
    "# VAE arguments stay the same\n",
    "vae_kwargs = dict(in_dim=10,\n",
    "                    hidden_dims=[5, 2],\n",
    "                    batch_norm=False,\n",
    "                    dropout=False,\n",
    "                    dropout_p=False,\n",
    "                    n_epochs_anneal_kl=500,\n",
    "                    kl_warmup_fraction=2,\n",
    "                    kl_weight=None, \n",
    "                    likelihood=\"nb\", \n",
    "                    learning_rate=0.001, \n",
    "                    model_library_size=False)\n",
    "\n",
    "fl_to_try = [10,7,5,3,1,0]\n",
    "# fl_to_try = [10,0]\n",
    "\n",
    "for fl in tqdm(fl_to_try):\n",
    "    for rep in tqdm(range(3)):\n",
    "        if fl == 0:\n",
    "            model = VAE(**vae_kwargs) \n",
    "        else:\n",
    "            model = GeometricNBVAE(l2=True,\n",
    "                            interpolate_z=False,\n",
    "                            eta_interp=0,\n",
    "                            start_jac_after=0,\n",
    "                            use_c=False,\n",
    "                            compute_metrics_every=1,\n",
    "                            vae_kwargs=vae_kwargs, \n",
    "                            detach_theta=False,\n",
    "                            fl_weight=fl,\n",
    "                            trainable_c=False,\n",
    "                            anneal_fl_weight=False, \n",
    "                            max_fl_weight=False,\n",
    "                            n_epochs_anneal_fl=None, \n",
    "                            fl_anneal_fraction=None)\n",
    "    \n",
    "        # Fit model \n",
    "        trainer = Trainer(max_epochs=100, \n",
    "                          enable_model_summary=False, \n",
    "                          enable_progress_bar=False)\n",
    "        \n",
    "        trainer.fit(model=model, \n",
    "                    train_dataloaders=dataloader, \n",
    "                    val_dataloaders=dataloader)\n",
    "        \n",
    "        results_metric_data_space[\"nll\"] += [trainer.callback_metrics[\"val/lik\"]]*1000\n",
    "        results_metric_data_space[\"rep\"] += [rep]*1000\n",
    "        results_metric_data_space[\"fl_weight\"] += [fl]*1000\n",
    "\n",
    "        # Pred means\n",
    "        pred_means = []\n",
    "        with torch.no_grad():\n",
    "            for i in counts:\n",
    "                z = model.encode(i.unsqueeze(0))[\"z\"]\n",
    "                pred_means.append(torch.exp(model.decode(z)))\n",
    "            pred_means = torch.cat(pred_means, dim=0)\n",
    "            mse_mean = torch.mean((means - pred_means)**2)\n",
    "            mse_inv = torch.mean((torch.exp(model.theta) - theta)**2)\n",
    "        mse_params[\"fl_weight\"].append(fl)\n",
    "        mse_params[\"mse_mean\"].append(mse_mean)\n",
    "        mse_params[\"mse_inv\"].append(mse_inv)\n",
    "        mse_params[\"rep\"].append(rep)\n",
    "\n",
    "        # Initialize the manifolds \n",
    "        latent_manifold = scStatisticalManifold(model, is_latent=True)\n",
    "        for idx in range(1000):\n",
    "            i = couples[idx][0]\n",
    "            j = couples[idx][1]\n",
    "            # Get latent space\n",
    "            with torch.no_grad():\n",
    "                latent_i = model.encode(counts[i].unsqueeze(0))[\"z\"]\n",
    "                latent_j = model.encode(counts[j].unsqueeze(0))[\"z\"]\n",
    "            # Euclidean distance \n",
    "            results_metric_data_space[\"eu_latent_space\"].append(torch.sum((latent_i - latent_j)**2).item())\n",
    "            # Pullback distance \n",
    "            c = latent_manifold.connecting_geodesic(latent_i, latent_j, minimize_energy=False)[0]\n",
    "            results_metric_data_space[\"pullback_latent_space\"].append(compute_geodesic_dist(latent_manifold, c).item())\n",
    "            \n",
    "        del model\n",
    "        del trainer\n",
    "        del latent_manifold"
   ]
  },
  {
   "cell_type": "markdown",
   "id": "0cfaac0b-3cd9-433d-bc3f-5b8aea6ccb03",
   "metadata": {},
   "source": [
    "# MSE "
   ]
  },
  {
   "cell_type": "code",
   "execution_count": null,
   "id": "5a3fc57f-12f1-4d1c-8bfd-4987cecbcdb9",
   "metadata": {
    "scrolled": true
   },
   "outputs": [],
   "source": [
    "df = pd.DataFrame(results_metric_data_space)\n",
    "df[\"nll_new\"] = [i.item() for i in df[\"nll\"]]"
   ]
  },
  {
   "cell_type": "code",
   "execution_count": null,
   "id": "b05cab8f-eb36-4d30-a10f-1580db7a3956",
   "metadata": {},
   "outputs": [],
   "source": [
    "for fl in fl_to_try:\n",
    "    df_fl = df.loc[df.fl_weight==fl]\n",
    "    print(f\"Distance data geodesic: {fl}\", \n",
    "         np.nanmean((np.array(df_fl[\"pullback_latent_space\"])-\n",
    "                     np.array(df_fl[\"eu_latent_space\"]))**2))"
   ]
  },
  {
   "cell_type": "code",
   "execution_count": null,
   "id": "d12af072-3cea-4f1d-a10a-6bca333d3286",
   "metadata": {},
   "outputs": [],
   "source": [
    "df[\"diff\"] = (np.array(df[\"pullback_latent_space\"])-\n",
    "                     np.array(df[\"eu_latent_space\"]))**2"
   ]
  },
  {
   "cell_type": "code",
   "execution_count": null,
   "id": "31499eed-5cc8-4b0b-b3be-58d18c214c25",
   "metadata": {},
   "outputs": [],
   "source": [
    "for fl in fl_to_try:\n",
    "    df_fl = df.loc[df.fl_weight==fl]\n",
    "    print(f\"Distance data geodesic: {fl}\", \n",
    "         np.nanstd((np.array(df_fl[\"pullback_latent_space\"])-\n",
    "                     np.array(df_fl[\"eu_latent_space\"]))**2))"
   ]
  },
  {
   "cell_type": "code",
   "execution_count": null,
   "id": "dad01124-9707-4e3e-9e45-9f4ce1b3aaf4",
   "metadata": {},
   "outputs": [],
   "source": [
    "df = df.loc[:, [\"diff\",\"fl_weight\",\"rep\"]]"
   ]
  },
  {
   "cell_type": "code",
   "execution_count": null,
   "id": "f51f1795-e78b-40f0-b7e6-456782007427",
   "metadata": {
    "scrolled": true
   },
   "outputs": [],
   "source": [
    "df.groupby([\"fl_weight\",\"rep\"]).mean().groupby([\"fl_weight\"]).mean()"
   ]
  },
  {
   "cell_type": "code",
   "execution_count": null,
   "id": "60385f90-f4ca-4c78-b52e-38df7babe2bd",
   "metadata": {},
   "outputs": [],
   "source": [
    "df.groupby([\"fl_weight\",\"rep\"]).mean().groupby([\"fl_weight\"]).std() / 3"
   ]
  },
  {
   "cell_type": "markdown",
   "id": "0fea151d-d4d7-466b-8db4-7baa7c7148dd",
   "metadata": {},
   "source": [
    "# Spearman"
   ]
  },
  {
   "cell_type": "code",
   "execution_count": null,
   "id": "bc79acf8-59de-4815-9cb7-20142ed69a1c",
   "metadata": {},
   "outputs": [],
   "source": [
    "df_non_na = df.dropna()"
   ]
  },
  {
   "cell_type": "code",
   "execution_count": null,
   "id": "343a3d34-d0b1-47bf-b38f-f1ab65222967",
   "metadata": {
    "scrolled": true
   },
   "outputs": [],
   "source": [
    "for fl in fl_to_try:\n",
    "    df_non_na_fl = df_non_na.loc[df_non_na.fl_weight==fl]\n",
    "    print(f\"Spearman correlation: {fl}\", \n",
    "         sp.stats.spearmanr(np.array(df_non_na_fl[\"pullback_latent_space\"]), np.array(df_non_na_fl[\"eu_latent_space\"])))\n",
    "    print(f\"Pearson correlation: {fl}\", \n",
    "         sp.stats.pearsonr(np.array(df_non_na_fl[\"pullback_latent_space\"]), np.array(df_non_na_fl[\"eu_latent_space\"])))\n",
    "    print()"
   ]
  },
  {
   "cell_type": "code",
   "execution_count": null,
   "id": "328acc49-8c74-407a-a8ac-316cf1528076",
   "metadata": {},
   "outputs": [],
   "source": []
  },
  {
   "cell_type": "markdown",
   "id": "b1f95315-44f9-42b3-94f5-eb20f2d0e849",
   "metadata": {
    "scrolled": true
   },
   "source": [
    "<!-- mse_params.keys() -->"
   ]
  },
  {
   "cell_type": "markdown",
   "id": "538247e4-65ae-44c8-93f3-75c144ffca55",
   "metadata": {},
   "source": [
    "## MSE params"
   ]
  },
  {
   "cell_type": "code",
   "execution_count": 50,
   "id": "865b54d3-a9bc-457c-b74b-1b67b66e158d",
   "metadata": {},
   "outputs": [],
   "source": [
    "mse_params_d = pd.DataFrame(mse_params)"
   ]
  },
  {
   "cell_type": "code",
   "execution_count": 51,
   "id": "1a675088-1c65-471a-98cb-7d9b6d6e3234",
   "metadata": {},
   "outputs": [],
   "source": [
    "mse_params_d[\"mse_mean\"] = [i.item() for i in mse_params_d[\"mse_mean\"]]"
   ]
  },
  {
   "cell_type": "code",
   "execution_count": 52,
   "id": "bb9a42f0-2297-49eb-bc17-d581febe848b",
   "metadata": {},
   "outputs": [],
   "source": [
    "mse_params_d[\"mse_inv\"] = [i.item() for i in mse_params_d[\"mse_inv\"]]"
   ]
  },
  {
   "cell_type": "code",
   "execution_count": 53,
   "id": "6bf15dcb-5fec-4a27-b796-912f6dedc55e",
   "metadata": {},
   "outputs": [
    {
     "data": {
      "text/html": [
       "<div>\n",
       "<style scoped>\n",
       "    .dataframe tbody tr th:only-of-type {\n",
       "        vertical-align: middle;\n",
       "    }\n",
       "\n",
       "    .dataframe tbody tr th {\n",
       "        vertical-align: top;\n",
       "    }\n",
       "\n",
       "    .dataframe thead th {\n",
       "        text-align: right;\n",
       "    }\n",
       "</style>\n",
       "<table border=\"1\" class=\"dataframe\">\n",
       "  <thead>\n",
       "    <tr style=\"text-align: right;\">\n",
       "      <th></th>\n",
       "      <th>mse_mean</th>\n",
       "      <th>mse_inv</th>\n",
       "      <th>rep</th>\n",
       "    </tr>\n",
       "    <tr>\n",
       "      <th>fl_weight</th>\n",
       "      <th></th>\n",
       "      <th></th>\n",
       "      <th></th>\n",
       "    </tr>\n",
       "  </thead>\n",
       "  <tbody>\n",
       "    <tr>\n",
       "      <th>0</th>\n",
       "      <td>15.521048</td>\n",
       "      <td>3.095801</td>\n",
       "      <td>1.0</td>\n",
       "    </tr>\n",
       "    <tr>\n",
       "      <th>1</th>\n",
       "      <td>16.346144</td>\n",
       "      <td>5.674504</td>\n",
       "      <td>1.0</td>\n",
       "    </tr>\n",
       "    <tr>\n",
       "      <th>3</th>\n",
       "      <td>16.356259</td>\n",
       "      <td>3.094841</td>\n",
       "      <td>1.0</td>\n",
       "    </tr>\n",
       "    <tr>\n",
       "      <th>5</th>\n",
       "      <td>14.752853</td>\n",
       "      <td>3.204940</td>\n",
       "      <td>1.0</td>\n",
       "    </tr>\n",
       "    <tr>\n",
       "      <th>7</th>\n",
       "      <td>15.476633</td>\n",
       "      <td>3.386602</td>\n",
       "      <td>1.0</td>\n",
       "    </tr>\n",
       "    <tr>\n",
       "      <th>10</th>\n",
       "      <td>15.410220</td>\n",
       "      <td>3.083079</td>\n",
       "      <td>1.0</td>\n",
       "    </tr>\n",
       "  </tbody>\n",
       "</table>\n",
       "</div>"
      ],
      "text/plain": [
       "            mse_mean   mse_inv  rep\n",
       "fl_weight                          \n",
       "0          15.521048  3.095801  1.0\n",
       "1          16.346144  5.674504  1.0\n",
       "3          16.356259  3.094841  1.0\n",
       "5          14.752853  3.204940  1.0\n",
       "7          15.476633  3.386602  1.0\n",
       "10         15.410220  3.083079  1.0"
      ]
     },
     "execution_count": 53,
     "metadata": {},
     "output_type": "execute_result"
    }
   ],
   "source": [
    "mse_params_d.groupby(\"fl_weight\").mean()"
   ]
  },
  {
   "cell_type": "code",
   "execution_count": 54,
   "id": "33945d5c-3361-4c28-a207-ed922dd3260f",
   "metadata": {},
   "outputs": [
    {
     "data": {
      "text/html": [
       "<div>\n",
       "<style scoped>\n",
       "    .dataframe tbody tr th:only-of-type {\n",
       "        vertical-align: middle;\n",
       "    }\n",
       "\n",
       "    .dataframe tbody tr th {\n",
       "        vertical-align: top;\n",
       "    }\n",
       "\n",
       "    .dataframe thead th {\n",
       "        text-align: right;\n",
       "    }\n",
       "</style>\n",
       "<table border=\"1\" class=\"dataframe\">\n",
       "  <thead>\n",
       "    <tr style=\"text-align: right;\">\n",
       "      <th></th>\n",
       "      <th>mse_mean</th>\n",
       "      <th>mse_inv</th>\n",
       "    </tr>\n",
       "    <tr>\n",
       "      <th>fl_weight</th>\n",
       "      <th></th>\n",
       "      <th></th>\n",
       "    </tr>\n",
       "  </thead>\n",
       "  <tbody>\n",
       "    <tr>\n",
       "      <th>0</th>\n",
       "      <td>15.521048</td>\n",
       "      <td>3.095801</td>\n",
       "    </tr>\n",
       "    <tr>\n",
       "      <th>1</th>\n",
       "      <td>16.346144</td>\n",
       "      <td>5.674504</td>\n",
       "    </tr>\n",
       "    <tr>\n",
       "      <th>3</th>\n",
       "      <td>16.356259</td>\n",
       "      <td>3.094841</td>\n",
       "    </tr>\n",
       "    <tr>\n",
       "      <th>5</th>\n",
       "      <td>14.752853</td>\n",
       "      <td>3.204940</td>\n",
       "    </tr>\n",
       "    <tr>\n",
       "      <th>7</th>\n",
       "      <td>15.476633</td>\n",
       "      <td>3.386602</td>\n",
       "    </tr>\n",
       "    <tr>\n",
       "      <th>10</th>\n",
       "      <td>15.410220</td>\n",
       "      <td>3.083079</td>\n",
       "    </tr>\n",
       "  </tbody>\n",
       "</table>\n",
       "</div>"
      ],
      "text/plain": [
       "            mse_mean   mse_inv\n",
       "fl_weight                     \n",
       "0          15.521048  3.095801\n",
       "1          16.346144  5.674504\n",
       "3          16.356259  3.094841\n",
       "5          14.752853  3.204940\n",
       "7          15.476633  3.386602\n",
       "10         15.410220  3.083079"
      ]
     },
     "execution_count": 54,
     "metadata": {},
     "output_type": "execute_result"
    }
   ],
   "source": [
    "mse_params_d.groupby([\"fl_weight\",\"rep\"]).mean().groupby([\"fl_weight\"]).mean()"
   ]
  },
  {
   "cell_type": "code",
   "execution_count": 55,
   "id": "407348a4-a542-4a02-abb1-8e5549473809",
   "metadata": {},
   "outputs": [
    {
     "data": {
      "text/html": [
       "<div>\n",
       "<style scoped>\n",
       "    .dataframe tbody tr th:only-of-type {\n",
       "        vertical-align: middle;\n",
       "    }\n",
       "\n",
       "    .dataframe tbody tr th {\n",
       "        vertical-align: top;\n",
       "    }\n",
       "\n",
       "    .dataframe thead th {\n",
       "        text-align: right;\n",
       "    }\n",
       "</style>\n",
       "<table border=\"1\" class=\"dataframe\">\n",
       "  <thead>\n",
       "    <tr style=\"text-align: right;\">\n",
       "      <th></th>\n",
       "      <th>mse_mean</th>\n",
       "      <th>mse_inv</th>\n",
       "    </tr>\n",
       "    <tr>\n",
       "      <th>fl_weight</th>\n",
       "      <th></th>\n",
       "      <th></th>\n",
       "    </tr>\n",
       "  </thead>\n",
       "  <tbody>\n",
       "    <tr>\n",
       "      <th>0</th>\n",
       "      <td>0.942974</td>\n",
       "      <td>0.186212</td>\n",
       "    </tr>\n",
       "    <tr>\n",
       "      <th>1</th>\n",
       "      <td>0.458422</td>\n",
       "      <td>0.881627</td>\n",
       "    </tr>\n",
       "    <tr>\n",
       "      <th>3</th>\n",
       "      <td>0.534342</td>\n",
       "      <td>0.308319</td>\n",
       "    </tr>\n",
       "    <tr>\n",
       "      <th>5</th>\n",
       "      <td>0.118357</td>\n",
       "      <td>0.198553</td>\n",
       "    </tr>\n",
       "    <tr>\n",
       "      <th>7</th>\n",
       "      <td>0.201369</td>\n",
       "      <td>0.088063</td>\n",
       "    </tr>\n",
       "    <tr>\n",
       "      <th>10</th>\n",
       "      <td>0.073452</td>\n",
       "      <td>0.129459</td>\n",
       "    </tr>\n",
       "  </tbody>\n",
       "</table>\n",
       "</div>"
      ],
      "text/plain": [
       "           mse_mean   mse_inv\n",
       "fl_weight                    \n",
       "0          0.942974  0.186212\n",
       "1          0.458422  0.881627\n",
       "3          0.534342  0.308319\n",
       "5          0.118357  0.198553\n",
       "7          0.201369  0.088063\n",
       "10         0.073452  0.129459"
      ]
     },
     "execution_count": 55,
     "metadata": {},
     "output_type": "execute_result"
    }
   ],
   "source": [
    "mse_params_d.groupby([\"fl_weight\",\"rep\"]).mean().groupby([\"fl_weight\"]).std()/3"
   ]
  },
  {
   "cell_type": "code",
   "execution_count": null,
   "id": "74bb4a64-6d23-4228-ba32-cf86599056dc",
   "metadata": {},
   "outputs": [],
   "source": []
  },
  {
   "cell_type": "code",
   "execution_count": null,
   "id": "a977fd63-f365-484e-b222-bef66fb5992c",
   "metadata": {},
   "outputs": [],
   "source": []
  }
 ],
 "metadata": {
  "kernelspec": {
   "display_name": "Python 3 (ipykernel)",
   "language": "python",
   "name": "python3"
  },
  "language_info": {
   "codemirror_mode": {
    "name": "ipython",
    "version": 3
   },
   "file_extension": ".py",
   "mimetype": "text/x-python",
   "name": "python",
   "nbconvert_exporter": "python",
   "pygments_lexer": "ipython3",
   "version": "3.10.12"
  }
 },
 "nbformat": 4,
 "nbformat_minor": 5
}
